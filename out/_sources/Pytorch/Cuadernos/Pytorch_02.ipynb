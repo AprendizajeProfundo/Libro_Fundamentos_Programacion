{
 "cells": [
  {
   "cell_type": "markdown",
   "id": "371d423f",
   "metadata": {},
   "source": [
    "# <span style=\"color:#F72585\">Tensores en PyTorch</span>\n"
   ]
  },
  {
   "cell_type": "markdown",
   "id": "limiting-glasgow",
   "metadata": {},
   "source": [
    "## <span style=\"color:#4361EE\">Introducción</span>"
   ]
  },
  {
   "cell_type": "markdown",
   "id": "34f67535-0a42-436a-ab66-c444676834e5",
   "metadata": {},
   "source": [
    "Los tensores son similares a los ndarrays de `NumPy`, excepto que los tensores pueden ejecutarse en GPU u otros aceleradores de hardware. De hecho, los tensores y las matrices NumPy a menudo pueden compartir la misma memoria subyacente, lo que elimina la necesidad de copiar datos (consulte [Puente con NumPy](https://pytorch.org/tutorials/beginner/blitz/tensor_tutorial.html#bridge-to-np-label)). Los tensores también están optimizados para la diferenciación automática.\n",
    "\n",
    "En esta lección aprenderemos la manera de manipular tensores en PyTorch."
   ]
  },
  {
   "cell_type": "markdown",
   "id": "a47b6611-8d5b-4541-90b1-352571b6a499",
   "metadata": {},
   "source": [
    "## <span style=\"color:#4361EE\">Importar Torch</span>"
   ]
  },
  {
   "cell_type": "code",
   "execution_count": 1,
   "id": "cubic-matthew",
   "metadata": {},
   "outputs": [],
   "source": [
    "import torch\n",
    "import numpy as np"
   ]
  },
  {
   "cell_type": "code",
   "execution_count": 2,
   "id": "959120f4-e136-41c6-a464-d0c3eac677d7",
   "metadata": {},
   "outputs": [
    {
     "name": "stdout",
     "output_type": "stream",
     "text": [
      "Using torch 1.9.0\n"
     ]
    }
   ],
   "source": [
    "print(\"Using torch\", torch.__version__)"
   ]
  },
  {
   "cell_type": "markdown",
   "id": "62f08424-48b2-4e77-90fd-2349b075d6ce",
   "metadata": {},
   "source": [
    "## <span style=\"color:#4361EE\">Inicializa un Tensor</span>"
   ]
  },
  {
   "cell_type": "markdown",
   "id": "91b4eaea",
   "metadata": {},
   "source": [
    "### <span style=\"color:#4CC9F0\">Directamente de los datos</span>\n"
   ]
  },
  {
   "cell_type": "code",
   "execution_count": 3,
   "id": "parental-concentration",
   "metadata": {},
   "outputs": [
    {
     "data": {
      "text/plain": [
       "tensor([[1, 2],\n",
       "        [3, 4]])"
      ]
     },
     "execution_count": 3,
     "metadata": {},
     "output_type": "execute_result"
    }
   ],
   "source": [
    "data = [[1, 2], [3, 4]]\n",
    "x_data = torch.tensor(data)\n",
    "x_data"
   ]
  },
  {
   "cell_type": "markdown",
   "id": "c0ed9857",
   "metadata": {},
   "source": [
    "### <span style=\"color:#4CC9F0\">A partir de arreglos Numpy</span>"
   ]
  },
  {
   "cell_type": "code",
   "execution_count": 4,
   "id": "choice-holly",
   "metadata": {},
   "outputs": [
    {
     "data": {
      "text/plain": [
       "tensor([[1, 2],\n",
       "        [3, 4]])"
      ]
     },
     "execution_count": 4,
     "metadata": {},
     "output_type": "execute_result"
    }
   ],
   "source": [
    "np_array = np.array(data)\n",
    "\n",
    "x_np = torch.from_numpy(np_array)\n",
    "x_np"
   ]
  },
  {
   "cell_type": "markdown",
   "id": "documented-acrylic",
   "metadata": {},
   "source": [
    "Desde otro tensor"
   ]
  },
  {
   "cell_type": "code",
   "execution_count": 7,
   "id": "amino-conviction",
   "metadata": {},
   "outputs": [
    {
     "name": "stdout",
     "output_type": "stream",
     "text": [
      "Tensor Unos: \n",
      " tensor([[1, 1],\n",
      "        [1, 1]]) \n",
      "\n",
      "Tensor Aleatorio: \n",
      " tensor([[0.1117, 0.8158],\n",
      "        [0.2626, 0.4839]]) \n",
      "\n"
     ]
    }
   ],
   "source": [
    "# semilla para reproductibilidad\n",
    "torch.manual_seed(100)\n",
    "\n",
    "x_ones = torch.ones_like(x_data) # retiene las propiedades de x_data\n",
    "print(f\"Tensor Unos: \\n {x_ones} \\n\")\n",
    "\n",
    "x_rand = torch.rand_like(x_data, dtype=torch.float)# sobre escribe le tipo de dato\n",
    "print(f\"Tensor Aleatorio: \\n {x_rand} \\n\")"
   ]
  },
  {
   "cell_type": "markdown",
   "id": "governing-tradition",
   "metadata": {},
   "source": [
    "### <span style=\"color:#4CC9F0\">Con valores aleatorios y constantes</span>\n"
   ]
  },
  {
   "cell_type": "code",
   "execution_count": 10,
   "id": "33e16704-026e-4b51-b37f-52200171934b",
   "metadata": {},
   "outputs": [
    {
     "name": "stdout",
     "output_type": "stream",
     "text": [
      "Tensor Aleatorio: \n",
      " tensor([[0.9969, 0.7565, 0.2239],\n",
      "        [0.3023, 0.1784, 0.8238]]) \n",
      "\n",
      "Tensor Unos: \n",
      " tensor([[1., 1., 1.],\n",
      "        [1., 1., 1.]]) \n",
      "\n",
      "Tensor Ceros: \n",
      " tensor([[0., 0., 0.],\n",
      "        [0., 0., 0.]])\n"
     ]
    }
   ],
   "source": [
    "shape = (2,3,)\n",
    "rand_tensor = torch.rand(shape) # Uniform[0,1]\n",
    "ones_tensor = torch.ones(shape)\n",
    "zeros_tensor = torch.zeros(shape)\n",
    "\n",
    "print(f\"Tensor Aleatorio: \\n {rand_tensor} \\n\")\n",
    "print(f\"Tensor Unos: \\n {ones_tensor} \\n\")\n",
    "print(f\"Tensor Ceros: \\n {zeros_tensor}\")"
   ]
  },
  {
   "cell_type": "code",
   "execution_count": 12,
   "id": "expected-albania",
   "metadata": {},
   "outputs": [
    {
     "name": "stdout",
     "output_type": "stream",
     "text": [
      "Forma del tensor: torch.Size([3, 4])\n",
      "Tipo de datos del tensor: torch.float32\n",
      "Dispositivo en donde está el tensor: cpu\n"
     ]
    }
   ],
   "source": [
    "tensor = torch.rand(3,4)\n",
    "\n",
    "print(f\"Forma del tensor: {tensor.shape}\")\n",
    "print(f\"Tipo de datos del tensor: {tensor.dtype}\")\n",
    "print(f\"Dispositivo en donde está el tensor: {tensor.device}\")"
   ]
  },
  {
   "cell_type": "markdown",
   "id": "127dc86b-7eed-4adf-bc27-f0524c3e6663",
   "metadata": {},
   "source": [
    "## <span style=\"color:#4361EE\">Operaciones sobre Tensores</span>"
   ]
  },
  {
   "cell_type": "markdown",
   "id": "frozen-niger",
   "metadata": {},
   "source": [
    "### <span style=\"color:#4CC9F0\">Indexación y rebanado (slicing) al estilo Numpy</span>\n"
   ]
  },
  {
   "cell_type": "code",
   "execution_count": 14,
   "id": "personalized-laundry",
   "metadata": {},
   "outputs": [
    {
     "name": "stdout",
     "output_type": "stream",
     "text": [
      "Primera fila:  tensor([1., 1., 1., 1.])\n",
      "Primera  columna:  tensor([1., 1., 1., 1.])\n",
      "Ultima columna:  tensor([1., 1., 1., 1.])\n",
      "tensor([[1., 0., 1., 1.],\n",
      "        [1., 0., 1., 1.],\n",
      "        [1., 0., 1., 1.],\n",
      "        [1., 0., 1., 1.]])\n"
     ]
    }
   ],
   "source": [
    "tensor = torch.ones(4, 4)\n",
    "print('Primera fila: ', tensor[0])\n",
    "print('Primera  columna: ', tensor[:,0])\n",
    "print('Ultima columna: ', tensor[...,-1])\n",
    "# modifica columna 1 del tensor\n",
    "tensor[:,1] = 0\n",
    "print(tensor)"
   ]
  },
  {
   "cell_type": "markdown",
   "id": "aggressive-yesterday",
   "metadata": {},
   "source": [
    "### <span style=\"color:#4CC9F0\">Concatenaciones de tensores</span>\n"
   ]
  },
  {
   "cell_type": "code",
   "execution_count": 31,
   "id": "talented-performer",
   "metadata": {},
   "outputs": [
    {
     "name": "stdout",
     "output_type": "stream",
     "text": [
      "tensor([[1., 0., 1., 1., 1., 0., 1., 1., 1., 0., 1., 1.],\n",
      "        [1., 0., 1., 1., 1., 0., 1., 1., 1., 0., 1., 1.],\n",
      "        [1., 0., 1., 1., 1., 0., 1., 1., 1., 0., 1., 1.],\n",
      "        [1., 0., 1., 1., 1., 0., 1., 1., 1., 0., 1., 1.]])\n"
     ]
    }
   ],
   "source": [
    "t1 = torch.cat([tensor, tensor, tensor], dim=1)\n",
    "print(t1)"
   ]
  },
  {
   "cell_type": "markdown",
   "id": "subject-wellington",
   "metadata": {},
   "source": [
    "### <span style=\"color:#4CC9F0\">Operaciones aritméticas</span>\n"
   ]
  },
  {
   "cell_type": "code",
   "execution_count": 32,
   "id": "secondary-prophet",
   "metadata": {},
   "outputs": [
    {
     "data": {
      "text/plain": [
       "tensor([[1., 0., 1., 1.],\n",
       "        [1., 0., 1., 1.],\n",
       "        [1., 0., 1., 1.],\n",
       "        [1., 0., 1., 1.]])"
      ]
     },
     "execution_count": 32,
     "metadata": {},
     "output_type": "execute_result"
    }
   ],
   "source": [
    "# Multiplicación matricial\n",
    "y1 = tensor @ tensor.T\n",
    "y2 = tensor.matmul(tensor.T)\n",
    "\n",
    "y3 = torch.rand_like(tensor)\n",
    "torch.matmul(tensor, tensor.T, out=y3)\n",
    "\n",
    "# Multiplicación elemento a elemento\n",
    "z1 = tensor * tensor\n",
    "z2 = tensor.mul(tensor)\n",
    "\n",
    "z3 = torch.rand_like(tensor)\n",
    "torch.mul(tensor, tensor, out = z3)\n"
   ]
  },
  {
   "cell_type": "markdown",
   "id": "intelligent-check",
   "metadata": {},
   "source": [
    "### <span style=\"color:#4CC9F0\">Agregación</span>\n"
   ]
  },
  {
   "cell_type": "code",
   "execution_count": 33,
   "id": "august-theta",
   "metadata": {},
   "outputs": [
    {
     "name": "stdout",
     "output_type": "stream",
     "text": [
      "agg =  tensor(12.)\n",
      "agg_item =  12.0\n",
      "type(gg_item): <class 'float'>\n"
     ]
    }
   ],
   "source": [
    "agg = tensor.sum()\n",
    "agg_item = agg.item()\n",
    "print('agg = ', agg)\n",
    "print('agg_item = ', agg_item)\n",
    "print('type(gg_item):', type(agg_item))"
   ]
  },
  {
   "cell_type": "markdown",
   "id": "marked-paradise",
   "metadata": {},
   "source": [
    "### <span style=\"color:#4CC9F0\">Operaciones in place</span>\n"
   ]
  },
  {
   "cell_type": "code",
   "execution_count": 34,
   "id": "little-storm",
   "metadata": {},
   "outputs": [
    {
     "name": "stdout",
     "output_type": "stream",
     "text": [
      "tensor([[1., 0., 1., 1.],\n",
      "        [1., 0., 1., 1.],\n",
      "        [1., 0., 1., 1.],\n",
      "        [1., 0., 1., 1.]]) \n",
      "\n",
      "tensor([[6., 5., 6., 6.],\n",
      "        [6., 5., 6., 6.],\n",
      "        [6., 5., 6., 6.],\n",
      "        [6., 5., 6., 6.]])\n"
     ]
    }
   ],
   "source": [
    "print(tensor, '\\n')\n",
    "tensor.add_(5)\n",
    "print(tensor)"
   ]
  },
  {
   "cell_type": "markdown",
   "id": "creative-southwest",
   "metadata": {},
   "source": [
    "### <span style=\"color:#4CC9F0\">Puente con Numpy</span>\n"
   ]
  },
  {
   "cell_type": "code",
   "execution_count": 35,
   "id": "outstanding-lodge",
   "metadata": {},
   "outputs": [
    {
     "name": "stdout",
     "output_type": "stream",
     "text": [
      "t: tensor([1., 1., 1., 1., 1.])\n",
      "n: [1. 1. 1. 1. 1.]\n",
      "t: tensor([2., 2., 2., 2., 2.])\n",
      "n: [2. 2. 2. 2. 2.]\n"
     ]
    }
   ],
   "source": [
    "t = torch.ones(5)\n",
    "print(f't: {t}')\n",
    "n = t.numpy()\n",
    "print(f'n: {n}')\n",
    "\n",
    "# el cambio se refleja en el arreglo numpy\n",
    "t.add_(1)\n",
    "print(f't: {t}')\n",
    "print(f'n: {n}')"
   ]
  },
  {
   "cell_type": "markdown",
   "id": "5e040559-c65f-44ea-b0f8-e32c10fb2bc1",
   "metadata": {},
   "source": [
    "### <span style=\"color:#4CC9F0\">Cambio de forma de los tensores</span>"
   ]
  },
  {
   "cell_type": "code",
   "execution_count": 36,
   "id": "947511f2-dc4a-490e-85b3-6c254be8d7ee",
   "metadata": {},
   "outputs": [
    {
     "name": "stdout",
     "output_type": "stream",
     "text": [
      "x: tensor([0, 1, 2, 3, 4, 5])\n"
     ]
    }
   ],
   "source": [
    "x = torch.arange(6)\n",
    "print('x:', x)"
   ]
  },
  {
   "cell_type": "code",
   "execution_count": 37,
   "id": "7530a87e-5bba-433a-8658-81d7b130a1a9",
   "metadata": {},
   "outputs": [
    {
     "data": {
      "text/plain": [
       "tensor([[0, 1, 2],\n",
       "        [3, 4, 5]])"
      ]
     },
     "execution_count": 37,
     "metadata": {},
     "output_type": "execute_result"
    }
   ],
   "source": [
    "x.view(2, 3)"
   ]
  },
  {
   "cell_type": "code",
   "execution_count": 38,
   "id": "c1f0945b-4488-4b7c-b0a1-b60c4459990c",
   "metadata": {},
   "outputs": [
    {
     "name": "stdout",
     "output_type": "stream",
     "text": [
      "tensor([[[0.6211, 0.5530],\n",
      "         [0.6896, 0.3687]],\n",
      "\n",
      "        [[0.9053, 0.8356],\n",
      "         [0.3039, 0.6726]],\n",
      "\n",
      "        [[0.5740, 0.9233],\n",
      "         [0.9178, 0.7590]],\n",
      "\n",
      "        [[0.7775, 0.6179],\n",
      "         [0.3379, 0.2170]]])\n"
     ]
    }
   ],
   "source": [
    "# aplanando 4 imágenes\n",
    "\n",
    "batch_size = 4\n",
    "n_rows = 2\n",
    "n_columns = 2\n",
    "x = torch.rand(batch_size, n_rows, n_columns)\n",
    "print(x)"
   ]
  },
  {
   "cell_type": "code",
   "execution_count": 39,
   "id": "a0545313-e67f-4b57-b98a-caf73fcec7ae",
   "metadata": {},
   "outputs": [
    {
     "name": "stdout",
     "output_type": "stream",
     "text": [
      "tensor([[0.6211, 0.5530, 0.6896, 0.3687],\n",
      "        [0.9053, 0.8356, 0.3039, 0.6726],\n",
      "        [0.5740, 0.9233, 0.9178, 0.7590],\n",
      "        [0.7775, 0.6179, 0.3379, 0.2170]])\n"
     ]
    }
   ],
   "source": [
    "x = x.view(batch_size, n_rows*n_columns)\n",
    "print(x)"
   ]
  },
  {
   "cell_type": "code",
   "execution_count": 40,
   "id": "0a549832-7ba5-4815-bbc1-7b066dd4cd81",
   "metadata": {},
   "outputs": [
    {
     "name": "stdout",
     "output_type": "stream",
     "text": [
      "tensor([[0.6211, 0.9053, 0.5740, 0.7775],\n",
      "        [0.5530, 0.8356, 0.9233, 0.6179],\n",
      "        [0.6896, 0.3039, 0.9178, 0.3379],\n",
      "        [0.3687, 0.6726, 0.7590, 0.2170]])\n"
     ]
    }
   ],
   "source": [
    "x = x.permute(1,0)\n",
    "print(x)"
   ]
  },
  {
   "cell_type": "markdown",
   "id": "84a728bf-42ba-4277-aeaa-f0e44900a379",
   "metadata": {},
   "source": [
    "## <span style=\"color:#4361EE\">Grafo de cálculo dinámico y retropropagación(backpropagation)</span>"
   ]
  },
  {
   "cell_type": "markdown",
   "id": "67000c3e-a48d-4a00-8c45-325d11609d4f",
   "metadata": {},
   "source": [
    "Una de las principales razones para usar PyTorch en proyectos de aprendizaje profundo es que `podemos obtener automáticamente gradientes/derivadas de las funciones` que definamos. Principalmente usaremos PyTorch para implementar redes neuronales, y ellas son solamente funciones sofisticadas. Si usamos matrices de peso en nuestra función que queremos aprender, entonces se llaman parámetros o simplemente pesos.\n",
    "\n",
    "Si nuestra red neuronal tuviera un solo parámetro, hablaríamos de tomar la derivada, pero verá que siempre tendremos múltiples variables; en ese caso hablamos de gradientes. Es un término más general.\n",
    "\n",
    "Dada una entrada $\\mathbf{x}$, definimos nuestra función manipulando esa entrada, generalmente mediante multiplicaciones de matrices con matrices de peso(weight) y sumas con los llamados vectores de sesgo(bias). A medida que manipulamos nuestra entrada, estamos creando automáticamente un grafo computacional. Este grafo muestra cómo llegar a nuestra salida a partir de nuestra entrada. \n",
    "\n",
    "PyTorch es un marco definido por ejecución; esto significa que podemos simplemente hacer nuestras manipulaciones, y PyTorch hará un seguimiento de ese grafo por nosotros. Por lo tanto, creamos un grafo de cálculo dinámico en el camino."
   ]
  },
  {
   "cell_type": "markdown",
   "id": "cbb9077d-e318-4790-9dde-2e004950616b",
   "metadata": {},
   "source": [
    "### <span style=\"color:#4CC9F0\">Ejemplo</span>\n"
   ]
  },
  {
   "cell_type": "markdown",
   "id": "abca9db7-88ee-4245-a692-59994db277a4",
   "metadata": {},
   "source": [
    "Primero creamos un ejemplo de tensor simple y luego le agregaremos el grafo de cálculo dinámico. "
   ]
  },
  {
   "cell_type": "code",
   "execution_count": 41,
   "id": "29029003-e03e-4f7a-be37-77392bdd90b5",
   "metadata": {},
   "outputs": [
    {
     "name": "stdout",
     "output_type": "stream",
     "text": [
      "False\n"
     ]
    }
   ],
   "source": [
    "x = torch.ones((3,))\n",
    "print(x.requires_grad)"
   ]
  },
  {
   "cell_type": "code",
   "execution_count": 42,
   "id": "aa2ef693-ce88-4667-8069-b70e9ee2c675",
   "metadata": {},
   "outputs": [
    {
     "name": "stdout",
     "output_type": "stream",
     "text": [
      "True\n"
     ]
    }
   ],
   "source": [
    "x.requires_grad = True\n",
    "print(x.requires_grad)"
   ]
  },
  {
   "cell_type": "markdown",
   "id": "3cd708ca-99f8-438d-9991-87e014916dde",
   "metadata": {},
   "source": [
    "Vamos a crear la siguiente función\n",
    "$$\n",
    "y = \\frac{1}{|x|} \\sum_i [(x_i+2)^2 + 3],\n",
    "$$\n",
    "\n",
    "para luego calcular su gradiente $\\frac{\\partial y}{\\partial x}$ en el punto $[1, 2, 3]$. En la expresión, $|x|$ será el tamaño(forma) de $x$.\n"
   ]
  },
  {
   "cell_type": "code",
   "execution_count": 43,
   "id": "f560f95a-b4df-4a2e-acf9-6b807f398c9c",
   "metadata": {},
   "outputs": [
    {
     "name": "stdout",
     "output_type": "stream",
     "text": [
      "x:  tensor([0., 1., 2.], requires_grad=True)\n"
     ]
    }
   ],
   "source": [
    "x = torch.arange(3, dtype=torch.float32, requires_grad=True) # solamente puede usar floats para calcular gradientes\n",
    "print('x: ', x)"
   ]
  },
  {
   "cell_type": "markdown",
   "id": "5bf43ef5-a841-4e0b-8bcd-cffeb01d2e00",
   "metadata": {},
   "source": [
    "Ahora construimos el grafo de la función"
   ]
  },
  {
   "cell_type": "code",
   "execution_count": 44,
   "id": "32c68629-443d-4268-bd6e-ba03e1520c46",
   "metadata": {},
   "outputs": [
    {
     "name": "stdout",
     "output_type": "stream",
     "text": [
      "y =  tensor(12.6667, grad_fn=<MeanBackward0>)\n"
     ]
    }
   ],
   "source": [
    "a = x + 2\n",
    "b = a**2\n",
    "c = b + 3\n",
    "y = c.mean()\n",
    "print('y = ', y)\n"
   ]
  },
  {
   "cell_type": "markdown",
   "id": "e2fad278-7546-4023-a547-ece20e4d54d7",
   "metadata": {},
   "source": [
    "#### Cálculo del gradiente"
   ]
  },
  {
   "cell_type": "code",
   "execution_count": 45,
   "id": "7f9ff513-a3e0-40cb-8fd1-df8de4cde74b",
   "metadata": {},
   "outputs": [],
   "source": [
    "y.backward()"
   ]
  },
  {
   "cell_type": "markdown",
   "id": "9511e7f6-c440-46c0-bf33-9495870b3c25",
   "metadata": {},
   "source": [
    "*x.grad()* contiene el gradiente $\\frac{\\partial y}{\\partial x}$ en el punto $x = [1, 2, 3]$"
   ]
  },
  {
   "cell_type": "code",
   "execution_count": 46,
   "id": "ea4d6a73-ba7e-4bc3-99ae-0bec3ef3f2ba",
   "metadata": {},
   "outputs": [
    {
     "name": "stdout",
     "output_type": "stream",
     "text": [
      "tensor([1.3333, 2.0000, 2.6667])\n"
     ]
    }
   ],
   "source": [
    "print(x.grad)"
   ]
  },
  {
   "cell_type": "markdown",
   "id": "6383f8d0-f99d-4ed3-ba39-62feb2e488c6",
   "metadata": {},
   "source": [
    "El cálculo se realizó de la siguiente forma\n",
    "\n",
    "$$\n",
    "\\frac{\\partial y}{\\partial x_i} = \\frac{\\partial y}{\\partial c_i} \\frac{\\partial c_i}{\\partial b_i} \\frac{\\partial b_i}{\\partial a_i} \\frac{\\partial a_i}{\\partial x_i} \n",
    "$$\n",
    "\n",
    "$$\n",
    "\\frac{\\partial a_i}{\\partial x_i} = 1, \\quad \\frac{\\partial b_i}{\\partial a_i} = 2\\cdot a_i \\quad \\frac{\\partial c_i}{\\partial b_i} = 1,\\quad \\frac{\\partial y}{\\partial c_i} = \\frac{1}{3}\n",
    "$$"
   ]
  },
  {
   "cell_type": "markdown",
   "id": "conscious-configuration",
   "metadata": {
    "tags": []
   },
   "source": [
    "Entonces, si $x = [1, 2, 3]$ se obtiene $\\frac{\\partial y}{\\partial x} = [4/3, 2, 8/3]$."
   ]
  },
  {
   "cell_type": "markdown",
   "id": "431b0b3f-b049-4b18-9eb4-b8e548fc229b",
   "metadata": {},
   "source": [
    "## <span style=\"color:#4361EE\">Soporte para GPU</span>"
   ]
  },
  {
   "cell_type": "code",
   "execution_count": 47,
   "id": "60b9d13e-3d60-4473-a5f0-a673a1abb95b",
   "metadata": {},
   "outputs": [
    {
     "name": "stdout",
     "output_type": "stream",
     "text": [
      "¿Hay  GPU disponible? False\n"
     ]
    }
   ],
   "source": [
    "gpu_avail = torch.cuda.is_available()\n",
    "print(f\"¿Hay  GPU disponible? {gpu_avail}\")"
   ]
  },
  {
   "cell_type": "code",
   "execution_count": 48,
   "id": "d0badce6-850e-45bc-bd01-f1b51eb7ae78",
   "metadata": {},
   "outputs": [
    {
     "name": "stdout",
     "output_type": "stream",
     "text": [
      "Device cpu\n"
     ]
    }
   ],
   "source": [
    "device = torch.device(\"cuda\") if torch.cuda.is_available() else torch.device(\"cpu\")\n",
    "print(\"Device\", device)"
   ]
  },
  {
   "cell_type": "code",
   "execution_count": 49,
   "id": "f8e95da3-9f83-4d91-bc5d-c81572027ff7",
   "metadata": {},
   "outputs": [
    {
     "name": "stdout",
     "output_type": "stream",
     "text": [
      "X tensor([[0., 0., 0.],\n",
      "        [0., 0., 0.]])\n"
     ]
    }
   ],
   "source": [
    "x = torch.zeros(2, 3)\n",
    "x = x.to(device)\n",
    "print(\"X\", x)"
   ]
  },
  {
   "cell_type": "code",
   "execution_count": 50,
   "id": "9754ee16-cb30-4d67-8d4b-2ac2bacb9ae6",
   "metadata": {},
   "outputs": [
    {
     "data": {
      "text/plain": [
       "device(type='cpu')"
      ]
     },
     "execution_count": 50,
     "metadata": {},
     "output_type": "execute_result"
    }
   ],
   "source": [
    "x.device"
   ]
  },
  {
   "cell_type": "markdown",
   "id": "13d48c5e",
   "metadata": {},
   "source": [
    "## <span style=\"color:#4361EE\">Referencias</span> "
   ]
  },
  {
   "cell_type": "markdown",
   "id": "d757ccde",
   "metadata": {},
   "source": [
    "1. Basado en los [tutoriales de Pytorch](https://pytorch.org/tutorials/)\n",
    "1. [Deep learning for coders with FastAI and Pytorch](http://library.lol/main/F13E85845AE48D9FD7488FE7630A9FD3)"
   ]
  }
 ],
 "metadata": {
  "kernelspec": {
   "display_name": "Python 3",
   "language": "python",
   "name": "python3"
  },
  "language_info": {
   "codemirror_mode": {
    "name": "ipython",
    "version": 3
   },
   "file_extension": ".py",
   "mimetype": "text/x-python",
   "name": "python",
   "nbconvert_exporter": "python",
   "pygments_lexer": "ipython3",
   "version": "3.9.5"
  },
  "vscode": {
   "interpreter": {
    "hash": "f08154012ddadd8e950e6e9e035c7a7b32c136e7647e9b7c77e02eb723a8bedb"
   }
  }
 },
 "nbformat": 4,
 "nbformat_minor": 5
}
