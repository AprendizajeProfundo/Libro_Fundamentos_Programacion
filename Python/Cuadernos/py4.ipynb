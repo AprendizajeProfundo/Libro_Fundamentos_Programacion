{
 "cells": [
  {
   "cell_type": "markdown",
   "metadata": {},
   "source": [
    "# <span style=\"color:#F72585\">Estructuras de control</span>\n"
   ]
  },
  {
   "cell_type": "markdown",
   "metadata": {
    "colab_type": "text",
    "id": "qAqnr4i70sLy"
   },
   "source": [
    "En cualquier lenguaje de programación existen tres estructuras de control básicas que corresponden a \n",
    "\n",
    "- Secuencia\n",
    "- Selección (o decisión)\n",
    "- Iteración (repetición)"
   ]
  },
  {
   "cell_type": "markdown",
   "metadata": {},
   "source": [
    "## <span style=\"color:#4361EE\">Secuencia</span>\n"
   ]
  },
  {
   "cell_type": "markdown",
   "metadata": {
    "colab_type": "text",
    "id": "qAqnr4i70sLy"
   },
   "source": [
    "La ejecución de cualquier programa (algoritmo codificado en algún lenguaje de programación) se realiza en orden de aparición de las sentencias. Una **sentencia** puede ser **simple** (solamente una instrucción) o **compuesta** (varias instrucciones)."
   ]
  },
  {
   "cell_type": "markdown",
   "metadata": {},
   "source": [
    "### <span style=\"color:#4CC9F0\">Ejemplo</span>\n"
   ]
  },
  {
   "cell_type": "markdown",
   "metadata": {
    "colab_type": "text",
    "id": "qAqnr4i70sLy"
   },
   "source": [
    "Observe el siguiente código Python"
   ]
  },
  {
   "cell_type": "code",
   "execution_count": 22,
   "metadata": {},
   "outputs": [
    {
     "name": "stdout",
     "output_type": "stream",
     "text": [
      "1 2\n"
     ]
    }
   ],
   "source": [
    "x = 1; \n",
    "y = 2;\n",
    "\n",
    "print(x,y)"
   ]
  },
  {
   "cell_type": "markdown",
   "metadata": {},
   "source": [
    "En el ejemplo hay tres sentencias. Dos sentencias de asignación de valores y una sentencia de impresión. Se ejecuta una después de la otra."
   ]
  },
  {
   "cell_type": "markdown",
   "metadata": {},
   "source": [
    "## <span style=\"color:#4361EE\">Selección</span>"
   ]
  },
  {
   "cell_type": "markdown",
   "metadata": {},
   "source": [
    "### <span style=\"color:#4CC9F0\">If</span>\n"
   ]
  },
  {
   "cell_type": "markdown",
   "metadata": {},
   "source": [
    "Esta estructura de control está diseñada para que un programa pueda seguir diferentes caminos de ejecución, dependiendo de la evaluación de una expresión lógica. Observe el siguiente ejemplo."
   ]
  },
  {
   "cell_type": "code",
   "execution_count": 23,
   "metadata": {},
   "outputs": [
    {
     "name": "stdout",
     "output_type": "stream",
     "text": [
      "Cinco es mayor que Tres\n",
      "lunes\n"
     ]
    }
   ],
   "source": [
    "# ejemplo if\n",
    "x = 5\n",
    "y = 3\n",
    "\n",
    "if x>y:\n",
    "    print(\"Cinco es mayor que Tres\")\n",
    "    print(\"lunes\")"
   ]
  },
  {
   "cell_type": "markdown",
   "metadata": {},
   "source": [
    "La estructura empieza con la palabra clave **if**. Luego aparece una condición lógica que es evaluada (x>y). Si la condición es verdadera, como en este caso, se ejecutan las instrucciones escritas dentro de la estructura.\n",
    "\n",
    "Ahora observe el siguiente cambio"
   ]
  },
  {
   "cell_type": "code",
   "execution_count": 24,
   "metadata": {},
   "outputs": [],
   "source": [
    "# ejemplo if\n",
    "x = 3\n",
    "y = 5\n",
    "\n",
    "if x>y:\n",
    "    print(\"Cinco es mayor que Tres\")\n",
    "    print(\"lunes\")"
   ]
  },
  {
   "cell_type": "markdown",
   "metadata": {},
   "source": [
    "En este caso,  no se imprime nada, debido a que la condición es falsa. Ahora observe el siguiente ejemplo"
   ]
  },
  {
   "cell_type": "code",
   "execution_count": 25,
   "metadata": {},
   "outputs": [
    {
     "name": "stdout",
     "output_type": "stream",
     "text": [
      "La condición es falsa\n",
      "Martes\n"
     ]
    }
   ],
   "source": [
    "# ejemplo if\n",
    "x = 3\n",
    "y = 5\n",
    "\n",
    "if x>y:\n",
    "    print(\"La condición es verdadera\")\n",
    "    print(\"Lunes\")\n",
    "else:\n",
    "    print('La condición es falsa')\n",
    "    print('Martes')"
   ]
  },
  {
   "cell_type": "markdown",
   "metadata": {},
   "source": [
    "Lo que se agregó aquí fue un `else`. Este tiende a ponerse después de un `if` y se ejecuta cuando las condiciones puestas en este no se cumplen"
   ]
  },
  {
   "cell_type": "markdown",
   "metadata": {},
   "source": [
    "### <span style=\"color:#4CC9F0\">elif</span>\n"
   ]
  },
  {
   "cell_type": "markdown",
   "metadata": {},
   "source": [
    "usamos `elif` (forma corta de \"else if\") si queremos evaluar más casos dentro de la estructura de la selección.\n",
    "\n",
    "Hagamos el anterior ejemplo más complejo"
   ]
  },
  {
   "cell_type": "code",
   "execution_count": 26,
   "metadata": {},
   "outputs": [
    {
     "name": "stdout",
     "output_type": "stream",
     "text": [
      "y es mayor a z\n",
      "Martes\n"
     ]
    }
   ],
   "source": [
    "# ejemplo elif\n",
    "x = 3\n",
    "y = 5\n",
    "z = 4\n",
    "\n",
    "if x>z:\n",
    "    print(\"x es mayor a z\")\n",
    "    print(\"Lunes\")\n",
    "elif y>z:\n",
    "    print('y es mayor a z')\n",
    "    print('Martes')\n",
    "else:\n",
    "    print(\"todos los números son iguales\")\n",
    "    print('Miercoles')"
   ]
  },
  {
   "cell_type": "markdown",
   "metadata": {},
   "source": [
    "### <span style=\"color:#4CC9F0\">Ejercicio</span>\n"
   ]
  },
  {
   "cell_type": "markdown",
   "metadata": {
    "colab_type": "text",
    "id": "qA6o2ObtUzVC"
   },
   "source": [
    "El siguiente código calcula la longitud del nombre y escribe una frase acorde a la longitud. Observe que en el comando `print()` , `sep=` es un parámetro que separa los valores ingresados dentro de la función print. Como vemos, escribimos `N='Tu_nombre'` eso asigna a la letra N el texto *Tu_nombre*.  La función *len* devuelve la longitud de la cadena."
   ]
  },
  {
   "cell_type": "code",
   "execution_count": 27,
   "metadata": {
    "colab": {},
    "colab_type": "code",
    "id": "otVV2npDUzVD"
   },
   "outputs": [
    {
     "name": "stdout",
     "output_type": "stream",
     "text": [
      "Daniel es un nombre muy corto\n"
     ]
    }
   ],
   "source": [
    "N='Daniel'# cambiar 'Tu_nombre' por su verdadero nombre\n",
    "if len(N)>10:\n",
    "    A=\"es un nombre muy largo\"\n",
    "else:\n",
    "    A=\"es un nombre muy corto\"\n",
    "\n",
    "print(N,A,sep=\" \")\n"
   ]
  },
  {
   "cell_type": "code",
   "execution_count": 28,
   "metadata": {
    "colab": {},
    "colab_type": "code",
    "id": "2s1YfC-BUzVG"
   },
   "outputs": [
    {
     "name": "stdout",
     "output_type": "stream",
     "text": [
      "Alvaro Mauricio Montenegro Díaz/es un nombre muy largo\n"
     ]
    }
   ],
   "source": [
    "N='Alvaro Mauricio Montenegro Díaz' #cambiar 'Tu_nombre_completo' por su verdadero nombre completo\n",
    "if len(N)>10:\n",
    "    A=\"es un nombre muy largo\"\n",
    "else:\n",
    "    A=\"es un nombre muy corto\"\n",
    "\n",
    "print(N,A,sep=\"/\")"
   ]
  },
  {
   "cell_type": "code",
   "execution_count": 29,
   "metadata": {
    "colab": {},
    "colab_type": "code",
    "id": "P41c3wWHUzVI"
   },
   "outputs": [
    {
     "name": "stdout",
     "output_type": "stream",
     "text": [
      "El nombre         es un nombre muy corto\n"
     ]
    }
   ],
   "source": [
    "N='El nombre'\n",
    "if len(N)>10:\n",
    "    A=\"es un nombre muy largo\"\n",
    "else:\n",
    "    A=\"es un nombre muy corto\"\n",
    "\n",
    "print(N,A,sep=\"         \")"
   ]
  },
  {
   "cell_type": "markdown",
   "metadata": {},
   "source": [
    "### <span style=\"color:#4CC9F0\">Match</span>\n"
   ]
  },
  {
   "cell_type": "markdown",
   "metadata": {},
   "source": [
    "Esto solo es posible en la versión 3.10 de python\n",
    "\n",
    "en otros lenguajes de programación existe la estructura de de selección llamada \"Switch\", usada cuando hay muchos casos para evaluar igualdad. En estos casos hacer if else constantes es un desperdicio de memoria\n",
    "\n",
    "en C/C++ se ven así:\n",
    "\n",
    "```\n",
    "switch(variable_a_evaluar):\n",
    "    case valor1:\n",
    "        algo_pasa1()\n",
    "        break:\n",
    "    case valor2:\n",
    "        algo_pasa2()\n",
    "        break:\n",
    "    case valor3:\n",
    "        algo_pasa3()\n",
    "        break:\n",
    "    default:\n",
    "        nada_pasa()\n",
    "```"
   ]
  },
  {
   "cell_type": "markdown",
   "metadata": {},
   "source": [
    "En python no existía nada parecido, hasta la versión 3.10 donde se creó el caso `match`, dándonos la capacidad del switch y otras nuevas cosas\n",
    "\n",
    "Hagamos un ejemplo básico"
   ]
  },
  {
   "cell_type": "code",
   "execution_count": 31,
   "metadata": {},
   "outputs": [
    {
     "ename": "SyntaxError",
     "evalue": "invalid syntax (Temp/ipykernel_18468/779558775.py, line 2)",
     "output_type": "error",
     "traceback": [
      "\u001b[1;36m  Input \u001b[1;32mIn [31]\u001b[1;36m\u001b[0m\n\u001b[1;33m    match quit:\u001b[0m\n\u001b[1;37m          ^\u001b[0m\n\u001b[1;31mSyntaxError\u001b[0m\u001b[1;31m:\u001b[0m invalid syntax\n"
     ]
    }
   ],
   "source": [
    "quit = True\n",
    "match quit:\n",
    "    case True:\n",
    "        print(\"Cerrando\")\n",
    "    case False:\n",
    "        print(\"Sistema prendido\")"
   ]
  },
  {
   "cell_type": "markdown",
   "metadata": {},
   "source": [
    "Dentro del match también sucede el caso \"default\", que se cumple cuando los otros casos no, en python esto se toma con un `_`"
   ]
  },
  {
   "cell_type": "code",
   "execution_count": 32,
   "metadata": {},
   "outputs": [
    {
     "ename": "SyntaxError",
     "evalue": "invalid syntax (Temp/ipykernel_18468/3367660090.py, line 3)",
     "output_type": "error",
     "traceback": [
      "\u001b[1;36m  Input \u001b[1;32mIn [32]\u001b[1;36m\u001b[0m\n\u001b[1;33m    match status:\u001b[0m\n\u001b[1;37m          ^\u001b[0m\n\u001b[1;31mSyntaxError\u001b[0m\u001b[1;31m:\u001b[0m invalid syntax\n"
     ]
    }
   ],
   "source": [
    "status = 401\n",
    "\n",
    "match status:\n",
    "    case 400:\n",
    "        print('Mala solicitud')\n",
    "    case 401:\n",
    "        print('No autorizado')\n",
    "    case 402:\n",
    "        print('Pago necesario')\n",
    "    case 403:\n",
    "        print('Prohibido')\n",
    "    case 404:\n",
    "        print('No encontrado')\n",
    "    case _:\n",
    "        print('código no reconocido')"
   ]
  },
  {
   "cell_type": "markdown",
   "metadata": {},
   "source": [
    "En la mayoría de lenguajes que usan switch, cada acción solo puede atribuirse a un caso. En python es posible aplicar una acción a varios casos"
   ]
  },
  {
   "cell_type": "code",
   "execution_count": null,
   "metadata": {},
   "outputs": [
    {
     "name": "stdout",
     "output_type": "stream",
     "text": [
      "Error de Autenticación\n"
     ]
    }
   ],
   "source": [
    "status = 403\n",
    "\n",
    "match status:\n",
    "    case 400:\n",
    "        print('Mala solicitud') \n",
    "    case 401 | 403: #or\n",
    "        print('Error de Autenticación')\n",
    "    case 404:\n",
    "        print('No encontrado')\n",
    "    case _:\n",
    "        print('otro tipo de código')"
   ]
  },
  {
   "cell_type": "markdown",
   "metadata": {
    "colab_type": "text",
    "id": "qAqnr4i70sLy"
   },
   "source": [
    "## <span style=\"color:#4361EE\">Indentación en Python</span>"
   ]
  },
  {
   "cell_type": "markdown",
   "metadata": {
    "colab_type": "text",
    "id": "oMyFFHSjlj9J"
   },
   "source": [
    "Indentar significa **mover un bloque de texto hacia la derecha**, dejando una serie de espacios o un tabulador para distinguirlo del texto alineado a la izquierda. \n",
    "\n",
    "Por ejemplo:\n",
    "\n",
    "> Este texto está indentado.\n",
    "\n",
    "En **Python**, la indentación es obligatoria para indica el alcance de una estructura. Además solamente debe usarse para tal fín."
   ]
  },
  {
   "cell_type": "markdown",
   "metadata": {},
   "source": [
    "### <span style=\"color:#4CC9F0\">Ejemplo: Indentación en Python</span>\n"
   ]
  },
  {
   "cell_type": "markdown",
   "metadata": {
    "colab_type": "text",
    "id": "OqFH478Xza5l"
   },
   "source": [
    "En este ejemplo"
   ]
  },
  {
   "cell_type": "code",
   "execution_count": null,
   "metadata": {
    "colab": {},
    "colab_type": "code",
    "id": "ie3nUgSszhve"
   },
   "outputs": [
    {
     "name": "stdout",
     "output_type": "stream",
     "text": [
      "9.6\n"
     ]
    }
   ],
   "source": [
    "# ejemplo if\n",
    "x = 3\n",
    "y = 5\n",
    "\n",
    "if x>y:\n",
    "    print(\"Five is greater than Three\")\n",
    "    print(\"lunes\")\n",
    "    \n",
    "# por fuera del if\n",
    "x = 9.6\n",
    "print(x)\n",
    "    "
   ]
  },
  {
   "cell_type": "markdown",
   "metadata": {
    "colab_type": "text",
    "id": "Xvt2xJKPzudT"
   },
   "source": [
    "**Sin la indentación**, el código produce un **error**:"
   ]
  },
  {
   "cell_type": "code",
   "execution_count": 2,
   "metadata": {},
   "outputs": [
    {
     "ename": "IndentationError",
     "evalue": "expected an indented block (Temp/ipykernel_46744/3402113970.py, line 6)",
     "output_type": "error",
     "traceback": [
      "\u001b[1;36m  File \u001b[1;32m\"C:\\Users\\User\\AppData\\Local\\Temp/ipykernel_46744/3402113970.py\"\u001b[1;36m, line \u001b[1;32m6\u001b[0m\n\u001b[1;33m    print(\"Five is greater than Three\")\u001b[0m\n\u001b[1;37m    ^\u001b[0m\n\u001b[1;31mIndentationError\u001b[0m\u001b[1;31m:\u001b[0m expected an indented block\n"
     ]
    }
   ],
   "source": [
    "x = 3\n",
    "y = 5\n",
    "print(x,y)\n",
    "\n",
    "if x>y:\n",
    "print(\"Five is greater than Three\")"
   ]
  },
  {
   "cell_type": "markdown",
   "metadata": {
    "colab_type": "text",
    "id": "h_FUae2V1Dfu"
   },
   "source": [
    "No importa cuántos espacios en blanco se dejen, siempre y cuando sea **al menos uno**:"
   ]
  },
  {
   "cell_type": "code",
   "execution_count": null,
   "metadata": {
    "colab": {},
    "colab_type": "code",
    "id": "8shIg71S1KOI"
   },
   "outputs": [
    {
     "name": "stdout",
     "output_type": "stream",
     "text": [
      "Five is greater than Three\n",
      "Five is greater than Three\n"
     ]
    }
   ],
   "source": [
    "if 5 > 3:\n",
    "    print(\"Five is greater than Three\")  \n",
    "if 5 > 3:\n",
    "       print(\"Five is greater than Three\")"
   ]
  },
  {
   "cell_type": "markdown",
   "metadata": {},
   "source": [
    "### <span style=\"color:#4CC9F0\">Ejercicio</span>\n"
   ]
  },
  {
   "cell_type": "markdown",
   "metadata": {},
   "source": [
    "Verifique que entiende que hace el siguiente código. ¿Cuál es la salida?"
   ]
  },
  {
   "cell_type": "code",
   "execution_count": null,
   "metadata": {},
   "outputs": [
    {
     "name": "stdout",
     "output_type": "stream",
     "text": [
      "adolecente\n"
     ]
    }
   ],
   "source": [
    "edad = 15\n",
    "status = None\n",
    "\n",
    "if (edad >12) and (edad<20):\n",
    "    status = 'adolecente'\n",
    "else:\n",
    "    status = 'no adolecente'\n",
    "\n",
    "print(status)"
   ]
  },
  {
   "cell_type": "markdown",
   "metadata": {},
   "source": [
    "## <span style=\"color:#4361EE\">Estructura de repetición [ciclos]</span>"
   ]
  },
  {
   "cell_type": "markdown",
   "metadata": {},
   "source": [
    "Este tercer tipo de estructura de control se usa para los casos en los cuales es necesario correr un proceso varas veces en forma continua."
   ]
  },
  {
   "cell_type": "markdown",
   "metadata": {},
   "source": [
    "### <span style=\"color:#4CC9F0\">Ciclo while</span>\n"
   ]
  },
  {
   "cell_type": "markdown",
   "metadata": {},
   "source": [
    "Al comienzo del ciclo se evalúa una condición. Si la condición es verdadera se ejecuta de nuevo el ciclo. En otro caso, termina. Corra y analice el siguiente fragmento (snippet) de código"
   ]
  },
  {
   "cell_type": "code",
   "execution_count": null,
   "metadata": {},
   "outputs": [
    {
     "name": "stdout",
     "output_type": "stream",
     "text": [
      "Starting\n",
      "0  1  2  3  4  5  6  7  8  9  \n",
      "Done\n"
     ]
    }
   ],
   "source": [
    "contador = 0\n",
    "\n",
    "print('Starting')\n",
    "while contador < 10:\n",
    "    #Instrucciones útiles\n",
    "    print(contador,' ', end='')\n",
    "    contador = contador + 1\n",
    "    \n",
    "print()\n",
    "print('Done')"
   ]
  },
  {
   "cell_type": "markdown",
   "metadata": {},
   "source": [
    "### <span style=\"color:#4CC9F0\">Ejercicio</span>\n"
   ]
  },
  {
   "cell_type": "markdown",
   "metadata": {},
   "source": [
    "¿Qué hace el parámetro  *end* en el *print* anterior? "
   ]
  },
  {
   "cell_type": "markdown",
   "metadata": {},
   "source": [
    "### <span style=\"color:#4CC9F0\">Ciclo for</span>\n"
   ]
  },
  {
   "cell_type": "markdown",
   "metadata": {},
   "source": [
    "En este caso se usa una variable de salto que va recorriendo un conjunto de valores hasta terminar. Revise el siguiente snippet."
   ]
  },
  {
   "cell_type": "code",
   "execution_count": null,
   "metadata": {},
   "outputs": [
    {
     "name": "stdout",
     "output_type": "stream",
     "text": [
      "\n",
      "Start:\n",
      "0  1  2  3  4  5  6  7  8  9  10  11  12  13  14  15  16  17  18  19  \n",
      "Done.\n"
     ]
    }
   ],
   "source": [
    "print('\\nStart:')\n",
    "for i in range(20):\n",
    "    # Instrucciones útiles\n",
    "    print(i, ' ', end='')\n",
    "\n",
    "print('\\nDone.')"
   ]
  },
  {
   "cell_type": "markdown",
   "metadata": {},
   "source": [
    "```{admonition} Pregunta\n",
    ":class: question\n",
    "¿Cuál es la diferencia entre while y for?\n",
    "```\n"
   ]
  },
  {
   "cell_type": "markdown",
   "metadata": {},
   "source": [
    "### <span style=\"color:#4CC9F0\">Break</span>\n"
   ]
  },
  {
   "cell_type": "markdown",
   "metadata": {},
   "source": [
    "Se usa para terminar la ejecución de un ciclo while o for. Corra el siguiente ejemplo dando diferentes valores."
   ]
  },
  {
   "cell_type": "code",
   "execution_count": null,
   "metadata": {},
   "outputs": [
    {
     "name": "stdout",
     "output_type": "stream",
     "text": [
      "0\n",
      "1\n",
      "2\n",
      "3\n",
      "4\n",
      "5\n"
     ]
    }
   ],
   "source": [
    "for i in range(10):\n",
    "    print(i)\n",
    "    if i==5:\n",
    "        break"
   ]
  },
  {
   "cell_type": "markdown",
   "metadata": {},
   "source": [
    "## <span style=\"color:#4361EE\">Estructuras de control anidadas</span>"
   ]
  },
  {
   "cell_type": "markdown",
   "metadata": {},
   "source": [
    "Es posible incluir (o anidar) estructuras de control dentro de otras estructuras de control.\n",
    "\n",
    "Esto es de gran utilidad para realizar programas de mayor complejidad.\n",
    "\n",
    "**Ejemplo:**"
   ]
  },
  {
   "cell_type": "code",
   "execution_count": null,
   "metadata": {
    "colab": {},
    "colab_type": "code",
    "id": "Q6UM2ujoztla"
   },
   "outputs": [],
   "source": [
    "x = 5\n",
    "y = 3\n",
    "print(x,y)"
   ]
  },
  {
   "cell_type": "code",
   "execution_count": null,
   "metadata": {
    "colab": {},
    "colab_type": "code",
    "id": "Q6UM2ujoztla"
   },
   "outputs": [
    {
     "name": "stdout",
     "output_type": "stream",
     "text": [
      "Cinco es mayor que tres\n",
      "0\n",
      "1\n",
      "2\n",
      "3\n",
      "4\n",
      "5\n",
      "6\n",
      "7\n",
      "8\n",
      "9\n",
      "9.9 2\n"
     ]
    }
   ],
   "source": [
    "if x>y:\n",
    "    print(\"Cinco es mayor que tres\")\n",
    "    for i in range(10):\n",
    "        print(i)\n",
    "    x = 9.9\n",
    "\n",
    "y = 2\n",
    "print(x, y)"
   ]
  },
  {
   "cell_type": "markdown",
   "metadata": {},
   "source": [
    "### <span style=\"color:#4CC9F0\">Ciclos anidados</span>\n"
   ]
  },
  {
   "cell_type": "markdown",
   "metadata": {},
   "source": [
    "Un ejemplo de ciclos anidados, por ejemplo crear las tablas de multiplicar, puede ser de gran utilidad para realizar procesos iterativos.\n",
    "\n",
    "**Ejemplo:**"
   ]
  },
  {
   "cell_type": "code",
   "execution_count": null,
   "metadata": {},
   "outputs": [
    {
     "name": "stdout",
     "output_type": "stream",
     "text": [
      "\n",
      "Algunas Tablas de Multiplicar:\n",
      "\n",
      "Tabla del 1\n",
      "\n",
      "1x1 = 1\n",
      "1x2 = 2\n",
      "1x3 = 3\n",
      "1x4 = 4\n",
      "1x5 = 5\n",
      "1x6 = 6\n",
      "1x7 = 7\n",
      "1x8 = 8\n",
      "1x9 = 9\n",
      "1x10 = 10\n",
      "1x11 = 11\n",
      "1x12 = 12\n",
      "\n",
      "Tabla del 2\n",
      "\n",
      "2x1 = 2\n",
      "2x2 = 4\n",
      "2x3 = 6\n",
      "2x4 = 8\n",
      "2x5 = 10\n",
      "2x6 = 12\n",
      "2x7 = 14\n",
      "2x8 = 16\n",
      "2x9 = 18\n",
      "2x10 = 20\n",
      "2x11 = 22\n",
      "2x12 = 24\n",
      "\n",
      "Tabla del 3\n",
      "\n",
      "3x1 = 3\n",
      "3x2 = 6\n",
      "3x3 = 9\n",
      "3x4 = 12\n",
      "3x5 = 15\n",
      "3x6 = 18\n",
      "3x7 = 21\n",
      "3x8 = 24\n",
      "3x9 = 27\n",
      "3x10 = 30\n",
      "3x11 = 33\n",
      "3x12 = 36\n",
      "\n",
      "Tabla del 4\n",
      "\n",
      "4x1 = 4\n",
      "4x2 = 8\n",
      "4x3 = 12\n",
      "4x4 = 16\n",
      "4x5 = 20\n",
      "4x6 = 24\n",
      "4x7 = 28\n",
      "4x8 = 32\n",
      "4x9 = 36\n",
      "4x10 = 40\n",
      "4x11 = 44\n",
      "4x12 = 48\n"
     ]
    }
   ],
   "source": [
    "print(\"\\nAlgunas Tablas de Multiplicar:\")\n",
    "for i in range(1,5): # i va aumentado desde 1, luego va a 2,3,...\n",
    "    print(f'\\nTabla del {i}\\n')\n",
    "    for j in range(1,13): # Recorre desde el 1 hasta el 12\n",
    "        print(i,\"x\",j,\" = \",i*j,sep='')"
   ]
  },
  {
   "cell_type": "markdown",
   "metadata": {},
   "source": [
    "**Ejemplo 2:**"
   ]
  },
  {
   "cell_type": "code",
   "execution_count": null,
   "metadata": {},
   "outputs": [
    {
     "name": "stdout",
     "output_type": "stream",
     "text": [
      "\n",
      "*\n",
      "**\n",
      "***\n",
      "****\n",
      "*****\n",
      "******\n",
      "*******\n",
      "********\n",
      "*********\n",
      "**********\n"
     ]
    }
   ],
   "source": [
    "for i in range(0,11):             #line 1\n",
    "    for j in range(i):            #line 2\n",
    "        print('*', end='')        #line 3\n",
    "    print('')                     #line 4"
   ]
  },
  {
   "cell_type": "markdown",
   "metadata": {},
   "source": [
    "También es posible aplicar un else a las estructuras \"for\" y \"while\". Lo que se ponga en este se va a ejecutar al final del loop a menos que se use un break en este"
   ]
  },
  {
   "cell_type": "code",
   "execution_count": null,
   "metadata": {},
   "outputs": [
    {
     "name": "stdout",
     "output_type": "stream",
     "text": [
      "Letra U no encontrada\n"
     ]
    }
   ],
   "source": [
    "texto = \"Esta frase no tiene cierta letra\"\n",
    "\n",
    "for letra in texto:\n",
    "    if letra == \"u\":\n",
    "        print(\"Letra U encontrada\")\n",
    "        break\n",
    "else:\n",
    "    print(\"Letra U no encontrada\")"
   ]
  },
  {
   "cell_type": "code",
   "execution_count": null,
   "metadata": {},
   "outputs": [
    {
     "name": "stdout",
     "output_type": "stream",
     "text": [
      "Letra U encontrada\n"
     ]
    }
   ],
   "source": [
    "texto = \"la letra 'u' está en la frase\"\n",
    "\n",
    "for letra in texto:\n",
    "    if letra == \"u\":\n",
    "        print(\"Letra U encontrada\")\n",
    "        break\n",
    "else:\n",
    "    print(\"Letra U no encontrada\")"
   ]
  },
  {
   "cell_type": "code",
   "execution_count": null,
   "metadata": {},
   "outputs": [
    {
     "name": "stdout",
     "output_type": "stream",
     "text": [
      "0\n",
      "1\n",
      "2\n",
      "3\n"
     ]
    }
   ],
   "source": [
    "count = 0\n",
    "\n",
    "while count < 5:\n",
    "    \n",
    "    print(count)\n",
    "    \n",
    "    if count == 3:\n",
    "        break\n",
    "    \n",
    "    count+=1\n",
    "else:\n",
    "    print(\"llegamos al final del loop\")\n",
    "    "
   ]
  },
  {
   "cell_type": "code",
   "execution_count": null,
   "metadata": {},
   "outputs": [
    {
     "name": "stdout",
     "output_type": "stream",
     "text": [
      "0\n",
      "1\n",
      "2\n",
      "3\n",
      "4\n",
      "llegamos al final del loop\n"
     ]
    }
   ],
   "source": [
    "count = 0\n",
    "\n",
    "while count < 5:\n",
    "    \n",
    "    print(count)\n",
    "    \n",
    "    if count == 7:\n",
    "        break\n",
    "    count += 1\n",
    "else:\n",
    "    print(\"llegamos al final del loop\")\n",
    "    "
   ]
  },
  {
   "cell_type": "markdown",
   "metadata": {},
   "source": [
    "### <span style=\"color:#4CC9F0\">Ejercicio</span>\n"
   ]
  },
  {
   "cell_type": "markdown",
   "metadata": {
    "colab_type": "text",
    "id": "NTTmenRR162S"
   },
   "source": [
    "Escriba un código que le diga al computador que devuelva los textos **I'm ready to code!** si su nombre tiene más de diez caracteres o **Hello, World!** si pasa lo contrario, para medir la longitud de su nombre utilice la función `len()`."
   ]
  },
  {
   "cell_type": "code",
   "execution_count": null,
   "metadata": {
    "colab": {},
    "colab_type": "code",
    "id": "h-aRHdmHUzUx"
   },
   "outputs": [
    {
     "data": {
      "text/plain": [
       "9"
      ]
     },
     "metadata": {},
     "output_type": "display_data"
    }
   ],
   "source": [
    "len(\"Tu_nombre\") #pruebe la funcion len. Cambia Tu_nombre por su nombre real."
   ]
  },
  {
   "cell_type": "code",
   "execution_count": null,
   "metadata": {
    "colab": {},
    "colab_type": "code",
    "id": "aljlfPUW2SRr"
   },
   "outputs": [],
   "source": [
    "# Ingrese aquí el condicional"
   ]
  },
  {
   "cell_type": "markdown",
   "metadata": {},
   "source": [
    "## <span style=\"color:#4361EE\">Manejo de excepciones</span> "
   ]
  },
  {
   "cell_type": "markdown",
   "metadata": {},
   "source": [
    "En python llamamos a los errores \"excepciones\". Cuando suceden estos, python para su ejecución y genera un mensaje de error. Ya hemos visto que sucede cuando llamamos una variable a la cual no se la ha asignado nada.\n",
    "\n",
    "Lo que podemos hacer es \"intentar\" ejecutar algo, y si tendría un problema de error ejecutamos otra sección de código. De esta forma no se detiene todo el código."
   ]
  },
  {
   "cell_type": "code",
   "execution_count": null,
   "metadata": {},
   "outputs": [
    {
     "name": "stdout",
     "output_type": "stream",
     "text": [
      "variable no encontrada\n"
     ]
    }
   ],
   "source": [
    "try:\n",
    "    print(no_variable)\n",
    "except:\n",
    "    print(\"variable no encontrada\")"
   ]
  },
  {
   "cell_type": "markdown",
   "metadata": {},
   "source": [
    "Como el bloque `try` generaría un error, se ejecuta el bloque `except` en su lugar\n",
    "\n",
    "Podemos ser específicos con el tipo de errores que obtenemos y ejecutar cosas distintas respecto a esto"
   ]
  },
  {
   "cell_type": "code",
   "execution_count": null,
   "metadata": {},
   "outputs": [
    {
     "name": "stdout",
     "output_type": "stream",
     "text": [
      "Variable no definida\n"
     ]
    }
   ],
   "source": [
    "try:\n",
    "  print(no_variable+2)\n",
    "except NameError:\n",
    "  print(\"Variable no definida\")\n",
    "except:\n",
    "  print(\"Otro problema encontrado\")"
   ]
  },
  {
   "cell_type": "markdown",
   "metadata": {},
   "source": [
    "Podemos agregar otros tipos de bloques para manejar errores\n",
    "- `else` correrá si no se encuentran errores\n",
    "- `finally` corre al final del bloque, sin importar si se encontraron errores o no"
   ]
  },
  {
   "cell_type": "code",
   "execution_count": null,
   "metadata": {},
   "outputs": [
    {
     "name": "stdout",
     "output_type": "stream",
     "text": [
      "imprimiendo linea\n",
      "no se encontraron problemas\n",
      "código terminado, que tenga un buen día!\n"
     ]
    }
   ],
   "source": [
    "try:\n",
    "    print(\"imprimiendo linea\")\n",
    "except:\n",
    "    print(\"encontramos un problema\")\n",
    "else:\n",
    "    print(\"no se encontraron problemas\")\n",
    "finally:\n",
    "    print(\"código terminado, que tenga un buen día!\")"
   ]
  }
 ],
 "metadata": {
  "kernelspec": {
   "display_name": "Python 3.9.8 64-bit",
   "language": "python",
   "name": "python3"
  },
  "language_info": {
   "codemirror_mode": {
    "name": "ipython",
    "version": 3
   },
   "file_extension": ".py",
   "mimetype": "text/x-python",
   "name": "python",
   "nbconvert_exporter": "python",
   "pygments_lexer": "ipython3",
   "version": "3.9.8"
  },
  "orig_nbformat": 4,
  "vscode": {
   "interpreter": {
    "hash": "cf92aa13fedf815d5c8dd192b8d835913fde3e8bc926b2a0ad6cc74ef2ba3ca2"
   }
  }
 },
 "nbformat": 4,
 "nbformat_minor": 2
}
