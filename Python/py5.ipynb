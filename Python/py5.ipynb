{
 "cells": [
  {
   "cell_type": "markdown",
   "metadata": {},
   "source": [
    "# <span style=\"color:#F72585\"><center>Funciones en Python</center></span>\n"
   ]
  },
  {
   "cell_type": "markdown",
   "metadata": {},
   "source": [
    "Para entender funciones en Python (Paquetes dentro de módulos de Python), debemos pensar en actos reales para poder hacer una **analogía** en el ambiente de programación.\n",
    "\n",
    "Imagínese cuando se levanta.\n",
    "\n",
    "Lo que ocurre primero, es que uno se siente vivo, se abren los ojos (no siempre), se hace pereza un rato, se levanta de la cama y luego se inicia el día (cada persona tiene sus maneras diferentes de lograrlo).\n",
    "\n",
    "Esta serie de **pasos consecutivos** conforman lo que se llama una **función**.\n",
    "\n",
    "En el común, una **función es en realidad una acción** o una serie de acciones que generan un resultado a través de un proceso intermedio.\n",
    "\n",
    "Para poder distinguir funciones, unas de otras, se le dan dotado de nombres diferentes.\n",
    "\n",
    "Por ejemplo, la función antes descrita podría nombrarse como **Levantarse**:\n",
    "\n",
    "Está función se compone de los siguientes pasos:\n",
    "\n",
    "1. **Sentirse vivo.**\n",
    "2. **Abrir los ojos.**\n",
    "3. **Hacer pereza.**\n",
    "4. **Levantarse.**\n",
    "\n",
    "En el lenguaje de programación, ésto se podría escribir como\n",
    "\n",
    "```Levantarse(x)```\n",
    "\n",
    "donde $x$ representa el individuo que hace la acción y los paréntesis significan que se habla de una función, y por lo tanto, **no se confunde** con una variable.\n",
    "\n",
    "**Ejemplo:**\n",
    "\n",
    "Función ```CortarManzana(x)```:\n",
    "\n",
    "Esta función se puede ilustrar dela siguiente manera:\n",
    "\n",
    "\n",
    "![Manzanita](https://photos1.blogger.com/blogger/1290/1572/1600/Apple_slicing_function.png)\n",
    "\n",
    "Como podemos ver, una función es realmente es una **\"Caja Negra\"**:\n",
    "\n",
    "La podemos usar, sin importar qué hay dentro de ella.\n",
    "\n",
    "Ya hemos visto algunas **funciones básicas** de Python (Built-in):\n",
    "\n",
    "- ```print()```\n",
    "- ```len()```\n",
    "- ```list()```\n",
    "\n",
    "En [este link](https://docs.python.org/3/library/functions.html), se encuentra un manual de todas las funciones **básicas** de Python.\n",
    "\n",
    "Veamos algunas de ellas:\n",
    "\n",
    "**Ejercicio**\n",
    "\n",
    "Viendo la entra y salida del código, infiera qué hace la función correspondiente:"
   ]
  },
  {
   "cell_type": "code",
   "execution_count": 61,
   "metadata": {},
   "outputs": [
    {
     "name": "stdout",
     "output_type": "stream",
     "text": [
      "\n",
      "x = -5\n",
      "y =  5 \n",
      "\n",
      "Dicionario:  {'Saludo': 'Hola', 'Despido': 'Adiós', 'Palabra': 'Extraño'} \n",
      "\n",
      "resultado: 21 \n",
      "\n",
      "a1: 6 , a2: 1\n"
     ]
    }
   ],
   "source": [
    "# Your Code Here\n",
    "x = -5\n",
    "y = abs(x)\n",
    "print(\"\\nx =\", x)\n",
    "print(\"y = \", y,\"\\n\")\n",
    "\n",
    "# Your Code Here\n",
    "\n",
    "d = dict({\"Saludo\": \"Hola\", \"Despido\": \"Adiós\", \"Palabra\": \"Extraño\"})\n",
    "print(\"Dicionario: \",d,\"\\n\")\n",
    "\n",
    "# Suma\n",
    "v = [1,2,3,4,5,6]\n",
    "s = sum(v)\n",
    "print(\"resultado:\", s,\"\\n\")\n",
    "\n",
    "# Your Code Here\n",
    "\n",
    "a1=max(v)\n",
    "a2=min(v)\n",
    "\n",
    "print(\"a1:\",a1,\", a2:\",a2)"
   ]
  },
  {
   "cell_type": "markdown",
   "metadata": {},
   "source": [
    "## <span style=\"color:#4361EE\">Parámetros y Variables en Funciones</span>\n"
   ]
  },
  {
   "cell_type": "markdown",
   "metadata": {},
   "source": [
    "Las funciones pueden tener uno o más parámetros asociados.\n",
    "\n",
    "Por ejemplo la función $f(x,y,z)=w$, recibe los argumentos $x,y,z$ y produce el resultado $w$.\n",
    "\n",
    "**Ejemplo:**"
   ]
  },
  {
   "cell_type": "code",
   "execution_count": 62,
   "metadata": {},
   "outputs": [
    {
     "name": "stdout",
     "output_type": "stream",
     "text": [
      "x=\n",
      " [0.         0.21666156 0.43332312 0.64998469 0.86664625 1.08330781\n",
      " 1.29996937 1.51663094 1.7332925  1.94995406 2.16661562 2.38327719\n",
      " 2.59993875 2.81660031 3.03326187 3.24992343 3.466585   3.68324656\n",
      " 3.89990812 4.11656968 4.33323125 4.54989281 4.76655437 4.98321593\n",
      " 5.1998775  5.41653906 5.63320062 5.84986218 6.06652374 6.28318531] \n",
      "\n",
      "y=\n",
      " [ 0.00000000e+00  2.14970440e-01  4.19889102e-01  6.05174215e-01\n",
      "  7.62162055e-01  8.83512044e-01  9.63549993e-01  9.98533414e-01\n",
      "  9.86826523e-01  9.28976720e-01  8.27688998e-01  6.87699459e-01\n",
      "  5.15553857e-01  3.19301530e-01  1.08119018e-01 -1.08119018e-01\n",
      " -3.19301530e-01 -5.15553857e-01 -6.87699459e-01 -8.27688998e-01\n",
      " -9.28976720e-01 -9.86826523e-01 -9.98533414e-01 -9.63549993e-01\n",
      " -8.83512044e-01 -7.62162055e-01 -6.05174215e-01 -4.19889102e-01\n",
      " -2.14970440e-01 -2.44929360e-16] \n",
      "\n"
     ]
    },
    {
     "data": {
      "image/png": "[encoded data removed]",
      "text/plain": [
       "<Figure size 432x288 with 1 Axes>"
      ]
     },
     "metadata": {
      "needs_background": "light"
     },
     "output_type": "display_data"
    }
   ],
   "source": [
    "# Comente adecuadamente las siguientes líneas de código\n",
    "\n",
    "import numpy as np\n",
    "import matplotlib.pyplot as plt\n",
    "\n",
    "x=np.linspace(0,2*np.pi,30)\n",
    "y=np.sin(x)\n",
    "\n",
    "print(\"x=\\n\",x,\"\\n\")\n",
    "print(\"y=\\n\",y,\"\\n\")\n",
    "plt.plot(x,y)\n",
    "plt.show()"
   ]
  },
  {
   "cell_type": "markdown",
   "metadata": {},
   "source": [
    "**Ejercicio:**\n",
    "\n",
    "1. Investigue las funciones y atributos internos de matplotlib para hacer una matriz 3x1 que contengan:\n",
    "\n",
    "- Una función matemática.\n",
    "- Una foto.\n",
    "- Una esfera con puntos aleatorios en su frontera.\n",
    "\n",
    "2. Investigue sobre 5 funciones de Python que acepten al menos 3 parámetros.\n",
    "\n",
    "3. Use la librería ```pandas``` para hacer gráficos útiles sobre el ```Predio_206.csv```."
   ]
  },
  {
   "cell_type": "markdown",
   "metadata": {},
   "source": [
    "## <span style=\"color:#4361EE\">Creación de Funciones</span>\n"
   ]
  },
  {
   "cell_type": "markdown",
   "metadata": {},
   "source": [
    "También es posible crear funciones para generar rutinas específicas.\n",
    "\n",
    "Hay dos maneras de generar funciones en Python:\n",
    "\n",
    "1. **def**\n",
    "2. **lambda**\n",
    "\n",
    "**Ejemplo:**"
   ]
  },
  {
   "cell_type": "code",
   "execution_count": 22,
   "metadata": {},
   "outputs": [],
   "source": [
    "# Explicar las siguientes líneas de código\n",
    "def mysum_prod(x,y):\n",
    "    s=x+y\n",
    "    p=x*y\n",
    "    return s,p"
   ]
  },
  {
   "cell_type": "code",
   "execution_count": 23,
   "metadata": {},
   "outputs": [
    {
     "name": "stdout",
     "output_type": "stream",
     "text": [
      "El suma es: 7\n",
      "El producto es: 12\n"
     ]
    }
   ],
   "source": [
    "suma, prod = mysum_prod(3,4)\n",
    "print(\"El suma es:\", suma)\n",
    "print(\"El producto es:\", prod)"
   ]
  },
  {
   "cell_type": "markdown",
   "metadata": {},
   "source": [
    "Con este tipo de funciones es posible \"anotarlas\". Se pueden dar pequeñas pistas de qué tipo de datos queremos que entren a la función y los que salen. Esto es muy util para mejorar la lectura del código. \n",
    "\n",
    "Por supuesto, aún es posible usar tipos de datos diferentes a los que sugerimos. Esto es debido al principio pythonico\n",
    "\n",
    "Hagamos la anterior función más exacta"
   ]
  },
  {
   "cell_type": "code",
   "execution_count": 24,
   "metadata": {},
   "outputs": [
    {
     "data": {
      "text/plain": [
       "[5.2, 6.6000000000000005]"
      ]
     },
     "execution_count": 24,
     "metadata": {},
     "output_type": "execute_result"
    }
   ],
   "source": [
    "def mysum_prod(x: int, y: int) -> [int, int]:\n",
    "    s = x+y\n",
    "    p = y*x\n",
    "    return [s,p]\n",
    "\n",
    "mysum_prod(2.2, 3)"
   ]
  },
  {
   "cell_type": "code",
   "execution_count": 25,
   "metadata": {},
   "outputs": [
    {
     "name": "stdout",
     "output_type": "stream",
     "text": [
      "la suma es: 71\n"
     ]
    }
   ],
   "source": [
    "# Explique qué diferencias hay entre éste método y el anterior\n",
    "\n",
    "sumita = lambda arg1,arg2: arg1+arg2\n",
    "\n",
    "a=6\n",
    "b=65\n",
    "s = sumita(a,b)\n",
    "print(\"la suma es:\", s)"
   ]
  },
  {
   "cell_type": "markdown",
   "metadata": {},
   "source": [
    "## <span style=\"color:#4361EE\">¿Cuál es la diferencia y utilidad de la función lambda?</span>\n"
   ]
  },
  {
   "cell_type": "markdown",
   "metadata": {},
   "source": [
    "**Pista:**"
   ]
  },
  {
   "cell_type": "code",
   "execution_count": 64,
   "metadata": {},
   "outputs": [
    {
     "name": "stdout",
     "output_type": "stream",
     "text": [
      "22\n"
     ]
    }
   ],
   "source": [
    "# Explicar adecuadamente\n",
    "\n",
    "def myfunc(n):\n",
    "    return lambda a : a * n \n",
    "\n",
    "\n",
    "mydoubler = myfunc(2)\n",
    "#print(mydoubler)\n",
    "print(mydoubler(11))"
   ]
  },
  {
   "cell_type": "markdown",
   "metadata": {},
   "source": [
    "## <span style=\"color:#4361EE\">Programación Funcional</span>\n"
   ]
  },
  {
   "cell_type": "markdown",
   "metadata": {},
   "source": [
    "Esta sección es una adaptación de [geeksforgeeks](https://www.geeksforgeeks.org/functional-programming-in-python/#:~:text=Functional%20programming%20is%20a%20programming,is%20%E2%80%9Chow%20to%20solve%E2%80%9C.)."
   ]
  },
  {
   "cell_type": "markdown",
   "metadata": {},
   "source": [
    "### <span style=\"color:#4CC9F0\">Funciones Puras</span>\n"
   ]
  },
  {
   "cell_type": "markdown",
   "metadata": {},
   "source": [
    "Las funciones puras tienen dos propiedades.\n",
    "\n",
    "- Siempre produce la misma salida para los mismos argumentos. Por ejemplo, 3 + 7 siempre será 10 pase lo que pase.\n",
    "- No cambia ni modifica la variable de entrada.\n",
    "\n",
    "La segunda propiedad también se conoce como inmutabilidad. El único resultado de la función pura es el valor que devuelve. Son deterministas. Los programas realizados mediante programación funcional son fáciles de depurar porque las funciones puras no tienen efectos secundarios ni E / S ocultas. Las funciones puras también facilitan la escritura de aplicaciones paralelas / concurrentes. Cuando el código está escrito en este estilo, un compilador inteligente puede hacer muchas cosas: puede paralelizar las instrucciones, esperar a evaluar los resultados cuando los necesite y memorizar los resultados, ya que los resultados nunca cambian mientras la entrada no cambie.\n",
    "\n",
    "Revise el siguiente ejemplo. Recibe una lista de número y regresa una nueva lista con los valores elevado al cuadrado."
   ]
  },
  {
   "cell_type": "code",
   "execution_count": 1,
   "metadata": {},
   "outputs": [
    {
     "name": "stdout",
     "output_type": "stream",
     "text": [
      "Lista original: [1, 2, 3, 4]\n",
      "Lista modifciada: [1, 4, 9, 16]\n"
     ]
    }
   ],
   "source": [
    "# Ejemplo de una función pura\n",
    "\n",
    "# Una función pura que no\n",
    "# cambia la lista de entrada y\n",
    "# devuelve la nueva lista\n",
    "\n",
    "def pure_func(List):\n",
    "    New_List = []\n",
    "    for i in List:\n",
    "        New_List.append(i**2)\n",
    "    return New_List\n",
    "\n",
    "# La función en acción\n",
    "Original_List = [1, 2, 3, 4]\n",
    "Modified_List = pure_func(Original_List)\n",
    "\n",
    "print(\"Lista original:\", Original_List)\n",
    "print(\"Lista modifciada:\", Modified_List)\n"
   ]
  },
  {
   "cell_type": "markdown",
   "metadata": {},
   "source": [
    "### <span style=\"color:#4CC9F0\">Recursión</span>\n"
   ]
  },
  {
   "cell_type": "markdown",
   "metadata": {},
   "source": [
    "En la programación funcional, no existe el concepto de bucle for o bucle while, sino que se utiliza la recursividad. La recursividad es un proceso en el que una función se llama a sí misma directa o indirectamente. En el programa recursivo, se proporciona la solución al caso base y la solución al problema mayor se expresa en términos de problemas menores. Puede surgir una pregunta ¿cuál es el caso base? El caso base puede considerarse como una condición que le dice al compilador o intérprete que salga de la función.\n",
    "\n",
    "Ejemplo: consideremos un programa que encontrará la suma de todos los elementos de una lista sin usar ningún bucle for."
   ]
  },
  {
   "cell_type": "code",
   "execution_count": 6,
   "metadata": {},
   "outputs": [
    {
     "name": "stdout",
     "output_type": "stream",
     "text": [
      "15\n"
     ]
    }
   ],
   "source": [
    "# Ejemplo de recursión\n",
    "\n",
    "# Función recursiva para encontrar\n",
    "# suma de una lista\n",
    "\n",
    "def Sum(L, i, n, count):\n",
    "\n",
    "    # Caso base\n",
    "    if n <= i:\n",
    "        return count\n",
    "\n",
    "    count += L[i]\n",
    "\n",
    "    # Proceso recursivo\n",
    "    count = Sum(L, i + 1, n, count)\n",
    "\n",
    "    return count\n",
    "\n",
    "# Ejemplo de uso\n",
    "L = [1, 2, 3, 4, 5]\n",
    "count = 0\n",
    "n = len(L)\n",
    "print(Sum(L, 0, n, count))\n"
   ]
  },
  {
   "cell_type": "markdown",
   "metadata": {},
   "source": [
    "## <span style=\"color:#4361EE\">Las funciones son de primera clase y pueden ser de orden superior</span>\n"
   ]
  },
  {
   "cell_type": "markdown",
   "metadata": {},
   "source": [
    "### <span style=\"color:#4CC9F0\">Objetos de primera clase</span>\n"
   ]
  },
  {
   "cell_type": "markdown",
   "metadata": {},
   "source": [
    "Los objetos de primera clase se manejan uniformemente en todo momento. Pueden almacenarse en estructuras de datos, pasarse como argumentos o usarse en estructuras de control. Se dice que un lenguaje de programación admite funciones de primera clase si trata las funciones como objetos de primera clase."
   ]
  },
  {
   "cell_type": "markdown",
   "metadata": {},
   "source": [
    "### <span style=\"color:#4CC9F0\">Propiedades de las funciones de primera clase:</span>\n"
   ]
  },
  {
   "cell_type": "markdown",
   "metadata": {},
   "source": [
    "- Una función es una instancia del tipo de objeto.\n",
    "- Puede almacenar la función en una variable.\n",
    "- Puede pasar la función como parámetro a otra función.\n",
    "- Puede devolver la función desde una función.\n",
    "- Puede almacenarlos en estructuras de datos como tablas hash, listas,…\n",
    "\n",
    "Ejemplo:"
   ]
  },
  {
   "cell_type": "code",
   "execution_count": 7,
   "metadata": {},
   "outputs": [
    {
     "name": "stdout",
     "output_type": "stream",
     "text": [
      "HI, I AM CREATED BY A FUNCTION PASSED AS AN ARGUMENT.\n",
      "hi, i am created by a function passed as an argument.\n"
     ]
    }
   ],
   "source": [
    "# Programa Python program para ilustrar\n",
    "# funciones de orden mayor\n",
    "\n",
    "\n",
    "def shout(text):\n",
    "    return text.upper()\n",
    "\n",
    "def whisper(text):\n",
    "    return text.lower()\n",
    "\n",
    "def greet(func):\n",
    "    # almacena la función en una variable\n",
    "    greeting = func(\"Hola, soy creada por una función pasada como argumento.\")\n",
    "    print(greeting)\n",
    "\n",
    "greet(shout)\n",
    "greet(whisper)\n"
   ]
  },
  {
   "cell_type": "markdown",
   "metadata": {},
   "source": [
    "### <span style=\"color:#4CC9F0\">Funciones integradas de orden superior</span>\n"
   ]
  },
  {
   "cell_type": "markdown",
   "metadata": {},
   "source": [
    "Para facilitar mucho el procesamiento de objetos iterables como listas e iteradores, Python ha implementado algunas funciones de orden superior de uso común. Estas funciones devuelven un iterador que ahorra espacio. Algunas de las funciones integradas de orden superior son:\n",
    "\n",
    "* *map()*: la función *map()* devuelve una lista de los resultados después de aplicar la función dada a cada elemento de un iterable dado (lista, tupla, etc.)\n",
    "* *filter()*: El método *filter()* filtra la secuencia dada con la ayuda de una función que prueba que cada elemento de la secuencia sea verdadero o no.\n",
    "\n",
    "Veamos los siguientes dos ejemplos que ilustran *map()* y *filter()*."
   ]
  },
  {
   "cell_type": "code",
   "execution_count": 8,
   "metadata": {},
   "outputs": [
    {
     "name": "stdout",
     "output_type": "stream",
     "text": [
      "<map object at 0x7fb6c6ff0df0>\n",
      "2 4 6 8 "
     ]
    }
   ],
   "source": [
    "# Ejemplo del uso de map()\n",
    "\n",
    "# Retorna el doble de n\n",
    "def addition(n):\n",
    "    return n + n\n",
    "\n",
    "# doblamos todos los valores de una lista usando map\n",
    "numbers = (1, 2, 3, 4)\n",
    "results = map(addition, numbers)\n",
    "\n",
    "#  Print no imprime los resultados\n",
    "# porque se recibe un iterable\n",
    "print(results)\n",
    "\n",
    "# Asi recuperamos del iterable los valores e imprimimos\n",
    "for result in results:\n",
    "    print(result, end = \" \")\n"
   ]
  },
  {
   "cell_type": "code",
   "execution_count": 10,
   "metadata": {},
   "outputs": [
    {
     "name": "stdout",
     "output_type": "stream",
     "text": [
      "Las letras filtradas son:\n",
      "e\n",
      "e\n",
      "i\n"
     ]
    }
   ],
   "source": [
    "# Ejemplo de uso de filter()\n",
    "\n",
    "# función que filtra las vocales en una lista\n",
    "def fun(variable):\n",
    "\n",
    "    letters = ['a', 'e', 'i', 'o', 'u']\n",
    "\n",
    "    if (variable in letters):\n",
    "        return True\n",
    "    else:\n",
    "        return False\n",
    "\n",
    "\n",
    "# secuencia\n",
    "sequence = ['g', 'e', 'e', 'j', 'k', 's', 'i', 'r']\n",
    "\n",
    "# uso de la función filter\n",
    "filtered = filter(fun, sequence)\n",
    "\n",
    "print('Las letras filtradas son:')\n",
    "\n",
    "for s in filtered:\n",
    "    print(s)\n"
   ]
  }
 ],
 "metadata": {
  "colab": {
   "collapsed_sections": [
    "-MlSHN16Bg8-",
    "scclT03UHVrm",
    "qAqnr4i70sLy",
    "IUFSujLR2-Rl",
    "ivDxEY5J3EXW",
    "6YvlIG-G6o2Z",
    "Tjq46qsVQ1F9",
    "GPiu4RLJUzVj",
    "dTnOKPXFUzVs",
    "P8eMjQnDI1Eg",
    "i9HdDU49UzWK",
    "y012FyjJPR1O",
    "iDjs_eszUzW0",
    "IpXs0nQNOWpv",
    "2xb_O2GUUzXF"
   ],
   "name": "Intro_Python.ipynb",
   "provenance": []
  },
  "interpreter": {
   "hash": "f08154012ddadd8e950e6e9e035c7a7b32c136e7647e9b7c77e02eb723a8bedb"
  },
  "kernelspec": {
   "display_name": "Python 3.9.7 ('base')",
   "language": "python",
   "name": "python3"
  },
  "language_info": {
   "codemirror_mode": {
    "name": "ipython",
    "version": 3
   },
   "file_extension": ".py",
   "mimetype": "text/x-python",
   "name": "python",
   "nbconvert_exporter": "python",
   "pygments_lexer": "ipython3",
   "version": "3.9.7"
  },
  "toc": {
   "base_numbering": 1,
   "nav_menu": {},
   "number_sections": false,
   "sideBar": true,
   "skip_h1_title": false,
   "title_cell": "Table of Contents",
   "title_sidebar": "Contents",
   "toc_cell": false,
   "toc_position": {},
   "toc_section_display": true,
   "toc_window_display": false
  }
 },
 "nbformat": 4,
 "nbformat_minor": 4
}
