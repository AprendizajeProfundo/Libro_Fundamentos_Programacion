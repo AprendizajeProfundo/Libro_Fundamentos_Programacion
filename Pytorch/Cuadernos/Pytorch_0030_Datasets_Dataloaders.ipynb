{
 "cells": [
  {
   "cell_type": "markdown",
   "id": "771237b5",
   "metadata": {},
   "source": [
    "# <span style=\"color:#F72585\"><center>DataSets y DataLoaders</center></span>\n"
   ]
  },
  {
   "cell_type": "markdown",
   "id": "23a868cb",
   "metadata": {},
   "source": [
    "\n",
    "<figure>\n",
    "<center>\n",
    "<img src=\"https://raw.githubusercontent.com/AprendizajeProfundo/Alejandria/main/Pytorch/Imagenes/FashionMNIST.png\" width=\"800\" height=\"400\" align=\"center\" /> \n",
    "</center>   \n",
    "</figure>\n",
    "<center>\n",
    "\n",
    "Fuente: <a href=\"https://commons.wikimedia.org/wiki/File:FashionMNIST.png\">Yuzamei</a>, <a href=\"https://creativecommons.org/licenses/by-sa/4.0\">CC BY-SA 4.0</a>, via Wikimedia Commons\n",
    "\n",
    "</center>\n"
   ]
  },
  {
   "cell_type": "markdown",
   "id": "reduced-calibration",
   "metadata": {},
   "source": [
    "## <span style=\"color:#4361EE\">Introducción</span>"
   ]
  },
  {
   "cell_type": "markdown",
   "id": "precious-hands",
   "metadata": {},
   "source": [
    "El código para procesar muestras de datos puede resultar complicado y difícil de mantener; idealmente queremos que nuestro código de datasets se desacople de nuestro código de entrenamiento modelo para una mejor legibilidad y modularidad. PyTorch proporciona dos primitivas de datos: `torch.utils.data.DataLoader` y `torch.utils.data.Dataset` que le permiten utilizar conjuntos de datos precargados, así como sus propios datos. \n",
    "\n",
    "`Dataset` almacena las muestras y sus etiquetas correspondientes, y `DataLoader` envuelve un iterable alrededor del conjunto de datos para permitir un fácil acceso a las muestras."
   ]
  },
  {
   "cell_type": "markdown",
   "id": "scenic-spice",
   "metadata": {},
   "source": [
    "## <span style=\"color:#4361EE\">Carga de un Dataset</span>"
   ]
  },
  {
   "cell_type": "code",
   "execution_count": 8,
   "id": "sacred-albuquerque",
   "metadata": {},
   "outputs": [],
   "source": [
    "import torch\n",
    "from torch.utils.data import Dataset\n",
    "from torch.utils.data import DataLoader\n",
    "from torchvision import datasets\n",
    "from torchvision.transforms import ToTensor\n",
    "import matplotlib.pyplot as plt"
   ]
  },
  {
   "cell_type": "code",
   "execution_count": 9,
   "id": "funded-aurora",
   "metadata": {},
   "outputs": [],
   "source": [
    "training_data = datasets.FashionMNIST(\n",
    "    root=\"data\",\n",
    "    train=True,\n",
    "    download=True,\n",
    "    transform=ToTensor()\n",
    ")\n",
    "\n",
    "test_data = datasets.FashionMNIST(\n",
    "    root=\"data\",\n",
    "    train=False,\n",
    "    download=True,\n",
    "    transform=ToTensor()\n",
    ")"
   ]
  },
  {
   "cell_type": "markdown",
   "id": "promising-joshua",
   "metadata": {},
   "source": [
    "## <span style=\"color:#4361EE\">Iterando y visualizando el dataset</span>"
   ]
  },
  {
   "cell_type": "code",
   "execution_count": 10,
   "id": "joint-interest",
   "metadata": {},
   "outputs": [
    {
     "data": {
      "image/png": "[encoded data removed]",
      "text/plain": [
       "<Figure size 576x576 with 9 Axes>"
      ]
     },
     "metadata": {
      "needs_background": "light"
     },
     "output_type": "display_data"
    }
   ],
   "source": [
    "label_map = {\n",
    "    0: 'Tshirt',\n",
    "    1: \"Trouser\",\n",
    "    2: \"Pullover\",\n",
    "    3: \"Dress\",\n",
    "    4: \"Coat\",\n",
    "    5: \"Sandal\",\n",
    "    6: \"Shirt\",\n",
    "    7: \"Sneaker\",\n",
    "    8: \"Bag\",\n",
    "    9: \"Ankle Boot\",   \n",
    "}\n",
    "figure = plt.figure(figsize=(8,8))\n",
    "cols, rows = 3,3\n",
    "for i in range(1, cols*rows+1):\n",
    "    sample_idx = torch.randint(len(training_data), size =(1,)).item()\n",
    "    img, label = training_data[sample_idx]\n",
    "    figure.add_subplot(rows, cols, i)\n",
    "    plt.title(label_map[label])\n",
    "    plt.axis('off')\n",
    "    plt.imshow(img.squeeze(), cmap='gray')\n",
    "plt.show()"
   ]
  },
  {
   "cell_type": "code",
   "execution_count": 11,
   "id": "ae264d4d-c267-4717-8902-2542b0255068",
   "metadata": {},
   "outputs": [
    {
     "data": {
      "text/plain": [
       "torch.Size([1, 28, 28])"
      ]
     },
     "execution_count": 11,
     "metadata": {},
     "output_type": "execute_result"
    }
   ],
   "source": [
    "img.shape"
   ]
  },
  {
   "cell_type": "markdown",
   "id": "worthy-bundle",
   "metadata": {},
   "source": [
    "## <span style=\"color:#4361EE\">Creación de un conjunto de datos personalizado para sus archivos</span>"
   ]
  },
  {
   "cell_type": "raw",
   "id": "explicit-measure",
   "metadata": {},
   "source": [
    "Una clase de conjunto de datos personalizada debe implementar tres funciones: __init__, __len__ y __getitem__. "
   ]
  },
  {
   "cell_type": "markdown",
   "id": "honey-theory",
   "metadata": {},
   "source": [
    "En este ejemplo, las imágenes FashionMNIST se almacenan en un directorio img_dir, y sus etiquetas se almacenan por separado en un archivo CSV  `annotations_file`.\n"
   ]
  },
  {
   "cell_type": "code",
   "execution_count": 12,
   "id": "1d760839-54ac-4b3e-b7dd-e75c9dddf3e5",
   "metadata": {},
   "outputs": [],
   "source": [
    "import os\n",
    "import pandas as pd\n",
    "from torchvision.io import read_image"
   ]
  },
  {
   "cell_type": "code",
   "execution_count": 13,
   "id": "a1e627fc-4677-4d74-87d1-aeb84e77b296",
   "metadata": {},
   "outputs": [],
   "source": [
    "class CustomImageDataset(Dataset):\n",
    "    def __init__(self, annotation_file, img_dir, transform=None, target_transform=None):\n",
    "        self.img_labels = pd.read_csv(annotation_file)\n",
    "        self.img_dir = img_dir\n",
    "        self.transform = transform\n",
    "        self.target_transform = target_transform\n",
    "    \n",
    "    def __len__(self):\n",
    "        return len(self.img_labels)\n",
    "    \n",
    "    def __get_item__(self, idx):\n",
    "        img_path = os.path.join(self.img_dir, self.img_labels.iloc[idx, 0])\n",
    "        image = read_image(img_path)\n",
    "        label =  self.image_labels.iloc[idx, 1]\n",
    "        if self.transform:\n",
    "            image = self.transform(image)\n",
    "        if self.target_transform:\n",
    "            label = self.target_transform(label)\n",
    "        return image, label\n",
    "        "
   ]
  },
  {
   "cell_type": "markdown",
   "id": "noticed-adoption",
   "metadata": {},
   "source": [
    "Las etiquetas (labels) del archivo en el ejemplo *labels.csv*  lucen como"
   ]
  },
  {
   "cell_type": "raw",
   "id": "superb-accountability",
   "metadata": {},
   "source": [
    "tshirt1.jpg, 0\n",
    "tshirt2.jpg, 0\n",
    "......\n",
    "ankleboot999.jpg, 9"
   ]
  },
  {
   "cell_type": "markdown",
   "id": "90db1485-793c-46d7-83ad-798f32e2f0a4",
   "metadata": {},
   "source": [
    "### Leemos los datos desde una archivo comprimido"
   ]
  },
  {
   "cell_type": "markdown",
   "id": "cef29a4c-02d2-4504-9c29-3346bb7e1ed6",
   "metadata": {},
   "source": [
    "Los datos fueron bajados desde la fuente usando wget. Por favor revise los detalles. Para Windows revise [aquí](http://gnuwin32.sourceforge.net/packages/wget.htm)"
   ]
  },
  {
   "cell_type": "code",
   "execution_count": null,
   "id": "431cabe1-08d0-438e-9040-cbe74bb9f2df",
   "metadata": {},
   "outputs": [],
   "source": [
    "!wget http://yann.lecun.com/exdb/mnist/train-images-idx3-ubyte.gz\n",
    "!wget http://yann.lecun.com/exdb/mnist/train-labels-idx1-ubyte.gz\n",
    "!wget http://yann.lecun.com/exdb/mnist/t10k-images-idx3-ubyte.gz\n",
    "!wget http://yann.lecun.com/exdb/mnist/t10k-labels-idx1-ubyte.gz"
   ]
  },
  {
   "cell_type": "markdown",
   "id": "8da40285-f6c2-4480-8dd4-7ed4f79704d5",
   "metadata": {},
   "source": [
    "### Imágenes de entrenamiento"
   ]
  },
  {
   "cell_type": "code",
   "execution_count": 3,
   "id": "033e9316-f267-4a93-8c57-416c99328c4c",
   "metadata": {},
   "outputs": [
    {
     "name": "stdout",
     "output_type": "stream",
     "text": [
      "(60000, 28, 28, 1)\n"
     ]
    }
   ],
   "source": [
    "import gzip\n",
    "f = gzip.open('./data/FashionMNIST/raw/train-images-idx3-ubyte.gz','r')\n",
    "\n",
    "image_size = 28\n",
    "num_images = 60000\n",
    "\n",
    "import numpy as np\n",
    "f.read(16) # omite los primeros 16 bytes\n",
    "buf = f.read(image_size * image_size * num_images)\n",
    "data_train = np.frombuffer(buf, dtype=np.uint8).astype(np.float32)\n",
    "data_train = data_train.reshape(num_images, image_size, image_size, 1)\n",
    "print(data_train.shape)"
   ]
  },
  {
   "cell_type": "markdown",
   "id": "82877ec7-f9bd-48f5-930d-cf62f91dd1cd",
   "metadata": {},
   "source": [
    "### Etiquetas de entrenamiento"
   ]
  },
  {
   "cell_type": "code",
   "execution_count": 15,
   "id": "df3757e6-22dd-44e9-8c9d-2048ce176842",
   "metadata": {},
   "outputs": [
    {
     "name": "stdout",
     "output_type": "stream",
     "text": [
      "(60000,)\n",
      "[9 0 0 3 0 2 7 2 5 5 0 9 5 5 7 9 1 0 6 4]\n"
     ]
    }
   ],
   "source": [
    "import gzip\n",
    "f = gzip.open('./data/FashionMNIST/raw/train-labels-idx1-ubyte.gz','r')\n",
    "\n",
    "num_labels = 60000\n",
    "\n",
    "import numpy as np\n",
    "f.read(8) # omite los primeros 8 bytes\n",
    "buf = f.read(num_labels)\n",
    "label_train = np.frombuffer(buf, dtype=np.uint8).astype(np.int64)\n",
    "print(label_train.shape)\n",
    "print(label_train[:20])"
   ]
  },
  {
   "cell_type": "markdown",
   "id": "74611669-e4c4-4afb-9946-47aebc6d8baf",
   "metadata": {},
   "source": [
    "### Imágenes de test"
   ]
  },
  {
   "cell_type": "code",
   "execution_count": 16,
   "id": "1de777c8-1e86-4b26-838b-09e99abb7e81",
   "metadata": {},
   "outputs": [
    {
     "name": "stdout",
     "output_type": "stream",
     "text": [
      "(10000, 28, 28, 1)\n"
     ]
    }
   ],
   "source": [
    "import gzip\n",
    "f = gzip.open('./data/FashionMNIST/raw/t10k-images-idx3-ubyte.gz','r')\n",
    "\n",
    "image_size = 28\n",
    "num_images = 10000\n",
    "\n",
    "import numpy as np\n",
    "f.read(16) # omite los primeros 16 bytes\n",
    "buf = f.read(image_size * image_size * num_images)\n",
    "data_test = np.frombuffer(buf, dtype=np.uint8).astype(np.float32)\n",
    "data_test = data_test.reshape(num_images, image_size, image_size, 1)\n",
    "print(data_test.shape)"
   ]
  },
  {
   "cell_type": "markdown",
   "id": "51721f57-9a69-4cb9-9757-5d6b0a52738e",
   "metadata": {},
   "source": [
    "### Etiquetas de test"
   ]
  },
  {
   "cell_type": "code",
   "execution_count": 17,
   "id": "884a008d-985c-4e0e-9363-15274bb7b114",
   "metadata": {},
   "outputs": [
    {
     "name": "stdout",
     "output_type": "stream",
     "text": [
      "(10000,)\n",
      "[9 2 1 1 6 1 4 6 5 7 4 5 7 3 4 1 2 4 8 0]\n"
     ]
    }
   ],
   "source": [
    "import gzip\n",
    "f = gzip.open('./data/FashionMNIST/raw/t10k-labels-idx1-ubyte.gz','r')\n",
    "\n",
    "num_labels = 10000\n",
    "\n",
    "import numpy as np\n",
    "f.read(8) # omite los primeros 8 bytes\n",
    "buf = f.read(num_labels)\n",
    "label_test = np.frombuffer(buf, dtype=np.uint8).astype(np.int64)\n",
    "print(label_test.shape)\n",
    "print(label_test[:20])"
   ]
  },
  {
   "cell_type": "markdown",
   "id": "48c14fdf-0364-4bce-b857-3866f8f59dff",
   "metadata": {},
   "source": [
    "### Crea datasets para estos datos"
   ]
  },
  {
   "cell_type": "code",
   "execution_count": 18,
   "id": "62554d6c-0e03-4aa6-8f5c-9eb1f56112cb",
   "metadata": {},
   "outputs": [],
   "source": [
    "class ImageDataset(Dataset):\n",
    "    def __init__(self, labels, images, transform=None, target_transform=None):\n",
    "        self.labels = labels\n",
    "        self.images = images\n",
    "        self.transform = transform\n",
    "        self.target_transform = target_transform\n",
    "    \n",
    "    def __len__(self):\n",
    "        return len(self.labels)\n",
    "    \n",
    "    def __getitem__(self, idx):\n",
    "        image = self.images[idx]\n",
    "        label =  self.labels[idx]\n",
    "        if self.transform:\n",
    "            image = self.transform(image)\n",
    "        if self.target_transform:\n",
    "            label = self.target_transform(label)\n",
    "        return image, label\n",
    "        "
   ]
  },
  {
   "cell_type": "code",
   "execution_count": 19,
   "id": "bc9215ac-3740-4272-b3ac-97e32ce74776",
   "metadata": {},
   "outputs": [],
   "source": [
    "train_dataset = ImageDataset(label_train, data_train)\n",
    "test_dataset = ImageDataset(label_test, data_test)"
   ]
  },
  {
   "cell_type": "markdown",
   "id": "removed-program",
   "metadata": {},
   "source": [
    "## <span style=\"color:blue\">Preparando sus datos para entrenamiento con DataLoaders</span>"
   ]
  },
  {
   "cell_type": "code",
   "execution_count": 20,
   "id": "present-replacement",
   "metadata": {},
   "outputs": [],
   "source": [
    "from torch.utils.data import DataLoader\n",
    "\n",
    "train_dataloader = DataLoader(train_dataset, batch_size=64, shuffle=True)\n",
    "test_dataloader = DataLoader(test_dataset, batch_size=64, shuffle=True)\n"
   ]
  },
  {
   "cell_type": "code",
   "execution_count": 21,
   "id": "a4729075-78b5-44de-8d31-3e0c8c5fb7a9",
   "metadata": {},
   "outputs": [
    {
     "data": {
      "text/plain": [
       "<torch.utils.data.dataloader.DataLoader at 0x15a9eb3cc10>"
      ]
     },
     "execution_count": 21,
     "metadata": {},
     "output_type": "execute_result"
    }
   ],
   "source": [
    "test_dataloader"
   ]
  },
  {
   "cell_type": "markdown",
   "id": "published-employee",
   "metadata": {},
   "source": [
    "### Iterando a lo largo del DataLoader"
   ]
  },
  {
   "cell_type": "markdown",
   "id": "according-payroll",
   "metadata": {},
   "source": [
    "Cada iteración retorna un batch (`batch_size=64`) de datos (`train_features` y `train_labels`). Dado que *shuffel=True* en el ejemplo, todos los lotes de datos se mezclan. Un control mpas fino para establecer el orden se obtiene usando `Samplers`."
   ]
  },
  {
   "cell_type": "code",
   "execution_count": 22,
   "id": "great-elite",
   "metadata": {},
   "outputs": [
    {
     "name": "stdout",
     "output_type": "stream",
     "text": [
      "Feature batch shape: torch.Size([64, 28, 28, 1])\n",
      "Labels batch shape: torch.Size([64])\n"
     ]
    },
    {
     "data": {
      "image/png": "[encoded data removed]",
      "text/plain": [
       "<Figure size 432x288 with 1 Axes>"
      ]
     },
     "metadata": {
      "needs_background": "light"
     },
     "output_type": "display_data"
    },
    {
     "name": "stdout",
     "output_type": "stream",
     "text": [
      "Label: 2\n"
     ]
    }
   ],
   "source": [
    "# Despliega imagen y etiqueta\n",
    "train_features, train_labels = next(iter(train_dataloader))\n",
    "print(f'Feature batch shape: {train_features.size()}')\n",
    "print(f'Labels batch shape: {train_labels.size()}')\n",
    "img = train_features[0].squeeze()# primer elemento del batch \n",
    "# squeeze elimina ejes de tamaño 1.\n",
    "label = train_labels[0]\n",
    "plt.imshow(img, cmap='gray')\n",
    "plt.show()\n",
    "print(f'Label: {label}')"
   ]
  },
  {
   "cell_type": "markdown",
   "id": "257f4d84",
   "metadata": {},
   "source": [
    "## <span style=\"color:blue\">Referencias</span> \n"
   ]
  },
  {
   "cell_type": "markdown",
   "id": "aa305467-61a7-4d5e-8fdd-6059b155310a",
   "metadata": {},
   "source": [
    "1. Basado en los [tutoriales de Pytorch](https://pytorch.org/tutorials/)\n",
    "1. [Deep learning for coders with FastAI and Pytorch](http://library.lol/main/F13E85845AE48D9FD7488FE7630A9FD3)"
   ]
  }
 ],
 "metadata": {
  "kernelspec": {
   "display_name": "Python 3",
   "language": "python",
   "name": "python3"
  },
  "language_info": {
   "codemirror_mode": {
    "name": "ipython",
    "version": 3
   },
   "file_extension": ".py",
   "mimetype": "text/x-python",
   "name": "python",
   "nbconvert_exporter": "python",
   "pygments_lexer": "ipython3",
   "version": "3.9.5"
  },
  "vscode": {
   "interpreter": {
    "hash": "f08154012ddadd8e950e6e9e035c7a7b32c136e7647e9b7c77e02eb723a8bedb"
   }
  }
 },
 "nbformat": 4,
 "nbformat_minor": 5
}
