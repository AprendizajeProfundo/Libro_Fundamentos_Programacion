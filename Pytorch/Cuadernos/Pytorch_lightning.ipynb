{
 "cells": [
  {
   "cell_type": "markdown",
   "id": "98b851f7-c675-4a2a-8932-59bf23db8edb",
   "metadata": {},
   "source": [
    "# <span style=\"color:#F72585\">Pytorch-lightning</span>"
   ]
  },
  {
   "cell_type": "markdown",
   "id": "dacf25ed-8d82-41b0-8a83-480750b0b427",
   "metadata": {},
   "source": [
    "<figure>\n",
    "<img src=\"https://raw.githubusercontent.com/AprendizajeProfundo/Libro_Fundamentos_Programacion/main/Pytorch/Imagenes/Pytorch_ligthning_logo.png\" width=\"200\" align=\"left\" />   \n",
    "</figure>"
   ]
  },
  {
   "cell_type": "markdown",
   "id": "ab698e08-33bf-45c2-8b16-306084b6bf78",
   "metadata": {
    "tags": []
   },
   "source": [
    "## <span style=\"color:blue\">Introducción</span> "
   ]
  },
  {
   "cell_type": "markdown",
   "id": "c5afaa39-c04c-4c8d-acfd-6c8de659d7ab",
   "metadata": {},
   "source": [
    "Tomado de [Wikipedia](https://en.wikipedia.org/wiki/PyTorch_Lightning)\n",
    "\n",
    "PyTorch Lightning es una biblioteca Python de código abierto que proporciona una interfaz de alto nivel para PyTorch , un marco de aprendizaje profundo popular. Es un marco liviano y de alto rendimiento que organiza el código PyTorch para desvincular la investigación de la ingeniería, lo que hace que los experimentos de aprendizaje profundo sean más fáciles de leer y reproducir. Está diseñada para crear modelos de aprendizaje profundo escalables que pueden ejecutarse fácilmente en hardware distribuido y mantener los modelos independientes del hardware.\n",
    "\n",
    "En 2019, Lightning fue adoptado por NeurIPS Reproducibility Challenge como estándar para enviar el código PyTorch a la conferencia."
   ]
  },
  {
   "cell_type": "markdown",
   "id": "75e37e37-4c2f-4c66-8712-884061bb7225",
   "metadata": {},
   "source": [
    "## <span style=\"color:blue\">Entrenamiento de un modelo con Pythorch-lightning</span> "
   ]
  },
  {
   "cell_type": "markdown",
   "id": "363a0b2a-2680-47b4-951a-70a2bb5f92ec",
   "metadata": {},
   "source": [
    "La siguiente imagen representa los diferentes objetos requeridos para entrenar un modelo supervisado de redes neuronales. En general cada uno de estos objetos está presente en cualquier marco de trabajo (framework) para el entrenamiento de una red neuronal. Estos componentes son:"
   ]
  },
  {
   "cell_type": "markdown",
   "id": "e1fc6431-db8b-4b25-b942-19fd56635b87",
   "metadata": {},
   "source": [
    "<figure>\n",
    "<img src=\"https://raw.githubusercontent.com/AprendizajeProfundo/Libro_Fundamentos_Programacion/main/Pytorch/Imagenes/trainer.png\" width=\"800\" heigh=\"600\" valign=\"left\" />   \n",
    "</figure>\n",
    "\n",
    "Fuente: Alvaro Montenegro"
   ]
  },
  {
   "cell_type": "markdown",
   "id": "31bb64d1-5973-4aa4-a85c-b8009e510668",
   "metadata": {},
   "source": [
    "### <span style=\"color:#4CC9F0\">Datos: entrenamiento, validación, prueba</span>"
   ]
  },
  {
   "cell_type": "markdown",
   "id": "a1a008fd-cb72-409f-88cb-a6bb67882520",
   "metadata": {},
   "source": [
    "Para entrenar un modelo supérvisado necesitamos datos. Por lo gneral los datos se separan en dos o tres grupos que llamamos:\n",
    "\n",
    "* `datos de entrenamiento`. Usualmente 70% u 80% del toptal de datos, elegido al azar y que son los datos que verá el optimizador en el proceso de entrenamiento; \n",
    "* `datos de validación`. Usualmente 10% 0 20%. Son datos usadps durante el prceso de entranamiento para validacion en linea del modelo mientras es entrenado. Usualmente se usan con la función de pérdida y con la métricas definidas en cada caso;\n",
    "* `datos de prueba`. Son datos externos al entrenamiento. Usualmente 10% del total de dato y se usan un vez ha terminado del entrenamiento para evaluar si el modelo generaliza adecuadamente, es decir si tiene el poder prodictivo que se espera. "
   ]
  },
  {
   "cell_type": "markdown",
   "id": "0397c16f-1d17-4ca5-9f42-efcfc39ac2b1",
   "metadata": {},
   "source": [
    "### <span style=\"color:#4CC9F0\">Modelo: la red neuronal</span>"
   ]
  },
  {
   "cell_type": "markdown",
   "id": "4711b2fb-c849-4ee5-bb0f-8ddcedff37c5",
   "metadata": {},
   "source": [
    "Es la red neuronal que se ha diseñado para resolver el problema que se tiene entre manos. Usualmente cosnstruimos una clase en la cual de defines los componentes que tendrá la red y que serás conjuntos de capas separadas de manera lógica. En Pytorch el modelo se implementa con el método `foreward`. En este método se determina exáctamente como funciona la red neuronal. Es el método de cálculo de la red neuronal. "
   ]
  },
  {
   "cell_type": "markdown",
   "id": "1743b950-e042-4563-bac9-43a62ef4741a",
   "metadata": {},
   "source": [
    "### <span style=\"color:#4CC9F0\">Entrenador: pérdida optimizador, métricas</span>"
   ]
  },
  {
   "cell_type": "markdown",
   "id": "c7e02722-77f6-4e09-b09d-a25fe9254c74",
   "metadata": {},
   "source": [
    "Es el objeto que se encarga de hacer el entrenamiento de la red. El entrenador (trainer) usualmente tiene dos componentes escenciales:\n",
    "\n",
    "* `paso de optimización` en el cual se define lo que se debe hace en cada paso del proceso de optimización;\n",
    "* `ciclo de entrenamiento` que define como ocurrirá tos el entrenamiento: `número de épocas`,  `número de pasos de optimización por época`, `criterios de parada`,  lo que escribirá en el flufo de datos para seguimiento y evaluación (`writer`), y otras cosas."
   ]
  },
  {
   "cell_type": "markdown",
   "id": "15e123bb-41ee-4527-a013-75054a458530",
   "metadata": {},
   "source": [
    "## <span style=\"color:blue\">Instalar Pytorch-lightning</span> "
   ]
  },
  {
   "cell_type": "markdown",
   "id": "88284dee-f27d-44d2-b1c4-8fecab39250d",
   "metadata": {},
   "source": [
    "En consola ejecute el siguiente comando. "
   ]
  },
  {
   "cell_type": "code",
   "execution_count": null,
   "id": "c749ebbe-93c1-4f06-8623-29b7ee9bd00c",
   "metadata": {
    "tags": []
   },
   "outputs": [],
   "source": [
    "#conda install -c conda-forge pytorch-lightning"
   ]
  },
  {
   "cell_type": "markdown",
   "id": "2ca3b9ad-e253-4a2f-97bf-c91b15a230fa",
   "metadata": {},
   "source": [
    "## <span style=\"color:blue\">Ejemplo de un módulo Lightning</span> "
   ]
  },
  {
   "cell_type": "markdown",
   "id": "917ae178-4dcf-4dd4-897f-4ff332a380b8",
   "metadata": {},
   "source": [
    "Como ejemplo vamos a implementar nuevamente el auto-encoder para los datos de MNIST, usando Lightning."
   ]
  },
  {
   "cell_type": "markdown",
   "id": "8efb1368-831a-470d-b5a9-727baf7e0252",
   "metadata": {},
   "source": [
    "### <span style=\"color:#4CC9F0\">Importa módulos</span>"
   ]
  },
  {
   "cell_type": "code",
   "execution_count": 3,
   "id": "9adee6fd-279a-4408-acfd-1d7af590f848",
   "metadata": {
    "tags": []
   },
   "outputs": [],
   "source": [
    "import torch\n",
    "import pytorch_lightning as pl\n",
    "from torch.nn import functional as F\n",
    "from torch.utils.data import DataLoader, random_split\n",
    "\n",
    "from torchvision.datasets.mnist import MNIST\n",
    "from torchvision import transforms"
   ]
  },
  {
   "cell_type": "markdown",
   "id": "12ef608b-d54d-4067-a813-af955f404d1d",
   "metadata": {},
   "source": [
    "### <span style=\"color:#4CC9F0\">Clase Backbone: Nuestro modelo neuronal</span>"
   ]
  },
  {
   "cell_type": "markdown",
   "id": "9c9bd477-d30d-4d08-8941-3f15f2fbbee0",
   "metadata": {},
   "source": [
    "Definimos nuestra red neuronal con la clase *Backbone* que deriva de  la clase `torch.nn.Module`. Al hacer esto, se gana toda la implementacion disponible en la clase Definimos nuestra red neuronal con la clase *Backbone* que deriva de  la clase *torch.nn.Module*."
   ]
  },
  {
   "cell_type": "code",
   "execution_count": 3,
   "id": "2fb0ce4e-dae8-44b4-81a7-293f64f236d5",
   "metadata": {
    "tags": []
   },
   "outputs": [],
   "source": [
    "# modelo\n",
    "\n",
    "class Backbone(torch.nn.Module):\n",
    "    def __init__(self, hidden_dim=128):\n",
    "        super().__init__()\n",
    "        self.l1 = torch.nn.Linear(28 * 28, hidden_dim)\n",
    "        self.l2 = torch.nn.Linear(hidden_dim, 10)\n",
    "\n",
    "    def forward(self, x):\n",
    "        x = x.view(x.size(0), -1)\n",
    "        x = torch.relu(self.l1(x))\n",
    "        x = torch.relu(self.l2(x))\n",
    "        return x"
   ]
  },
  {
   "cell_type": "markdown",
   "id": "ae73bb1c-750c-4682-a181-c2b80c340285",
   "metadata": {},
   "source": [
    "### <span style=\"color:#4CC9F0\">Clase  LitClassifier Nuestra clase Lightning</span>"
   ]
  },
  {
   "cell_type": "markdown",
   "id": "ba746771-5f8a-442b-8845-136d946c0b56",
   "metadata": {},
   "source": [
    "Esta clase heredada de `pl.LightningModule`  nos permite implementar los métodos que usará el entrenador para entrenr nuestra red. Es necesario especificar:\n",
    "\n",
    "* el método de cálculo d ela red (`forward`). En realidad podemos definir la red dentro de esta clase, pero para desacoplar la rede y hacerlo esta clase más genérica, mejor definimos el modleo por fuera. de esta clase pytorch-lightning;\n",
    "* el paso de entrenamiento, en el cual adicionalmente escribimos en el log para Tensorboard;\n",
    "* el paso de validación, que tambien escribe el en log para Tensorboard;\n",
    "* el paso de prueba, que tambien escribe el en log para Tensorboard; \n",
    "* Se configura el optimizador"
   ]
  },
  {
   "cell_type": "code",
   "execution_count": 3,
   "id": "8142e839-5c82-431d-9bdc-252a928ba128",
   "metadata": {
    "tags": []
   },
   "outputs": [],
   "source": [
    "class LitClassifier(pl.LightningModule):\n",
    "    def __init__(self, backbone, learning_rate=1e-3):\n",
    "        super().__init__()\n",
    "        \n",
    "        # modelo\n",
    "        self.backbone = backbone\n",
    "        # métricas\n",
    "        self.accuracy = torchmetrics.Accuracy()\n",
    "\n",
    "    def forward(self, x):\n",
    "        # use forward para inferencia/predicciones\n",
    "        embedding = self.backbone(x)\n",
    "        return embedding\n",
    "\n",
    "    def training_step(self, batch, batch_idx):\n",
    "        x, y = batch\n",
    "        y_hat = self.backbone(x)\n",
    "        loss = F.cross_entropy(y_hat, y)\n",
    "        self.log('train_loss', loss, on_epoch=True)\n",
    "        return loss\n",
    "\n",
    "    def validation_step(self, batch, batch_idx):\n",
    "        x, y = batch\n",
    "        y_hat = self.backbone(x)\n",
    "        loss = F.cross_entropy(y_hat, y)\n",
    "        self.log('valid_loss', loss, on_step=True)\n",
    "\n",
    "    def test_step(self, batch, batch_idx):\n",
    "        x, y = batch\n",
    "        y_hat = self.backbone(x)\n",
    "        loss = F.cross_entropy(y_hat, y)\n",
    "        self.log('test_loss', loss)\n",
    "\n",
    "    def training_epoch_end(self, outs):\n",
    "        # log epoch metric\n",
    "        self.log('train_acc_epoch', self.accuracy)\n",
    "    \n",
    "    def configure_optimizers(self):\n",
    "        # self.hparams está disponible porque nosotros llamamos self.save_hyperparameters()\n",
    "        return torch.optim.Adam(self.parameters(), lr=1.0e-3)\n",
    "\n",
    " "
   ]
  },
  {
   "cell_type": "markdown",
   "id": "228b6998-7c52-43dd-af70-f66b08bb48ca",
   "metadata": {
    "tags": []
   },
   "source": [
    "### <span style=\"color:#4CC9F0\">Entrenador</span>"
   ]
  },
  {
   "cell_type": "markdown",
   "id": "b8d40a3c-604e-4366-b35c-6799fecea98a",
   "metadata": {
    "tags": []
   },
   "source": [
    "Instancia un entrenador"
   ]
  },
  {
   "cell_type": "code",
   "execution_count": null,
   "id": "e991d548-81dc-4830-8416-bfa991877e22",
   "metadata": {},
   "outputs": [],
   "source": [
    "#trainer = pl.Trainer(gpus=4, precisión=16, limit_train_batches=0.5)\n",
    "trainer = pl.Trainer(accelerator='cpu', max_epochs= 10)"
   ]
  },
  {
   "cell_type": "markdown",
   "id": "40428aaf-6978-4dd5-9ed0-8328234ae5e9",
   "metadata": {},
   "source": [
    "### <span style=\"color:#4CC9F0\">Datos</span>"
   ]
  },
  {
   "cell_type": "code",
   "execution_count": 3,
   "id": "313a10d6-e2e5-4a88-9a5d-63b7856d70c1",
   "metadata": {
    "tags": []
   },
   "outputs": [],
   "source": [
    "dataset = MNIST('', train=True, download=True, transform=transforms.ToTensor())\n",
    "mnist_test = MNIST('', train=False, download=True, transform=transforms.ToTensor())\n",
    "mnist_train, mnist_val = random_split(dataset, [55000, 5000])\n",
    "\n",
    "train_loader = DataLoader(mnist_train, batch_size=args.batch_size)\n",
    "val_loader = DataLoader(mnist_val, batch_size=args.batch_size)\n",
    "test_loader = DataLoader(mnist_test, batch_size=args.batch_size)"
   ]
  },
  {
   "cell_type": "markdown",
   "id": "4733291c-3508-43f9-b71b-90fa8279e287",
   "metadata": {
    "tags": []
   },
   "source": [
    "### <span style=\"color:#4CC9F0\">Entrenamiento</span>"
   ]
  },
  {
   "cell_type": "code",
   "execution_count": 3,
   "id": "d93a64ab-5597-4367-90f8-44a755d8ecb6",
   "metadata": {
    "tags": []
   },
   "outputs": [],
   "source": [
    "hidden_dim = 128\n",
    "model = LitClassifier(Backbone(hidden_dim=hidden_dim))\n",
    "trainer.fit(model, train_loader, val_loader)"
   ]
  },
  {
   "cell_type": "markdown",
   "id": "5e3408f8-754d-43f4-881e-bd3a1e3f7265",
   "metadata": {
    "tags": []
   },
   "source": [
    "### <span style=\"color:#4CC9F0\">Prueba</span>"
   ]
  },
  {
   "cell_type": "code",
   "execution_count": 3,
   "id": "bf20a332-ed3e-471a-a7be-6185492f60fe",
   "metadata": {
    "tags": []
   },
   "outputs": [],
   "source": [
    "result = trainer.test(test_dataloaders=test_loader)\n",
    "print(result)"
   ]
  }
 ],
 "metadata": {
  "kernelspec": {
   "display_name": "Python 3",
   "language": "python",
   "name": "python3"
  },
  "language_info": {
   "codemirror_mode": {
    "name": "ipython",
    "version": 3
   },
   "file_extension": ".py",
   "mimetype": "text/x-python",
   "name": "python",
   "nbconvert_exporter": "python",
   "pygments_lexer": "ipython3",
   "version": "3.9.5"
  }
 },
 "nbformat": 4,
 "nbformat_minor": 5
}
