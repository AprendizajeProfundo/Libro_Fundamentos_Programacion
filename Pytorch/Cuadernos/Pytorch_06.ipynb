{
 "cells": [
  {
   "cell_type": "markdown",
   "id": "d5372633",
   "metadata": {},
   "source": [
    "# <span style=\"color:#F72585\">Optimización con torch</span>\n"
   ]
  },
  {
   "cell_type": "markdown",
   "id": "adequate-tuesday",
   "metadata": {},
   "source": [
    "## <span style=\"color:#4361EE\">Introducción</span>"
   ]
  },
  {
   "cell_type": "markdown",
   "id": "coral-latvia",
   "metadata": {},
   "source": [
    "Ahora que tenemos un modelo y datos, es hora de entrenar, validar y probar nuestro modelo optimizando sus parámetros en nuestros datos. \n",
    "\n",
    "Entrenar un modelo es un proceso iterativo; en cada iteración (llamada época) el modelo hace una suposición sobre la salida, calcula el error en su suposición (pérdida), recopila las derivadas del error con respecto a sus parámetros (como vimos en la sección anterior) y optimiza estos parámetros usando el descenso de gradiente."
   ]
  },
  {
   "cell_type": "markdown",
   "id": "universal-continent",
   "metadata": {},
   "source": [
    "## <span style=\"color:#4361EE\">Implementación completa</span>"
   ]
  },
  {
   "cell_type": "code",
   "execution_count": 7,
   "id": "changed-luther",
   "metadata": {
    "tags": []
   },
   "outputs": [
    {
     "name": "stdout",
     "output_type": "stream",
     "text": [
      "Epoch 1\n",
      " -------------------------\n",
      "loss: 2.305429 [    0/60000]\n",
      "loss: 2.303908 [ 6400/60000]\n",
      "loss: 2.300803 [12800/60000]\n",
      "loss: 2.296808 [19200/60000]\n",
      "loss: 2.298529 [25600/60000]\n",
      "loss: 2.289145 [32000/60000]\n",
      "loss: 2.283352 [38400/60000]\n",
      "loss: 2.281261 [44800/60000]\n",
      "loss: 2.288461 [51200/60000]\n",
      "loss: 2.278966 [57600/60000]\n",
      "Test Error: \n",
      " Accuracy: 28.2%, Avg loss: 2.269166 \n",
      "\n",
      "Epoch 2\n",
      " -------------------------\n",
      "loss: 2.282544 [    0/60000]\n",
      "loss: 2.280299 [ 6400/60000]\n",
      "loss: 2.252230 [12800/60000]\n",
      "loss: 2.242313 [19200/60000]\n",
      "loss: 2.263425 [25600/60000]\n",
      "loss: 2.245561 [32000/60000]\n",
      "loss: 2.236371 [38400/60000]\n",
      "loss: 2.221991 [44800/60000]\n",
      "loss: 2.227698 [51200/60000]\n",
      "loss: 2.239628 [57600/60000]\n",
      "Test Error: \n",
      " Accuracy: 29.2%, Avg loss: 2.204753 \n",
      "\n",
      "Epoch 3\n",
      " -------------------------\n",
      "loss: 2.223277 [    0/60000]\n",
      "loss: 2.226054 [ 6400/60000]\n",
      "loss: 2.164122 [12800/60000]\n",
      "loss: 2.155463 [19200/60000]\n",
      "loss: 2.211769 [25600/60000]\n",
      "loss: 2.180077 [32000/60000]\n",
      "loss: 2.165720 [38400/60000]\n",
      "loss: 2.137241 [44800/60000]\n",
      "loss: 2.144243 [51200/60000]\n",
      "loss: 2.179516 [57600/60000]\n",
      "Test Error: \n",
      " Accuracy: 29.9%, Avg loss: 2.114421 \n",
      "\n",
      "Epoch 4\n",
      " -------------------------\n",
      "loss: 2.147409 [    0/60000]\n",
      "loss: 2.154488 [ 6400/60000]\n",
      "loss: 2.046037 [12800/60000]\n",
      "loss: 2.036901 [19200/60000]\n",
      "loss: 2.153057 [25600/60000]\n",
      "loss: 2.094704 [32000/60000]\n",
      "loss: 2.078169 [38400/60000]\n",
      "loss: 2.039043 [44800/60000]\n",
      "loss: 2.053234 [51200/60000]\n",
      "loss: 2.109173 [57600/60000]\n",
      "Test Error: \n",
      " Accuracy: 32.0%, Avg loss: 2.015881 \n",
      "\n",
      "Epoch 5\n",
      " -------------------------\n",
      "loss: 2.059551 [    0/60000]\n"
     ]
    }
   ],
   "source": [
    "import torch\n",
    "from torch import nn\n",
    "from torch.utils.data import DataLoader\n",
    "from torchvision import datasets\n",
    "from torchvision.transforms import ToTensor, Lambda\n",
    "\n",
    "# datos\n",
    "training_data = datasets.FashionMNIST(\n",
    "    root='data',\n",
    "    train=True,\n",
    "    download=True,\n",
    "    transform=ToTensor(),\n",
    ")\n",
    "\n",
    "test_data = datasets.FashionMNIST(\n",
    "    root='data',\n",
    "    train=False,\n",
    "    download=True,\n",
    "    transform=ToTensor(),\n",
    ")\n",
    "\n",
    "train_dataloader = DataLoader(training_data, batch_size=64)\n",
    "test_dataloader = DataLoader(test_data, batch_size=64)\n",
    "\n",
    "# modelo\n",
    "device = 'cuda' if torch.cuda.is_available() else 'cpu'\n",
    "class NeuralNetwork(nn.Module):\n",
    "    def __init__(self):\n",
    "        super(NeuralNetwork, self).__init__()\n",
    "        self.flatten = nn.Flatten()\n",
    "        self.linear_relu_stack = nn.Sequential(\n",
    "            nn.Linear(28*28, 512),\n",
    "            nn.ReLU(),\n",
    "            nn.Linear(512, 512),\n",
    "            nn.ReLU(),\n",
    "            nn.Linear(512, 10),\n",
    "            nn.ReLU()\n",
    "        )\n",
    "    \n",
    "    def forward(self, x):\n",
    "        x = self.flatten(x)\n",
    "        logits = self.linear_relu_stack(x)\n",
    "        return logits\n",
    "\n",
    "model = NeuralNetwork().to(device)\n",
    "\n",
    "\n",
    "# hiperparámetros\n",
    "learning_rate = 1e-3\n",
    "batch_size = 64\n",
    "epochs = 5\n",
    "\n",
    "# loop de entrenamiento\n",
    "\n",
    "# función de pérdida\n",
    "loss_fn = nn.CrossEntropyLoss()\n",
    "\n",
    "# Optimizador\n",
    "optimizer = torch.optim.SGD(model.parameters(), lr=learning_rate)\n",
    "\n",
    "# función de entrenamiento\n",
    "def train_loop(dataloader, model, loss_fn, optimizer):\n",
    "    size = len(dataloader.dataset)\n",
    "    for batch, (X, y) in enumerate(dataloader):\n",
    "        # calcula predicción y pérdida\n",
    "        pred = model(X)\n",
    "        loss = loss_fn(pred, y)\n",
    "        \n",
    "        # backpropagation\n",
    "        optimizer.zero_grad()# por defecto el calculo del gradiente es acumulativo\n",
    "        loss.backward() # clacula y acumula los gradientes\n",
    "        optimizer.step()# paso de optimización x += grad\n",
    "        \n",
    "        if batch % 100 == 0:\n",
    "            loss, current = loss.item(), batch * len(X)\n",
    "            print(f'loss: {loss:>7f} [{current:>5d}/{size:>5d}]')\n",
    "\n",
    "# función de validación\n",
    "def test_loop(testloader, model, loss_fn):\n",
    "    size = len(testloader.dataset)\n",
    "    num_batches = len(testloader)\n",
    "    test_loss, correct = 0, 0\n",
    "    \n",
    "    with torch.no_grad():\n",
    "        for X, y in testloader:\n",
    "            pred = model(X)\n",
    "            test_loss += loss_fn(pred, y).item()\n",
    "            correct += (pred.argmax(1)==y).type(torch.float).sum().item()\n",
    "    \n",
    "    test_loss /= num_batches\n",
    "    correct /= size\n",
    "    print(f\"Test Error: \\n Accuracy: {(100*correct):>0.1f}%, Avg loss: {test_loss:>8f} \\n\")\n",
    "\n",
    "# ciclo de entrenamiento\n",
    "epochs = 10\n",
    "for t in range(epochs):\n",
    "    print(f'Epoch {t+1}\\n -------------------------')\n",
    "    train_loop(train_dataloader, model, loss_fn, optimizer)\n",
    "    test_loop(test_dataloader, model, loss_fn)\n",
    "print('Done!')\n"
   ]
  },
  {
   "cell_type": "markdown",
   "id": "naked-cream",
   "metadata": {},
   "source": [
    "## <span style=\"color:#4361EE\">Referencias</span> "
   ]
  },
  {
   "cell_type": "markdown",
   "id": "intermediate-wedding",
   "metadata": {},
   "source": [
    "1. Basado en los [tutoriales de Pytorch](https://pytorch.org/tutorials/)\n",
    "1. [Deep learning for coders with FastAI and Pytorch](http://library.lol/main/F13E85845AE48D9FD7488FE7630A9FD3)"
   ]
  }
 ],
 "metadata": {
  "kernelspec": {
   "display_name": "Python 3.9.8 64-bit",
   "language": "python",
   "name": "python3"
  },
  "language_info": {
   "codemirror_mode": {
    "name": "ipython",
    "version": 3
   },
   "file_extension": ".py",
   "mimetype": "text/x-python",
   "name": "python",
   "nbconvert_exporter": "python",
   "pygments_lexer": "ipython3",
   "version": "3.9.8"
  },
  "vscode": {
   "interpreter": {
    "hash": "cf92aa13fedf815d5c8dd192b8d835913fde3e8bc926b2a0ad6cc74ef2ba3ca2"
   }
  }
 },
 "nbformat": 4,
 "nbformat_minor": 5
}
