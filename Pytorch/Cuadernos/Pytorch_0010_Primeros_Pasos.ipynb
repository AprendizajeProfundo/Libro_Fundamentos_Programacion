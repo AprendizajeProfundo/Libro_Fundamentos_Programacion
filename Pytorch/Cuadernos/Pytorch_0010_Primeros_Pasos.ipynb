{
 "cells": [
  {
   "cell_type": "markdown",
   "id": "2aceadfd",
   "metadata": {},
   "source": [
    "# <span style=\"color:#F72585\"><center>Primeros pasos con PyTorch</center></span>"
   ]
  },
  {
   "cell_type": "markdown",
   "id": "47df6f46-879b-4bf8-a153-2e7d50f25972",
   "metadata": {},
   "source": [
    "<figure>\n",
    "<center>\n",
    "<img src=\"https://raw.githubusercontent.com/AprendizajeProfundo/Alejandria/main/Pytorch/Imagenes/Pytorch_logo.png\" width=\"400\" height=\"100\"/>\n",
    "</center>\n",
    "</figure>\n",
    "\n",
    "\n",
    "Fuente [vector, logo,zone](https://www.vectorlogo.zone/logos/pytorch/index.html)"
   ]
  },
  {
   "cell_type": "markdown",
   "id": "placed-attachment",
   "metadata": {},
   "source": [
    "## <span style=\"color:#4361EE\">Introducción</span>"
   ]
  },
  {
   "cell_type": "markdown",
   "id": "8851eef7-d2a0-4ccf-bd44-be0257fc3435",
   "metadata": {},
   "source": [
    "En esta lección construimos nuestra primera red neuronal con PyTorch. Usamos el famoso ejemplo [fashion mnist](https://www.kaggle.com/zalando-research/fashionmnist). En este caso tomaremos los datos directamente de la librería `torchvision`. Las lecciones introductorias de Pytorch son adapciones de los [tutoriales oficiales de Pytorch](https://pytorch.org/tutorials/).\n",
    "\n",
    "Antes de construir nuestra primera red neuronal formal, vamos a revisar su breve historia y elementos principales.\n"
   ]
  },
  {
   "cell_type": "markdown",
   "id": "4c1e9f0f-6e50-478e-b685-103423401290",
   "metadata": {},
   "source": [
    "## <span style=\"color:#4361EE\">¿Que es Pytorch?</span>"
   ]
  },
  {
   "cell_type": "markdown",
   "id": "96ac9e2e-ebbd-4199-9102-3e5655da2b5c",
   "metadata": {},
   "source": [
    "PyTorch es un marco de aprendizaje automático de código abierto basado en la biblioteca Torch, utilizado para aplicaciones como visión por computadora y procesamiento de lenguaje natural, desarrollado principalmente por Meta AI. Es un software gratuito y de código abierto publicado bajo la licencia BSD modificada. Aunque la interfaz de Python está más pulida y es el enfoque principal del desarrollo, PyTorch también tiene una interfaz de C++.\n",
    "\n",
    "Varias piezas de software de aprendizaje profundo se construyen sobre PyTorch, incluido Tesla Autopilot, Uber 's Pyro, Hugging Face's Transformers, PyTorch Lightning, Catalyst, entre los más importante hasta 2022.\n",
    "\n",
    "PyTorch proporciona dos características de alto nivel:\n",
    "\n",
    "* Computación de tensor (como NumPy) con fuerte aceleración a través de unidades de procesamiento de gráficos (GPU)\n",
    "* Redes neuronales profundas construidas sobre un sistema de diferenciación automática. \n",
    "\n",
    "Meta (anteriormente conocido como Facebook) opera PyTorch y Convolutional Architecture for Fast Feature Embedding (Caffe2), pero los modelos definidos por los dos marcos eran mutuamente incompatibles. El proyecto Open Neural Network Exchange (ONNX ) fue creado por Meta y Microsoft en septiembre de 2017 para convertir modelos entre marcos. Caffe2 se fusionó con PyTorch a fines de marzo de 2018.\n",
    "\n",
    "\n",
    "[Wikipedia](https://en.wikipedia.org/wiki/PyTorch#History).\n"
   ]
  },
  {
   "cell_type": "markdown",
   "id": "a03351e2-51d1-46a6-81c9-97ff9bd70d8f",
   "metadata": {},
   "source": [
    "### <span style=\"color:#4CC9F0\">Tensores PyTorch</span>"
   ]
  },
  {
   "cell_type": "markdown",
   "id": "aaed7dce-d8b4-4cca-85c0-2c25d0ed02b9",
   "metadata": {},
   "source": [
    "PyTorch define una clase llamada Tensor (`torch.Tensor`) para almacenar y operar en matrices rectangulares multidimensionales homogéneas de números. Los tensores PyTorch son similares a los arreglos NumPy, pero también se pueden operar en una GPU `NVIDIA` compatible con `CUDA`. PyTorch también ha estado desarrollando soporte para otras plataformas GPU, por ejemplo, `ROCm de AMD` y `Metal Framework de Apple`. \n",
    "\n",
    "PyTorch admite varios subtipos de tensores.\n",
    "\n",
    "Tenga en cuenta que el término \"tensor\" aquí no tiene el mismo significado que en matemáticas o física. El significado de la palabra en esas áreas solo está tangencialmente relacionado con el de *aprendizaje de máquina*. En matemáticas, un tensor es un cierto tipo de objeto en álgebra lineal, mientras que en física el término \"tensor\" generalmente se refiere a lo que los matemáticos llaman campo tensorial.\n"
   ]
  },
  {
   "cell_type": "markdown",
   "id": "f1aa4fb0-99f6-44e4-95f6-9d6f994fc157",
   "metadata": {},
   "source": [
    "### <span style=\"color:#4CC9F0\">Módulos de Pytorch</span>"
   ]
  },
  {
   "cell_type": "markdown",
   "id": "b54a2fe8-3194-45c9-a981-09c6be1b2cfc",
   "metadata": {},
   "source": [
    "#### Módulo Autograd"
   ]
  },
  {
   "cell_type": "markdown",
   "id": "4c31cf92-b714-4682-a89f-64e17e872a0a",
   "metadata": {},
   "source": [
    "PyTorch utiliza un método llamado diferenciación automática. Un objeto (un grafo) registra qué operaciones se han realizado y luego las reproduce hacia atrás para calcular los gradientes. Este método es especialmente poderoso cuando se construyen redes neuronales para ahorrar tiempo en una época al calcular la diferenciación de los parámetros en el paso hacia adelante."
   ]
  },
  {
   "cell_type": "markdown",
   "id": "e58ca5dc-09ac-430e-a079-6ac0b92661e4",
   "metadata": {},
   "source": [
    "#### Módulo Optim"
   ]
  },
  {
   "cell_type": "markdown",
   "id": "57098e5f-0a63-425d-97de-e9fe1bf3eb45",
   "metadata": {},
   "source": [
    "`torch.optim` es un módulo que implementa varios algoritmos de optimización utilizados para construir redes neuronales. La mayoría de los métodos de uso común ya son compatibles, por lo que no es necesario crearlos desde cero."
   ]
  },
  {
   "cell_type": "markdown",
   "id": "a1ad4078-6a45-48be-945e-f6c2fba1e2aa",
   "metadata": {},
   "source": [
    "#### Módulo nn"
   ]
  },
  {
   "cell_type": "markdown",
   "id": "6231d6b2-8abf-4673-adc9-54630c77989d",
   "metadata": {},
   "source": [
    "El autograd de PyTorch facilita la definición de gráficos computacionales y la toma de gradientes, pero el autograd sin procesar puede tener un nivel demasiado bajo para definir redes neuronales complejas. Aquí es donde el módulo `nn` puede ayudar. El *nn* módulo proporciona capas y herramientas para crear fácilmente redes neuronales simplemente definiendo las capas de la red.\n",
    "\n",
    "\n",
    "PyTorch también contiene muchos otros submódulos útiles, como utilidades de carga de datos y funciones de entrenamiento distribuidas.\n"
   ]
  },
  {
   "cell_type": "markdown",
   "id": "assisted-smell",
   "metadata": {},
   "source": [
    "### <span style=\"color:#4CC9F0\">Instalar Pytorch</span>\n"
   ]
  },
  {
   "cell_type": "markdown",
   "id": "joint-contemporary",
   "metadata": {},
   "source": [
    "En consola ejecute el siguiente comando. "
   ]
  },
  {
   "cell_type": "code",
   "execution_count": 13,
   "id": "sharing-empire",
   "metadata": {},
   "outputs": [],
   "source": [
    "#conda install -c pytorch pytorch"
   ]
  },
  {
   "cell_type": "markdown",
   "id": "continuing-probe",
   "metadata": {},
   "source": [
    "## <span style=\"color:#4361EE\">Trabajando con datos</span>"
   ]
  },
  {
   "cell_type": "markdown",
   "id": "superior-acoustic",
   "metadata": {},
   "source": [
    "PyTorch tiene dos primitivas para trabajar con datos: `torch.utils.data.DataLoader` y `torch.utils.data.Dataset`. *Dataset* almacena las muestras y sus etiquetas correspondientes, y *DataLoader* envuelve un iterable alrededor de *Dataset*."
   ]
  },
  {
   "cell_type": "code",
   "execution_count": 14,
   "id": "norman-thinking",
   "metadata": {},
   "outputs": [],
   "source": [
    "import torch\n",
    "from torch import nn\n",
    "from torch.utils.data import DataLoader\n",
    "from torchvision import datasets\n",
    "from torchvision.transforms import ToTensor, Lambda, Compose\n",
    "\n",
    "import matplotlib.pyplot as plt\n",
    "import numpy as np\n",
    "\n",
    "from torch.nn import Flatten, Sequential, Linear, ReLU"
   ]
  },
  {
   "cell_type": "markdown",
   "id": "liable-nudist",
   "metadata": {},
   "source": [
    "PyTorch ofrece bibliotecas específicas de dominio como `TorchText`, `TorchVision` y `TorchAudio`, todas las cuales incluyen conjuntos de datos. En esta lección, usaremos un conjunto de datos de `TorchVision`.\n",
    "\n",
    "El módulo `torchvision.datasets` contiene objetos de conjunto de datos para muchos datos de visión del mundo real como CIFAR, COCO ([lista completa aquí](https://pytorch.org/vision/stable/datasets.html)). En este tutorial, usamos el conjunto de datos FashionMNIST. Cada conjunto de datos de TorchVision incluye dos argumentos: *transform* y *target_transform* para modificar las muestras y las etiquetas respectivamente. \n",
    "\n",
    "En el siguiente fragmento de código se leen los datos para entrenamiento y test. Si aún no se han bajado los datos, PyTorch lo hace por esta única ocasión. La próxima vez los leerá de la carpeta interna 'data'. El parámetro *transform* permite convertir los datos a un formato específico. En este caso a tensores de Torch.\n"
   ]
  },
  {
   "cell_type": "code",
   "execution_count": 15,
   "id": "local-buffer",
   "metadata": {},
   "outputs": [],
   "source": [
    "# Baja los datos de entrenamiento de open datasets.\n",
    "training_data = datasets.FashionMNIST(\n",
    "    root=\"data\",\n",
    "    train=True,\n",
    "    download=True,\n",
    "    transform=ToTensor(),\n",
    ")\n",
    "\n",
    "# Baja los datos test data de open datasets.\n",
    "test_data = datasets.FashionMNIST(\n",
    "    root=\"data\",\n",
    "    train=False,\n",
    "    download=True,\n",
    "    transform=ToTensor(),\n",
    ")"
   ]
  },
  {
   "cell_type": "markdown",
   "id": "southwest-issue",
   "metadata": {},
   "source": [
    "### <span style=\"color:#4CC9F0\">Una primera imagen de los datos</span>\n"
   ]
  },
  {
   "cell_type": "code",
   "execution_count": 16,
   "id": "opposite-cooking",
   "metadata": {},
   "outputs": [
    {
     "data": {
      "image/png": "[encoded data removed]",
      "text/plain": [
       "<Figure size 800x800 with 20 Axes>"
      ]
     },
     "metadata": {},
     "output_type": "display_data"
    }
   ],
   "source": [
    "labels_map = {0 : 'T-Shirt', 1 : 'Trouser', 2 : 'Pullover', 3 : 'Dress', 4 : 'Coat', 5 : 'Sandal', 6 : 'Shirt',\n",
    "              7 : 'Sneaker', 8 : 'Bag', 9 : 'Ankle Boot'};\n",
    "fig = plt.figure(figsize=(8,8));\n",
    "columns = 4;\n",
    "rows = 5;\n",
    "for i in range(1, columns*rows +1):\n",
    "    img_xy = np.random.randint(len(training_data));\n",
    "    img = training_data[img_xy][0][0,:,:]\n",
    "    fig.add_subplot(rows, columns, i)\n",
    "    plt.title(labels_map[training_data[img_xy][1]])\n",
    "    plt.axis('off')\n",
    "    plt.imshow(img, cmap='gray')\n",
    "plt.show()"
   ]
  },
  {
   "cell_type": "markdown",
   "id": "14e0c6ea-a9e2-486f-b491-016bd27cd199",
   "metadata": {},
   "source": [
    "### <span style=\"color:#4CC9F0\">Dataloaders</span>"
   ]
  },
  {
   "cell_type": "markdown",
   "id": "6a4c5b09-a9de-41ae-9c2d-53841de38f34",
   "metadata": {},
   "source": [
    "Pasamos el *Dataset* como un parámetro para `DataLoader`\n",
    "Esto envuelve un iterable sobre nuestro conjunto de datos y admite procesamiento por lotes, muestreo, barajado y carga de datos multiproceso automáticos. Aquí definimos un tamaño de lote de 64, es decir, cada elemento en el cargador de datos iterable devolverá un lote de 64 imágenes con sus etiquetas."
   ]
  },
  {
   "cell_type": "code",
   "execution_count": 17,
   "id": "selective-academy",
   "metadata": {},
   "outputs": [
    {
     "name": "stdout",
     "output_type": "stream",
     "text": [
      "60000\n",
      "X[N, C, H, W]:  torch.Size([64, 1, 28, 28])\n",
      "Shape of y:  torch.Size([64]) torch.int64\n"
     ]
    }
   ],
   "source": [
    "batch_size = 64\n",
    "\n",
    "#crea data loaders\n",
    "train_dataloader = DataLoader(training_data, batch_size=batch_size, num_workers=4)\n",
    "test_dataloader = DataLoader(test_data, batch_size=batch_size, num_workers=4)\n",
    "\n",
    "print(len(train_dataloader.dataset))\n",
    "\n",
    "for X, y in test_dataloader:\n",
    "    print('X[N, C, H, W]: ', X.shape)\n",
    "    print('Shape of y: ', y.shape, y.dtype)\n",
    "    break"
   ]
  },
  {
   "cell_type": "markdown",
   "id": "integral-impact",
   "metadata": {},
   "source": [
    "## <span style=\"color:#4361EE\">Creando modelos</span>"
   ]
  },
  {
   "cell_type": "markdown",
   "id": "exempt-taxation",
   "metadata": {},
   "source": [
    "Para definir una red neuronal en PyTorch, creamos una clase que hereda de nn.Module. Definimos las capas de la red en la función __init__ y especificamos cómo pasarán los datos a través de la red en la función de reenvío. Para acelerar las operaciones en la red neuronal, lo trasladamos a la GPU si está disponible.\n",
    "\n",
    "El método *forward* implementa el cálculo de la red neuronal. Este método hace el mismo papel del métodos genérico `__call__` que estudiamos en la lección de clases. \n",
    "\n",
    "En el ejemplo sucede lo siguiente. \n",
    "\n",
    "* Se determina si hay GPU disponible. Si la hay se asigna la primera GPU como dispositivo. Usualmente este dispositivo se denomina en Torch `cuda:0`. Si hau GPU disponible se asigna como dispositivo `cpu`. En el dispositivo alojaremos la instancia de clase.\n",
    "* Se crea la clase *NeuralNetwork*, derivada de *nn.Module*\n",
    "* Se instancia un objeto de clase *NeuralNetwork* y se coloca en el dispositivo disponible. El objeto se ha llamado  *modelo*.\n",
    "\n",
    "Si por ejemplo, a lo largo del código, *x* representa un dato (en nuestro ejemplo una imagen de MnistFashion, y se llama\n",
    "`modelo(x)`, lo que ocurre es que se ejecuta el método *forward*. es como si escribiera `modelo.forward(x)`.\n"
   ]
  },
  {
   "cell_type": "code",
   "execution_count": 18,
   "id": "biological-generator",
   "metadata": {},
   "outputs": [
    {
     "name": "stdout",
     "output_type": "stream",
     "text": [
      "using cpu device\n",
      "NeuralNetwork(\n",
      "  (flatten): Flatten(start_dim=1, end_dim=-1)\n",
      "  (linear_relu_stack): Sequential(\n",
      "    (0): Linear(in_features=784, out_features=512, bias=True)\n",
      "    (1): ReLU()\n",
      "    (2): Linear(in_features=512, out_features=512, bias=True)\n",
      "    (3): ReLU()\n",
      "    (4): Linear(in_features=512, out_features=10, bias=True)\n",
      "    (5): ReLU()\n",
      "  )\n",
      ")\n"
     ]
    }
   ],
   "source": [
    "# Obtiene gpu o cpu device para el entrenamiento\n",
    "device = 'cuda' if torch.cuda.is_available() else 'cpu'\n",
    "print('using {} device'.format(device))\n",
    "\n",
    "# define el modelo\n",
    "class NeuralNetwork(nn.Module):\n",
    "    def __init__(self):\n",
    "        super(NeuralNetwork, self).__init__()\n",
    "        self.flatten = Flatten()\n",
    "        self.linear_relu_stack = Sequential(\n",
    "            Linear(28*28, 512),\n",
    "            ReLU(),\n",
    "            Linear(512, 512),\n",
    "            ReLU(),\n",
    "            Linear(512, 10),\n",
    "            ReLU()\n",
    "        )\n",
    "        \n",
    "    # la función forward es la que define la estructura de la red\n",
    "    # en este ejemplo aceptamos solo una entrada, pero si lo desea,\n",
    "    # siéntete libre de usar más\n",
    "    def forward(self, x):\n",
    "        x = self.flatten(x)\n",
    "        logits = self.linear_relu_stack(x)\n",
    "        return logits\n",
    "\n",
    "model = NeuralNetwork().to(device)\n",
    "print(model)"
   ]
  },
  {
   "cell_type": "markdown",
   "id": "98e44c48",
   "metadata": {},
   "source": [
    "```{admonition} Nota\n",
    ":class: note\n",
    "Cuando se invoca model, automáticamente se ejecuta la función *\\_\\_call\\_\\_* de la clase. En Pytorch la clase `nn.Module` de la cual derivamos  nuestra clase llama internamente a la función *forward*, que nosotros debemos sobrecargar (escribir para definir nuestro modelo), como puede verificar [aquí](https://github.com/pytorch/pytorch/blob/472be69a736c0b2aece4883be9f8b18e2f3dfbbd/torch/nn/modules/module.py#L487).\n",
    "```\n"
   ]
  },
  {
   "cell_type": "markdown",
   "id": "brutal-johnston",
   "metadata": {},
   "source": [
    "## <span style=\"color:#4361EE\">Función de pérdida y optimizador</span>"
   ]
  },
  {
   "cell_type": "markdown",
   "id": "collectible-roommate",
   "metadata": {},
   "source": [
    "### <span style=\"color:#4CC9F0\">Función de pérdida y optimizador</span>\n"
   ]
  },
  {
   "cell_type": "code",
   "execution_count": 19,
   "id": "falling-director",
   "metadata": {},
   "outputs": [],
   "source": [
    "loss_fn = nn.CrossEntropyLoss()\n",
    "optimizer = torch.optim.SGD(model.parameters(), lr=1e-3)"
   ]
  },
  {
   "cell_type": "markdown",
   "id": "seventh-function",
   "metadata": {},
   "source": [
    "### <span style=\"color:#4CC9F0\">Función de entrenamiento</span>"
   ]
  },
  {
   "cell_type": "code",
   "execution_count": 20,
   "id": "another-swimming",
   "metadata": {},
   "outputs": [],
   "source": [
    "def train(dataloader, model, loss_fn, optimizer): \n",
    "    size = len(dataloader.dataset)\n",
    "    for batch, (X,y) in enumerate(dataloader):\n",
    "        X, y = X.to(device), y.to(device)\n",
    "        \n",
    "        # Calcula error de predicción\n",
    "        pred = model(X)\n",
    "        loss = loss_fn(pred, y)\n",
    "        \n",
    "        # Backpropagation\n",
    "        optimizer.zero_grad() # coloca el gradiente en cero\n",
    "        loss.backward() # Calcula el gradiente a lo largo de la red de forma aditiva\n",
    "        optimizer.step() # ejecuta el paso del SDG\n",
    "        \n",
    "        if batch % 100 == 0:\n",
    "            loss, current = loss.item(), batch*len(X)\n",
    "            print(f'loss: {loss:>7f} [{current:5d}/{size:>5d}]')\n",
    "            "
   ]
  },
  {
   "cell_type": "markdown",
   "id": "studied-beverage",
   "metadata": {},
   "source": [
    "### <span style=\"color:#4CC9F0\">Función de prueba (testeo) del modelo</span>\n"
   ]
  },
  {
   "cell_type": "code",
   "execution_count": 21,
   "id": "challenging-patent",
   "metadata": {},
   "outputs": [],
   "source": [
    "def test(dataloader, model, loss_fn):\n",
    "    size = len(dataloader.dataset)\n",
    "    num_batches = len(dataloader)\n",
    "    model.eval() # le indica la modelo que trabajará en modo inferencia (no entrenamiento)\n",
    "    test_loss, correct = 0, 0\n",
    "    with torch.no_grad():\n",
    "        for X, y in dataloader:\n",
    "            X, y = X.to(device), y.to(device)\n",
    "            pred = model(X)\n",
    "            test_loss += loss_fn(pred,y).item()\n",
    "            correct += (pred.argmax(1)==y).type(torch.float).sum().item()\n",
    "    test_loss /= num_batches\n",
    "    correct /= size\n",
    "    print(f\"Test Error: \\n Accuracy: {(100*correct):>0.1f}%, Avg loss: {test_loss:>8f} \\n\")\n",
    "    "
   ]
  },
  {
   "cell_type": "markdown",
   "id": "protective-future",
   "metadata": {},
   "source": [
    "## <span style=\"color:#4361EE\">Entrenamiento y validación</span>"
   ]
  },
  {
   "cell_type": "code",
   "execution_count": 22,
   "id": "orange-devon",
   "metadata": {
    "colab": {
     "base_uri": "https://localhost:8080/"
    },
    "executionInfo": {
     "elapsed": 867883,
     "status": "ok",
     "timestamp": 1660849278859,
     "user": {
      "displayName": "Alvaro Mauricio Montenegro Diaz",
      "userId": "00112367211274426237"
     },
     "user_tz": 300
    },
    "id": "orange-devon",
    "outputId": "a6004289-f8e9-462e-f203-d214200a5727"
   },
   "outputs": [
    {
     "name": "stdout",
     "output_type": "stream",
     "text": [
      "Epoch 1\n",
      "-------------------------------\n",
      "loss: 2.302137 [    0/60000]\n",
      "loss: 2.293269 [ 6400/60000]\n",
      "loss: 2.286790 [12800/60000]\n",
      "loss: 2.280539 [19200/60000]\n",
      "loss: 2.265404 [25600/60000]\n",
      "loss: 2.261191 [32000/60000]\n",
      "loss: 2.263472 [38400/60000]\n",
      "loss: 2.250784 [44800/60000]\n",
      "loss: 2.250596 [51200/60000]\n",
      "loss: 2.203350 [57600/60000]\n",
      "Test Error: \n",
      " Accuracy: 43.0%, Avg loss: 2.215169 \n",
      "\n",
      "Epoch 2\n",
      "-------------------------------\n",
      "loss: 2.236538 [    0/60000]\n",
      "loss: 2.211922 [ 6400/60000]\n",
      "loss: 2.195147 [12800/60000]\n",
      "loss: 2.201983 [19200/60000]\n",
      "loss: 2.148275 [25600/60000]\n",
      "loss: 2.129874 [32000/60000]\n",
      "loss: 2.142871 [38400/60000]\n",
      "loss: 2.111024 [44800/60000]\n",
      "loss: 2.152018 [51200/60000]\n",
      "loss: 2.034351 [57600/60000]\n",
      "Test Error: \n",
      " Accuracy: 44.0%, Avg loss: 2.073841 \n",
      "\n",
      "Epoch 3\n",
      "-------------------------------\n",
      "loss: 2.118966 [    0/60000]\n",
      "loss: 2.074672 [ 6400/60000]\n",
      "loss: 2.044836 [12800/60000]\n",
      "loss: 2.072174 [19200/60000]\n",
      "loss: 1.958981 [25600/60000]\n",
      "loss: 1.929525 [32000/60000]\n",
      "loss: 1.958399 [38400/60000]\n",
      "loss: 1.910874 [44800/60000]\n",
      "loss: 2.017758 [51200/60000]\n",
      "loss: 1.797944 [57600/60000]\n",
      "Test Error: \n",
      " Accuracy: 46.3%, Avg loss: 1.885678 \n",
      "\n",
      "Epoch 4\n",
      "-------------------------------\n",
      "loss: 1.967474 [    0/60000]\n",
      "loss: 1.900712 [ 6400/60000]\n",
      "loss: 1.871024 [12800/60000]\n",
      "loss: 1.916668 [19200/60000]\n",
      "loss: 1.771633 [25600/60000]\n",
      "loss: 1.738124 [32000/60000]\n",
      "loss: 1.781810 [38400/60000]\n",
      "loss: 1.736437 [44800/60000]\n",
      "loss: 1.897411 [51200/60000]\n",
      "loss: 1.603762 [57600/60000]\n",
      "Test Error: \n",
      " Accuracy: 49.0%, Avg loss: 1.726836 \n",
      "\n",
      "Epoch 5\n",
      "-------------------------------\n",
      "loss: 1.836763 [    0/60000]\n",
      "loss: 1.760836 [ 6400/60000]\n",
      "loss: 1.725490 [12800/60000]\n",
      "loss: 1.787253 [19200/60000]\n",
      "loss: 1.640456 [25600/60000]\n",
      "loss: 1.596506 [32000/60000]\n",
      "loss: 1.647740 [38400/60000]\n",
      "loss: 1.604714 [44800/60000]\n",
      "loss: 1.796328 [51200/60000]\n",
      "loss: 1.464951 [57600/60000]\n",
      "Test Error: \n",
      " Accuracy: 49.8%, Avg loss: 1.606853 \n",
      "\n"
     ]
    }
   ],
   "source": [
    "epochs = 5 #Recomendamos correr este cuaderno con 100 epochs\n",
    "for t in range(epochs):\n",
    "    print(f\"Epoch {t+1}\\n-------------------------------\")\n",
    "    train(train_dataloader, model, loss_fn, optimizer)\n",
    "    test(test_dataloader, model, loss_fn)"
   ]
  },
  {
   "cell_type": "markdown",
   "id": "third-bacteria",
   "metadata": {},
   "source": [
    "## <span style=\"color:#4361EE\">Guardando y recuperando el modelo</span>\n"
   ]
  },
  {
   "cell_type": "markdown",
   "id": "varied-canberra",
   "metadata": {},
   "source": [
    "### <span style=\"color:#4CC9F0\">Guardar el modelo</span>\n"
   ]
  },
  {
   "cell_type": "markdown",
   "id": "b61b1056",
   "metadata": {},
   "source": [
    "Para guardar el modelo al correr el cuaderno localmente puede ejecutar"
   ]
  },
  {
   "cell_type": "markdown",
   "id": "f9347189",
   "metadata": {},
   "source": [
    "````{tab} Python\n",
    "```python\n",
    "path = '../Checkpoints/Model_0'\n",
    "torch.save(model.state_dict(), path)\n",
    "print(' Modelo Pytorch guardado: ', path)\n",
    "```\n",
    "````\n"
   ]
  },
  {
   "cell_type": "markdown",
   "id": "solar-corner",
   "metadata": {},
   "source": [
    "### <span style=\"color:#4CC9F0\">Carga el modelo</span>\n"
   ]
  },
  {
   "cell_type": "markdown",
   "id": "39065bbe",
   "metadata": {},
   "source": [
    "Para recuperar el modelo al correr el cuaderno localmente puede ejecutar"
   ]
  },
  {
   "cell_type": "markdown",
   "id": "ca9c9c69",
   "metadata": {},
   "source": [
    "````{tab} Python\n",
    "```python\n",
    "model = NeuralNetwork()\n",
    "model.load_state_dict(torch.load(path))\n",
    "```\n",
    "````\n"
   ]
  },
  {
   "cell_type": "markdown",
   "id": "realistic-globe",
   "metadata": {},
   "source": [
    "## <span style=\"color:#4361EE\">Predicción</span>"
   ]
  },
  {
   "cell_type": "code",
   "execution_count": 24,
   "id": "ce8ecd76-b569-42f2-8c47-ef62ad41d7c5",
   "metadata": {
    "colab": {
     "base_uri": "https://localhost:8080/"
    },
    "executionInfo": {
     "elapsed": 255,
     "status": "ok",
     "timestamp": 1660849405459,
     "user": {
      "displayName": "Alvaro Mauricio Montenegro Diaz",
      "userId": "00112367211274426237"
     },
     "user_tz": 300
    },
    "id": "specified-latino",
    "outputId": "1311e46d-fe28-472e-c746-54fc8a340b17"
   },
   "outputs": [
    {
     "name": "stdout",
     "output_type": "stream",
     "text": [
      "Predicted: \"Ankle boot\", Actual: \"Ankle boot\"\n",
      "Predicted: \"Pullover\", Actual: \"Pullover\"\n",
      "Predicted: \"T-shirt/top\", Actual: \"Trouser\"\n",
      "Predicted: \"T-shirt/top\", Actual: \"Trouser\"\n",
      "Predicted: \"Pullover\", Actual: \"Shirt\"\n",
      "Predicted: \"T-shirt/top\", Actual: \"Trouser\"\n",
      "Predicted: \"Coat\", Actual: \"Coat\"\n",
      "Predicted: \"Coat\", Actual: \"Shirt\"\n",
      "Predicted: \"Sneaker\", Actual: \"Sandal\"\n",
      "Predicted: \"Sneaker\", Actual: \"Sneaker\"\n",
      "Predicted: \"Pullover\", Actual: \"Coat\"\n",
      "Predicted: \"Ankle boot\", Actual: \"Sandal\"\n",
      "Predicted: \"Sneaker\", Actual: \"Sneaker\"\n",
      "Predicted: \"Ankle boot\", Actual: \"Dress\"\n",
      "Predicted: \"Coat\", Actual: \"Coat\"\n",
      "Predicted: \"T-shirt/top\", Actual: \"Trouser\"\n",
      "Predicted: \"Pullover\", Actual: \"Pullover\"\n",
      "Predicted: \"Pullover\", Actual: \"Coat\"\n",
      "Predicted: \"Bag\", Actual: \"Bag\"\n",
      "Predicted: \"T-shirt/top\", Actual: \"T-shirt/top\"\n"
     ]
    }
   ],
   "source": [
    "classes = [\n",
    "    \"T-shirt/top\",\n",
    "    \"Trouser\",\n",
    "    \"Pullover\",\n",
    "    \"Dress\",\n",
    "    \"Coat\",\n",
    "    \"Sandal\",\n",
    "    \"Shirt\",\n",
    "    \"Sneaker\",\n",
    "    \"Bag\",\n",
    "    \"Ankle boot\",\n",
    "]\n",
    "\n",
    "model.eval()\n",
    "for i in range(20):\n",
    "    x,y = test_data[i][0], test_data[i][1]\n",
    "    with torch.no_grad():\n",
    "        pred = model(x) #model(x.cuda()) para gpu \n",
    "        predicted, actual = classes[pred[0].argmax(0)], classes[y]\n",
    "        print(f'Predicted: \"{predicted}\", Actual: \"{actual}\"')\n",
    "        "
   ]
  },
  {
   "cell_type": "markdown",
   "id": "77ab97fd",
   "metadata": {},
   "source": [
    "## <span style=\"color:#4361EE\">Referencias</span> \n"
   ]
  },
  {
   "cell_type": "markdown",
   "id": "de67db82",
   "metadata": {},
   "source": [
    "1. Basado en los [tutoriales de Pytorch](https://pytorch.org/tutorials/)\n",
    "1. [Deep learning for coders with FastAI and Pytorch](http://library.lol/main/F13E85845AE48D9FD7488FE7630A9FD3)"
   ]
  }
 ],
 "metadata": {
  "kernelspec": {
   "display_name": "Python 3.9.13 ('work')",
   "language": "python",
   "name": "python3"
  },
  "language_info": {
   "codemirror_mode": {
    "name": "ipython",
    "version": 3
   },
   "file_extension": ".py",
   "mimetype": "text/x-python",
   "name": "python",
   "nbconvert_exporter": "python",
   "pygments_lexer": "ipython3",
   "version": "3.9.13"
  },
  "vscode": {
   "interpreter": {
    "hash": "3620b340ed2ed479d71e72c732c6d6a6eac39d8adbece51414abdea5ed84aec5"
   }
  }
 },
 "nbformat": 4,
 "nbformat_minor": 5
}
