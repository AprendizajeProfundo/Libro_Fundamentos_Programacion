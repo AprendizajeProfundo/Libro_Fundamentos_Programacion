{
 "cells": [
  {
   "cell_type": "markdown",
   "metadata": {},
   "source": [
    "# <span style=\"color:#F72585\">Conociendo el Libro</span>"
   ]
  },
  {
   "cell_type": "markdown",
   "metadata": {},
   "source": [
    "Para una mejor experiencia de aprendizaje, sugerimos tener bajo consideración las siguientes indicaciones y explorar las funcionalidades que presentamos a continuación."
   ]
  },
  {
   "cell_type": "markdown",
   "metadata": {},
   "source": [
    "## <span style=\"color:#4361EE\">Conociendo el libro</span>\n",
    "\n",
    "Ponemos ver que el libro se divide en tres secciones:\n",
    "\n",
    "1. Índice general del libro\n",
    "2. Página del libro\n",
    "3. Contenido de la página"
   ]
  },
  {
   "cell_type": "markdown",
   "metadata": {},
   "source": [
    "<figure>\n",
    "<left>\n",
    "<img src=\"https://raw.githubusercontent.com/AprendizajeProfundo/Libro_Fundamentos_Programacion/main/Inicio/Imagenes/partes_de_la_pagina.png\" width=\"600\" height=\"400\" align=\"center\" /> \n",
    "</left>   \n",
    "</figure>\n"
   ]
  },
  {
   "cell_type": "markdown",
   "metadata": {},
   "source": [
    "## <span style=\"color:#4361EE\">Índice General</span>\n"
   ]
  },
  {
   "cell_type": "markdown",
   "metadata": {},
   "source": [
    "### <span style=\"color:#4CC9F0\">Logo de Aprendizaje Profundo</span>"
   ]
  },
  {
   "cell_type": "markdown",
   "metadata": {},
   "source": [
    "Puede hacer click en el **logo** de Aprendizaje Profundo para volver al inicio del libro."
   ]
  },
  {
   "cell_type": "markdown",
   "metadata": {},
   "source": [
    "### <span style=\"color:#4CC9F0\">Cuadro de Búsqueda</span>"
   ]
  },
  {
   "cell_type": "markdown",
   "metadata": {},
   "source": [
    "En el **cuadro de búsqueda** podemos buscar palabras o conceptos dentro del libro.\n"
   ]
  },
  {
   "cell_type": "markdown",
   "metadata": {},
   "source": [
    "### <span style=\"color:#4CC9F0\">Índice del libro</span>"
   ]
  },
  {
   "cell_type": "markdown",
   "metadata": {},
   "source": [
    "El índice de este libro es interactivo, puede acceder a cualquiera de las secciones y capítulos del libro haciendo click sobre el tema correspondiente"
   ]
  },
  {
   "cell_type": "markdown",
   "metadata": {},
   "source": [
    "## <span style=\"color:#4361EE\">Página del Libro</span>\n"
   ]
  },
  {
   "cell_type": "markdown",
   "metadata": {},
   "source": [
    "### <span style=\"color:#4CC9F0\">Barra de opciones</span>"
   ]
  },
  {
   "cell_type": "markdown",
   "metadata": {},
   "source": [
    "En esta sección encontramos cuatro íconos:"
   ]
  },
  {
   "cell_type": "markdown",
   "metadata": {},
   "source": [
    "<figure>\n",
    "<left>\n",
    "<img src=\"https://raw.githubusercontent.com/AprendizajeProfundo/Libro_Fundamentos_Programacion/main/Inicio/Imagenes/iconos_barra.png\" width=\"400\" height=\"100\" align=\"center\" /> \n",
    "</left>   \n",
    "</figure>\n"
   ]
  },
  {
   "cell_type": "markdown",
   "metadata": {},
   "source": [
    "Si ubica el cursor sobre el primer ícono y se desplegarán tres opciones:"
   ]
  },
  {
   "cell_type": "markdown",
   "metadata": {},
   "source": [
    "<figure>\n",
    "<left>\n",
    "<img src=\"https://raw.githubusercontent.com/AprendizajeProfundo/Libro_Fundamentos_Programacion/main/Inicio/Imagenes/boton_cohete.png\" width=\"400\" height=\"300\" align=\"center\" /> \n",
    "</left>   \n",
    "</figure>"
   ]
  },
  {
   "cell_type": "markdown",
   "metadata": {},
   "source": [
    "Por favor active el botón `Live Code` para hacer las celdas de código ejecutables en la página en la que aparecen. Haga la prueba ejecutando el siguiente código ejecutando `run` después de activar `Live Code`"
   ]
  },
  {
   "cell_type": "code",
   "execution_count": 1,
   "metadata": {},
   "outputs": [
    {
     "name": "stdout",
     "output_type": "stream",
     "text": [
      "Gracias por activarme\n"
     ]
    }
   ],
   "source": [
    "print(\"Gracias por activarme\" )"
   ]
  },
  {
   "cell_type": "markdown",
   "metadata": {},
   "source": [
    ":::{admonition} Importante\n",
    ":class: tip\n",
    "Existen algunas librerías y funciones que no pueden ejecutarse correctamente en jupyter-book, cuando esto suceda, se le indicará que por favor las ejecute en `Colab` o `Binder` con los botones que llevan el mismo nombre.\n",
    "\n",
    ":::"
   ]
  },
  {
   "cell_type": "markdown",
   "metadata": {},
   "source": [
    "El segundo ícono nos permite visualizar el libro en pantalla completa."
   ]
  },
  {
   "cell_type": "markdown",
   "metadata": {},
   "source": [
    "<figure>\n",
    "<left>\n",
    "<img src=\"https://raw.githubusercontent.com/AprendizajeProfundo/Libro_Fundamentos_Programacion/main/Inicio/Imagenes/full_screen.png\" width=\"400\" height=\"200\" align=\"center\" /> \n",
    "</left>   \n",
    "</figure>"
   ]
  },
  {
   "cell_type": "markdown",
   "metadata": {},
   "source": [
    "El tercer ícono nos permite acceder a alguna las opciones en Github.\n"
   ]
  },
  {
   "cell_type": "markdown",
   "metadata": {},
   "source": [
    "<figure>\n",
    "<left>\n",
    "<img src=\"https://raw.githubusercontent.com/AprendizajeProfundo/Libro_Fundamentos_Programacion/main/Inicio/Imagenes/boton_github.png\" width=\"400\" height=\"300\" align=\"center\" /> \n",
    "</left>   \n",
    "</figure>"
   ]
  },
  {
   "cell_type": "markdown",
   "metadata": {},
   "source": [
    "- Con la opción `repository` puede acceder al [repositorio](https://github.com/AprendizajeProfundo/Libro-Fundamentos) de **Github** donde se encuentra alojado el libro.\n",
    "- Si encuentra errores dentro del libro le agradecemos que nos lo haga saber por medio de `open issue`. Esto hará un *fork* del repositorio.\n",
    "- Para hacernos sugerencias de edición del libro puede usar el botón `suggest edit`"
   ]
  },
  {
   "cell_type": "markdown",
   "metadata": {},
   "source": [
    "Descargue la página que esté leyendo en formato `.md` o `.pdf` haciendo click en el cuarto ícono.\n"
   ]
  },
  {
   "cell_type": "markdown",
   "metadata": {},
   "source": [
    "<figure>\n",
    "<left>\n",
    "<img src=\"https://raw.githubusercontent.com/AprendizajeProfundo/Libro_Fundamentos_Programacion/main/Inicio/Imagenes/boton_descargar.png\" width=\"300\" height=\"200\" align=\"center\" /> \n",
    "</left>   \n",
    "</figure>"
   ]
  },
  {
   "cell_type": "markdown",
   "metadata": {},
   "source": [
    "### <span style=\"color:#4CC9F0\">Página del libro</span>"
   ]
  },
  {
   "cell_type": "markdown",
   "metadata": {},
   "source": [
    "En esta sección encontrará el contenido de nuestro libro.\n",
    "Aquí podemos encontrarnos con diferentes *(opciones)*"
   ]
  },
  {
   "cell_type": "markdown",
   "metadata": {},
   "source": [
    "Cuando encuentre código, puede copiarlo en su portapapeles por medio del ícono que aparece en la parte superior derecha de cada celda de código.\n",
    "\n"
   ]
  },
  {
   "cell_type": "markdown",
   "metadata": {},
   "source": [
    "<figure>\n",
    "<left>\n",
    "<img src=\"https://raw.githubusercontent.com/AprendizajeProfundo/Libro_Fundamentos_Programacion/main/Inicio/Imagenes/opcion_copiar_codigo.png\" width=\"300\" height=\"200\" align=\"center\" /> \n",
    "</left>   \n",
    "</figure>"
   ]
  },
  {
   "cell_type": "code",
   "execution_count": 2,
   "metadata": {},
   "outputs": [
    {
     "name": "stdout",
     "output_type": "stream",
     "text": [
      "Hello friend. Hello friend?\n"
     ]
    }
   ],
   "source": [
    "print(\"Hello friend. Hello friend?\")"
   ]
  },
  {
   "cell_type": "markdown",
   "metadata": {},
   "source": [
    "```{admonition} Nota\n",
    ":class: Note\n",
    "La opción para copiar el código solo estará disponible cuando no tenga activado `live code`\n",
    "```\n"
   ]
  },
  {
   "cell_type": "markdown",
   "metadata": {},
   "source": [
    "Al final de cada página encontrará la opción para ir a la página anterior del libro como a la siguiente página, respectivamente.\n"
   ]
  },
  {
   "cell_type": "markdown",
   "metadata": {},
   "source": [
    "<figure>\n",
    "<left>\n",
    "<img src=\"https://raw.githubusercontent.com/AprendizajeProfundo/Libro_Fundamentos_Programacion/main/Inicio/Imagenes/cambiar_pagina.png\" width=\"800\" height=\"200\" align=\"center\" /> \n",
    "</left>   \n",
    "</figure>"
   ]
  },
  {
   "cell_type": "markdown",
   "metadata": {},
   "source": [
    "## <span style=\"color:#4361EE\">Tabla de Contenido</span>\n"
   ]
  },
  {
   "cell_type": "markdown",
   "metadata": {},
   "source": [
    "* En esta sección encontrará cada uno de los temas de la página que esté leyendo, así como cada uno de sus respectivos subtemas.\n"
   ]
  }
 ],
 "metadata": {
  "kernelspec": {
   "display_name": "Python 3.9.12 64-bit",
   "language": "python",
   "name": "python3"
  },
  "language_info": {
   "codemirror_mode": {
    "name": "ipython",
    "version": 3
   },
   "file_extension": ".py",
   "mimetype": "text/x-python",
   "name": "python",
   "nbconvert_exporter": "python",
   "pygments_lexer": "ipython3",
   "version": "3.9.12"
  },
  "orig_nbformat": 4,
  "vscode": {
   "interpreter": {
    "hash": "f08154012ddadd8e950e6e9e035c7a7b32c136e7647e9b7c77e02eb723a8bedb"
   }
  }
 },
 "nbformat": 4,
 "nbformat_minor": 2
}
