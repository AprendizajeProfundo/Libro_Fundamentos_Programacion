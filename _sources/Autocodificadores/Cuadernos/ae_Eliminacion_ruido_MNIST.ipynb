{
 "cells": [
  {
   "cell_type": "markdown",
   "id": "61d8bad8",
   "metadata": {},
   "source": [
    "# <span style=\"color:#F72585\"><center>Eliminación de Ruido: Ejemplo MNIST</center></span>\n"
   ]
  },
  {
   "cell_type": "markdown",
   "id": "ff7772ae-e6d9-4cba-a260-1087e8d218fa",
   "metadata": {
    "id": "ff7772ae-e6d9-4cba-a260-1087e8d218fa"
   },
   "source": [
    "## <span style=\"color:#4361EE\">Introducción</span>"
   ]
  },
  {
   "cell_type": "markdown",
   "id": "4cee0aeb-1b69-4683-b6a7-f745b5e87517",
   "metadata": {
    "id": "4cee0aeb-1b69-4683-b6a7-f745b5e87517"
   },
   "source": [
    "En este cuaderno se implementa un Autoencoder Convolucional para la eliminación de ruido usando el conjunto de datos MNIST.\n",
    "\n",
    "Basado en \n",
    "\n",
    "- [Convolutional Autoencoders for Image Noise Reduction](https://towardsdatascience.com/convolutional-autoencoders-for-image-noise-reduction-32fce9fc1763)\n",
    "\n",
    "- [Convolutional Autoencoder For Image Denoising](https://keras.io/examples/vision/autoencoder/) "
   ]
  },
  {
   "cell_type": "markdown",
   "id": "ef33ed6a-d912-4195-8742-686b53a3824d",
   "metadata": {
    "id": "ef33ed6a-d912-4195-8742-686b53a3824d"
   },
   "source": [
    "## <span style=\"color:#4361EE\">Autocodificador o autoencoder</span>"
   ]
  },
  {
   "cell_type": "markdown",
   "id": "fd666002-4898-43fc-a57c-878f36a4bb84",
   "metadata": {
    "id": "fd666002-4898-43fc-a57c-878f36a4bb84"
   },
   "source": [
    "Recordemos un poco el concepto gráfico de lo que significa un autoenconder:\n",
    "\n",
    "![CAE](https://miro.medium.com/max/2400/1*VYH3i2-2CZ6Fyd7Bv9UHFw.png)\n",
    "\n",
    "Fuente: [Super-Resolution Using Autoencoders and TF2.0](https://medium.com/analytics-vidhya/super-resolution-using-autoencoders-and-tf2-0-505215c1674)"
   ]
  },
  {
   "cell_type": "markdown",
   "id": "5197c685-65ef-41ad-b149-22df53c2c715",
   "metadata": {
    "id": "5197c685-65ef-41ad-b149-22df53c2c715"
   },
   "source": [
    "## <span style=\"color:#4361EE\">Importa módulos</span>"
   ]
  },
  {
   "cell_type": "code",
   "execution_count": 1,
   "id": "d6ef6636-88f5-4658-9de1-7f57ffe155ef",
   "metadata": {
    "id": "d6ef6636-88f5-4658-9de1-7f57ffe155ef"
   },
   "outputs": [],
   "source": [
    "# Módulos especificos de tensorflow\n",
    "import tensorflow as tf\n",
    "from tensorflow.keras import layers\n",
    "from tensorflow.keras.models import Model\n",
    "\n",
    "#from tensorflow.keras.layers import Input, Dense, Activation\n",
    "from tensorflow.keras.models import Model\n",
    "from tensorflow.keras.utils import plot_model\n",
    "from tensorflow.keras.optimizers import Adam\n",
    "from tensorflow.keras.losses import MeanSquaredError\n",
    "\n",
    "# arreglos\n",
    "import numpy as np\n",
    "\n",
    "# Manejo de gráficos\n",
    "import matplotlib.pyplot as plt\n"
   ]
  },
  {
   "cell_type": "code",
   "execution_count": 2,
   "id": "ace4e081-bb74-41f2-9528-968d03f9aa94",
   "metadata": {
    "id": "91c44791-a667-4cd5-981a-474781d47166"
   },
   "outputs": [],
   "source": [
    "np.set_printoptions(linewidth=125)"
   ]
  },
  {
   "cell_type": "markdown",
   "id": "f3c4bea8-18aa-4650-9440-b62515a1099d",
   "metadata": {
    "id": "91c44791-a667-4cd5-981a-474781d47166"
   },
   "source": [
    "## <span style=\"color:#4361EE\">Lectura de los datos</span>"
   ]
  },
  {
   "cell_type": "code",
   "execution_count": 3,
   "id": "e6a07e8b-2506-4152-bf33-eb4daef44be2",
   "metadata": {
    "id": "15878970-2896-49b8-9ff2-0604bb23979d"
   },
   "outputs": [],
   "source": [
    "# Data\n",
    "(x_train, y_train), (x_test, y_test) = tf.keras.datasets.mnist.load_data()\n",
    "\n",
    "# normaliza los datos\n",
    "x_train = x_train.reshape(60000, 784).astype(\"float32\") / 255\n",
    "x_test = x_test.reshape(10000, 784).astype(\"float32\") / 255"
   ]
  },
  {
   "cell_type": "code",
   "execution_count": 4,
   "id": "01950e4a-005e-49e4-8400-62179c8e9664",
   "metadata": {
    "colab": {
     "base_uri": "https://localhost:8080/"
    },
    "id": "5364b030-1a56-48ba-ab9a-2477f2d8ec6b",
    "outputId": "7ad129cf-220e-4c83-eefb-1a84f0ff5b53"
   },
   "outputs": [
    {
     "name": "stdout",
     "output_type": "stream",
     "text": [
      "(60000, 784) (60000,)\n",
      "(10000, 784) (10000,)\n"
     ]
    }
   ],
   "source": [
    "print(x_train.shape,y_train.shape)\n",
    "print(x_test.shape,y_test.shape)"
   ]
  },
  {
   "cell_type": "code",
   "execution_count": 5,
   "id": "d3676199-6b55-42d2-b649-314d06e6efab",
   "metadata": {
    "colab": {
     "base_uri": "https://localhost:8080/"
    },
    "id": "5364b030-1a56-48ba-ab9a-2477f2d8ec6b",
    "outputId": "7ad129cf-220e-4c83-eefb-1a84f0ff5b53"
   },
   "outputs": [],
   "source": [
    "x_train = np.reshape(x_train, newshape=(-1,28,28,1))\n",
    "x_test = np.reshape(x_test, newshape=(-1,28,28,1))"
   ]
  },
  {
   "cell_type": "code",
   "execution_count": 6,
   "id": "1b5ab90c-fd5a-40f9-a4ea-0938ab64b2e5",
   "metadata": {
    "colab": {
     "base_uri": "https://localhost:8080/"
    },
    "id": "5364b030-1a56-48ba-ab9a-2477f2d8ec6b",
    "outputId": "7ad129cf-220e-4c83-eefb-1a84f0ff5b53"
   },
   "outputs": [
    {
     "name": "stdout",
     "output_type": "stream",
     "text": [
      "(60000, 28, 28, 1) (60000,)\n",
      "(10000, 28, 28, 1) (10000,)\n"
     ]
    }
   ],
   "source": [
    "print(x_train.shape,y_train.shape)\n",
    "print(x_test.shape,y_test.shape)"
   ]
  },
  {
   "cell_type": "code",
   "execution_count": 7,
   "id": "8455cfa7-2910-4c27-a908-c0dabe7cf836",
   "metadata": {
    "colab": {
     "base_uri": "https://localhost:8080/",
     "height": 757
    },
    "id": "8455cfa7-2910-4c27-a908-c0dabe7cf836",
    "outputId": "9b0689ca-4837-4238-ff3d-cd10b1ff855a"
   },
   "outputs": [
    {
     "name": "stdout",
     "output_type": "stream",
     "text": [
      "[[0.         0.         0.         0.         0.         0.         0.         0.         0.         0.         0.\n",
      "  0.         0.         0.         0.         0.         0.         0.         0.         0.         0.         0.\n",
      "  0.         0.         0.         0.         0.         0.        ]\n",
      " [0.         0.         0.         0.         0.         0.         0.         0.         0.         0.         0.\n",
      "  0.         0.         0.         0.         0.         0.         0.         0.         0.         0.         0.\n",
      "  0.         0.         0.         0.         0.         0.        ]\n",
      " [0.         0.         0.         0.         0.         0.         0.         0.         0.         0.         0.\n",
      "  0.         0.         0.         0.         0.         0.         0.         0.         0.         0.         0.\n",
      "  0.         0.         0.         0.         0.         0.        ]\n",
      " [0.         0.         0.         0.         0.         0.         0.         0.         0.         0.         0.\n",
      "  0.         0.         0.         0.         0.         0.         0.         0.         0.         0.         0.\n",
      "  0.         0.         0.         0.         0.         0.        ]\n",
      " [0.         0.         0.         0.         0.         0.         0.         0.         0.         0.         0.\n",
      "  0.         0.         0.         0.         0.         0.         0.         0.         0.32941177 0.5529412  0.6862745\n",
      "  0.2        0.         0.         0.         0.         0.        ]\n",
      " [0.         0.         0.         0.         0.         0.         0.         0.         0.         0.         0.\n",
      "  0.         0.         0.         0.         0.         0.10980392 0.5686275  0.9764706  0.99215686 0.99607843 1.\n",
      "  0.9098039  0.         0.         0.         0.         0.        ]\n",
      " [0.         0.         0.         0.         0.         0.         0.         0.         0.         0.         0.\n",
      "  0.         0.         0.13725491 0.4392157  0.8352941  0.9607843  0.99607843 0.99607843 0.99607843 0.99607843 0.7254902\n",
      "  0.5176471  0.         0.         0.         0.         0.        ]\n",
      " [0.         0.         0.         0.         0.         0.         0.         0.         0.         0.         0.\n",
      "  0.         0.14117648 0.85882354 0.99607843 0.99607843 0.99607843 0.99607843 0.99607843 0.99607843 0.99607843 0.38431373\n",
      "  0.         0.         0.         0.         0.         0.        ]\n",
      " [0.         0.         0.         0.         0.         0.         0.         0.         0.         0.         0.\n",
      "  0.14117648 0.85490197 0.99607843 0.99607843 0.99607843 0.99607843 0.99607843 0.99607843 0.7372549  0.54509807 0.03921569\n",
      "  0.         0.         0.         0.         0.         0.        ]\n",
      " [0.         0.         0.         0.         0.         0.         0.         0.         0.         0.         0.14117648\n",
      "  0.85490197 0.99607843 0.99607843 0.99607843 0.99607843 0.99607843 0.9254902  0.28235295 0.04313726 0.         0.\n",
      "  0.         0.         0.         0.         0.         0.        ]\n",
      " [0.         0.         0.         0.         0.         0.         0.         0.         0.         0.14117648 0.85490197\n",
      "  0.99607843 0.99607843 0.99607843 0.99607843 0.99607843 0.8        0.12156863 0.         0.         0.         0.\n",
      "  0.         0.         0.         0.         0.         0.        ]\n",
      " [0.         0.         0.         0.         0.         0.         0.         0.         0.         0.8352941  0.99607843\n",
      "  0.99607843 0.99607843 0.9019608  0.5411765  0.30980393 0.5294118  0.         0.         0.         0.         0.\n",
      "  0.         0.         0.         0.         0.         0.        ]\n",
      " [0.         0.         0.         0.         0.         0.         0.         0.         0.         0.9254902  0.99607843\n",
      "  0.99607843 0.99607843 0.5411765  0.         0.         0.         0.         0.         0.         0.         0.\n",
      "  0.         0.         0.         0.         0.         0.        ]\n",
      " [0.         0.         0.         0.         0.         0.         0.         0.         0.         0.9254902  0.99607843\n",
      "  0.99607843 0.60784316 0.04313726 0.         0.         0.         0.         0.         0.         0.         0.\n",
      "  0.         0.         0.         0.         0.         0.        ]\n",
      " [0.         0.         0.         0.         0.         0.         0.         0.         0.         0.9254902  0.99607843\n",
      "  0.99607843 0.15294118 0.         0.         0.         0.         0.         0.         0.         0.         0.\n",
      "  0.         0.         0.         0.         0.         0.        ]\n",
      " [0.         0.         0.         0.         0.         0.         0.         0.         0.         0.9254902  0.99607843\n",
      "  0.99607843 0.3254902  0.03921569 0.         0.         0.         0.         0.         0.         0.         0.\n",
      "  0.         0.         0.         0.         0.         0.        ]\n",
      " [0.         0.         0.         0.         0.         0.         0.         0.         0.08235294 0.9372549  0.99607843\n",
      "  0.99607843 0.99607843 0.5882353  0.03921569 0.         0.         0.         0.         0.         0.         0.\n",
      "  0.         0.         0.         0.         0.         0.        ]\n",
      " [0.         0.         0.         0.         0.         0.         0.         0.         0.4392157  0.99607843 0.7372549\n",
      "  0.78039217 0.9764706  0.99607843 0.5882353  0.03529412 0.         0.         0.         0.         0.         0.\n",
      "  0.         0.         0.         0.         0.         0.        ]\n",
      " [0.         0.         0.         0.         0.         0.         0.         0.         0.4392157  0.99607843 0.6117647\n",
      "  0.         0.78039217 0.99607843 0.99607843 0.72156864 0.23137255 0.         0.         0.         0.         0.\n",
      "  0.         0.         0.         0.         0.         0.        ]\n",
      " [0.         0.         0.         0.         0.         0.         0.         0.         0.39607844 0.99215686 0.6509804\n",
      "  0.01568628 0.12941177 0.8352941  0.99607843 1.         0.9098039  0.50980395 0.03137255 0.         0.         0.\n",
      "  0.         0.         0.         0.         0.         0.        ]\n",
      " [0.         0.         0.         0.         0.         0.         0.         0.         0.         0.9254902  0.99607843\n",
      "  0.45882353 0.01176471 0.12941177 0.40784314 0.8235294  0.99607843 0.99607843 0.36078432 0.02745098 0.         0.\n",
      "  0.         0.         0.         0.         0.         0.        ]\n",
      " [0.         0.         0.         0.         0.         0.         0.         0.         0.         0.40392157 0.91764706\n",
      "  0.99607843 0.6313726  0.40784314 0.05490196 0.16470589 0.8666667  0.99607843 0.99607843 0.61960787 0.         0.\n",
      "  0.         0.         0.         0.         0.         0.        ]\n",
      " [0.         0.         0.         0.         0.         0.         0.         0.         0.         0.         0.18039216\n",
      "  0.6431373  0.972549   0.98039216 0.99607843 1.         0.99607843 0.99607843 1.         0.84313726 0.         0.\n",
      "  0.         0.         0.         0.         0.         0.        ]\n",
      " [0.         0.         0.         0.         0.         0.         0.         0.         0.         0.         0.\n",
      "  0.         0.         0.15294118 0.4862745  0.88235295 0.99607843 0.99607843 1.         0.84313726 0.         0.\n",
      "  0.         0.         0.         0.         0.         0.        ]\n",
      " [0.         0.         0.         0.         0.         0.         0.         0.         0.         0.         0.\n",
      "  0.         0.         0.         0.         0.         0.         0.         0.         0.         0.         0.\n",
      "  0.         0.         0.         0.         0.         0.        ]\n",
      " [0.         0.         0.         0.         0.         0.         0.         0.         0.         0.         0.\n",
      "  0.         0.         0.         0.         0.         0.         0.         0.         0.         0.         0.\n",
      "  0.         0.         0.         0.         0.         0.        ]\n",
      " [0.         0.         0.         0.         0.         0.         0.         0.         0.         0.         0.\n",
      "  0.         0.         0.         0.         0.         0.         0.         0.         0.         0.         0.\n",
      "  0.         0.         0.         0.         0.         0.        ]\n",
      " [0.         0.         0.         0.         0.         0.         0.         0.         0.         0.         0.\n",
      "  0.         0.         0.         0.         0.         0.         0.         0.         0.         0.         0.\n",
      "  0.         0.         0.         0.         0.         0.        ]] \n",
      "\n"
     ]
    },
    {
     "data": {
      "image/png": "[encoded data removed]",
      "text/plain": [
       "<Figure size 432x288 with 1 Axes>"
      ]
     },
     "metadata": {
      "needs_background": "light"
     },
     "output_type": "display_data"
    }
   ],
   "source": [
    "azar=np.random.randint(len(x_train))\n",
    "print(x_train[azar,:,:,0],'\\n')\n",
    "plt.imshow(x_train[azar,:,:,0],cmap='gray')\n",
    "plt.title('Etiqueta Humana:'+str(y_train[azar]))\n",
    "plt.axis('off')\n",
    "plt.show()"
   ]
  },
  {
   "cell_type": "markdown",
   "id": "fa67f448-c455-4486-b61d-864da422c63e",
   "metadata": {
    "id": "fa67f448-c455-4486-b61d-864da422c63e"
   },
   "source": [
    "## <span style=\"color:#4361EE\">Añade Ruido</span>"
   ]
  },
  {
   "cell_type": "code",
   "execution_count": 8,
   "id": "9b8c72fe-2cc2-4e1c-9c00-f17d322accfb",
   "metadata": {
    "id": "9b8c72fe-2cc2-4e1c-9c00-f17d322accfb"
   },
   "outputs": [],
   "source": [
    "def noise(array):\n",
    "    \"\"\"\n",
    "    Añade ruido a la imagen \n",
    "    \"\"\"\n",
    "    noise_factor = 0.4\n",
    "    noisy_array = array + noise_factor * np.random.normal(\n",
    "        loc=0.0, scale=1.0, size=array.shape\n",
    "    )\n",
    "\n",
    "    return np.clip(noisy_array, 0.0, 1.0) # clip para dejar los valores en [0.0, 1.0]\n",
    "\n",
    "# Crea una copia de los datos con ruido agregado\n",
    "noisy_x_train = noise(x_train)\n",
    "noisy_x_test = noise(x_test)"
   ]
  },
  {
   "cell_type": "markdown",
   "id": "5544c0a5-14ec-4cb8-95e0-ca4854d2aa95",
   "metadata": {
    "id": "5544c0a5-14ec-4cb8-95e0-ca4854d2aa95"
   },
   "source": [
    "## <span style=\"color:#4361EE\">Despliega Imágenes </span>"
   ]
  },
  {
   "cell_type": "code",
   "execution_count": 9,
   "id": "9cc491e7-6c6d-444b-910c-1c2d603ae6dd",
   "metadata": {
    "id": "9cc491e7-6c6d-444b-910c-1c2d603ae6dd"
   },
   "outputs": [
    {
     "data": {
      "image/png": "[encoded data removed]",
      "text/plain": [
       "<Figure size 1440x288 with 20 Axes>"
      ]
     },
     "metadata": {
      "needs_background": "light"
     },
     "output_type": "display_data"
    }
   ],
   "source": [
    "def display(array1, array2):\n",
    "    \"\"\"\n",
    "    Despliega diez imágenes aleatoriamente, de los conjuntos de datos recibidos.\n",
    "    \"\"\"\n",
    "\n",
    "    n = 10\n",
    "\n",
    "    indices = np.random.randint(len(array1), size=n)\n",
    "    images1 = array1[indices, :]\n",
    "    images2 = array2[indices, :]\n",
    "\n",
    "    plt.figure(figsize=(20, 4))\n",
    "    for i, (image1, image2) in enumerate(zip(images1, images2)):\n",
    "        ax = plt.subplot(2, n, i + 1)\n",
    "        plt.imshow(image1.reshape(28, 28))\n",
    "        plt.gray()\n",
    "        ax.get_xaxis().set_visible(False)\n",
    "        ax.get_yaxis().set_visible(False)\n",
    "\n",
    "        ax = plt.subplot(2, n, i + 1 + n)\n",
    "        plt.imshow(image2.reshape(28, 28))\n",
    "        plt.gray()\n",
    "        ax.get_xaxis().set_visible(False)\n",
    "        ax.get_yaxis().set_visible(False)\n",
    "\n",
    "    plt.show()\n",
    "    \n",
    "\n",
    "# despliega algunos datos origonales y su versión con ruido\n",
    "display(x_train, noisy_x_train)    "
   ]
  },
  {
   "cell_type": "markdown",
   "id": "0091fdc2-ac85-493e-89da-14a649a71ae7",
   "metadata": {
    "id": "0091fdc2-ac85-493e-89da-14a649a71ae7"
   },
   "source": [
    "## <span style=\"color:#4361EE\">Autoenconder Convolucional </span>"
   ]
  },
  {
   "cell_type": "code",
   "execution_count": 10,
   "id": "aab46bde-ac26-4fa2-946f-4b57c383ca28",
   "metadata": {
    "colab": {
     "base_uri": "https://localhost:8080/"
    },
    "id": "aab46bde-ac26-4fa2-946f-4b57c383ca28",
    "outputId": "0ea7f4a6-dc25-41d6-8328-ba7893c6f4e0"
   },
   "outputs": [
    {
     "name": "stdout",
     "output_type": "stream",
     "text": [
      "Model: \"model\"\n",
      "_________________________________________________________________\n",
      " Layer (type)                Output Shape              Param #   \n",
      "=================================================================\n",
      " input_1 (InputLayer)        [(None, 28, 28, 1)]       0         \n",
      "                                                                 \n",
      " conv2d (Conv2D)             (None, 28, 28, 32)        320       \n",
      "                                                                 \n",
      " max_pooling2d (MaxPooling2D  (None, 14, 14, 32)       0         \n",
      " )                                                               \n",
      "                                                                 \n",
      " conv2d_1 (Conv2D)           (None, 14, 14, 32)        9248      \n",
      "                                                                 \n",
      " max_pooling2d_1 (MaxPooling  (None, 7, 7, 32)         0         \n",
      " 2D)                                                             \n",
      "                                                                 \n",
      " conv2d_transpose (Conv2DTra  (None, 14, 14, 32)       9248      \n",
      " nspose)                                                         \n",
      "                                                                 \n",
      " conv2d_transpose_1 (Conv2DT  (None, 28, 28, 32)       9248      \n",
      " ranspose)                                                       \n",
      "                                                                 \n",
      " conv2d_2 (Conv2D)           (None, 28, 28, 1)         289       \n",
      "                                                                 \n",
      "=================================================================\n",
      "Total params: 28,353\n",
      "Trainable params: 28,353\n",
      "Non-trainable params: 0\n",
      "_________________________________________________________________\n"
     ]
    }
   ],
   "source": [
    "inputs = layers.Input(shape=(28, 28, 1))\n",
    "\n",
    "# Encoder\n",
    "x = layers.Conv2D(32, (3, 3), activation=\"relu\", padding=\"same\")(inputs)\n",
    "x = layers.MaxPooling2D((2, 2), padding=\"same\")(x)\n",
    "x = layers.Conv2D(32, (3, 3), activation=\"relu\", padding=\"same\")(x)\n",
    "x = layers.MaxPooling2D((2, 2), padding=\"same\")(x)\n",
    "\n",
    "# Decoder\n",
    "x = layers.Conv2DTranspose(32, (3, 3), strides=2, activation=\"relu\", padding=\"same\")(x)\n",
    "x = layers.Conv2DTranspose(32, (3, 3), strides=2, activation=\"relu\", padding=\"same\")(x)\n",
    "x = layers.Conv2D(1, (3, 3), activation=\"sigmoid\", padding=\"same\")(x)\n",
    "\n",
    "# Autoencoder\n",
    "autoencoder = Model(inputs, x)\n",
    "autoencoder.compile(optimizer=\"adam\", loss=\"binary_crossentropy\")\n",
    "autoencoder.summary()"
   ]
  },
  {
   "cell_type": "markdown",
   "id": "b363c5c3-0861-4f4c-841d-3ca611c634cb",
   "metadata": {
    "id": "b363c5c3-0861-4f4c-841d-3ca611c634cb"
   },
   "source": [
    "### <span style=\"color:#4CC9F0\">Entrenar Autoencoder</span>\n"
   ]
  },
  {
   "cell_type": "code",
   "execution_count": 11,
   "id": "651322d4-93b7-4d88-a748-7f02c5e8f75c",
   "metadata": {
    "colab": {
     "base_uri": "https://localhost:8080/"
    },
    "id": "651322d4-93b7-4d88-a748-7f02c5e8f75c",
    "outputId": "ea063b1d-e286-49d4-fcc9-53f1fdd35ed0"
   },
   "outputs": [
    {
     "name": "stdout",
     "output_type": "stream",
     "text": [
      "Epoch 1/20\n",
      "469/469 [==============================] - 122s 258ms/step - loss: 0.1299 - val_loss: 0.0727\n",
      "Epoch 2/20\n",
      "469/469 [==============================] - 128s 273ms/step - loss: 0.0712 - val_loss: 0.0693\n",
      "Epoch 3/20\n",
      "469/469 [==============================] - 125s 266ms/step - loss: 0.0691 - val_loss: 0.0680\n",
      "Epoch 4/20\n",
      "469/469 [==============================] - 129s 276ms/step - loss: 0.0680 - val_loss: 0.0671\n",
      "Epoch 5/20\n",
      "469/469 [==============================] - 130s 278ms/step - loss: 0.0672 - val_loss: 0.0664\n",
      "Epoch 6/20\n",
      "469/469 [==============================] - 132s 282ms/step - loss: 0.0666 - val_loss: 0.0660\n",
      "Epoch 7/20\n",
      "469/469 [==============================] - 117s 249ms/step - loss: 0.0662 - val_loss: 0.0655\n",
      "Epoch 8/20\n",
      "469/469 [==============================] - 117s 250ms/step - loss: 0.0658 - val_loss: 0.0652\n",
      "Epoch 9/20\n",
      "469/469 [==============================] - 117s 249ms/step - loss: 0.0654 - val_loss: 0.0648\n",
      "Epoch 10/20\n",
      "469/469 [==============================] - 111s 237ms/step - loss: 0.0651 - val_loss: 0.0646\n",
      "Epoch 11/20\n",
      "469/469 [==============================] - 112s 239ms/step - loss: 0.0649 - val_loss: 0.0644\n",
      "Epoch 12/20\n",
      "469/469 [==============================] - 114s 242ms/step - loss: 0.0647 - val_loss: 0.0642\n",
      "Epoch 13/20\n",
      "469/469 [==============================] - 114s 243ms/step - loss: 0.0645 - val_loss: 0.0640\n",
      "Epoch 14/20\n",
      "469/469 [==============================] - 115s 245ms/step - loss: 0.0643 - val_loss: 0.0639\n",
      "Epoch 15/20\n",
      "469/469 [==============================] - 117s 250ms/step - loss: 0.0642 - val_loss: 0.0637\n",
      "Epoch 16/20\n",
      "469/469 [==============================] - 111s 236ms/step - loss: 0.0640 - val_loss: 0.0636\n",
      "Epoch 17/20\n",
      "469/469 [==============================] - 110s 235ms/step - loss: 0.0639 - val_loss: 0.0635\n",
      "Epoch 18/20\n",
      "469/469 [==============================] - 116s 248ms/step - loss: 0.0638 - val_loss: 0.0634\n",
      "Epoch 19/20\n",
      "469/469 [==============================] - 115s 244ms/step - loss: 0.0637 - val_loss: 0.0632\n",
      "Epoch 20/20\n",
      "469/469 [==============================] - 110s 234ms/step - loss: 0.0636 - val_loss: 0.0633\n"
     ]
    }
   ],
   "source": [
    "history=autoencoder.fit(\n",
    "    x=x_train,\n",
    "    y=x_train,\n",
    "    epochs=20,\n",
    "    batch_size=128,\n",
    "    shuffle=True,\n",
    "    validation_data=(x_test, x_test),\n",
    ")"
   ]
  },
  {
   "cell_type": "code",
   "execution_count": 12,
   "id": "ZP_tf_u7TpT3",
   "metadata": {
    "colab": {
     "base_uri": "https://localhost:8080/",
     "height": 265
    },
    "id": "ZP_tf_u7TpT3",
    "outputId": "4a9d17a8-15e3-40f1-ae3a-73fba61e69b3"
   },
   "outputs": [
    {
     "data": {
      "image/png": "[encoded data removed]",
      "text/plain": [
       "<Figure size 432x288 with 1 Axes>"
      ]
     },
     "metadata": {
      "needs_background": "light"
     },
     "output_type": "display_data"
    }
   ],
   "source": [
    "plt.plot(history.history['loss'][1:],'bo-')\n",
    "plt.plot(history.history['val_loss'][-20:],'ro-')\n",
    "plt.grid()\n",
    "plt.show()"
   ]
  },
  {
   "cell_type": "markdown",
   "id": "511a395c-8077-4aa2-bc3c-0ca21a6675ab",
   "metadata": {
    "id": "511a395c-8077-4aa2-bc3c-0ca21a6675ab"
   },
   "source": [
    "### <span style=\"color:#4CC9F0\">Mostrar Recuperación</span>\n"
   ]
  },
  {
   "cell_type": "code",
   "execution_count": 13,
   "id": "a277183d-1c2b-4503-88cb-e21632a9ad96",
   "metadata": {
    "colab": {
     "base_uri": "https://localhost:8080/",
     "height": 248
    },
    "id": "a277183d-1c2b-4503-88cb-e21632a9ad96",
    "outputId": "42885d30-569f-463e-9cae-45cf6886bd33"
   },
   "outputs": [
    {
     "data": {
      "image/png": "[encoded data removed]",
      "text/plain": [
       "<Figure size 1440x288 with 20 Axes>"
      ]
     },
     "metadata": {
      "needs_background": "light"
     },
     "output_type": "display_data"
    }
   ],
   "source": [
    "predictions = autoencoder.predict(x_test)\n",
    "display(x_test, predictions)"
   ]
  },
  {
   "cell_type": "markdown",
   "id": "cc8b19df-6e5c-4263-aaf2-53cdb3a965ef",
   "metadata": {
    "id": "cc8b19df-6e5c-4263-aaf2-53cdb3a965ef"
   },
   "source": [
    "### <span style=\"color:#4CC9F0\">Entrenar sobre imágenes ruidosas</span>\n"
   ]
  },
  {
   "cell_type": "code",
   "execution_count": 14,
   "id": "5KtweSkpUbzQ",
   "metadata": {
    "id": "5KtweSkpUbzQ"
   },
   "outputs": [],
   "source": [
    "autoencoder2 = Model(inputs, x)\n",
    "autoencoder2.compile(optimizer=\"adam\", loss=\"binary_crossentropy\")"
   ]
  },
  {
   "cell_type": "code",
   "execution_count": 15,
   "id": "273ddbee-4580-4e4d-ac59-056b3895fa58",
   "metadata": {
    "colab": {
     "base_uri": "https://localhost:8080/"
    },
    "id": "273ddbee-4580-4e4d-ac59-056b3895fa58",
    "outputId": "495bd38f-1977-44f4-e537-70be0e053235"
   },
   "outputs": [
    {
     "name": "stdout",
     "output_type": "stream",
     "text": [
      "Epoch 1/100\n",
      "469/469 [==============================] - 119s 249ms/step - loss: 0.0980 - val_loss: 0.0923\n",
      "Epoch 2/100\n",
      "469/469 [==============================] - 113s 242ms/step - loss: 0.0918 - val_loss: 0.0903\n",
      "Epoch 3/100\n",
      "469/469 [==============================] - 118s 252ms/step - loss: 0.0902 - val_loss: 0.0891\n",
      "Epoch 4/100\n",
      "469/469 [==============================] - 115s 245ms/step - loss: 0.0892 - val_loss: 0.0884\n",
      "Epoch 5/100\n",
      "469/469 [==============================] - 116s 248ms/step - loss: 0.0886 - val_loss: 0.0878\n",
      "Epoch 6/100\n",
      "469/469 [==============================] - 117s 250ms/step - loss: 0.0881 - val_loss: 0.0874\n",
      "Epoch 7/100\n",
      "469/469 [==============================] - 119s 253ms/step - loss: 0.0877 - val_loss: 0.0870\n",
      "Epoch 8/100\n",
      "469/469 [==============================] - 116s 247ms/step - loss: 0.0874 - val_loss: 0.0868\n",
      "Epoch 9/100\n",
      "469/469 [==============================] - 119s 254ms/step - loss: 0.0871 - val_loss: 0.0865\n",
      "Epoch 10/100\n",
      "469/469 [==============================] - 120s 257ms/step - loss: 0.0869 - val_loss: 0.0866\n",
      "Epoch 11/100\n",
      "469/469 [==============================] - 119s 254ms/step - loss: 0.0867 - val_loss: 0.0861\n",
      "Epoch 12/100\n",
      "469/469 [==============================] - 118s 251ms/step - loss: 0.0865 - val_loss: 0.0860\n",
      "Epoch 13/100\n",
      "469/469 [==============================] - 119s 253ms/step - loss: 0.0864 - val_loss: 0.0858\n",
      "Epoch 14/100\n",
      "469/469 [==============================] - 119s 254ms/step - loss: 0.0862 - val_loss: 0.0857\n",
      "Epoch 15/100\n",
      "469/469 [==============================] - 121s 257ms/step - loss: 0.0861 - val_loss: 0.0855\n",
      "Epoch 16/100\n",
      "469/469 [==============================] - 89s 191ms/step - loss: 0.0860 - val_loss: 0.0854\n",
      "Epoch 17/100\n",
      " 19/469 [>.............................] - ETA: 1:29 - loss: 0.0859"
     ]
    }
   ],
   "source": [
    "history2=autoencoder2.fit(\n",
    "    x=noisy_x_train,\n",
    "    y=x_train,\n",
    "    epochs=100,\n",
    "    batch_size=128,\n",
    "    shuffle=True,\n",
    "    validation_data=(noisy_x_test, x_test),\n",
    ")"
   ]
  },
  {
   "cell_type": "code",
   "execution_count": null,
   "id": "EhTpNpdNTg5f",
   "metadata": {
    "colab": {
     "base_uri": "https://localhost:8080/",
     "height": 265
    },
    "id": "EhTpNpdNTg5f",
    "outputId": "14f31679-1898-4fb1-b5f4-76eeeb402a64"
   },
   "outputs": [
    {
     "ename": "NameError",
     "evalue": "name 'history2' is not defined",
     "output_type": "error",
     "traceback": [
      "\u001b[1;31m---------------------------------------------------------------------------\u001b[0m",
      "\u001b[1;31mNameError\u001b[0m                                 Traceback (most recent call last)",
      "\u001b[1;32m~\\AppData\\Local\\Temp/ipykernel_4228/1720115183.py\u001b[0m in \u001b[0;36m<module>\u001b[1;34m\u001b[0m\n\u001b[1;32m----> 1\u001b[1;33m \u001b[0mplt\u001b[0m\u001b[1;33m.\u001b[0m\u001b[0mplot\u001b[0m\u001b[1;33m(\u001b[0m\u001b[0mhistory2\u001b[0m\u001b[1;33m.\u001b[0m\u001b[0mhistory\u001b[0m\u001b[1;33m[\u001b[0m\u001b[1;34m'loss'\u001b[0m\u001b[1;33m]\u001b[0m\u001b[1;33m[\u001b[0m\u001b[1;33m-\u001b[0m\u001b[1;36m60\u001b[0m\u001b[1;33m:\u001b[0m\u001b[1;33m]\u001b[0m\u001b[1;33m,\u001b[0m\u001b[1;34m'bo-'\u001b[0m\u001b[1;33m)\u001b[0m\u001b[1;33m\u001b[0m\u001b[1;33m\u001b[0m\u001b[0m\n\u001b[0m\u001b[0;32m      2\u001b[0m \u001b[0mplt\u001b[0m\u001b[1;33m.\u001b[0m\u001b[0mplot\u001b[0m\u001b[1;33m(\u001b[0m\u001b[0mhistory2\u001b[0m\u001b[1;33m.\u001b[0m\u001b[0mhistory\u001b[0m\u001b[1;33m[\u001b[0m\u001b[1;34m'val_loss'\u001b[0m\u001b[1;33m]\u001b[0m\u001b[1;33m[\u001b[0m\u001b[1;33m-\u001b[0m\u001b[1;36m60\u001b[0m\u001b[1;33m:\u001b[0m\u001b[1;33m]\u001b[0m\u001b[1;33m,\u001b[0m\u001b[1;34m'ro-'\u001b[0m\u001b[1;33m)\u001b[0m\u001b[1;33m\u001b[0m\u001b[1;33m\u001b[0m\u001b[0m\n\u001b[0;32m      3\u001b[0m \u001b[0mplt\u001b[0m\u001b[1;33m.\u001b[0m\u001b[0mgrid\u001b[0m\u001b[1;33m(\u001b[0m\u001b[1;33m)\u001b[0m\u001b[1;33m\u001b[0m\u001b[1;33m\u001b[0m\u001b[0m\n\u001b[0;32m      4\u001b[0m \u001b[0mplt\u001b[0m\u001b[1;33m.\u001b[0m\u001b[0mshow\u001b[0m\u001b[1;33m(\u001b[0m\u001b[1;33m)\u001b[0m\u001b[1;33m\u001b[0m\u001b[1;33m\u001b[0m\u001b[0m\n",
      "\u001b[1;31mNameError\u001b[0m: name 'history2' is not defined"
     ]
    }
   ],
   "source": [
    "plt.plot(history2.history['loss'][-60:],'bo-')\n",
    "plt.plot(history2.history['val_loss'][-60:],'ro-')\n",
    "plt.grid()\n",
    "plt.show()"
   ]
  },
  {
   "cell_type": "markdown",
   "id": "7cbcc5e4",
   "metadata": {},
   "source": [
    "### <span style=\"color:#4CC9F0\">Ver Predicciones</span>\n"
   ]
  },
  {
   "cell_type": "code",
   "execution_count": null,
   "id": "46209796-25bc-4882-9911-ff7a690cbbe1",
   "metadata": {
    "colab": {
     "base_uri": "https://localhost:8080/",
     "height": 248
    },
    "id": "46209796-25bc-4882-9911-ff7a690cbbe1",
    "outputId": "95b228b1-8803-4ac2-c4d4-47b92e32ff37"
   },
   "outputs": [
    {
     "data": {
      "image/png": "[encoded data removed]",
      "text/plain": [
       "<Figure size 1440x288 with 20 Axes>"
      ]
     },
     "metadata": {
      "needs_background": "light"
     },
     "output_type": "display_data"
    }
   ],
   "source": [
    "predictions = autoencoder.predict(noisy_x_test)\n",
    "display(noisy_x_test, predictions)"
   ]
  },
  {
   "cell_type": "code",
   "execution_count": null,
   "id": "8b710eec-270e-4779-9e37-f3e7c63fc70e",
   "metadata": {},
   "outputs": [],
   "source": []
  }
 ],
 "metadata": {
  "accelerator": "GPU",
  "colab": {
   "collapsed_sections": [],
   "name": "ae_Eliminacion_ruido_MNIST.ipynb",
   "provenance": []
  },
  "interpreter": {
   "hash": "cf92aa13fedf815d5c8dd192b8d835913fde3e8bc926b2a0ad6cc74ef2ba3ca2"
  },
  "kernelspec": {
   "display_name": "Python 3.9.8 64-bit",
   "language": "python",
   "name": "python3"
  },
  "language_info": {
   "codemirror_mode": {
    "name": "ipython",
    "version": 3
   },
   "file_extension": ".py",
   "mimetype": "text/x-python",
   "name": "python",
   "nbconvert_exporter": "python",
   "pygments_lexer": "ipython3",
   "version": "3.9.8"
  }
 },
 "nbformat": 4,
 "nbformat_minor": 5
}
