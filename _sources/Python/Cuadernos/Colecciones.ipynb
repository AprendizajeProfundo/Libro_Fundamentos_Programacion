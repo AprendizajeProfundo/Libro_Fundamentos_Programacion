{
 "cells": [
  {
   "cell_type": "markdown",
   "id": "04b97205",
   "metadata": {},
   "source": [
    "# <span style=\"color:#F72585\">Listas, Tuplas y Diccionarios en Python</span>\n"
   ]
  },
  {
   "cell_type": "markdown",
   "id": "public-tuition",
   "metadata": {},
   "source": [
    "## <span style=\"color:#4361EE\">Introducción</span>"
   ]
  },
  {
   "cell_type": "markdown",
   "id": "settled-heavy",
   "metadata": {
    "colab_type": "text",
    "id": "Qwzm74tvByHP"
   },
   "source": [
    "Este es un cuaderno introductorio a las colecciones como tuplas, listas y diccionarios en Python. Para una introducción más extensa, ir [aquí](https://www.w3schools.com/python/). Empezamos con el concepto de Iterables e iteradores."
   ]
  },
  {
   "cell_type": "markdown",
   "id": "human-revision",
   "metadata": {},
   "source": [
    "## <span style=\"color:#4361EE\">Iterables e iteradores</span>"
   ]
  },
  {
   "cell_type": "markdown",
   "id": "naval-semiconductor",
   "metadata": {},
   "source": [
    "Hay dos protocolos que es muy probable tenga que utilizar, o posiblemente necesite\n",
    "implementar en algún momento; estos son el protocolo Iterable y el protocolo Iterador. \n",
    "Estos dos protocolos están estrechamente relacionados y son muy utilizados y respaldados por un\n",
    "gran cantidad de tipos.\n",
    "\n",
    "Una de las razones por las que los iteradores y los iterables son importados es que se pueden usar con\n",
    "sentencias *for* en Python; esto hace  que sea muy fácil integrar un iterable en el código\n",
    "que necesita procesar una secuencia de valores a su vez"
   ]
  },
  {
   "cell_type": "markdown",
   "id": "2ee7501d",
   "metadata": {},
   "source": [
    "### <span style=\"color:#4CC9F0\">Iterables</span>\n"
   ]
  },
  {
   "cell_type": "markdown",
   "id": "exclusive-singapore",
   "metadata": {},
   "source": [
    "El protocolo Iterable es utilizado por tipos donde es posible procesar su contenido.\n",
    "uno a la vez.\n",
    "\n",
    "Un Iterable es un objeto que proporcionará un Iterador que puede ser\n",
    "utilizado para realizar este procesamiento.\n",
    "\n",
    "Como tal, el iterable no es el iterador en sí mismo; sino el proveedor del iterador.\n",
    "\n",
    "Hay muchos tipos iterables en Python, incluidas listas, conjuntos, diccionarios,\n",
    "tuplas, etc. Todos estos son contenedores iterables que proporcionarán un iterador.\n",
    "\n",
    "Es posible además construir clases que generen iteradores personalizados. De momento trabajaremos con los tipos que ya lo soportan, mencionados arriba."
   ]
  },
  {
   "cell_type": "markdown",
   "id": "0cdb40ab",
   "metadata": {},
   "source": [
    "### <span style=\"color:#4CC9F0\">Iteradores</span>\n"
   ]
  },
  {
   "cell_type": "markdown",
   "id": "institutional-teddy",
   "metadata": {},
   "source": [
    "Un iterador es un objeto que devolverá una secuencia de valores. \n",
    "\n",
    "Los iteradores pueden ser finitos de longitud o infinito (aunque la mayoría de  iteradores orientados a contenedores proporcionan un conjunto fijo de valores.\n"
   ]
  },
  {
   "cell_type": "markdown",
   "id": "089583e1",
   "metadata": {},
   "source": [
    "### <span style=\"color:#4CC9F0\">Generadores</span>\n"
   ]
  },
  {
   "cell_type": "markdown",
   "id": "leading-aurora",
   "metadata": {},
   "source": [
    "Un generador es una función especial que se puede utilizar para generar una secuencia de\n",
    "valores que se van a iterar sobre  demanda (es decir, cuando se necesitan los valores) en lugar de\n",
    "que producido todo por adelantado.\n",
    "\n",
    "Lo único que hace que una función  generadora trabaje como generador es el uso de\n",
    "palabra clave *yield*."
   ]
  },
  {
   "cell_type": "markdown",
   "id": "22cb9f35",
   "metadata": {},
   "source": [
    "### <span style=\"color:#4CC9F0\">Ejemplo de una función generadora</span>\n"
   ]
  },
  {
   "cell_type": "code",
   "execution_count": 180,
   "id": "aware-relief",
   "metadata": {},
   "outputs": [],
   "source": [
    "def gen_numbers():\n",
    "    yield 1\n",
    "    yield 2\n",
    "    yield 3"
   ]
  },
  {
   "cell_type": "markdown",
   "id": "interim-greene",
   "metadata": {},
   "source": [
    "Esta es una función generadora, ya que tiene al menos una declaración *yield* (de hecho, tiene\n",
    "Tres). \n",
    "\n",
    "Cada vez que se llama a la función *gen_numbers ()* dentro de una instrucción *for*\n",
    "devolverá uno de los valores asociados con una declaración *yield*; en este caso el\n",
    "valor 1, luego el valor 2 y finalmente el valor 3 antes de que regrese (termine). \n",
    "\n",
    "Ahora construimos una ciclo *for* que va llamando los números a la medida que los necesita. Observe que la variable *i* en este ejemplos es un iterador entregado por la función *gen_numbers()*."
   ]
  },
  {
   "cell_type": "code",
   "execution_count": 181,
   "id": "based-creator",
   "metadata": {},
   "outputs": [
    {
     "name": "stdout",
     "output_type": "stream",
     "text": [
      "1\n",
      "2\n",
      "3\n"
     ]
    }
   ],
   "source": [
    "for i in gen_numbers():\n",
    "    print(i)"
   ]
  },
  {
   "cell_type": "markdown",
   "id": "hundred-scenario",
   "metadata": {},
   "source": [
    "Para enteder un poco mejor como se ejecuta *yield* discuta en clase el siguiente fragmento (snnipet) de código."
   ]
  },
  {
   "cell_type": "code",
   "execution_count": 182,
   "id": "immune-elite",
   "metadata": {},
   "outputs": [
    {
     "name": "stdout",
     "output_type": "stream",
     "text": [
      "Start\n",
      "1\n",
      "Continue\n",
      "2\n",
      "Final\n",
      "3\n",
      "End\n"
     ]
    }
   ],
   "source": [
    "def gen_numbers2():\n",
    "    print('Start')\n",
    "    yield 1\n",
    "    print('Continue')\n",
    "    yield 2\n",
    "    print('Final')\n",
    "    yield 3\n",
    "    print('End')\n",
    "\n",
    "for i in gen_numbers2():\n",
    "    print(i)"
   ]
  },
  {
   "cell_type": "markdown",
   "id": "353c7c61",
   "metadata": {},
   "source": [
    "### <span style=\"color:#4CC9F0\">Creación de una clase iterable</span>\n"
   ]
  },
  {
   "cell_type": "markdown",
   "id": "communist-tattoo",
   "metadata": {},
   "source": [
    "Más adelante veremos clases a plenitud. Aquí introducimos una clase muy sencilla para mostrar como crear un iterable personalizado."
   ]
  },
  {
   "cell_type": "code",
   "execution_count": 183,
   "id": "noticed-wilderness",
   "metadata": {},
   "outputs": [],
   "source": [
    "class Evens(object):\n",
    "    def __init__(self, limit):\n",
    "        self.limit = limit\n",
    "        self.val = 0\n",
    "    \n",
    "    # Hace esta clase iterable\n",
    "    def __iter__(self):\n",
    "        return self\n",
    "    \n",
    "    # Hace esta clase un iterador\n",
    "    def __next__(self):\n",
    "        if self.val > self.limit:\n",
    "            raise StopIteration\n",
    "        else:\n",
    "            return_val = self.val\n",
    "            self.val += 2\n",
    "            return return_val"
   ]
  },
  {
   "cell_type": "markdown",
   "id": "8f11a93e-c1d1-4bb7-8799-e67400a15d41",
   "metadata": {},
   "source": [
    "\n",
    "Solamente vamos a resaltar unas pocas cosas de esta clase *Events*\n",
    "\n",
    "+ El método  \\_\\_iter__()  retorna *self*; este es un patrón muy común y asume que la clase también implementa el protocolo iterador.\n",
    "+ El método  \\_\\_next__() retorna el siguiente valor en la secuencia o dispara una excepción con *StopIteration* para indicar que no hay más valores dsiponibles.\n",
    "\n",
    "\n",
    "El protocolo implica que cuando Python encuentra la definición de la función \\_\\_iter__() construye la maquinaria para que la clase sea un iterable. De la misma forma, cuando encuentra la función \\_\\_next__() construye la maquinaria para que la clase entregue un iterador.\n",
    "\n",
    "\n",
    "Veámos en acción *Evens*. Discuta en la clase."
   ]
  },
  {
   "cell_type": "code",
   "execution_count": 184,
   "id": "sunset-moderator",
   "metadata": {},
   "outputs": [
    {
     "name": "stdout",
     "output_type": "stream",
     "text": [
      "¡Empezamos\n",
      "0, 2, 4, 6, 8, 10, 12, 14, 16, \n",
      "Hecho!\n"
     ]
    }
   ],
   "source": [
    "print('¡Empezamos')\n",
    "for i in Evens(16):\n",
    "    print(i,end=', ')\n",
    "print('\\nHecho!')"
   ]
  },
  {
   "cell_type": "markdown",
   "id": "colored-preview",
   "metadata": {},
   "source": [
    "## <span style=\"color:#4361EE\">Colecciones</span>"
   ]
  },
  {
   "cell_type": "markdown",
   "id": "peaceful-juice",
   "metadata": {},
   "source": [
    "Una colección es un contenedor de objetos del mismo tipo. Por defecto en Python existen cuatro tipos de contenedores:\n",
    "\n",
    "- **Tuplas (tuple).** Esta es una colección de objetos que están ordenados y son inmutables (no pueden modificarse). Las tuplas admiten elementos repetidos y sus miembros son indexados.\n",
    "\n",
    "- **Listas (list).** Son colecciones de objetos que están ordenado y son mutables, es decir, sus contenidos pueden ser modificados. Los elementos son indexados y permite duplicados.\n",
    "\n",
    "- **Conjuntos (set).** Son contenedores de datos que no son ordenados ni indexados. Son mutables, pero no admiten duplicados.\n",
    "\n",
    "- **Diccionarios (dictionary)** Son contenedores no ordenados, que son indexados mediante una clave, la cual referencia a un valor. El valor es retornado cuando se le solicita con la clave. No se admiten claves repetidas, pero si valores repetidos.\n",
    "\n",
    "Recuerde que todo en Python es realmente un tipo de objeto."
   ]
  },
  {
   "cell_type": "markdown",
   "id": "joined-remains",
   "metadata": {},
   "source": [
    "## <span style=\"color:#4361EE\">Tuplas</span>"
   ]
  },
  {
   "cell_type": "markdown",
   "id": "funny-ocean",
   "metadata": {},
   "source": [
    "Las tuplas se crean y se reconocen porque los elementos se escriben entre paréntesis circulares: '()'. Por ejemplo tupla1 en la siguiente línea define una tupla."
   ]
  },
  {
   "cell_type": "code",
   "execution_count": 185,
   "id": "comfortable-reference",
   "metadata": {},
   "outputs": [],
   "source": [
    "tupla1 = (1,3,5,7)"
   ]
  },
  {
   "cell_type": "markdown",
   "id": "western-license",
   "metadata": {},
   "source": [
    "Cada elemento de la tupla está indexado. Por ejemplo, discuta el siguiente snippet de código."
   ]
  },
  {
   "cell_type": "code",
   "execution_count": 186,
   "id": "tough-marks",
   "metadata": {},
   "outputs": [
    {
     "name": "stdout",
     "output_type": "stream",
     "text": [
      "Acceso a la tupla con iterator\n",
      "1\n",
      "3\n",
      "5\n",
      "7\n",
      "Acceso al tupla con índices\n",
      "0 1\n",
      "1 3\n",
      "2 5\n",
      "3 7\n"
     ]
    }
   ],
   "source": [
    "print ('Acceso a la tupla con iterator')\n",
    "for i in tupla1:\n",
    "    print(i)\n",
    "\n",
    "print('Acceso al tupla con índices')\n",
    "for i in range(len(tupla1)):\n",
    "    print(i, tupla1[i] )"
   ]
  },
  {
   "cell_type": "markdown",
   "id": "3ee8ef24",
   "metadata": {},
   "source": [
    "### <span style=\"color:#4CC9F0\">Constructor de tuplas: tuple(iterable)</span>\n"
   ]
  },
  {
   "cell_type": "markdown",
   "id": "coated-possession",
   "metadata": {},
   "source": [
    "Una tupla puede crearse a partir de cualquier objeto iterable. Por ejemplo:"
   ]
  },
  {
   "cell_type": "code",
   "execution_count": 187,
   "id": "featured-rubber",
   "metadata": {},
   "outputs": [
    {
     "name": "stdout",
     "output_type": "stream",
     "text": [
      "(1, 2, 3)\n"
     ]
    }
   ],
   "source": [
    "lista1 = [1,2,3]\n",
    "tupla2 = tuple(lista1)\n",
    "print(tupla2)"
   ]
  },
  {
   "cell_type": "markdown",
   "id": "signed-wells",
   "metadata": {},
   "source": [
    "Observe como los valores de la lista pueden modificarse pero no los de la tupla"
   ]
  },
  {
   "cell_type": "code",
   "execution_count": 188,
   "id": "raising-opportunity",
   "metadata": {},
   "outputs": [
    {
     "name": "stdout",
     "output_type": "stream",
     "text": [
      "[5, 2, 3]\n"
     ]
    }
   ],
   "source": [
    "lista1[0] = 5\n",
    "print(lista1)"
   ]
  },
  {
   "cell_type": "code",
   "execution_count": 189,
   "id": "covered-screw",
   "metadata": {},
   "outputs": [
    {
     "name": "stdout",
     "output_type": "stream",
     "text": [
      "problema encontrado\n"
     ]
    }
   ],
   "source": [
    "try: \n",
    "    tupla2[0] = 5\n",
    "    print(tupla2)\n",
    "except: \n",
    "    print(\"problema encontrado\")"
   ]
  },
  {
   "cell_type": "markdown",
   "id": "615077e0",
   "metadata": {},
   "source": [
    "### <span style=\"color:#4CC9F0\">Uso de índices con tuplas</span>\n"
   ]
  },
  {
   "cell_type": "markdown",
   "id": "organizational-commons",
   "metadata": {},
   "source": [
    "Observe las siguientes salidas"
   ]
  },
  {
   "cell_type": "code",
   "execution_count": 190,
   "id": "blocked-dodge",
   "metadata": {},
   "outputs": [
    {
     "name": "stdout",
     "output_type": "stream",
     "text": [
      "tupla1:\t (1, 3, 5, 7)\n",
      "tupla1[:3]:\t (1, 3, 5)\n",
      "tupla1[1:]:\t (3, 5, 7)\n",
      "tupla1[0:1]:\t (1,)\n",
      "tupla1[1:-1]:\t (3, 5)\n",
      "tupla1[:-1]:\t (1, 3, 5)\n",
      "tupla1[:]:\t (1, 3, 5, 7)\n",
      "tupla1[::2]:\t (1, 5)\n"
     ]
    }
   ],
   "source": [
    "print('tupla1:\\t',tupla1)\n",
    "print('tupla1[:3]:\\t', tupla1[:3])\n",
    "print('tupla1[1:]:\\t', tupla1[1:])\n",
    "print('tupla1[0:1]:\\t', tupla1[0:1])\n",
    "print('tupla1[1:-1]:\\t', tupla1[1:-1])\n",
    "print('tupla1[:-1]:\\t', tupla1[:-1])\n",
    "print('tupla1[:]:\\t', tupla1[:])\n",
    "print('tupla1[::2]:\\t', tupla1[::2])"
   ]
  },
  {
   "cell_type": "markdown",
   "id": "downtown-northeast",
   "metadata": {},
   "source": [
    "De especial atención son las tres últimas líneas. El valor -1 se usa para indicar el final del objeto.\n",
    "\n",
    "La ausencia de valores indica se toma desde el extremo (izquierdo o derecho) del objeto indexable. \n",
    "\n",
    "El tercer índice, introducido en Python, se utiliza como valor de salto al recuperar los elementos de la tupla. La última línea del ejemplo indica tomar cada dos posiciones. Como inicia en cero (0) tomas la posiciones 0 y 2."
   ]
  },
  {
   "cell_type": "markdown",
   "id": "bb097d80",
   "metadata": {},
   "source": [
    "### <span style=\"color:#4CC9F0\">Las tuplas pueden contener diferentes tipos</span>\n"
   ]
  },
  {
   "cell_type": "markdown",
   "id": "neural-disability",
   "metadata": {},
   "source": [
    "Por ejemplo en el siguiente fragmento *tup2* es una tupla que contiene un entero, un string, un tupla y un float."
   ]
  },
  {
   "cell_type": "code",
   "execution_count": 191,
   "id": "sticky-mumbai",
   "metadata": {},
   "outputs": [
    {
     "name": "stdout",
     "output_type": "stream",
     "text": [
      "1\n",
      "John\n",
      "(1, 3, 5, 7)\n",
      "True\n",
      "-23.1\n"
     ]
    }
   ],
   "source": [
    "tup2 = (1,\"John\", tupla1, True, -23.1)\n",
    "\n",
    "for i in tup2:\n",
    "    print(i)"
   ]
  },
  {
   "cell_type": "markdown",
   "id": "forced-personality",
   "metadata": {},
   "source": [
    "## <span style=\"color:#4361EE\">Listas</span>"
   ]
  },
  {
   "cell_type": "markdown",
   "id": "convinced-saint",
   "metadata": {},
   "source": [
    "Las listas son contenedores mutables y ordenados de objetos. Las listas se distinguen porque sus elementos están encerrados entre paréntesis cuadrados. Por ejemplo:"
   ]
  },
  {
   "cell_type": "code",
   "execution_count": 192,
   "id": "alpha-desire",
   "metadata": {},
   "outputs": [
    {
     "name": "stdout",
     "output_type": "stream",
     "text": [
      "Alvaro Daniel Pilar Beatriz \n"
     ]
    }
   ],
   "source": [
    "lista1 = ['Alvaro', 'Daniel', 'Pilar', 'Beatriz']\n",
    "\n",
    "for i in lista1:\n",
    "    print(i, end=' ')\n",
    "print('')"
   ]
  },
  {
   "cell_type": "markdown",
   "id": "nutritional-helmet",
   "metadata": {},
   "source": [
    "Una lista puede contener objetos muy complejos. Por ejemplo observe detenidamente la siguiente construcción."
   ]
  },
  {
   "cell_type": "code",
   "execution_count": 193,
   "id": "binary-statement",
   "metadata": {},
   "outputs": [
    {
     "name": "stdout",
     "output_type": "stream",
     "text": [
      "t1= (1, 'Oleg', 24.5)\n",
      "l1= ['Maria', 'Bonita']\n",
      "l2= [(1, 'Oleg', 24.5), ['Maria', 'Bonita']]\n",
      "t2= ([(1, 'Oleg', 24.5), ['Maria', 'Bonita']], 'manzana')\n"
     ]
    }
   ],
   "source": [
    "t1 = (1, 'Oleg', 24.5)\n",
    "l1 = ['Maria', 'Bonita']\n",
    "l2 = [t1, l1]\n",
    "t2 = (l2,'manzana')\n",
    "\n",
    "print('t1=', t1)\n",
    "print('l1=', l1)\n",
    "print('l2=', l2)\n",
    "print('t2=', t2)\n"
   ]
  },
  {
   "cell_type": "markdown",
   "id": "2497babe",
   "metadata": {},
   "source": [
    "### <span style=\"color:#4CC9F0\">Acceso a los elementos de una lista</span>\n"
   ]
  },
  {
   "cell_type": "markdown",
   "id": "ad5f93bb-f9ee-4298-bcef-9d733ef8a394",
   "metadata": {},
   "source": [
    "Vamos a acceder a los elementos individuales de las listas y tuplas creadas arriba."
   ]
  },
  {
   "cell_type": "code",
   "execution_count": 194,
   "id": "least-gabriel",
   "metadata": {},
   "outputs": [
    {
     "name": "stdout",
     "output_type": "stream",
     "text": [
      "1\n",
      "Oleg\n",
      "24.5\n",
      "\n",
      "\n",
      "Maria\n",
      "Bonita\n",
      "\n",
      "\n",
      "(1, 'Oleg', 24.5)\n",
      "['Maria', 'Bonita']\n",
      "\n",
      "\n",
      "[(1, 'Oleg', 24.5), ['Maria', 'Bonita']]\n",
      "manzana\n"
     ]
    }
   ],
   "source": [
    "for i in t1:\n",
    "    print(i)\n",
    "print('\\n')\n",
    "\n",
    "for i in l1:\n",
    "    print(i) \n",
    "print('\\n')\n",
    "\n",
    "for i in l2:\n",
    "    print(i)\n",
    "print('\\n')\n",
    "\n",
    "for i in t2:\n",
    "    print(i)"
   ]
  },
  {
   "cell_type": "markdown",
   "id": "aggressive-crack",
   "metadata": {},
   "source": [
    "Ahora accedamos al interior de las estructuras complejas."
   ]
  },
  {
   "cell_type": "code",
   "execution_count": 195,
   "id": "healthy-entertainment",
   "metadata": {},
   "outputs": [
    {
     "name": "stdout",
     "output_type": "stream",
     "text": [
      "[(1, 'Oleg', 24.5), ['Maria', 'Bonita']]\n",
      "manzana\n",
      "\n",
      "\n",
      "(1, 'Oleg', 24.5)\n",
      "['Maria', 'Bonita']\n",
      "\n",
      "\n",
      "1\n",
      "Oleg\n",
      "24.5\n",
      "\n",
      "\n",
      "Maria\n",
      "Bonita\n",
      "24.5\n",
      "\n",
      "\n"
     ]
    }
   ],
   "source": [
    "print(t2[0])\n",
    "print(t2[1])\n",
    "print('\\n')\n",
    "\n",
    "print(t2[0][0])\n",
    "print(t2[0][1])\n",
    "print('\\n')\n",
    "\n",
    "print(t2[0][0][0])\n",
    "print(t2[0][0][1])\n",
    "print(t2[0][0][2])\n",
    "print('\\n')\n",
    "\n",
    "print(t2[0][1][0])\n",
    "print(t2[0][1][1])\n",
    "print(t2[0][0][2])\n",
    "print('\\n')"
   ]
  },
  {
   "cell_type": "markdown",
   "id": "magnetic-abortion",
   "metadata": {},
   "source": [
    "Por favor asegúrese de entender completamente la lógica del anterior ejemplo."
   ]
  },
  {
   "cell_type": "markdown",
   "id": "9fbf28af",
   "metadata": {},
   "source": [
    "### <span style=\"color:#4CC9F0\">Constructor de lista</span>\n"
   ]
  },
  {
   "cell_type": "markdown",
   "id": "configured-european",
   "metadata": {},
   "source": [
    "*list(iterable)*\n",
    "\n",
    "Por ejemplo"
   ]
  },
  {
   "cell_type": "code",
   "execution_count": 196,
   "id": "accepted-specification",
   "metadata": {},
   "outputs": [
    {
     "name": "stdout",
     "output_type": "stream",
     "text": [
      "('a', 'e', 'i', 'o', 'u')\n",
      "['a', 'e', 'i', 'o', 'u']\n"
     ]
    }
   ],
   "source": [
    "vocalTupla = ('a', 'e','i','o','u')\n",
    "vocalLista = list(vocalTupla )\n",
    "\n",
    "print(vocalTupla)\n",
    "print(vocalLista)"
   ]
  },
  {
   "cell_type": "markdown",
   "id": "9d89645f",
   "metadata": {},
   "source": [
    "### <span style=\"color:#4CC9F0\">Adicionar elementos a una lista</span>\n"
   ]
  },
  {
   "cell_type": "markdown",
   "id": "infinite-flash",
   "metadata": {},
   "source": [
    "*lista.append(objeto)*\n",
    "\n",
    "Veamos el siguiente ejemplo"
   ]
  },
  {
   "cell_type": "code",
   "execution_count": 197,
   "id": "honey-appliance",
   "metadata": {},
   "outputs": [
    {
     "name": "stdout",
     "output_type": "stream",
     "text": [
      "alfabeto es un objeto string:  <class 'str'>\n"
     ]
    }
   ],
   "source": [
    "alfabeto = 'abcdefghijklmnñopqrstuvwxyz'\n",
    "print( 'alfabeto es un objeto string: ',type(alfabeto))"
   ]
  },
  {
   "cell_type": "markdown",
   "id": "unsigned-contents",
   "metadata": {},
   "source": [
    "Vamos a crear una lista vacía y la vamos a llenar con cada uno de los elementos de *alfabeto*"
   ]
  },
  {
   "cell_type": "code",
   "execution_count": 198,
   "id": "changing-disposal",
   "metadata": {},
   "outputs": [
    {
     "name": "stdout",
     "output_type": "stream",
     "text": [
      "['a', 'b', 'c', 'd', 'e', 'f', 'g', 'h', 'i', 'j', 'k', 'l', 'm', 'n', 'ñ', 'o', 'p', 'q', 'r', 's', 't', 'u', 'v', 'w', 'x', 'y', 'z']\n"
     ]
    }
   ],
   "source": [
    "alfaL = []\n",
    "\n",
    "for i in alfabeto:\n",
    "    alfaL.append(i)\n",
    "\n",
    "print(alfaL)"
   ]
  },
  {
   "cell_type": "markdown",
   "id": "d967e9f9",
   "metadata": {},
   "source": [
    "### <span style=\"color:#4CC9F0\">Concatenar dos listas</span>\n"
   ]
  },
  {
   "cell_type": "code",
   "execution_count": 199,
   "id": "guilty-advice",
   "metadata": {},
   "outputs": [
    {
     "name": "stdout",
     "output_type": "stream",
     "text": [
      "alfaL =  ['a', 'b', 'c', 'd', 'e', 'f', 'g', 'h', 'i', 'j', 'k', 'l', 'm', 'n', 'ñ', 'o', 'p', 'q', 'r', 's', 't', 'u', 'v', 'w', 'x', 'y', 'z']\n",
      "\n",
      "\n",
      "numL =  [0, 1, 2, 3, 4, 5, 6, 7, 8, 9, 10, 11, 12, 13, 14, 15, 16, 17, 18, 19, 20, 21, 22, 23, 24, 25, 26]\n",
      "\n",
      "\n",
      "alfanumL =  ['a', 'b', 'c', 'd', 'e', 'f', 'g', 'h', 'i', 'j', 'k', 'l', 'm', 'n', 'ñ', 'o', 'p', 'q', 'r', 's', 't', 'u', 'v', 'w', 'x', 'y', 'z', 0, 1, 2, 3, 4, 5, 6, 7, 8, 9, 10, 11, 12, 13, 14, 15, 16, 17, 18, 19, 20, 21, 22, 23, 24, 25, 26]\n",
      "\n",
      "\n",
      "alfanumLL =  [['a', 'b', 'c', 'd', 'e', 'f', 'g', 'h', 'i', 'j', 'k', 'l', 'm', 'n', 'ñ', 'o', 'p', 'q', 'r', 's', 't', 'u', 'v', 'w', 'x', 'y', 'z'], [0, 1, 2, 3, 4, 5, 6, 7, 8, 9, 10, 11, 12, 13, 14, 15, 16, 17, 18, 19, 20, 21, 22, 23, 24, 25, 26]]\n"
     ]
    }
   ],
   "source": [
    "N = len(alfaL)\n",
    "\n",
    "numL = []\n",
    "\n",
    "for i in range(N):\n",
    "    numL.append(i)\n",
    "\n",
    "print('alfaL = ',alfaL) \n",
    "print('\\n')\n",
    "print('numL = ',numL)\n",
    "print('\\n')\n",
    "\n",
    "alfanumL = alfaL + numL\n",
    "alfanumLL = [alfaL, numL]\n",
    "\n",
    "print('alfanumL = ',alfanumL) \n",
    "print('\\n')\n",
    "print('alfanumLL = ',alfanumLL)"
   ]
  },
  {
   "cell_type": "code",
   "execution_count": 200,
   "id": "thermal-empty",
   "metadata": {},
   "outputs": [
    {
     "name": "stdout",
     "output_type": "stream",
     "text": [
      "a 0\n",
      "b 1\n",
      "c 2\n",
      "d 3\n",
      "e 4\n",
      "f 5\n",
      "g 6\n",
      "h 7\n",
      "i 8\n",
      "j 9\n",
      "k 10\n",
      "l 11\n",
      "m 12\n",
      "n 13\n",
      "ñ 14\n",
      "o 15\n",
      "p 16\n",
      "q 17\n",
      "r 18\n",
      "s 19\n",
      "t 20\n",
      "u 21\n",
      "v 22\n",
      "w 23\n",
      "x 24\n",
      "y 25\n",
      "z 26\n"
     ]
    }
   ],
   "source": [
    "# Acceso a los elementos de la lista alfanumLL\n",
    "\n",
    "for i in range(N):\n",
    "    print(alfanumLL[0][i],alfanumLL[1][i] )"
   ]
  },
  {
   "cell_type": "markdown",
   "id": "1e76be42",
   "metadata": {},
   "source": [
    "### <span style=\"color:#4CC9F0\">Eliminar elementos de una lista</span>\n"
   ]
  },
  {
   "cell_type": "markdown",
   "id": "usual-neighborhood",
   "metadata": {},
   "source": [
    "*lista.remove(objeto)*"
   ]
  },
  {
   "cell_type": "code",
   "execution_count": 201,
   "id": "changing-plastic",
   "metadata": {},
   "outputs": [
    {
     "name": "stdout",
     "output_type": "stream",
     "text": [
      "['a', 'b', 'd', 'e', 'f', 'g', 'h', 'i', 'j', 'k', 'l', 'm', 'n', 'ñ', 'o', 'p', 'q', 'r', 's', 't', 'u', 'v', 'w', 'x', 'y', 'z']\n"
     ]
    }
   ],
   "source": [
    "alfaL.remove('c')\n",
    "print(alfaL)"
   ]
  },
  {
   "cell_type": "markdown",
   "id": "a42a4579",
   "metadata": {},
   "source": [
    "### <span style=\"color:#4CC9F0\">Métodos para manipulación de listas</span>\n"
   ]
  },
  {
   "cell_type": "markdown",
   "id": "meaning-coalition",
   "metadata": {},
   "source": [
    "|Method| Description|\n",
    "|---|---|\n",
    "|append()| Agrega un elemento al final de la lista|\n",
    "|clear()| Remueve todo los elementos de la lista|\n",
    "|copy()| Regresa una copia de la lista|\n",
    "|count()| Regresa el número de elementos con el valor especificado|\n",
    "|extend()| Agrega elementos de una lista (o cualquier iterable) al final de esta lista|\n",
    "|index()|Regresa el índice del primer elemento con el valor especificado|\n",
    "|insert()|  Adiciona un elemento en la posición especificada|\n",
    "|pop()| Remueve un elemento en la posición especificada y puede retornarlo si se hce una asignación|\n",
    "|remove()| Remueve el item con este valor específico|\n",
    "|reverse()| Invierte el orden de la lista|\n",
    "|sort() | Ordena la lista|\n",
    "\n",
    "\n",
    "Por favor pruebe cada uno de estos métodos. Veamos unos pocos ejemplos."
   ]
  },
  {
   "cell_type": "code",
   "execution_count": 202,
   "id": "informal-equity",
   "metadata": {},
   "outputs": [
    {
     "name": "stdout",
     "output_type": "stream",
     "text": [
      "2\n",
      "['a', 'b', 'c', 'd', 'e', 'f', 'g', 'h', 'i', 'j', 'k', 'l', 'm', 'n', 'ñ', 'o', 'p', 'q', 'r', 's', 't', 'u', 'v', 'w', 'x', 'y', 'z']\n"
     ]
    }
   ],
   "source": [
    "print(alfaL.index('d'))\n",
    "\n",
    "alfaL.insert(2,'c')\n",
    "print(alfaL)"
   ]
  },
  {
   "cell_type": "code",
   "execution_count": 203,
   "id": "blessed-italian",
   "metadata": {},
   "outputs": [
    {
     "name": "stdout",
     "output_type": "stream",
     "text": [
      "[[0, 1, 2, 3, 4, 5, 6, 7, 8, 9, 10, 11, 12, 13, 14, 15, 16, 17, 18, 19, 20, 21, 22, 23, 24, 25, 26], ['a', 'b', 'c', 'd', 'e', 'f', 'g', 'h', 'i', 'j', 'k', 'l', 'm', 'n', 'ñ', 'o', 'p', 'q', 'r', 's', 't', 'u', 'v', 'w', 'x', 'y', 'z']]\n"
     ]
    }
   ],
   "source": [
    "alfanumLL.reverse()\n",
    "print(alfanumLL)"
   ]
  },
  {
   "cell_type": "markdown",
   "id": "ace288ea",
   "metadata": {},
   "source": [
    "### <span style=\"color:#4CC9F0\">Comprensión de listas</span>\n"
   ]
  },
  {
   "cell_type": "markdown",
   "id": "e8706c9b",
   "metadata": {},
   "source": [
    "Ya vimos que es posible crear listas a partir de objetos iterables.\n",
    "\n",
    "Aquí mostramos que es posible hacer nuevas listas con ciertas manipulaciones a partir de otras. Esto con un sintaxis simple y rápido.\n",
    "\n",
    "Veamos un caso sin usar comprensión de listas"
   ]
  },
  {
   "cell_type": "code",
   "execution_count": 204,
   "id": "dc9b0e32",
   "metadata": {},
   "outputs": [
    {
     "name": "stdout",
     "output_type": "stream",
     "text": [
      "['manzana', 'guanabana', 'Mango']\n"
     ]
    }
   ],
   "source": [
    "frutas = [\"manzana\", \"kiwi\", \"guanabana\", \"limón\", \"níspero\", \"Pomelo\", \"Mango\"]\n",
    "\n",
    "lista2 = []\n",
    "\n",
    "for x in frutas:\n",
    "    if \"a\" in x:\n",
    "        lista2.append(x)\n",
    "        \n",
    "print(lista2)"
   ]
  },
  {
   "cell_type": "markdown",
   "id": "89844289",
   "metadata": {},
   "source": [
    "Funciona pero necesitamos varias lineas. Ahora usando comprensión"
   ]
  },
  {
   "cell_type": "code",
   "execution_count": 205,
   "id": "49f640b9",
   "metadata": {},
   "outputs": [
    {
     "name": "stdout",
     "output_type": "stream",
     "text": [
      "['manzana', 'guanabana', 'Mango']\n"
     ]
    }
   ],
   "source": [
    "lista2 = [x for x in frutas if \"a\" in x]\n",
    "print(lista2)"
   ]
  },
  {
   "cell_type": "markdown",
   "id": "1f591fb8",
   "metadata": {},
   "source": [
    "Podemos usar cualquier operador lógico y operador de comparación en estos casos"
   ]
  },
  {
   "cell_type": "code",
   "execution_count": 206,
   "id": "f60c7fcb",
   "metadata": {},
   "outputs": [
    {
     "name": "stdout",
     "output_type": "stream",
     "text": [
      "['kiwi', 'limón', 'níspero', 'Pomelo']\n"
     ]
    }
   ],
   "source": [
    "lista2 = [x for x in frutas if \"a\" not in x]\n",
    "print(lista2)"
   ]
  },
  {
   "cell_type": "code",
   "execution_count": 207,
   "id": "2539d9e8",
   "metadata": {},
   "outputs": [
    {
     "name": "stdout",
     "output_type": "stream",
     "text": [
      "['kiwi', 'limón', 'Mango']\n"
     ]
    }
   ],
   "source": [
    "lista2 = [x for x in frutas if len(x)<6]\n",
    "print(lista2)"
   ]
  },
  {
   "cell_type": "markdown",
   "id": "6b8a5a18",
   "metadata": {},
   "source": [
    "Podemos hacer comprensión con cualquier tipo de iterable"
   ]
  },
  {
   "cell_type": "code",
   "execution_count": 208,
   "id": "22c62114",
   "metadata": {},
   "outputs": [
    {
     "name": "stdout",
     "output_type": "stream",
     "text": [
      "[0, 2, 4, 6, 8]\n"
     ]
    }
   ],
   "source": [
    "lista2 = [x for x in range(10) if x % 2 ==0]\n",
    "print(lista2)"
   ]
  },
  {
   "cell_type": "code",
   "execution_count": 209,
   "id": "08213774",
   "metadata": {},
   "outputs": [
    {
     "name": "stdout",
     "output_type": "stream",
     "text": [
      "[1, 24.5]\n"
     ]
    }
   ],
   "source": [
    "lista2 = [x for x in t1  if type(x)==int or type(x)==float]\n",
    "print(lista2)"
   ]
  },
  {
   "cell_type": "markdown",
   "id": "global-daily",
   "metadata": {},
   "source": [
    "## <span style=\"color:#4361EE\">Diccionarios </span>"
   ]
  },
  {
   "cell_type": "markdown",
   "id": "radio-woman",
   "metadata": {},
   "source": [
    "Los diccionarios se distinguen por dos conceptos claves: están encapsulado en {} y poseeen el concepto de llave e ítem.\n",
    "\n",
    "**Consideraciones importantes:**\n",
    "\n",
    "En **contraste con las listas**, los elementos del diccionario no se acceden vía índices, sino vía llaves (**keys**) que se definen.\n",
    "\n",
    "Miremos el siguiente ejemplo:"
   ]
  },
  {
   "cell_type": "code",
   "execution_count": 210,
   "id": "loose-genius",
   "metadata": {},
   "outputs": [
    {
     "name": "stdout",
     "output_type": "stream",
     "text": [
      "{'Leticia': 'Amazonas', 'Montería': 'Sinu', 'Bogotá': 'Bogotá', 'San Gil': 'Fonce', 'Honda': 'Magladena'}\n"
     ]
    }
   ],
   "source": [
    "Rios = {\n",
    "...     'Leticia' : 'Amazonas',\n",
    "...     'Montería': 'Sinu',\n",
    "...     'Bogotá'  : 'Bogotá',\n",
    "...     'San Gil': 'Fonce',\n",
    "...     'Honda'  : 'Magladena'\n",
    "... }\n",
    "\n",
    "print(Rios)"
   ]
  },
  {
   "cell_type": "markdown",
   "id": "scheduled-champion",
   "metadata": {},
   "source": [
    "Note lo que ocurre cuando intentamos acceder por medio de índices (posiciones):"
   ]
  },
  {
   "cell_type": "code",
   "execution_count": 211,
   "id": "extreme-suffering",
   "metadata": {},
   "outputs": [],
   "source": [
    "print(Rios[0])"
   ]
  },
  {
   "cell_type": "code",
   "execution_count": 212,
   "id": "objective-prime",
   "metadata": {},
   "outputs": [
    {
     "name": "stdout",
     "output_type": "stream",
     "text": [
      "Sinu\n"
     ]
    }
   ],
   "source": [
    "print(Rios['Montería'])"
   ]
  },
  {
   "cell_type": "markdown",
   "id": "exempt-buddy",
   "metadata": {},
   "source": [
    "También es posible crear un diccionario usando la función por defecto (built-in) `dict()`, usando una lista de tuplas:"
   ]
  },
  {
   "cell_type": "code",
   "execution_count": 213,
   "id": "bacterial-bracelet",
   "metadata": {},
   "outputs": [
    {
     "name": "stdout",
     "output_type": "stream",
     "text": [
      "{'Colores': ['Negro', 'Rojo', 'Azul'], 'Animales': 'Gato', 'Calzado': ['Botas', 'Botines', 'Deportivos', 'Sanadalias']}\n"
     ]
    }
   ],
   "source": [
    "my_dic=dict([\n",
    "             ('Colores', ['Negro','Rojo','Azul']),\n",
    "             ('Animales', 'Gato'),\n",
    "             ('Calzado', ['Botas','Botines','Deportivos','Sanadalias'])\n",
    "            ])\n",
    "\n",
    "print(my_dic)"
   ]
  },
  {
   "cell_type": "markdown",
   "id": "alike-guest",
   "metadata": {},
   "source": [
    "Veamos el tipo de dato que es un diccionario."
   ]
  },
  {
   "cell_type": "code",
   "execution_count": 214,
   "id": "controversial-cache",
   "metadata": {},
   "outputs": [
    {
     "name": "stdout",
     "output_type": "stream",
     "text": [
      "<class 'dict'>\n"
     ]
    }
   ],
   "source": [
    "print(type(my_dic))"
   ]
  },
  {
   "cell_type": "markdown",
   "id": "electoral-efficiency",
   "metadata": {},
   "source": [
    "Veamos por ejemplo, los ítems que pertenecen a la llave **Colores**"
   ]
  },
  {
   "cell_type": "code",
   "execution_count": 215,
   "id": "fantastic-decision",
   "metadata": {},
   "outputs": [
    {
     "name": "stdout",
     "output_type": "stream",
     "text": [
      "['Negro', 'Rojo', 'Azul']\n"
     ]
    }
   ],
   "source": [
    "print(my_dic['Colores'])\n"
   ]
  },
  {
   "cell_type": "markdown",
   "id": "substantial-swift",
   "metadata": {},
   "source": [
    "Una vez ingresado a los ítem del diccionario, en caso de ser listas, podemos acceder a sus elementos tal cual lo hacemos con las listas (por sus índices)"
   ]
  },
  {
   "cell_type": "code",
   "execution_count": 216,
   "id": "digital-leadership",
   "metadata": {},
   "outputs": [
    {
     "name": "stdout",
     "output_type": "stream",
     "text": [
      "Rojo\n"
     ]
    }
   ],
   "source": [
    "print(my_dic['Colores'][1])"
   ]
  },
  {
   "cell_type": "code",
   "execution_count": 217,
   "id": "sunrise-martin",
   "metadata": {},
   "outputs": [
    {
     "name": "stdout",
     "output_type": "stream",
     "text": [
      "Ví pasar un Gato con Botas de color Negro\n"
     ]
    }
   ],
   "source": [
    "print('Ví pasar un',my_dic['Animales'],'con',my_dic['Calzado'][0],'de color',my_dic['Colores'][0])"
   ]
  },
  {
   "cell_type": "markdown",
   "id": "smaller-irish",
   "metadata": {},
   "source": [
    "**Nota:** Si las llaves son strings sencillas (sin espacios), también es posible definir un diccionario de la siguiente manera:"
   ]
  },
  {
   "cell_type": "code",
   "execution_count": 218,
   "id": "subtle-radical",
   "metadata": {},
   "outputs": [
    {
     "name": "stdout",
     "output_type": "stream",
     "text": [
      "{'Colores': ['Negro', 'Rojo', 'Azul'], 'Animales': 'Gato', 'Calzado': ['Botas', 'Botines', 'Deportivos', 'Sanadalias']}\n"
     ]
    }
   ],
   "source": [
    "my_dic=dict(\n",
    "             Colores = ['Negro','Rojo','Azul'],\n",
    "             Animales= 'Gato',\n",
    "             Calzado =['Botas','Botines','Deportivos','Sanadalias']\n",
    "            )\n",
    "\n",
    "print(my_dic)"
   ]
  },
  {
   "cell_type": "markdown",
   "id": "caring-tennis",
   "metadata": {},
   "source": [
    "Claro está, si se intenta acceder a una llave incorrecta, obtendremos el siguiente error:"
   ]
  },
  {
   "cell_type": "code",
   "execution_count": 219,
   "id": "supported-loading",
   "metadata": {},
   "outputs": [],
   "source": [
    "print(my_dic['Valor'])"
   ]
  },
  {
   "cell_type": "markdown",
   "id": "recognized-server",
   "metadata": {},
   "source": [
    "Podemos agregar, modificar y eliminar valores de un diccionario:"
   ]
  },
  {
   "cell_type": "markdown",
   "id": "accomplished-bennett",
   "metadata": {},
   "source": [
    "### <span style=\"color:#4CC9F0\">Agregar valores:</span>\n"
   ]
  },
  {
   "cell_type": "code",
   "execution_count": 220,
   "id": "focused-hunger",
   "metadata": {},
   "outputs": [
    {
     "name": "stdout",
     "output_type": "stream",
     "text": [
      "{'Colores': ['Negro', 'Rojo', 'Azul'], 'Animales': 'Gato', 'Calzado': ['Botas', 'Botines', 'Deportivos', 'Sanadalias'], 'Valor': ['20', '50', '12']}\n"
     ]
    }
   ],
   "source": [
    "my_dic['Valor']=['20','50','12']\n",
    "print(my_dic)"
   ]
  },
  {
   "cell_type": "markdown",
   "id": "accompanied-memphis",
   "metadata": {},
   "source": [
    "#### <span style=\"color:#4CC9F0\">Modificar valores:</span>\n"
   ]
  },
  {
   "cell_type": "code",
   "execution_count": 221,
   "id": "ruled-berlin",
   "metadata": {},
   "outputs": [
    {
     "name": "stdout",
     "output_type": "stream",
     "text": [
      "{'Colores': 'Negro', 'Animales': 'Gato', 'Calzado': ['Botas', 'Botines', 'Deportivos', 'Sanadalias'], 'Valor': ['20', '50', '12']}\n"
     ]
    }
   ],
   "source": [
    "my_dic['Colores']='Negro'\n",
    "print(my_dic)"
   ]
  },
  {
   "cell_type": "markdown",
   "id": "pleasant-arnold",
   "metadata": {},
   "source": [
    "### <span style=\"color:#4CC9F0\">Eliminar valores:</span>\n"
   ]
  },
  {
   "cell_type": "code",
   "execution_count": 222,
   "id": "thermal-venezuela",
   "metadata": {},
   "outputs": [
    {
     "name": "stdout",
     "output_type": "stream",
     "text": [
      "{'Colores': 'Negro', 'Animales': 'Gato', 'Calzado': ['Botas', 'Botines', 'Deportivos', 'Sanadalias']}\n"
     ]
    }
   ],
   "source": [
    "del my_dic['Valor']\n",
    "print(my_dic)"
   ]
  },
  {
   "cell_type": "markdown",
   "id": "registered-batch",
   "metadata": {},
   "source": [
    "La razón por la cuál no es permitido acceder a los ítems de los diccionarios con índices, es que ellos mismos pueden ser las llaves:"
   ]
  },
  {
   "cell_type": "code",
   "execution_count": 223,
   "id": "induced-terror",
   "metadata": {},
   "outputs": [
    {
     "name": "stdout",
     "output_type": "stream",
     "text": [
      "{135: 'Coco', 1: 'Urban_Sound8k', 2: 'Mnist', 3: 'CheXpert'}\n"
     ]
    }
   ],
   "source": [
    "d = {135: 'Coco', 1: 'Urban_Sound8k', 2: 'Mnist', 3: 'CheXpert'}\n",
    "print(d)"
   ]
  },
  {
   "cell_type": "code",
   "execution_count": 224,
   "id": "genetic-component",
   "metadata": {},
   "outputs": [
    {
     "data": {
      "text/plain": [
       "'Coco'"
      ]
     },
     "execution_count": 224,
     "metadata": {},
     "output_type": "execute_result"
    }
   ],
   "source": [
    "d[135]"
   ]
  },
  {
   "cell_type": "markdown",
   "id": "engaged-unemployment",
   "metadata": {},
   "source": [
    "Puede ser confuso al principio, confundir estas llaves con índices. Incluso se podría pensar en tomar rebanadas de él sin éxito o agregar valores como se hace en las listas:"
   ]
  },
  {
   "cell_type": "code",
   "execution_count": 225,
   "id": "forced-spice",
   "metadata": {},
   "outputs": [],
   "source": [
    "#d[0:2]"
   ]
  },
  {
   "cell_type": "markdown",
   "id": "wooden-syntax",
   "metadata": {},
   "source": [
    "**Ejercicio:** \n",
    "\n",
    "Investigue que significa unhashable. Busque la función `hash()` y úsela en este contexto."
   ]
  },
  {
   "cell_type": "code",
   "execution_count": 226,
   "id": "prepared-meeting",
   "metadata": {},
   "outputs": [],
   "source": [
    "#d.append('Yolo')"
   ]
  },
  {
   "cell_type": "markdown",
   "id": "7f5040a7",
   "metadata": {},
   "source": [
    "### <span style=\"color:#4CC9F0\">Propiedades de los diccionarios</span>\n"
   ]
  },
  {
   "cell_type": "markdown",
   "id": "architectural-district",
   "metadata": {},
   "source": [
    "#### <span style=\"color:#4CC9F0\">Dinámicos</span>\n"
   ]
  },
  {
   "cell_type": "markdown",
   "id": "constant-lawrence",
   "metadata": {},
   "source": [
    "Este concepto es muy importante, pues resalta la capacidad de un diccionario en incrementar su tamaño sin generar error:"
   ]
  },
  {
   "cell_type": "code",
   "execution_count": 227,
   "id": "brazilian-eight",
   "metadata": {},
   "outputs": [
    {
     "name": "stdout",
     "output_type": "stream",
     "text": [
      "<class 'dict'>\n",
      "{'Nombre': 'Gengis', 'Apellido': 'Khan', 'Edad': 23, 'Esposa': ['Börte Qatun', 'Yesugen', 'Qulan Qatun', 'Möge Qatun', 'Juerbiesu', 'Ibaqa Beki'], 'Hijos': 'En estudio', 'Mascotas': {'Perro': 'Wahadi', 'Gato': 'Gotze', 'Leon': 'Pichirilo'}}\n",
      "Hijos de Gengis : En estudio\n"
     ]
    }
   ],
   "source": [
    "#Generar diccionario vacío\n",
    "persona = {}\n",
    "print(type(persona))\n",
    "\n",
    "# Agregar llaves y sus definiciones (items)\n",
    "persona['Nombre'] = 'Gengis'\n",
    "persona['Apellido'] = 'Khan'\n",
    "persona['Edad'] = 23\n",
    "persona['Esposa'] = ['Börte Qatun','Yesugen','Qulan Qatun','Möge Qatun','Juerbiesu','Ibaqa Beki']\n",
    "persona['Hijos'] = 'En estudio'\n",
    "persona['Mascotas'] = {'Perro': 'Wahadi', 'Gato': 'Gotze','Leon':'Pichirilo'}\n",
    "\n",
    "print(persona)\n",
    "print('Hijos de',persona['Nombre'],':',persona['Hijos'])"
   ]
  },
  {
   "cell_type": "markdown",
   "id": "07b1c73c",
   "metadata": {},
   "source": [
    "```{admonition} Nota\n",
    ":class: note\n",
    "Del ejemplo anterior se puede observar que los diccionarios pueden contener diccionarios en su interior:\n",
    "```\n"
   ]
  },
  {
   "cell_type": "code",
   "execution_count": 228,
   "id": "micro-airline",
   "metadata": {},
   "outputs": [
    {
     "name": "stdout",
     "output_type": "stream",
     "text": [
      "{'Perro': 'Wahadi', 'Gato': 'Gotze', 'Leon': 'Pichirilo'}\n"
     ]
    }
   ],
   "source": [
    "print(persona['Mascotas'])"
   ]
  },
  {
   "cell_type": "code",
   "execution_count": 229,
   "id": "limiting-occasion",
   "metadata": {},
   "outputs": [
    {
     "name": "stdout",
     "output_type": "stream",
     "text": [
      "Wahadi\n"
     ]
    }
   ],
   "source": [
    "print(persona['Mascotas']['Perro'])"
   ]
  },
  {
   "cell_type": "markdown",
   "id": "77fe8d91",
   "metadata": {},
   "source": [
    "#### <span style=\"color:#4CC9F0\">Llaves:</span>\n"
   ]
  },
  {
   "cell_type": "markdown",
   "id": "adopted-davis",
   "metadata": {},
   "source": [
    "No hay restricciones en la forma de definir las llaves:"
   ]
  },
  {
   "cell_type": "code",
   "execution_count": 230,
   "id": "lucky-receiver",
   "metadata": {},
   "outputs": [],
   "source": [
    "foo = {42: 'aaa', 2.78: 'bbb', False: 'cc'}"
   ]
  },
  {
   "cell_type": "code",
   "execution_count": 231,
   "id": "collaborative-phenomenon",
   "metadata": {},
   "outputs": [
    {
     "data": {
      "text/plain": [
       "'cc'"
      ]
     },
     "execution_count": 231,
     "metadata": {},
     "output_type": "execute_result"
    }
   ],
   "source": [
    "foo[False]"
   ]
  },
  {
   "cell_type": "code",
   "execution_count": 232,
   "id": "removed-memory",
   "metadata": {},
   "outputs": [
    {
     "data": {
      "text/plain": [
       "1"
      ]
     },
     "execution_count": 232,
     "metadata": {},
     "output_type": "execute_result"
    }
   ],
   "source": [
    "d = {int: 1, float: 2, bool: 3}\n",
    "\n",
    "d[int]"
   ]
  },
  {
   "cell_type": "markdown",
   "id": "introductory-memorabilia",
   "metadata": {},
   "source": [
    "Sin embargo, las llaves son únicas y no se peuden repetir (com un diccionario clásico al que estamos acostumbrados):"
   ]
  },
  {
   "cell_type": "code",
   "execution_count": 233,
   "id": "cloudy-ideal",
   "metadata": {},
   "outputs": [
    {
     "data": {
      "text/plain": [
       "{42: 'aaa', 2.78: 'bbb', False: 'dodo'}"
      ]
     },
     "execution_count": 233,
     "metadata": {},
     "output_type": "execute_result"
    }
   ],
   "source": [
    "foo = {42: 'aaa', 2.78: 'bbb', False: 'cc',False:'dodo'}\n",
    "foo"
   ]
  },
  {
   "cell_type": "markdown",
   "id": "61f4d609",
   "metadata": {},
   "source": [
    "### <span style=\"color:#4CC9F0\">Ejercicio</span>\n"
   ]
  },
  {
   "cell_type": "markdown",
   "id": "31cec6c5-e4d5-49aa-a6db-7c5efa891c99",
   "metadata": {},
   "source": [
    "Defina un diccionario de al menos 4 llaves de tal manera que esas llaves sean tuplas. Acceda a cada elemento. ¿Puede hacer lo mismo para una llave que sea definida como lista o diccionario?"
   ]
  },
  {
   "cell_type": "markdown",
   "id": "8632df1d",
   "metadata": {},
   "source": [
    "#### <span style=\"color:#4CC9F0\">Operadores y Métodos:</span>\n"
   ]
  },
  {
   "cell_type": "markdown",
   "id": "facial-provincial",
   "metadata": {},
   "source": [
    "Es posible utilizar algunos operadores sobre los diccionarios para verificar su estado (por ejemplo, si están o no están disponibles sin generar errores):"
   ]
  },
  {
   "cell_type": "code",
   "execution_count": 234,
   "id": "reported-norwegian",
   "metadata": {},
   "outputs": [
    {
     "data": {
      "text/plain": [
       "True"
      ]
     },
     "execution_count": 234,
     "metadata": {},
     "output_type": "execute_result"
    }
   ],
   "source": [
    "'Animales' in my_dic"
   ]
  },
  {
   "cell_type": "code",
   "execution_count": 235,
   "id": "comfortable-fence",
   "metadata": {},
   "outputs": [
    {
     "data": {
      "text/plain": [
       "False"
      ]
     },
     "execution_count": 235,
     "metadata": {},
     "output_type": "execute_result"
    }
   ],
   "source": [
    "'Colores' not in my_dic"
   ]
  },
  {
   "cell_type": "markdown",
   "id": "descending-magazine",
   "metadata": {},
   "source": [
    "También podemos usar lógica aristotélica (tablas de verdad) para chequear cosas sin tener errores:"
   ]
  },
  {
   "cell_type": "code",
   "execution_count": 236,
   "id": "subsequent-first",
   "metadata": {},
   "outputs": [],
   "source": [
    "#my_dic['Valor']"
   ]
  },
  {
   "cell_type": "code",
   "execution_count": 237,
   "id": "solid-diagnosis",
   "metadata": {},
   "outputs": [],
   "source": [
    "#'Valor' in my_dic and my_dic['Valor']"
   ]
  },
  {
   "cell_type": "markdown",
   "id": "80cd5f41",
   "metadata": {},
   "source": [
    "#### <span style=\"color:#4CC9F0\">len() sobre diccionarios</span>\n"
   ]
  },
  {
   "cell_type": "code",
   "execution_count": 238,
   "id": "wrapped-checklist",
   "metadata": {},
   "outputs": [
    {
     "name": "stdout",
     "output_type": "stream",
     "text": [
      "{'Colores': 'Negro', 'Animales': 'Gato', 'Calzado': ['Botas', 'Botines', 'Deportivos', 'Sanadalias']}\n",
      "\n",
      "El diccionario tiene 3 llaves\n"
     ]
    }
   ],
   "source": [
    "print(my_dic)\n",
    "\n",
    "print(\"\\nEl diccionario tiene\",len(my_dic),'llaves')"
   ]
  },
  {
   "cell_type": "markdown",
   "id": "5c88ff90",
   "metadata": {},
   "source": [
    "#### <span style=\"color:#4CC9F0\">Métodos</span>\n"
   ]
  },
  {
   "cell_type": "markdown",
   "id": "sharp-chambers",
   "metadata": {},
   "source": [
    "##### d.clear()"
   ]
  },
  {
   "cell_type": "code",
   "execution_count": 239,
   "id": "spanish-indie",
   "metadata": {},
   "outputs": [
    {
     "name": "stdout",
     "output_type": "stream",
     "text": [
      "{<class 'int'>: 1, <class 'float'>: 2, <class 'bool'>: 3}\n",
      "{}\n"
     ]
    }
   ],
   "source": [
    "print(d)\n",
    "d.clear()\n",
    "print(d)"
   ]
  },
  {
   "cell_type": "markdown",
   "id": "light-liquid",
   "metadata": {},
   "source": [
    "Una vez ingresado a los ítem del diccionario, en caso de ser listas, podemos acceder a sus elementos tal cual lo hacemos con las listas (por sus índices)"
   ]
  },
  {
   "cell_type": "markdown",
   "id": "intelligent-mumbai",
   "metadata": {},
   "source": [
    "##### d.get(\\<key>[, \\<default>])"
   ]
  },
  {
   "cell_type": "code",
   "execution_count": 240,
   "id": "adequate-surgery",
   "metadata": {},
   "outputs": [
    {
     "name": "stdout",
     "output_type": "stream",
     "text": [
      "Negro\n"
     ]
    }
   ],
   "source": [
    "print(my_dic.get('Colores'))"
   ]
  },
  {
   "cell_type": "code",
   "execution_count": 241,
   "id": "temporal-suspect",
   "metadata": {},
   "outputs": [
    {
     "name": "stdout",
     "output_type": "stream",
     "text": [
      "['Börte Qatun', 'Yesugen', 'Qulan Qatun', 'Möge Qatun', 'Juerbiesu', 'Ibaqa Beki']\n"
     ]
    }
   ],
   "source": [
    "print(persona.get('Esposa'))"
   ]
  },
  {
   "cell_type": "markdown",
   "id": "5cea60f6",
   "metadata": {},
   "source": [
    "##### <span style=\"color:#4CC9F0\">Ejercicio</span>\n"
   ]
  },
  {
   "cell_type": "markdown",
   "id": "8a7f946c-f096-463a-811e-d1d128f1c038",
   "metadata": {},
   "source": [
    "¿Qué significa default?"
   ]
  },
  {
   "cell_type": "markdown",
   "id": "reasonable-lightweight",
   "metadata": {},
   "source": [
    "#####  d.items()"
   ]
  },
  {
   "cell_type": "code",
   "execution_count": 242,
   "id": "qualified-distribution",
   "metadata": {},
   "outputs": [
    {
     "name": "stdout",
     "output_type": "stream",
     "text": [
      "dict_items([('Colores', 'Negro'), ('Animales', 'Gato'), ('Calzado', ['Botas', 'Botines', 'Deportivos', 'Sanadalias'])])\n"
     ]
    }
   ],
   "source": [
    "print(my_dic.items())"
   ]
  },
  {
   "cell_type": "code",
   "execution_count": 243,
   "id": "spanish-denver",
   "metadata": {},
   "outputs": [
    {
     "name": "stdout",
     "output_type": "stream",
     "text": [
      "[('Colores', 'Negro'), ('Animales', 'Gato'), ('Calzado', ['Botas', 'Botines', 'Deportivos', 'Sanadalias'])]\n"
     ]
    }
   ],
   "source": [
    "print(list(my_dic.items()))"
   ]
  },
  {
   "cell_type": "code",
   "execution_count": 244,
   "id": "separated-strengthening",
   "metadata": {},
   "outputs": [
    {
     "data": {
      "text/plain": [
       "'Negro'"
      ]
     },
     "execution_count": 244,
     "metadata": {},
     "output_type": "execute_result"
    }
   ],
   "source": [
    "list(my_dic.items())[0][1]"
   ]
  },
  {
   "cell_type": "markdown",
   "id": "apart-yellow",
   "metadata": {},
   "source": [
    "También existen otros métodos útiles. ¡Averigua para que sirve cada uno!\n",
    "\n",
    "- **d.keys()**\n",
    "- **d.values()**\n",
    "- **d.pop(\\<key>[, \\<default>])**\n",
    "- **d.popitem()**\n",
    "- **d.update(\\<obj>)**"
   ]
  },
  {
   "cell_type": "markdown",
   "id": "4939da28-31de-415d-8924-7ef087f7479f",
   "metadata": {},
   "source": [
    "##### <span style=\"color:#4CC9F0\">Ejercicio</span>\n"
   ]
  },
  {
   "cell_type": "markdown",
   "id": "c1ca71dd-3070-440d-bd50-9254448e34af",
   "metadata": {},
   "source": [
    "A partir de las siguientes líneas de código, entienda lo que hace cada uno de los métodos y cree sus propio ejemplo de mayor complejidad."
   ]
  },
  {
   "cell_type": "code",
   "execution_count": 245,
   "id": "aggregate-recycling",
   "metadata": {},
   "outputs": [
    {
     "name": "stdout",
     "output_type": "stream",
     "text": [
      "{'Colores': 'Negro', 'Animales': 'Gato', 'Calzado': ['Botas', 'Botines', 'Deportivos', 'Sanadalias']}\n"
     ]
    }
   ],
   "source": [
    "print(my_dic)"
   ]
  },
  {
   "cell_type": "code",
   "execution_count": 246,
   "id": "passing-attack",
   "metadata": {},
   "outputs": [
    {
     "name": "stdout",
     "output_type": "stream",
     "text": [
      "dict_keys(['Colores', 'Animales', 'Calzado'])\n",
      "dict_values(['Negro', 'Gato', ['Botas', 'Botines', 'Deportivos', 'Sanadalias']])\n",
      "Negro\n",
      "{'Animales': 'Gato', 'Calzado': ['Botas', 'Botines', 'Deportivos', 'Sanadalias']}\n",
      "('Calzado', ['Botas', 'Botines', 'Deportivos', 'Sanadalias'])\n",
      "{'Animales': 'Gato'}\n",
      "None\n"
     ]
    }
   ],
   "source": [
    "print(my_dic.keys())\n",
    "print(my_dic.values())\n",
    "print(my_dic.pop('Colores'))\n",
    "print(my_dic)\n",
    "print(my_dic.popitem())\n",
    "print(my_dic)\n",
    "print(my_dic.update(persona))"
   ]
  },
  {
   "cell_type": "markdown",
   "id": "7d53096d",
   "metadata": {},
   "source": [
    "### <span style=\"color:#4CC9F0\">char2int</span>\n"
   ]
  },
  {
   "cell_type": "markdown",
   "id": "fifteen-unemployment",
   "metadata": {},
   "source": [
    "Como último ejemplo construimos un diccionario para el alfabeto, de tal manera que dado un caracter retorne un código asociado."
   ]
  },
  {
   "cell_type": "code",
   "execution_count": 247,
   "id": "frozen-better",
   "metadata": {},
   "outputs": [
    {
     "name": "stdout",
     "output_type": "stream",
     "text": [
      "{'a': 0, 'b': 1, 'c': 2, 'd': 3, 'e': 4, 'f': 5, 'g': 6, 'h': 7, 'i': 8, 'j': 9, 'k': 10, 'l': 11, 'm': 12, 'n': 13, 'ñ': 14, 'o': 15, 'p': 16, 'q': 17, 'r': 18, 's': 19, 't': 20, 'u': 21, 'v': 22, 'w': 23, 'x': 24, 'y': 25, 'z': 26}\n",
      "\n",
      "\n",
      "char2int['c']= 2\n"
     ]
    }
   ],
   "source": [
    "alfabeto = 'abcdefghijklmnñopqrstuvwxyz'\n",
    "alfaL = []\n",
    "for j in alfabeto:\n",
    "    alfaL.append(j)\n",
    "\n",
    "\n",
    "char2int = {}\n",
    "num = list(range(len(alfabeto)))\n",
    "\n",
    "for car,val in zip(alfaL, num):\n",
    "    char2int[car] = num[val]\n",
    "\n",
    "print(char2int)\n",
    "print('\\n')\n",
    "print('char2int[\\'c\\']=',char2int['c'])"
   ]
  },
  {
   "cell_type": "markdown",
   "id": "daefdeb6",
   "metadata": {},
   "source": [
    "### <span style=\"color:#4CC9F0\">Conclusoón</span>\n"
   ]
  },
  {
   "cell_type": "markdown",
   "id": "infectious-summer",
   "metadata": {},
   "source": [
    "Las listas y los diccionarios son los tipos de objetos más usados en Python.\n",
    "\n",
    "Debido a su diferencia en la forma de accesar los datos, tienen diferentes usos, dependiendo de la situación."
   ]
  },
  {
   "cell_type": "markdown",
   "id": "63ec2ddd",
   "metadata": {},
   "source": [
    "### <span style=\"color:#4CC9F0\">Métodos de los diccionarios</span>\n"
   ]
  },
  {
   "cell_type": "markdown",
   "id": "understood-entrepreneur",
   "metadata": {},
   "source": [
    "|Método|Descripción                  |\n",
    "|---|---|\n",
    "|clear()|Elimina todos los elementos del diccionario.|\n",
    "|copy()|Devuelve una copia poco profunda del diccionario.|\n",
    "|get(clave[,valor])|Devuelve el valor de la clave. Si no existe, devuelve el valor valor si se indica y si no, None.|\n",
    "|items()|Devuelve una vista de los pares clave: valor del diccionario.|\n",
    "|keys()|Devuelve una vista de las claves del diccionario.|\n",
    "|pop(clave[,valor])|Devuelve el valor del elemento cuya clave es clave y elimina el elemento del diccionario. Si la clave no se encuentra, devuelve valor si se proporciona. Si la clave no se encuentra y no se indica valor, lanza la excepción KeyError.|\n",
    "|popitem()|Devuelve un par (clave, valor) aleatorio del diccionario. Si el diccionario está vacío, lanza la excepción KeyError.|\n",
    "|setdefault(clave[,valor])|Si la clave está en el diccionario, devuelve su valor. Si no lo está, inserta la clave con el valor valor y lo devuelve (si no se especifica valor, por defecto es None).|\n",
    "|update(iterable)|Actualiza el diccionario con los pares clave: valor del iterable.|\n",
    "|values()|Devuelve una vista de los valores del diccionario.|"
   ]
  },
  {
   "cell_type": "markdown",
   "id": "worse-abortion",
   "metadata": {},
   "source": [
    "## <span style=\"color:#4361EE\">Conjuntos </span>"
   ]
  },
  {
   "cell_type": "markdown",
   "id": "sophisticated-center",
   "metadata": {},
   "source": [
    "Un conjunto es una colección de objetos inmutables no ordenada. Se crea con corchetes '{}'. Veamos el ejemplo."
   ]
  },
  {
   "cell_type": "code",
   "execution_count": 248,
   "id": "rental-completion",
   "metadata": {},
   "outputs": [
    {
     "name": "stdout",
     "output_type": "stream",
     "text": [
      "<class 'set'>\n"
     ]
    }
   ],
   "source": [
    "frutas = {'banano','naranja', 'tomate'}\n",
    "\n",
    "print(type(frutas))"
   ]
  },
  {
   "cell_type": "markdown",
   "id": "8cc3b3e1",
   "metadata": {},
   "source": [
    "### <span style=\"color:#4CC9F0\">Operaciones con conjuntos</span>\n"
   ]
  },
  {
   "cell_type": "code",
   "execution_count": 249,
   "id": "eight-turner",
   "metadata": {},
   "outputs": [
    {
     "name": "stdout",
     "output_type": "stream",
     "text": [
      "True\n",
      "False\n"
     ]
    }
   ],
   "source": [
    "print('banano' in frutas)\n",
    "print('fresa' in frutas)"
   ]
  },
  {
   "cell_type": "code",
   "execution_count": 250,
   "id": "sharp-nigeria",
   "metadata": {},
   "outputs": [
    {
     "name": "stdout",
     "output_type": "stream",
     "text": [
      "{'naranja', 'fresa', 'banano', 'tomate'}\n"
     ]
    }
   ],
   "source": [
    "frutas.add('fresa')\n",
    "print(frutas)"
   ]
  },
  {
   "cell_type": "markdown",
   "id": "f63b6d89",
   "metadata": {},
   "source": [
    "### <span style=\"color:#4CC9F0\">No puede haber elementos repetidos</span>\n"
   ]
  },
  {
   "cell_type": "code",
   "execution_count": 251,
   "id": "latter-badge",
   "metadata": {},
   "outputs": [
    {
     "name": "stdout",
     "output_type": "stream",
     "text": [
      "{'naranja', 'fresa', 'banano', 'tomate'}\n"
     ]
    }
   ],
   "source": [
    "frutas.add('banano')\n",
    "print(frutas)"
   ]
  },
  {
   "cell_type": "markdown",
   "id": "8c075dd8",
   "metadata": {},
   "source": [
    "### <span style=\"color:#4CC9F0\">Operaciones usuales</span>\n"
   ]
  },
  {
   "cell_type": "code",
   "execution_count": 252,
   "id": "primary-pilot",
   "metadata": {},
   "outputs": [
    {
     "name": "stdout",
     "output_type": "stream",
     "text": [
      "{'cebolla', 'tomate'}\n"
     ]
    }
   ],
   "source": [
    "verduras = {'cebolla', 'tomate'}\n",
    "print( verduras)\n"
   ]
  },
  {
   "cell_type": "code",
   "execution_count": 253,
   "id": "severe-tonight",
   "metadata": {},
   "outputs": [
    {
     "name": "stdout",
     "output_type": "stream",
     "text": [
      "{'tomate'}\n"
     ]
    }
   ],
   "source": [
    "# intersección\n",
    "print( frutas & verduras)"
   ]
  },
  {
   "cell_type": "code",
   "execution_count": 254,
   "id": "understood-terrorism",
   "metadata": {},
   "outputs": [
    {
     "name": "stdout",
     "output_type": "stream",
     "text": [
      "{'cebolla', 'fresa', 'banano', 'naranja', 'tomate'}\n"
     ]
    }
   ],
   "source": [
    "# unión\n",
    "print( frutas | verduras)"
   ]
  },
  {
   "cell_type": "code",
   "execution_count": 255,
   "id": "pleasant-saturday",
   "metadata": {},
   "outputs": [
    {
     "name": "stdout",
     "output_type": "stream",
     "text": [
      "{'naranja', 'fresa', 'banano'}\n"
     ]
    }
   ],
   "source": [
    "# diferencia \n",
    "print( frutas - verduras)"
   ]
  },
  {
   "cell_type": "code",
   "execution_count": 256,
   "id": "cutting-memorabilia",
   "metadata": {},
   "outputs": [
    {
     "name": "stdout",
     "output_type": "stream",
     "text": [
      "{'cebolla', 'banano', 'fresa', 'naranja'}\n"
     ]
    }
   ],
   "source": [
    "# diferencia simétrica\n",
    "print( frutas ^ verduras)"
   ]
  },
  {
   "cell_type": "markdown",
   "id": "received-contribution",
   "metadata": {},
   "source": [
    "|Método|Descripción|\n",
    "|---|---|\n",
    "|add(e)|Añade un elemento al conjunto.|\n",
    "|clear()|Elimina todos los elementos del conjunto.|\n",
    "|copy()|Devuelve una copia superficial del conjunto.|\n",
    "|difference(iterable)|Devuelve la diferencia del conjunto con el iterable como un conjunto nuevo.|\n",
    "|difference_update(iterable)|Actualiza el conjunto tras realizar la diferencia con el iterable.|\n",
    "|discard(e)|Elimina, si existe, el elemento del conjunto.|\n",
    "|intersection(iterable)|Devuelve la intersección del conjunto con el iterable como un conjunto nuevo.|\n",
    "|intersection_update(iterable)|Actualiza el conjunto tras realizar la intersección con el iterable.|\n",
    "|isdisjoint(iterable)|Devuelve True si dos conjuntos son disjuntos.|\n",
    "|issubset(iterable)|Devuelve True si el conjunto es subconjunto del iterable.|\n",
    "|issuperset(iterable)|Devuelve True si el conjunto es superconjunto del iterable.|\n",
    "|pop()|Obtiene y elimina un elemento de forma aleatoria del conjunto.|\n",
    "|remove(e)|Elimina el elemento del conjunto. Si no existe lanza un error.|\n",
    "|symmetric_difference(iterable)|Devuelve la diferencia simétrica del conjunto con el iterable como un conjunto nuevo.|\n",
    "|symmetric_difference_update(iterable)|Actualiza el conjunto tras realizar la diferencia simétrica con el iterable.|\n",
    "|union(iterable)|Devuelve la unión del conjunto con el iterable como un conjunto nuevo.|\n",
    "|update(iterable)|Actualiza el conjunto tras realizar la unión con el iterable.|"
   ]
  },
  {
   "cell_type": "markdown",
   "id": "e15b0041",
   "metadata": {},
   "source": [
    "### <span style=\"color:#4CC9F0\">Frozn sets</span>\n"
   ]
  },
  {
   "cell_type": "markdown",
   "id": "nonprofit-activity",
   "metadata": {},
   "source": [
    "Es posible crear conjuntos en donde los elementos no son intercambiables. Esto funciona como conjunto, pero ahora no es posible modificar los elementos del conjunto.\n",
    "\n",
    "Veamos el ejemplo \n",
    "\n",
    "*frozenset(iterable)*"
   ]
  },
  {
   "cell_type": "code",
   "execution_count": 257,
   "id": "greater-tuning",
   "metadata": {},
   "outputs": [],
   "source": [
    "fruta_congelada = frozenset(frutas)\n"
   ]
  },
  {
   "cell_type": "code",
   "execution_count": 258,
   "id": "broke-bleeding",
   "metadata": {},
   "outputs": [
    {
     "ename": "AttributeError",
     "evalue": "'frozenset' object has no attribute 'add'",
     "output_type": "error",
     "traceback": [
      "\u001b[1;31m---------------------------------------------------------------------------\u001b[0m",
      "\u001b[1;31mAttributeError\u001b[0m                            Traceback (most recent call last)",
      "\u001b[1;32mc:\\Users\\User\\OneDrive\\Documentos\\Libro-Programacion\\Python\\Colecciones.ipynb Celda 184\u001b[0m in \u001b[0;36m<cell line: 1>\u001b[1;34m()\u001b[0m\n\u001b[1;32m----> <a href='vscode-notebook-cell:/c%3A/Users/User/OneDrive/Documentos/Libro-Programacion/Python/Colecciones.ipynb#ch0000183?line=0'>1</a>\u001b[0m fruta_congelada\u001b[39m.\u001b[39;49madd(\u001b[39m'\u001b[39m\u001b[39mpera\u001b[39m\u001b[39m'\u001b[39m)\n",
      "\u001b[1;31mAttributeError\u001b[0m: 'frozenset' object has no attribute 'add'"
     ]
    }
   ],
   "source": [
    "fruta_congelada.add('pera')"
   ]
  }
 ],
 "metadata": {
  "interpreter": {
   "hash": "cf92aa13fedf815d5c8dd192b8d835913fde3e8bc926b2a0ad6cc74ef2ba3ca2"
  },
  "kernelspec": {
   "display_name": "Python 3.9.8 64-bit",
   "language": "python",
   "name": "python3"
  },
  "language_info": {
   "codemirror_mode": {
    "name": "ipython",
    "version": 3
   },
   "file_extension": ".py",
   "mimetype": "text/x-python",
   "name": "python",
   "nbconvert_exporter": "python",
   "pygments_lexer": "ipython3",
   "version": "3.9.12"
  }
 },
 "nbformat": 4,
 "nbformat_minor": 5
}
