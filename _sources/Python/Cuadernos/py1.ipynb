{
 "cells": [
  {
   "cell_type": "markdown",
   "metadata": {},
   "source": [
    "# <span style=\"color:#F72585\">Introducción al lenguaje Python</span>\n"
   ]
  },
  {
   "cell_type": "markdown",
   "metadata": {},
   "source": [
    "## <span style=\"color:#4361EE\">Introducción</span>"
   ]
  },
  {
   "cell_type": "markdown",
   "metadata": {
    "colab_type": "text",
    "id": "Qwzm74tvByHP"
   },
   "source": [
    "Este es un cuaderno introductorio a Python diseñado en JupyterLab, exploraremos las funciones básicas disponibles de **Python** y la programación básica para su posterior uso en el diplomado. Comencemos con un ambiente de **Python 3**. Para una introducción más extensa, ir [aquí](https://www.w3schools.com/python/)."
   ]
  },
  {
   "cell_type": "markdown",
   "metadata": {
    "colab_type": "text",
    "id": "kzyZQ2syLu9O"
   },
   "source": [
    "##  <span style=\"color:#4361EE\">¿Qué es Python?</span>"
   ]
  },
  {
   "cell_type": "markdown",
   "metadata": {
    "colab_type": "text",
    "id": "kzyZQ2syLu9O"
   },
   "source": [
    "![Logo Python](https://www.python.org/static/community_logos/python-logo-master-v3-TM.png)\n",
    "\n",
    "\n",
    "\n",
    "Python es un lenguaje de programación (¿Qué es un programa?) popular que se usa normalmente para:\n",
    "\n",
    "* Desarrollo web en servidores.\n",
    "* Desarrollo de Software.\n",
    "* Cálculos Matemáticos.\n",
    "* Desarrollo de Scripts."
   ]
  },
  {
   "cell_type": "markdown",
   "metadata": {},
   "source": [
    "## <span style=\"color:#4361EE\">¿Qué puede hacer Python?</span>"
   ]
  },
  {
   "cell_type": "markdown",
   "metadata": {
    "colab_type": "text",
    "id": "kzyZQ2syLu9O"
   },
   "source": [
    "* Puede ser usado en un servidor para crear **aplicaciones web**,\n",
    "* Puede conectarse a sistemas de **bases de datos**. Puede leer y modificar archivos.\n",
    "* Puede ser usado para manejar **Big Data** y hacer cálculos matemáticos de alta complejidad.\n",
    "* **Prototipo rápido** para producción de Software."
   ]
  },
  {
   "cell_type": "markdown",
   "metadata": {},
   "source": [
    "## <span style=\"color:#4361EE\">¿Por qué Python?</span>"
   ]
  },
  {
   "cell_type": "markdown",
   "metadata": {
    "colab_type": "text",
    "id": "kzyZQ2syLu9O"
   },
   "source": [
    "* Funciona en diferentes **plataformas** (Windows, Mac, Linux, etc).\n",
    "* Tiene una **sintaxis** (forma de escribir) simple, similar al idioma inglés.\n",
    "* Tiene una sintáxis que permite escribir programas en **muy pocas líneas**, comparado con otros lenguajes de programación.\n",
    "* Python se ejecuta en un **sistema interpretado**. Es decir, que los códigos se pueden correr **justo después de ser escritos**; en otras palabras, no necesitan compilación previa.\n",
    "* Se puede usar como un lenguaje **clásico**, como un lenguaje **orientado a objetos**, o como un lenguaje **funcional**.\n",
    "* Es el principal lenguaje de la **Ciencia de Datos**."
   ]
  },
  {
   "cell_type": "markdown",
   "metadata": {
    "colab_type": "text",
    "id": "scclT03UHVrm"
   },
   "source": [
    "## <span style=\"color:#4361EE\">Hello World!</span>"
   ]
  },
  {
   "cell_type": "markdown",
   "metadata": {
    "colab_type": "text",
    "id": "c3ntgbdgHbS-"
   },
   "source": [
    "El primer ejemplo clásico de programación es saludar, o sea, decirle al computador que muestre un saludo. Para esto, se usa la función de Python llamada **print**. Para colocar un saludo (o un **texto cualquiera**), se debe colocar entre **comillas dobles o sencillas** dentro del comando print. Entonces, para que el computador muestre un saludo, por ejemplo **Hello, World!**, debemos escribir en ambiente de código como sigue\n"
   ]
  },
  {
   "cell_type": "code",
   "execution_count": 1,
   "metadata": {
    "colab": {
     "base_uri": "https://localhost:8080/",
     "height": 34
    },
    "colab_type": "code",
    "executionInfo": {
     "elapsed": 995,
     "status": "ok",
     "timestamp": 1582034062236,
     "user": {
      "displayName": "Daniel Montenegro",
      "photoUrl": "",
      "userId": "07275166318289302366"
     },
     "user_tz": 300
    },
    "id": "8i6cS6oYA-Lv",
    "outputId": "005b250c-fdd8-459e-a1da-fab85c44f12d"
   },
   "outputs": [
    {
     "name": "stdout",
     "output_type": "stream",
     "text": [
      "Hello friend. Hello friend?\n"
     ]
    }
   ],
   "source": [
    "print('Hello friend. Hello friend?')"
   ]
  },
  {
   "cell_type": "markdown",
   "metadata": {
    "colab_type": "text",
    "id": "aM1gxggOCDGO"
   },
   "source": [
    "Note que el resultado se muestra sin las comillas dobles. Estas comillas dobles se usan para decirle al computador que vamos a ingresar texto. Si quisiéramos escribir con un salto de linea escribimos \"\\n\" así al escribir `print(\"Hola\\nMundo\")` tenemos:\n"
   ]
  },
  {
   "cell_type": "code",
   "execution_count": 2,
   "metadata": {
    "colab": {},
    "colab_type": "code",
    "id": "C5IwYTeHUzUT"
   },
   "outputs": [
    {
     "name": "stdout",
     "output_type": "stream",
     "text": [
      "Hola\n",
      "Mundo\n"
     ]
    }
   ],
   "source": [
    "print(\"Hola\\nMundo\")"
   ]
  },
  {
   "cell_type": "markdown",
   "metadata": {},
   "source": [
    "### <span style=\"color:#4CC9F0\">Ejercicio</span>\n"
   ]
  },
  {
   "cell_type": "markdown",
   "metadata": {
    "colab_type": "text",
    "id": "gGbUqKOAJc_C"
   },
   "source": [
    "Escriba un código que le diga a Python que devuelva el texto:\n",
    "*****\n",
    ">*Sólo sé ...*  \n",
    "*... que nada sé.*\n",
    " ***"
   ]
  },
  {
   "cell_type": "code",
   "execution_count": 3,
   "metadata": {
    "colab": {},
    "colab_type": "code",
    "id": "CVnwiYj8JZY-"
   },
   "outputs": [],
   "source": [
    "# Escriba el código aqui"
   ]
  },
  {
   "cell_type": "markdown",
   "metadata": {},
   "source": [
    "##   <span style=\"color:#4361EE\">Variables en Python</span>"
   ]
  },
  {
   "cell_type": "markdown",
   "metadata": {},
   "source": [
    "Una variable sirve para **guardar un valor específico**, ya sea **numérico**, **texto** u otro **tipo de Dato** con el nombre con la que se nombre dicha variable. Observe el siguiente ejemplo."
   ]
  },
  {
   "cell_type": "code",
   "execution_count": 4,
   "metadata": {},
   "outputs": [
    {
     "name": "stdout",
     "output_type": "stream",
     "text": [
      "El valor de la variable x es 1\n",
      "\n",
      "El valor de la variable y es ¡Vamos a programar!\n"
     ]
    }
   ],
   "source": [
    "# Asignamos 1 a la variable x\n",
    "\n",
    "x = 1\n",
    "\n",
    "print(\"El valor de la variable x es\", x)\n",
    "\n",
    "# Asignamos \"¡Vamos a programar!\" a la variable y\n",
    "\n",
    "y = \"¡Vamos a programar!\"\n",
    "\n",
    "print(\"\\nEl valor de la variable y es\", y)"
   ]
  },
  {
   "cell_type": "markdown",
   "metadata": {},
   "source": [
    "##   <span style=\"color:#4361EE\">Asignación dinámica en Python</span>"
   ]
  },
  {
   "cell_type": "markdown",
   "metadata": {},
   "source": [
    "En Python, como en R, Julia, Matlab y otros lenguajes no es necesario declarar una variable de antemano, como ocurre en otros lenguajes como C, C++ y muchos otros lenguajes de bajo nivel. \n",
    "La asignación dinámica implica que es posible cambiar el tipo de dato de una variable con tan solo reasignarle un valor. En Python, se delega al programador la responsabilidad de cuidarse de efectos no esperados al cambiar el tipo de una variable. Vea el siguiente ejemplo."
   ]
  },
  {
   "cell_type": "code",
   "execution_count": 5,
   "metadata": {},
   "outputs": [
    {
     "name": "stdout",
     "output_type": "stream",
     "text": [
      "x es número un real: 5.6\n",
      "x es ahora un número complejo: (3+4j)\n",
      "En cambio ahora x es un string: 25 de mayo\n"
     ]
    }
   ],
   "source": [
    "x = 5.6\n",
    "print('x es número un real:', x)\n",
    "\n",
    "x = 3+4j\n",
    "print('x es ahora un número complejo:', x)\n",
    "\n",
    "x = '25 de mayo'\n",
    "print('En cambio ahora x es un string:', x)"
   ]
  },
  {
   "cell_type": "markdown",
   "metadata": {},
   "source": [
    "##   <span style=\"color:#4361EE\">Reglas para la creación de variables</span>"
   ]
  },
  {
   "cell_type": "markdown",
   "metadata": {},
   "source": [
    "* El nombre de una variable **debe comenzar** con una letra ó con _.\n",
    "* El nombre de una variable **no puede comenzar** con un número.\n",
    "* El nombre de una variable **sólo puede contener** caracteres alfa-numéricos.\n",
    "* El nombre de una variable tiene **sensibilidad** a **mayúsculas** y **minúsculas** (x es diferente de X)."
   ]
  },
  {
   "cell_type": "markdown",
   "metadata": {},
   "source": [
    "### <span style=\"color:#4CC9F0\">Ejercicio</span>\n",
    "\n",
    "Escriba un código que le diga a Python que devuelva los textos **Tengo** *my_age* **años**, donde *my_age* es una variable que tenga asignada su edad.\n"
   ]
  },
  {
   "cell_type": "code",
   "execution_count": 6,
   "metadata": {},
   "outputs": [],
   "source": [
    "# Escriba aquí"
   ]
  }
 ],
 "metadata": {
  "kernelspec": {
   "display_name": "Python 3.9.12 64-bit",
   "language": "python",
   "name": "python3"
  },
  "language_info": {
   "codemirror_mode": {
    "name": "ipython",
    "version": 3
   },
   "file_extension": ".py",
   "mimetype": "text/x-python",
   "name": "python",
   "nbconvert_exporter": "python",
   "pygments_lexer": "ipython3",
   "version": "3.9.12"
  },
  "orig_nbformat": 4,
  "vscode": {
   "interpreter": {
    "hash": "cf92aa13fedf815d5c8dd192b8d835913fde3e8bc926b2a0ad6cc74ef2ba3ca2"
   }
  }
 },
 "nbformat": 4,
 "nbformat_minor": 2
}
