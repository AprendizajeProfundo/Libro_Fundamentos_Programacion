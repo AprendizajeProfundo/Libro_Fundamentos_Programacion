{
 "cells": [
  {
   "cell_type": "markdown",
   "metadata": {},
   "source": [
    "# <span style=\"color:#F72585\"> Subclassing-Modelo de Regresión multi-logística</span>\n"
   ]
  },
  {
   "cell_type": "markdown",
   "metadata": {},
   "source": [
    "## <span style=\"color:#4361EE\">Introducción</span>"
   ]
  },
  {
   "cell_type": "markdown",
   "metadata": {},
   "source": [
    "Esta lección está dedicada a presentar la programación orientada a objetos aplicada a Keras, conocida genéricamente coo subclassing.\n",
    "\n",
    "El tema es recomendado para  usuarios con conocimientos en programación y keras en nuestro caso.\n",
    "\n",
    "Haremos el  modelo  de clasificación con múltiples categorías, utilizado en la introducción de la API funcional. El ejemplo es de nuevo Iris, con el propósito de comparar los dos estilos de programación.\n"
   ]
  },
  {
   "cell_type": "markdown",
   "metadata": {},
   "source": [
    "## <span style=\"color:#4361EE\">Importa módulos</span>\n"
   ]
  },
  {
   "cell_type": "code",
   "execution_count": 1,
   "metadata": {},
   "outputs": [],
   "source": [
    "try:\n",
    "  %tensorflow_version 2.x\n",
    "except Exception:\n",
    "  pass"
   ]
  },
  {
   "cell_type": "code",
   "execution_count": 2,
   "metadata": {},
   "outputs": [
    {
     "name": "stdout",
     "output_type": "stream",
     "text": [
      "2.8.0\n"
     ]
    }
   ],
   "source": [
    "from __future__ import absolute_import, division, print_function, unicode_literals\n",
    "#\n",
    "import pandas as pd\n",
    "import numpy as np\n",
    "import matplotlib.pyplot as plt\n",
    "import seaborn as sns\n",
    "import tensorflow as tf\n",
    "#\n",
    "from tensorflow.keras.models import Model\n",
    "#\n",
    "from tensorflow.keras.layers import Dense, Input, Activation\n",
    "#\n",
    "from tensorflow.keras.utils import to_categorical\n",
    "from tensorflow.keras.utils import plot_model\n",
    "#\n",
    "from sklearn.preprocessing import StandardScaler\n",
    "from sklearn.metrics import confusion_matrix\n",
    "#\n",
    "print(tf.__version__)"
   ]
  },
  {
   "cell_type": "markdown",
   "metadata": {},
   "source": [
    "## <span style=\"color:#4361EE\">El conjunto de datos Iris</span>"
   ]
  },
  {
   "cell_type": "markdown",
   "metadata": {},
   "source": [
    "Este conjunto de datos fue introducido por sir [Ronald Fisher](https://es.wikipedia.org/wiki/Ronald_Fisher)"
   ]
  },
  {
   "cell_type": "markdown",
   "metadata": {},
   "source": [
    "## <span style=\"color:#4361EE\">Lectura de datos</span>\n"
   ]
  },
  {
   "cell_type": "code",
   "execution_count": 3,
   "metadata": {},
   "outputs": [
    {
     "name": "stdout",
     "output_type": "stream",
     "text": [
      "Downloading data from https://storage.googleapis.com/download.tensorflow.org/data/iris_training.csv\n",
      "16384/2194 [================================================================================================================================================================================================================================] - 0s 0s/step\n",
      "Downloading data from https://storage.googleapis.com/download.tensorflow.org/data/iris_test.csv\n",
      "16384/573 [=========================================================================================================================================================================================================================================================================================================================================================================================================================================================================================================================================================================================================================================================================================================================================================================================================================================================================================] - 0s 0s/step\n"
     ]
    }
   ],
   "source": [
    "# nombres de las columnas de los datos\n",
    "col_names = ['SepalLength', 'SepalWidth', 'PetalLength', 'PetalWidth', 'Species']\n",
    "target_dimensions = ['Setosa', 'Versicolor', 'Virginica']\n",
    "\n",
    "# lee los datos\n",
    "training_data_path = tf.keras.utils.get_file(\"iris_training.csv\", \"https://storage.googleapis.com/download.tensorflow.org/data/iris_training.csv\")\n",
    "test_data_path = tf.keras.utils.get_file(\"iris_test.csv\", \"https://storage.googleapis.com/download.tensorflow.org/data/iris_test.csv\")\n",
    "\n",
    "training = pd.read_csv(training_data_path, names=col_names, header=0)\n",
    "test = pd.read_csv(test_data_path, names=col_names, header=0)"
   ]
  },
  {
   "cell_type": "markdown",
   "metadata": {},
   "source": [
    "## <span style=\"color:#4361EE\">Pre-procesamiento</span>\n"
   ]
  },
  {
   "cell_type": "markdown",
   "metadata": {},
   "source": [
    "La variable objetivo (target) tiene tres categorías. Usaremos la codificación one-hot."
   ]
  },
  {
   "cell_type": "markdown",
   "metadata": {},
   "source": [
    "### <span style=\"color:#4CC9F0\">Codificación one-hot</span>"
   ]
  },
  {
   "cell_type": "code",
   "execution_count": 4,
   "metadata": {},
   "outputs": [],
   "source": [
    "y_train= pd.DataFrame(to_categorical(training.Species))\n",
    "y_train.columns = target_dimensions\n",
    "\n",
    "y_test = pd.DataFrame(to_categorical(test.Species))\n",
    "y_test.columns = target_dimensions"
   ]
  },
  {
   "cell_type": "markdown",
   "metadata": {},
   "source": [
    "### <span style=\"color:#4CC9F0\">Elimina columna Species </span>\n"
   ]
  },
  {
   "cell_type": "code",
   "execution_count": 5,
   "metadata": {},
   "outputs": [],
   "source": [
    "training.drop(['Species'], axis=1, inplace=True)\n",
    "#test.drop(['Species'], axis=1, inplace=True)\n",
    "y_test_species = test.pop('Species') # extrae la columna y la coloca en y_test_species\n",
    "#\n",
    "#Si necesita subir al dataframe la recodificación use estas líneas\n",
    "#training = training.join(labels_training )\n",
    "#test = test.join(labels_test )"
   ]
  },
  {
   "cell_type": "markdown",
   "metadata": {},
   "source": [
    "\n",
    "### <span style=\"color:#4CC9F0\">Normaliza los features</span>\n"
   ]
  },
  {
   "cell_type": "markdown",
   "metadata": {},
   "source": [
    "#### <span style=\"color:#4CC9F0\">StandardScaler</span>\n"
   ]
  },
  {
   "cell_type": "code",
   "execution_count": 6,
   "metadata": {},
   "outputs": [
    {
     "name": "stdout",
     "output_type": "stream",
     "text": [
      "[5.845      3.065      3.73916667 1.19666667]\n"
     ]
    }
   ],
   "source": [
    "# crea el objeto StandardScaler\n",
    "scaler = StandardScaler()\n",
    "\n",
    "# Ajusta los parámetros del scaler\n",
    "scaler.fit(training)\n",
    "print (scaler.mean_)\n",
    "\n",
    "# escala training y test\n",
    "x_train = scaler.transform(training)\n",
    "x_test = scaler.transform(test)\n",
    "\n",
    "# labels ( no requieren escalación)\n"
   ]
  },
  {
   "cell_type": "markdown",
   "metadata": {},
   "source": [
    "\n",
    "## <span style=\"color:#4361EE\">Crea el modelo usando subclassing</span>\n"
   ]
  },
  {
   "cell_type": "markdown",
   "metadata": {},
   "source": [
    " Vamos a derivar una clase de la clase Model"
   ]
  },
  {
   "cell_type": "code",
   "execution_count": 7,
   "metadata": {},
   "outputs": [],
   "source": [
    "class CustomModel(Model):\n",
    "    \n",
    "    def __init__(self, **kwargs):\n",
    "        super(CustomModel, self).__init__(**kwargs)\n",
    "        self.dense1 = Dense(5, activation='relu', )\n",
    "        self.dense2 = Dense(10, activation='relu')\n",
    "        self.dense3 = Dense(3, activation='softmax')\n",
    "        \n",
    "    def call(self, inputs):\n",
    "        x = self.dense1(inputs)\n",
    "        x = self.dense2(x)\n",
    "        return self.dense3(x)\n",
    "    \n"
   ]
  },
  {
   "cell_type": "markdown",
   "metadata": {},
   "source": [
    "## <span style=\"color:#4361EE\">Crea una instancia de CustomModel</span>"
   ]
  },
  {
   "cell_type": "code",
   "execution_count": 8,
   "metadata": {},
   "outputs": [],
   "source": [
    "model_iris = CustomModel(name='my_custom_model')"
   ]
  },
  {
   "cell_type": "markdown",
   "metadata": {},
   "source": [
    "## <span style=\"color:#4361EE\">Compila</span>\n"
   ]
  },
  {
   "cell_type": "code",
   "execution_count": 9,
   "metadata": {},
   "outputs": [],
   "source": [
    "model_iris.compile(optimizer='rmsprop',\n",
    "              loss='categorical_crossentropy',\n",
    "              metrics=['accuracy'])"
   ]
  },
  {
   "cell_type": "markdown",
   "metadata": {},
   "source": [
    "## <span style=\"color:#4361EE\">Entrena</span>\n"
   ]
  },
  {
   "cell_type": "code",
   "execution_count": 10,
   "metadata": {},
   "outputs": [
    {
     "name": "stdout",
     "output_type": "stream",
     "text": [
      "Epoch 1/30\n",
      "2/2 [==============================] - 2s 336ms/step - loss: 1.4744 - accuracy: 0.2500 - val_loss: 1.2593 - val_accuracy: 0.2083\n",
      "Epoch 2/30\n",
      "2/2 [==============================] - 0s 52ms/step - loss: 1.4243 - accuracy: 0.2396 - val_loss: 1.2419 - val_accuracy: 0.2083\n",
      "Epoch 3/30\n",
      "2/2 [==============================] - 0s 50ms/step - loss: 1.3924 - accuracy: 0.2396 - val_loss: 1.2297 - val_accuracy: 0.2083\n",
      "Epoch 4/30\n",
      "2/2 [==============================] - 0s 42ms/step - loss: 1.3694 - accuracy: 0.2396 - val_loss: 1.2179 - val_accuracy: 0.2083\n",
      "Epoch 5/30\n",
      "2/2 [==============================] - 0s 40ms/step - loss: 1.3482 - accuracy: 0.2396 - val_loss: 1.2079 - val_accuracy: 0.2083\n",
      "Epoch 6/30\n",
      "2/2 [==============================] - 0s 40ms/step - loss: 1.3273 - accuracy: 0.2396 - val_loss: 1.1990 - val_accuracy: 0.2083\n",
      "Epoch 7/30\n",
      "2/2 [==============================] - 0s 40ms/step - loss: 1.3106 - accuracy: 0.2396 - val_loss: 1.1907 - val_accuracy: 0.2083\n",
      "Epoch 8/30\n",
      "2/2 [==============================] - 0s 35ms/step - loss: 1.2943 - accuracy: 0.2396 - val_loss: 1.1835 - val_accuracy: 0.2083\n",
      "Epoch 9/30\n",
      "2/2 [==============================] - 0s 38ms/step - loss: 1.2782 - accuracy: 0.2396 - val_loss: 1.1768 - val_accuracy: 0.2083\n",
      "Epoch 10/30\n",
      "2/2 [==============================] - 0s 43ms/step - loss: 1.2630 - accuracy: 0.2396 - val_loss: 1.1698 - val_accuracy: 0.2083\n",
      "Epoch 11/30\n",
      "2/2 [==============================] - 0s 42ms/step - loss: 1.2478 - accuracy: 0.2396 - val_loss: 1.1628 - val_accuracy: 0.2083\n",
      "Epoch 12/30\n",
      "2/2 [==============================] - 0s 44ms/step - loss: 1.2347 - accuracy: 0.2396 - val_loss: 1.1572 - val_accuracy: 0.2083\n",
      "Epoch 13/30\n",
      "2/2 [==============================] - 0s 47ms/step - loss: 1.2219 - accuracy: 0.2396 - val_loss: 1.1510 - val_accuracy: 0.2083\n",
      "Epoch 14/30\n",
      "2/2 [==============================] - 0s 46ms/step - loss: 1.2098 - accuracy: 0.2396 - val_loss: 1.1447 - val_accuracy: 0.2083\n",
      "Epoch 15/30\n",
      "2/2 [==============================] - 0s 48ms/step - loss: 1.1976 - accuracy: 0.2396 - val_loss: 1.1389 - val_accuracy: 0.2083\n",
      "Epoch 16/30\n",
      "2/2 [==============================] - 0s 49ms/step - loss: 1.1854 - accuracy: 0.2396 - val_loss: 1.1326 - val_accuracy: 0.1667\n",
      "Epoch 17/30\n",
      "2/2 [==============================] - 0s 48ms/step - loss: 1.1738 - accuracy: 0.2396 - val_loss: 1.1266 - val_accuracy: 0.1667\n",
      "Epoch 18/30\n",
      "2/2 [==============================] - 0s 44ms/step - loss: 1.1623 - accuracy: 0.2396 - val_loss: 1.1207 - val_accuracy: 0.1667\n",
      "Epoch 19/30\n",
      "2/2 [==============================] - 0s 49ms/step - loss: 1.1513 - accuracy: 0.2396 - val_loss: 1.1155 - val_accuracy: 0.1667\n",
      "Epoch 20/30\n",
      "2/2 [==============================] - 0s 52ms/step - loss: 1.1402 - accuracy: 0.2292 - val_loss: 1.1102 - val_accuracy: 0.1250\n",
      "Epoch 21/30\n",
      "2/2 [==============================] - 0s 51ms/step - loss: 1.1294 - accuracy: 0.2188 - val_loss: 1.1048 - val_accuracy: 0.1250\n",
      "Epoch 22/30\n",
      "2/2 [==============================] - 0s 81ms/step - loss: 1.1189 - accuracy: 0.2188 - val_loss: 1.0996 - val_accuracy: 0.1250\n",
      "Epoch 23/30\n",
      "2/2 [==============================] - 0s 101ms/step - loss: 1.1080 - accuracy: 0.2083 - val_loss: 1.0939 - val_accuracy: 0.0833\n",
      "Epoch 24/30\n",
      "2/2 [==============================] - 0s 59ms/step - loss: 1.0976 - accuracy: 0.1979 - val_loss: 1.0882 - val_accuracy: 0.0417\n",
      "Epoch 25/30\n",
      "2/2 [==============================] - 0s 58ms/step - loss: 1.0877 - accuracy: 0.1875 - val_loss: 1.0826 - val_accuracy: 0.0417\n",
      "Epoch 26/30\n",
      "2/2 [==============================] - 0s 54ms/step - loss: 1.0779 - accuracy: 0.1667 - val_loss: 1.0763 - val_accuracy: 0.0000e+00\n",
      "Epoch 27/30\n",
      "2/2 [==============================] - 0s 52ms/step - loss: 1.0681 - accuracy: 0.1562 - val_loss: 1.0703 - val_accuracy: 0.0000e+00\n",
      "Epoch 28/30\n",
      "2/2 [==============================] - 0s 53ms/step - loss: 1.0583 - accuracy: 0.1667 - val_loss: 1.0651 - val_accuracy: 0.0000e+00\n",
      "Epoch 29/30\n",
      "2/2 [==============================] - 0s 60ms/step - loss: 1.0486 - accuracy: 0.1562 - val_loss: 1.0592 - val_accuracy: 0.0000e+00\n",
      "Epoch 30/30\n",
      "2/2 [==============================] - 0s 57ms/step - loss: 1.0393 - accuracy: 0.1667 - val_loss: 1.0543 - val_accuracy: 0.0000e+00\n"
     ]
    }
   ],
   "source": [
    "\n",
    "history = model_iris.fit(x_train, y_train.values,\n",
    "                    batch_size= 64,\n",
    "                    epochs= 30,\n",
    "                    validation_split=0.2)"
   ]
  },
  {
   "cell_type": "code",
   "execution_count": 11,
   "metadata": {},
   "outputs": [
    {
     "name": "stdout",
     "output_type": "stream",
     "text": [
      "Model: \"my_custom_model\"\n",
      "_________________________________________________________________\n",
      " Layer (type)                Output Shape              Param #   \n",
      "=================================================================\n",
      " dense (Dense)               multiple                  25        \n",
      "                                                                 \n",
      " dense_1 (Dense)             multiple                  60        \n",
      "                                                                 \n",
      " dense_2 (Dense)             multiple                  33        \n",
      "                                                                 \n",
      "=================================================================\n",
      "Total params: 118\n",
      "Trainable params: 118\n",
      "Non-trainable params: 0\n",
      "_________________________________________________________________\n"
     ]
    }
   ],
   "source": [
    "model_iris.summary()\n",
    "#plot_model(model_iris, to_file='../Imagenes/iris_model.png', \n",
    "#           show_shapes=True)"
   ]
  },
  {
   "cell_type": "markdown",
   "metadata": {},
   "source": [
    "## <span style=\"color:#4361EE\">Evaluación del modelo</span>\n"
   ]
  },
  {
   "cell_type": "code",
   "execution_count": 12,
   "metadata": {},
   "outputs": [],
   "source": [
    "\n",
    "def plot_metric(history, metric):\n",
    "    train_metrics = history.history[metric]\n",
    "    val_metrics = history.history['val_'+metric]\n",
    "    epochs = range(1, len(train_metrics) + 1)\n",
    "    plt.plot(epochs, train_metrics, 'bo--')\n",
    "    plt.plot(epochs, val_metrics, 'ro-')\n",
    "    plt.title('Entrenamiento y validación '+ metric)\n",
    "    plt.xlabel(\"Epochs\")\n",
    "    plt.ylabel(metric)\n",
    "    plt.legend([\"train_\"+metric, 'val_'+metric])\n",
    "    plt.show()"
   ]
  },
  {
   "cell_type": "code",
   "execution_count": 13,
   "metadata": {},
   "outputs": [
    {
     "data": {
      "image/png": "[encoded data removed]",
      "text/plain": [
       "<Figure size 432x288 with 1 Axes>"
      ]
     },
     "metadata": {
      "needs_background": "light"
     },
     "output_type": "display_data"
    }
   ],
   "source": [
    "plot_metric(history, 'loss')"
   ]
  },
  {
   "cell_type": "code",
   "execution_count": 14,
   "metadata": {},
   "outputs": [
    {
     "data": {
      "image/png": "[encoded data removed]",
      "text/plain": [
       "<Figure size 432x288 with 1 Axes>"
      ]
     },
     "metadata": {
      "needs_background": "light"
     },
     "output_type": "display_data"
    }
   ],
   "source": [
    "plot_metric(history, 'accuracy')"
   ]
  },
  {
   "cell_type": "code",
   "execution_count": 15,
   "metadata": {},
   "outputs": [
    {
     "name": "stdout",
     "output_type": "stream",
     "text": [
      "1/1 [==============================] - 0s 41ms/step - loss: 1.0492 - accuracy: 0.1333\n"
     ]
    },
    {
     "data": {
      "text/plain": [
       "[1.0492312908172607, 0.13333334028720856]"
      ]
     },
     "execution_count": 15,
     "metadata": {},
     "output_type": "execute_result"
    }
   ],
   "source": [
    "model_iris.evaluate(x = x_test,y = y_test.values)"
   ]
  },
  {
   "cell_type": "markdown",
   "metadata": {},
   "source": [
    "## <span style=\"color:#4361EE\">Predicciones</span>\n"
   ]
  },
  {
   "cell_type": "code",
   "execution_count": 16,
   "metadata": {},
   "outputs": [],
   "source": [
    "# Predicting the Test set results\n",
    "y_pred = model_iris.predict(x_test)\n",
    "y_pred_c = np.argmax(y_pred, axis=1)"
   ]
  },
  {
   "cell_type": "markdown",
   "metadata": {},
   "source": [
    "## <span style=\"color:#4361EE\">Matriz de confusión</span>\n"
   ]
  },
  {
   "cell_type": "code",
   "execution_count": 17,
   "metadata": {},
   "outputs": [],
   "source": [
    "cm = confusion_matrix(y_test_species, y_pred_c)"
   ]
  },
  {
   "cell_type": "code",
   "execution_count": 18,
   "metadata": {},
   "outputs": [
    {
     "name": "stdout",
     "output_type": "stream",
     "text": [
      "Our accuracy is 13.333333333333334%\n"
     ]
    }
   ],
   "source": [
    "print(\"Our accuracy is {}%\".format(((cm[0][0] + cm[1][1]+ cm[2][2])/y_test_species.shape[0])*100))"
   ]
  },
  {
   "cell_type": "code",
   "execution_count": 19,
   "metadata": {},
   "outputs": [
    {
     "data": {
      "image/png": "[encoded data removed]",
      "text/plain": [
       "<Figure size 432x288 with 2 Axes>"
      ]
     },
     "metadata": {
      "needs_background": "light"
     },
     "output_type": "display_data"
    }
   ],
   "source": [
    "sns.heatmap(cm,annot=True)\n",
    "plt.savefig('h.png')"
   ]
  }
 ],
 "metadata": {
  "kernelspec": {
   "display_name": "Python 3.9.8 64-bit",
   "language": "python",
   "name": "python3"
  },
  "language_info": {
   "codemirror_mode": {
    "name": "ipython",
    "version": 3
   },
   "file_extension": ".py",
   "mimetype": "text/x-python",
   "name": "python",
   "nbconvert_exporter": "python",
   "pygments_lexer": "ipython3",
   "version": "3.9.8"
  },
  "vscode": {
   "interpreter": {
    "hash": "cf92aa13fedf815d5c8dd192b8d835913fde3e8bc926b2a0ad6cc74ef2ba3ca2"
   }
  }
 },
 "nbformat": 4,
 "nbformat_minor": 4
}
