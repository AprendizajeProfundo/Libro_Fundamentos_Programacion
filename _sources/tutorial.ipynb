{
 "cells": [
  {
   "cell_type": "markdown",
   "id": "9a29c6b0",
   "metadata": {},
   "source": [
    "# <span style=\"color:#F72585\">Bienvenido(a)</span>"
   ]
  },
  {
   "cell_type": "markdown",
   "id": "a7e86548",
   "metadata": {},
   "source": [
    "Desde Aprendizaje Profundo le damos la bienvenida al libro Fundamentos de Programación. En este libro encontrará lecciones que le ayudarán a adquirir y afianzar los conocimientos que requiere para adentrarse en el emocionante mundo de la Inteligencia Artificial y el Aprendizaje Profundo.\n"
   ]
  },
  {
   "cell_type": "markdown",
   "id": "a129c1fd",
   "metadata": {},
   "source": [
    "## <span style=\"color:#4361EE\">Autores</span>\n"
   ]
  },
  {
   "cell_type": "markdown",
   "id": "19cf5393",
   "metadata": {},
   "source": [
    "- Álvaro Mauricio Montenegro Díaz\n",
    "- Daniel Mauricio Montenegro Reyes"
   ]
  },
  {
   "cell_type": "markdown",
   "id": "df6289ac",
   "metadata": {},
   "source": [
    "## <span style=\"color:#4361EE\">Diseño Gráfico y Marketing Digital</span>\n"
   ]
  },
  {
   "cell_type": "markdown",
   "id": "932a8faa",
   "metadata": {},
   "source": [
    "- Maria del Pilar Montenegro Reyes"
   ]
  },
  {
   "cell_type": "markdown",
   "id": "673e5c5f",
   "metadata": {},
   "source": [
    "## <span style=\"color:#4361EE\">Desarrollo de Tecnología</span>\n"
   ]
  },
  {
   "cell_type": "markdown",
   "id": "8b22bb90",
   "metadata": {},
   "source": [
    "- Nayibe Yesenia Arias Cortez\n",
    "- Cristhian Camilo Chitivo Cerinza\n",
    "- Jorge Andrés Diaz Fonseca\n",
    "- Venus Celeste Puertas Gualtero\n"
   ]
  }
 ],
 "metadata": {
  "kernelspec": {
   "display_name": "Python 3 (ipykernel)",
   "language": "python",
   "name": "python3"
  },
  "language_info": {
   "codemirror_mode": {
    "name": "ipython",
    "version": 3
   },
   "file_extension": ".py",
   "mimetype": "text/x-python",
   "name": "python",
   "nbconvert_exporter": "python",
   "pygments_lexer": "ipython3",
   "version": "3.8.8"
  }
 },
 "nbformat": 4,
 "nbformat_minor": 5
}
