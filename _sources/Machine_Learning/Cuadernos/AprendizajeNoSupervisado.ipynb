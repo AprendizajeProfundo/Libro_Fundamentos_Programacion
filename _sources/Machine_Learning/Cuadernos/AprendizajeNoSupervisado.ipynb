{
 "cells": [
  {
   "cell_type": "markdown",
   "metadata": {},
   "source": [
    "# <span style=\"color:#F72585\">Aprendizaje no supervisado</span>\n"
   ]
  },
  {
   "cell_type": "markdown",
   "metadata": {},
   "source": [
    "```{admonition} Nota\n",
    ":class: \n",
    "Los trozos de código de esta página son de R. Por favor, ejecútelos en Colab o Binder\n",
    "```"
   ]
  },
  {
   "cell_type": "markdown",
   "metadata": {
    "id": "liXrxkeGMutK"
   },
   "source": [
    "## <span style=\"color:#4361EE\">Introducción</span>"
   ]
  },
  {
   "cell_type": "markdown",
   "metadata": {
    "id": "tn5sP7WofAu6"
   },
   "source": [
    "En el aprendizaje no supervisado se tienen tablas de datos donde no hay una variable de respuesta. Lo que se busca es \"entender\" los datos, buscar patrones de comportamiento en ellos, describir y explorar lo que está oculto. En el aprendizaje se mencionan como técnicas de visualización. En Estadística se habla de un área de ella, la descriptiva: univariada, bivariada y multivarida. Los índices estadísticos complementan a los gráficos. Los gráficos son más fáciles de comprender por nuestro cerebro y esa es la razón de que se busquen representaciones y resúmenes gráficos.\n",
    "\n",
    "Para entender la información que emerge de los datos, es necesario conocer el contexto del entorno del que los datos forman parte: metainformación. La metainformación más próxima a los datos puestos en una tabla, está en los nombres de las filas y columnas. En las filas generalmente, se ponen las unidades estadísticas, claramente definidas en el estudio que está desarrollando. Usamos el nombre genérico de individuos para esas unidades estadísticas. En los datos más estructurados, las columnas suelen ser las variables o características que queremos observar.\n",
    "\n",
    "Visualizar, entender, describir, explorar los datos, es también útil, antes de abordar modelos de aprendizaje supervisado. Entender la realidad a través de los datos ayuda a selecciones mejor los modelos y podrían ayudar a llegar a los modelos adecuados de forma más rápida.\n",
    "\n",
    "Las tablas de datos de individuos por variables continuas se conocen como matrices en el Álgebra lineal, el área de las matemáticas que nos sirve para ver las tablas como puntos en es representaciones geométricas multidimensionales. En lugar de tratar de entender la tabla de datos (digital) observamos su representación gráfica (analógica). \n",
    "\n",
    "Se suelen utilizar letras mayúsculas para representar a las matrices. Las tablas de individuos, usaremos *n* para indicar el número de filas (individuos) y *p* para el número de variables. Si denotamos por **Y** la matriz, tiene dimensiones *n* por *p*, es decir *n* individuos. Se suelen utilizar los subíndices *i* y *j* para recorrer filas y columnas.\n",
    "\n"
   ]
  },
  {
   "cell_type": "markdown",
   "metadata": {},
   "source": [
    "<center>\n",
    "<img src=\"https://miro.medium.com/max/1200/1*e2MXyQCS28jQghVLZumLsA.png\" alt=\"Matriz\" width=\"250\" height=\"350\">\n",
    "<center>\n",
    "\n",
    "Fuente: [Medium](https://miro.medium.com/max/1200/1*e2MXyQCS28jQghVLZumLsA.png)"
   ]
  },
  {
   "cell_type": "markdown",
   "metadata": {},
   "source": [
    "La representación de una matriz de números reales (variables continuas) y su visualización mediante proyecciones da origen al método de análisis en componentes principales. Esta representación hace uso de una parte del Álgebra lineal, que se puede denominar: espacios vectoriales con producto interno. El producto interno que se define haciendo uso de una matriz cuadrada, simétrica y definida positiva, por las condiciones que debe cumplir. La más sencilla es la matriz identidad, como es cuadrada, el número de filas es igual al número de columnas, y es el orden de la matriz.\n",
    "\n",
    "La geometría de nuestra vida diaria está en 3 dimensiones y la matriz que define el producto interno es **I**$_3$:"
   ]
  },
  {
   "cell_type": "code",
   "execution_count": 1,
   "metadata": {
    "colab": {
     "base_uri": "https://localhost:8080/",
     "height": 161
    },
    "id": "U-g36KYDMZIk",
    "outputId": "0f8a2ba8-2861-4e0e-a37e-2fa46588a445",
    "vscode": {
     "languageId": "r"
    }
   },
   "outputs": [
    {
     "data": {
      "text/html": [
       "<table class=\"dataframe\">\n",
       "<caption>A matrix: 3 × 3 of type dbl</caption>\n",
       "<tbody>\n",
       "\t<tr><td>1</td><td>0</td><td>0</td></tr>\n",
       "\t<tr><td>0</td><td>1</td><td>0</td></tr>\n",
       "\t<tr><td>0</td><td>0</td><td>1</td></tr>\n",
       "</tbody>\n",
       "</table>\n"
      ],
      "text/latex": [
       "A matrix: 3 × 3 of type dbl\n",
       "\\begin{tabular}{lll}\n",
       "\t 1 & 0 & 0\\\\\n",
       "\t 0 & 1 & 0\\\\\n",
       "\t 0 & 0 & 1\\\\\n",
       "\\end{tabular}\n"
      ],
      "text/markdown": [
       "\n",
       "A matrix: 3 × 3 of type dbl\n",
       "\n",
       "| 1 | 0 | 0 |\n",
       "| 0 | 1 | 0 |\n",
       "| 0 | 0 | 1 |\n",
       "\n"
      ],
      "text/plain": [
       "     [,1] [,2] [,3]\n",
       "[1,] 1    0    0   \n",
       "[2,] 0    1    0   \n",
       "[3,] 0    0    1   "
      ]
     },
     "metadata": {},
     "output_type": "display_data"
    }
   ],
   "source": [
    "I=diag(3); I"
   ]
  },
  {
   "cell_type": "markdown",
   "metadata": {
    "id": "hZrvhNXfNAWd"
   },
   "source": [
    "De la matriz de métrica se derivan: normas, distancias, proyecciones, ángulos. Para la matriz **Y** se tienen dos representaciones que denominamos nubes de puntos y denotamos por *N* con un subíndice para tener el número de puntos que hay en la nube. Para la tabla **Y** ($n\\times p$) tenemos la nube de filas o individuos *N*$_n$, en $\\mathbb{R}^p$ y la nube de columnas o variables  *N*$_p$, en $\\mathbb{R}^n$. Para que los vectores de la representación geométrica de las variables muestren los resúmenes estadísticos de las variables, el espacio vectorial $\\mathbb{R}^n$ denota la métrica $\\frac{1}{n}\\mathbf{I}$. Por ejemplo, si $n=5$ es $\\frac{1}{5}\\mathbf{I}$:\n",
    "\n",
    "\n"
   ]
  },
  {
   "cell_type": "code",
   "execution_count": 2,
   "metadata": {
    "colab": {
     "base_uri": "https://localhost:8080/",
     "height": 189
    },
    "id": "gyqGaZuP8SXZ",
    "outputId": "a0a5a87c-6653-46c8-d56f-035bd1b4009e",
    "vscode": {
     "languageId": "r"
    }
   },
   "outputs": [
    {
     "data": {
      "text/html": [
       "<table class=\"dataframe\">\n",
       "<caption>A matrix: 5 × 5 of type dbl</caption>\n",
       "<tbody>\n",
       "\t<tr><td>0.2</td><td>0.0</td><td>0.0</td><td>0.0</td><td>0.0</td></tr>\n",
       "\t<tr><td>0.0</td><td>0.2</td><td>0.0</td><td>0.0</td><td>0.0</td></tr>\n",
       "\t<tr><td>0.0</td><td>0.0</td><td>0.2</td><td>0.0</td><td>0.0</td></tr>\n",
       "\t<tr><td>0.0</td><td>0.0</td><td>0.0</td><td>0.2</td><td>0.0</td></tr>\n",
       "\t<tr><td>0.0</td><td>0.0</td><td>0.0</td><td>0.0</td><td>0.2</td></tr>\n",
       "</tbody>\n",
       "</table>\n"
      ],
      "text/latex": [
       "A matrix: 5 × 5 of type dbl\n",
       "\\begin{tabular}{lllll}\n",
       "\t 0.2 & 0.0 & 0.0 & 0.0 & 0.0\\\\\n",
       "\t 0.0 & 0.2 & 0.0 & 0.0 & 0.0\\\\\n",
       "\t 0.0 & 0.0 & 0.2 & 0.0 & 0.0\\\\\n",
       "\t 0.0 & 0.0 & 0.0 & 0.2 & 0.0\\\\\n",
       "\t 0.0 & 0.0 & 0.0 & 0.0 & 0.2\\\\\n",
       "\\end{tabular}\n"
      ],
      "text/markdown": [
       "\n",
       "A matrix: 5 × 5 of type dbl\n",
       "\n",
       "| 0.2 | 0.0 | 0.0 | 0.0 | 0.0 |\n",
       "| 0.0 | 0.2 | 0.0 | 0.0 | 0.0 |\n",
       "| 0.0 | 0.0 | 0.2 | 0.0 | 0.0 |\n",
       "| 0.0 | 0.0 | 0.0 | 0.2 | 0.0 |\n",
       "| 0.0 | 0.0 | 0.0 | 0.0 | 0.2 |\n",
       "\n"
      ],
      "text/plain": [
       "     [,1] [,2] [,3] [,4] [,5]\n",
       "[1,] 0.2  0.0  0.0  0.0  0.0 \n",
       "[2,] 0.0  0.2  0.0  0.0  0.0 \n",
       "[3,] 0.0  0.0  0.2  0.0  0.0 \n",
       "[4,] 0.0  0.0  0.0  0.2  0.0 \n",
       "[5,] 0.0  0.0  0.0  0.0  0.2 "
      ]
     },
     "metadata": {},
     "output_type": "display_data"
    }
   ],
   "source": [
    "1/5*diag(5)"
   ]
  },
  {
   "cell_type": "markdown",
   "metadata": {
    "id": "Ilcura-rqvT-"
   },
   "source": [
    "La generalización del ACP, utilizando otras métricas y transformando previamente las tablas que se desean explorar, permite tener imágenes geométricas para: tablas de contingencia, frecuencias y otras de números positivos (Análisis de correspondencias simples); y para tablas de individuos por variables cualitativas (Análisis de correspondencias múltiples). A continuación se muestras un esquema de esos tres métodos factoriales o en ejes principales:"
   ]
  },
  {
   "cell_type": "markdown",
   "metadata": {
    "id": "ZJgKVO7yxjhZ"
   },
   "source": [
    "<center>\n",
    "<img src=\"https://github.com/AprendizajeProfundo/Diplomado/blob/master/Temas/M%C3%B3dulo%2014-%20Aprendizaje%20no%20Supervisado/Imagenes/metodosFactoriales.png?raw=true\" alt=\"Primera imagen\" width=\"600\" height=\"700\">\n",
    "<center>"
   ]
  },
  {
   "cell_type": "markdown",
   "metadata": {
    "id": "LwxsXAo88NOy"
   },
   "source": [
    "Lo que muestra la figura es la proyección de nubes de puntos que están en muchas dimensiones en planos. Si partimos de un espacio de 100 dimensiones podemos hacer una primera lectura en el mejor plano, es decir en el que menos se deforman las longitudes o normas de los vectores, que equivale a que se pierde menos de las longitudes de los vectores. Seguramente un plano no es suficiente y hay que decidir  cuál es  la dimensión del subespacio *S* que se va a observar. Si decidimos observar en $S=5$ dimensiones es subespacio es $\\mathbb{R}^5$ y tampoco lo puedo ver y tendríamos que leer varios planos. El primero formado por los nuevos ejes 1 y 2 es el mejor plano y en principio debería observar las 10 parejas de planos.\n",
    "\n",
    "Otra manera de resumir la información es hacer una partición: grupos o clases disyuntos y cuya unión es el conjunto de todos los datos. Aquí aprovechamos las representaciones geométricas de los métodos factoriales. Entonces se trata de buscar grupos geométricamente, los métodos que se asocian a esa búsqueda son el $K{-}means$, algoritmo que busca una partición directa. Tiene ventajas pero tiene dos problemas: hay que darle al algoritmo el número de clases *K* y ese número que queremos decidir a partir de la estructura de los datos; y generalmente converge a un óptimo local y no global, es decir que la partición en $K$ clases depende de los puntos iniciales. Entonces se usa el método de Ward, de clasificación ascendente jerárquica aglomerativa, como una manera de solucionar esos dos problemas. Estos métodos se tratan de clasificación no supervisada o agrupamiento, en inglés se conocen como *Cluster Analysis*. Los algoritmos de clasificación ascendente jerárquica aglomerativa parte de los *n* individuos, se unen los dos más cercanos para formar un grupo y se tiene una partición de $n-1$ grupos: uno de dos individuos y $n-2$ de uno. El grupo formado pasa a jugar el papel de un individuo, de modo que se sigue el procedimiento hasta llegar a un solo grupos de $n$ individuos. Este proceso se puede ver como un árbol y de su observación podemos decidir sobre una o más particiones. Una partición se obtiene al cortar el árbol lo que origina *K* ramas separadas, que corresponden a las clases. Los dos problemas de este segundo tipo de métodos son: su consumo de recursos de cómputo y la restricción de anidamiento de las particiones. En la figura se muestra un árbol pequeño. \n"
   ]
  },
  {
   "cell_type": "markdown",
   "metadata": {},
   "source": [
    "<center>\n",
    "<img src=\"https://miro.medium.com/max/1280/1*eqLUPz6vkWmomJKJ9mX2SA.gif\" alt=\"k-means\" width=\"400\" height=\"500\">\n",
    "<center>\n",
    "\n",
    "Fuente[Medium](https://miro.medium.com/max/1280/1*eqLUPz6vkWmomJKJ9mX2SA.gif)"
   ]
  },
  {
   "cell_type": "markdown",
   "metadata": {},
   "source": [
    "Cuando el número de individuos es muy grande, se realiza $K{-}means$ para obtener una partición en miles de clases, que entrarán al método de Ward. Para el segundo problema se realiza una optimización o consolidación de la partición obtenida con el $K{-}means$. Nótese que el método de Ward provee una manera de solucionar los dos problemas del $K{-}means$: provee el número *K* de clases y los puntos iniciales. A su vez el $K{-}means$ provee  una solución a los problemas del método de Ward: la saturación del sistema de cómputo y la restricción de anidamiento de la partición. \n"
   ]
  },
  {
   "cell_type": "code",
   "execution_count": 3,
   "metadata": {
    "id": "TdaOvNf9A9NN",
    "vscode": {
     "languageId": "r"
    }
   },
   "outputs": [],
   "source": [
    "data(iris)\n",
    "hcl <- hclust(dist(iris[,-5]),method=\"ward.D2\")"
   ]
  },
  {
   "cell_type": "code",
   "execution_count": 4,
   "metadata": {
    "colab": {
     "base_uri": "https://localhost:8080/",
     "height": 437
    },
    "id": "9C-Rs-1vHZZp",
    "outputId": "12384ed2-ce4b-484e-977f-f0c0bf78043c",
    "vscode": {
     "languageId": "r"
    }
   },
   "outputs": [
    {
     "data": {
      "image/png": "[encoded data removed]",
      "text/plain": [
       "plot without title"
      ]
     },
     "metadata": {
      "image/png": {
       "height": 420,
       "width": 420
      }
     },
     "output_type": "display_data"
    }
   ],
   "source": [
    "barplot(hcl$height[149:130],horiz=TRUE) "
   ]
  },
  {
   "cell_type": "code",
   "execution_count": 5,
   "metadata": {
    "colab": {
     "base_uri": "https://localhost:8080/",
     "height": 437
    },
    "id": "treOhm8LIQMk",
    "outputId": "e4dcc81d-4051-47fd-d1c8-a80ffaac160f",
    "vscode": {
     "languageId": "r"
    }
   },
   "outputs": [
    {
     "data": {
      "image/png": "[encoded data removed]",
      "text/plain": [
       "Plot with title \"Cluster Dendrogram\""
      ]
     },
     "metadata": {
      "image/png": {
       "height": 420,
       "width": 420
      }
     },
     "output_type": "display_data"
    }
   ],
   "source": [
    "plot(hcl)"
   ]
  },
  {
   "cell_type": "markdown",
   "metadata": {
    "id": "I--pRANzJW-D"
   },
   "source": [
    "En el libro Estadística descriptiva multivariada, se explican estos métodos. Se puede bajar de la página de la Facultad de Ciencias, en este [link](http://ciencias.bogota.unal.edu.co/fileadmin/Facultad_de_Ciencias/Publicaciones/Imagenes/Portadas_Libros/Estadistica/Estadistica_descriptiva_multivariada/libroEstadisiticaDescriptivaMultivariadaDigital.pdf)."
   ]
  },
  {
   "cell_type": "markdown",
   "metadata": {},
   "source": [
    "## <span style=\"color:#4361EE\">Descripción bivariada simultánea</span>\n"
   ]
  },
  {
   "cell_type": "markdown",
   "metadata": {
    "id": "aZpzttZnccZR"
   },
   "source": [
    "Estoy llamando Descripción univariada simultánea cuando observamos a la vez las descripciones bivariadas da varias parejas de variables. Para hacerlo las variables según las escalas de medida se dividen solo en dos tipos: cualitativas (nominales e ordinales) y continuas (de intervalo de razón). Entonces, se tienen tres tipos de parejas de variables:\n",
    "\n",
    "1. Dos continuas.\n",
    "\n",
    "2. Una cualitativa y una continua.\n",
    "\n",
    "3. Dos cualitativas.\n",
    "\n",
    "En estas descripciones se privilegian las descripciones gráficas."
   ]
  },
  {
   "cell_type": "markdown",
   "metadata": {},
   "source": [
    "### <span style=\"color:#4CC9F0\">Descripción bivariada de varias parejas de variables continuas</span>\n"
   ]
  },
  {
   "cell_type": "markdown",
   "metadata": {
    "id": "2gLr0LBIeHmU"
   },
   "source": [
    "En FactoClass hemos programado la función *plotpairs* que enriquece la función *pairs* de R, dejando los diagramas de dispersión en la parte triangular inferior del panel de gráficas, en la parte triangular superior se grafican curvas de nivel de densidades kernel bivariadas, y el panel de la diagonal se utiliza para dibujar las densidades kernel de las marginales.\n",
    "\n",
    "Vamos a utilizarla para ver las seis parejas de las cuatro variables. En el Colab no está disponible el paquete FactoClass, por lo tanto tenemos que instalarlo:\n"
   ]
  },
  {
   "cell_type": "code",
   "execution_count": 6,
   "metadata": {
    "colab": {
     "base_uri": "https://localhost:8080/"
    },
    "id": "byyRpZLVJ_Qv",
    "jupyter": {
     "outputs_hidden": true
    },
    "outputId": "726ea0cd-7750-4ea0-9fd7-715937eae755",
    "vscode": {
     "languageId": "r"
    }
   },
   "outputs": [],
   "source": [
    "#install.packages(\"FactoClass\")"
   ]
  },
  {
   "cell_type": "markdown",
   "metadata": {
    "id": "dNcsT4xSic2x"
   },
   "source": [
    "Para hacer disponibles sus funciones hay que cargarla:"
   ]
  },
  {
   "cell_type": "code",
   "execution_count": 7,
   "metadata": {
    "colab": {
     "base_uri": "https://localhost:8080/"
    },
    "id": "6PvJ8ZBR10Oy",
    "outputId": "580a0c37-d9a3-41ee-b279-80f9d9c6ae4f",
    "vscode": {
     "languageId": "r"
    }
   },
   "outputs": [
    {
     "name": "stderr",
     "output_type": "stream",
     "text": [
      "Loading required package: ade4\n",
      "\n",
      "Loading required package: ggplot2\n",
      "\n",
      "Loading required package: ggrepel\n",
      "\n",
      "Loading required package: xtable\n",
      "\n",
      "Loading required package: scatterplot3d\n",
      "\n"
     ]
    }
   ],
   "source": [
    "library(FactoClass)\n"
   ]
  },
  {
   "cell_type": "markdown",
   "metadata": {
    "id": "muph6OhxipJ5"
   },
   "source": [
    "Ahora sí la gráfica:"
   ]
  },
  {
   "cell_type": "code",
   "execution_count": 8,
   "metadata": {
    "colab": {
     "base_uri": "https://localhost:8080/",
     "height": 436
    },
    "id": "1tLYoDz72AVm",
    "outputId": "d5a4e2cd-c0e8-4455-9df9-2a2ba1719cc2",
    "vscode": {
     "languageId": "r"
    }
   },
   "outputs": [
    {
     "data": {
      "image/png": "[encoded data removed]",
      "text/plain": [
       "Plot with title \"\""
      ]
     },
     "metadata": {
      "image/png": {
       "height": 420,
       "width": 420
      }
     },
     "output_type": "display_data"
    }
   ],
   "source": [
    "data(iris)\n",
    "plotpairs(iris[,1:4])"
   ]
  },
  {
   "cell_type": "markdown",
   "metadata": {
    "id": "efy4jZKKjS3r"
   },
   "source": [
    "En este panel de gráficas podemos explorar la existencia de grupos. Vemos claramente dos grupos en todos los diagramas de dispersión y una separaciones claras,  en los contornos de las densidades kernel, cuando una de las variables es la longitud del pétalo. Las variables longitud y ancho del pétalo son las que mejor separan entre los dos grupos."
   ]
  },
  {
   "cell_type": "markdown",
   "metadata": {
    "id": "p72HI_S2ly4w"
   },
   "source": [
    "En el ejemplo iris se conocen que las flores son de tres especies y podemos explorar su separación identificando la pertenencia a las clases con símbolos y colores. La función *plomatrix* del paquete *amun* programado por tres estudiantes de algún curso Análisis multivariado de la Carrera de Estadística, lo hace. Sin embargo no está en el CRAN y la voy a utilizar desde mi consola de R:\n",
    "\n",
    "**Ejecutar desde consola**\n"
   ]
  },
  {
   "cell_type": "markdown",
   "metadata": {
    "id": "GnwVuPZOu97_"
   },
   "source": [
    "Las gráficas se pueden complementar con las matriz de varianzas y covarianzas; y la de correlaciones:"
   ]
  },
  {
   "cell_type": "code",
   "execution_count": 9,
   "metadata": {
    "colab": {
     "base_uri": "https://localhost:8080/",
     "height": 184
    },
    "id": "h2k7DJ_GvRq_",
    "outputId": "6744ca5f-7770-43d3-b082-e4cd34dbe2f1",
    "vscode": {
     "languageId": "r"
    }
   },
   "outputs": [
    {
     "data": {
      "text/html": [
       "<table class=\"dataframe\">\n",
       "<caption>A matrix: 4 × 4 of type dbl</caption>\n",
       "<thead>\n",
       "\t<tr><th></th><th scope=col>Sepal.Length</th><th scope=col>Sepal.Width</th><th scope=col>Petal.Length</th><th scope=col>Petal.Width</th></tr>\n",
       "</thead>\n",
       "<tbody>\n",
       "\t<tr><th scope=row>Sepal.Length</th><td> 0.69</td><td>-0.04</td><td> 1.27</td><td> 0.52</td></tr>\n",
       "\t<tr><th scope=row>Sepal.Width</th><td>-0.04</td><td> 0.19</td><td>-0.33</td><td>-0.12</td></tr>\n",
       "\t<tr><th scope=row>Petal.Length</th><td> 1.27</td><td>-0.33</td><td> 3.12</td><td> 1.30</td></tr>\n",
       "\t<tr><th scope=row>Petal.Width</th><td> 0.52</td><td>-0.12</td><td> 1.30</td><td> 0.58</td></tr>\n",
       "</tbody>\n",
       "</table>\n"
      ],
      "text/latex": [
       "A matrix: 4 × 4 of type dbl\n",
       "\\begin{tabular}{r|llll}\n",
       "  & Sepal.Length & Sepal.Width & Petal.Length & Petal.Width\\\\\n",
       "\\hline\n",
       "\tSepal.Length &  0.69 & -0.04 &  1.27 &  0.52\\\\\n",
       "\tSepal.Width & -0.04 &  0.19 & -0.33 & -0.12\\\\\n",
       "\tPetal.Length &  1.27 & -0.33 &  3.12 &  1.30\\\\\n",
       "\tPetal.Width &  0.52 & -0.12 &  1.30 &  0.58\\\\\n",
       "\\end{tabular}\n"
      ],
      "text/markdown": [
       "\n",
       "A matrix: 4 × 4 of type dbl\n",
       "\n",
       "| <!--/--> | Sepal.Length | Sepal.Width | Petal.Length | Petal.Width |\n",
       "|---|---|---|---|---|\n",
       "| Sepal.Length |  0.69 | -0.04 |  1.27 |  0.52 |\n",
       "| Sepal.Width | -0.04 |  0.19 | -0.33 | -0.12 |\n",
       "| Petal.Length |  1.27 | -0.33 |  3.12 |  1.30 |\n",
       "| Petal.Width |  0.52 | -0.12 |  1.30 |  0.58 |\n",
       "\n"
      ],
      "text/plain": [
       "             Sepal.Length Sepal.Width Petal.Length Petal.Width\n",
       "Sepal.Length  0.69        -0.04        1.27         0.52      \n",
       "Sepal.Width  -0.04         0.19       -0.33        -0.12      \n",
       "Petal.Length  1.27        -0.33        3.12         1.30      \n",
       "Petal.Width   0.52        -0.12        1.30         0.58      "
      ]
     },
     "metadata": {},
     "output_type": "display_data"
    }
   ],
   "source": [
    "round(var(iris[,-5]),2)"
   ]
  },
  {
   "cell_type": "code",
   "execution_count": 10,
   "metadata": {
    "colab": {
     "base_uri": "https://localhost:8080/",
     "height": 87
    },
    "id": "DJuvCVWBvt8A",
    "outputId": "d8474dd1-1245-4411-9432-7a8a95f279ae",
    "vscode": {
     "languageId": "r"
    }
   },
   "outputs": [
    {
     "data": {
      "text/plain": [
       "             Sepal.Length Sepal.Width Petal.Length\n",
       "Sepal.Width         -0.12                         \n",
       "Petal.Length         0.87       -0.43             \n",
       "Petal.Width          0.82       -0.37         0.96"
      ]
     },
     "metadata": {},
     "output_type": "display_data"
    }
   ],
   "source": [
    "as.dist(round(cor(iris[,-5]),2))\n"
   ]
  },
  {
   "cell_type": "markdown",
   "metadata": {
    "id": "6iacD-L9xU2O"
   },
   "source": [
    "### <span style=\"color:#4CC9F0\">Descripción bivariada de una variable cualitativa y varias continuas</span>"
   ]
  },
  {
   "cell_type": "markdown",
   "metadata": {
    "id": "2YzjEC_rxqru"
   },
   "source": [
    "Una variable cualitativa representa una partición del conjunto de individuos. Un boxplot puede comparar los grupos según una variable cualitativa. En el ejemplo iris veamos los boxplot de las tres especies para la longitud del pétalo."
   ]
  },
  {
   "cell_type": "code",
   "execution_count": 11,
   "metadata": {
    "colab": {
     "base_uri": "https://localhost:8080/",
     "height": 436
    },
    "id": "EPoqaVcUzCSe",
    "outputId": "1457c28b-18b5-4fe3-9815-69e93b77e97c",
    "vscode": {
     "languageId": "r"
    }
   },
   "outputs": [
    {
     "data": {
      "image/png": "[encoded data removed]",
      "text/plain": [
       "plot without title"
      ]
     },
     "metadata": {
      "image/png": {
       "height": 420,
       "width": 420
      }
     },
     "output_type": "display_data"
    }
   ],
   "source": [
    "boxplot(iris[,3]~iris[,5])"
   ]
  },
  {
   "cell_type": "markdown",
   "metadata": {
    "id": "lKO_a-aWznbQ"
   },
   "source": [
    "La asociación de una variable cualitativa y otra continua se puede resumir con la razón de correlación, definida como varianza entre grupos sobre varianza total (ver en el libro). Con la función *centroids{FactoClass}* calculan las medias y las razones de correlación de las tres especies."
   ]
  },
  {
   "cell_type": "code",
   "execution_count": 12,
   "metadata": {
    "colab": {
     "base_uri": "https://localhost:8080/",
     "height": 326
    },
    "id": "psDqEgjC0owg",
    "outputId": "99fb400f-d73b-430e-dda3-723b12d4ddc2",
    "vscode": {
     "languageId": "r"
    }
   },
   "outputs": [
    {
     "data": {
      "text/html": [
       "<dl>\n",
       "\t<dt>$centroids</dt>\n",
       "\t\t<dd><table class=\"dataframe\">\n",
       "<caption>A matrix: 3 × 4 of type dbl</caption>\n",
       "<thead>\n",
       "\t<tr><th></th><th scope=col>Sepal.Length</th><th scope=col>Sepal.Width</th><th scope=col>Petal.Length</th><th scope=col>Petal.Width</th></tr>\n",
       "</thead>\n",
       "<tbody>\n",
       "\t<tr><th scope=row>setosa</th><td>5.006</td><td>3.428</td><td>1.462</td><td>0.246</td></tr>\n",
       "\t<tr><th scope=row>versicolor</th><td>5.936</td><td>2.770</td><td>4.260</td><td>1.326</td></tr>\n",
       "\t<tr><th scope=row>virginica</th><td>6.588</td><td>2.974</td><td>5.552</td><td>2.026</td></tr>\n",
       "</tbody>\n",
       "</table>\n",
       "</dd>\n",
       "\t<dt>$weights</dt>\n",
       "\t\t<dd><style>\n",
       ".dl-inline {width: auto; margin:0; padding: 0}\n",
       ".dl-inline>dt, .dl-inline>dd {float: none; width: auto; display: inline-block}\n",
       ".dl-inline>dt::after {content: \":\\0020\"; padding-right: .5ex}\n",
       ".dl-inline>dt:not(:first-of-type) {padding-left: .5ex}\n",
       "</style><dl class=dl-inline><dt>setosa</dt><dd>0.333333333333333</dd><dt>versicolor</dt><dd>0.333333333333333</dd><dt>virginica</dt><dd>0.333333333333333</dd></dl>\n",
       "</dd>\n",
       "\t<dt>$cr</dt>\n",
       "\t\t<dd><table class=\"dataframe\">\n",
       "<caption>A matrix: 1 × 4 of type dbl</caption>\n",
       "<thead>\n",
       "\t<tr><th scope=col>Sepal.Length</th><th scope=col>Sepal.Width</th><th scope=col>Petal.Length</th><th scope=col>Petal.Width</th></tr>\n",
       "</thead>\n",
       "<tbody>\n",
       "\t<tr><td>0.6187057</td><td>0.4007828</td><td>0.9413717</td><td>0.9288829</td></tr>\n",
       "</tbody>\n",
       "</table>\n",
       "</dd>\n",
       "</dl>\n"
      ],
      "text/latex": [
       "\\begin{description}\n",
       "\\item[\\$centroids] A matrix: 3 × 4 of type dbl\n",
       "\\begin{tabular}{r|llll}\n",
       "  & Sepal.Length & Sepal.Width & Petal.Length & Petal.Width\\\\\n",
       "\\hline\n",
       "\tsetosa & 5.006 & 3.428 & 1.462 & 0.246\\\\\n",
       "\tversicolor & 5.936 & 2.770 & 4.260 & 1.326\\\\\n",
       "\tvirginica & 6.588 & 2.974 & 5.552 & 2.026\\\\\n",
       "\\end{tabular}\n",
       "\n",
       "\\item[\\$weights] \\begin{description*}\n",
       "\\item[setosa] 0.333333333333333\n",
       "\\item[versicolor] 0.333333333333333\n",
       "\\item[virginica] 0.333333333333333\n",
       "\\end{description*}\n",
       "\n",
       "\\item[\\$cr] A matrix: 1 × 4 of type dbl\n",
       "\\begin{tabular}{llll}\n",
       " Sepal.Length & Sepal.Width & Petal.Length & Petal.Width\\\\\n",
       "\\hline\n",
       "\t 0.6187057 & 0.4007828 & 0.9413717 & 0.9288829\\\\\n",
       "\\end{tabular}\n",
       "\n",
       "\\end{description}\n"
      ],
      "text/markdown": [
       "$centroids\n",
       ":   \n",
       "A matrix: 3 × 4 of type dbl\n",
       "\n",
       "| <!--/--> | Sepal.Length | Sepal.Width | Petal.Length | Petal.Width |\n",
       "|---|---|---|---|---|\n",
       "| setosa | 5.006 | 3.428 | 1.462 | 0.246 |\n",
       "| versicolor | 5.936 | 2.770 | 4.260 | 1.326 |\n",
       "| virginica | 6.588 | 2.974 | 5.552 | 2.026 |\n",
       "\n",
       "\n",
       "$weights\n",
       ":   setosa\n",
       ":   0.333333333333333versicolor\n",
       ":   0.333333333333333virginica\n",
       ":   0.333333333333333\n",
       "\n",
       "\n",
       "$cr\n",
       ":   \n",
       "A matrix: 1 × 4 of type dbl\n",
       "\n",
       "| Sepal.Length | Sepal.Width | Petal.Length | Petal.Width |\n",
       "|---|---|---|---|\n",
       "| 0.6187057 | 0.4007828 | 0.9413717 | 0.9288829 |\n",
       "\n",
       "\n",
       "\n",
       "\n"
      ],
      "text/plain": [
       "$centroids\n",
       "           Sepal.Length Sepal.Width Petal.Length Petal.Width\n",
       "setosa            5.006       3.428        1.462       0.246\n",
       "versicolor        5.936       2.770        4.260       1.326\n",
       "virginica         6.588       2.974        5.552       2.026\n",
       "\n",
       "$weights\n",
       "    setosa versicolor  virginica \n",
       " 0.3333333  0.3333333  0.3333333 \n",
       "\n",
       "$cr\n",
       "     Sepal.Length Sepal.Width Petal.Length Petal.Width\n",
       "[1,]    0.6187057   0.4007828    0.9413717   0.9288829\n"
      ]
     },
     "metadata": {},
     "output_type": "display_data"
    }
   ],
   "source": [
    "centroids(iris[,-5],iris[,5])"
   ]
  },
  {
   "cell_type": "markdown",
   "metadata": {
    "id": "ae4WGinz1hmp"
   },
   "source": [
    "Finalmente con la función *cluster.carac{FactoClass)* se pueden observar las variables que más caracterizan a cada una de las tres especies."
   ]
  },
  {
   "cell_type": "code",
   "execution_count": 13,
   "metadata": {
    "colab": {
     "base_uri": "https://localhost:8080/",
     "height": 318
    },
    "id": "_ky94Cb62Fbk",
    "outputId": "4785636b-08f5-4cda-8ab2-d5ed378a6ad6",
    "vscode": {
     "languageId": "r"
    }
   },
   "outputs": [
    {
     "data": {
      "text/plain": [
       "class: setosa\n",
       "             Test.Value Class.Mean Frequency Global.Mean\n",
       "Sepal.Width       7.365      3.428        50       3.057\n",
       "Sepal.Length     -8.757      5.006        50       5.843\n",
       "Petal.Width     -10.831      0.246        50       1.199\n",
       "Petal.Length    -11.264      1.462        50       3.758\n",
       "------------------------------------------------------------ \n",
       "class: versicolor\n",
       "             Test.Value Class.Mean Frequency Global.Mean\n",
       "Petal.Length      2.463       4.26        50       3.758\n",
       "Sepal.Width      -5.709       2.77        50       3.057\n",
       "------------------------------------------------------------ \n",
       "class: virginica\n",
       "             Test.Value Class.Mean Frequency Global.Mean\n",
       "Petal.Width       9.392      2.026        50       1.199\n",
       "Petal.Length      8.801      5.552        50       3.758\n",
       "Sepal.Length      7.788      6.588        50       5.843"
      ]
     },
     "metadata": {},
     "output_type": "display_data"
    }
   ],
   "source": [
    "cluster.carac(iris[,-5],iris[,5],tipo.v=\"co\")"
   ]
  },
  {
   "cell_type": "markdown",
   "metadata": {
    "id": "4py3jNxf33Qd"
   },
   "source": [
    "### <span style=\"color:#4CC9F0\">Descripción bivariada de una variable cualitativa por varias nominales</span>\n"
   ]
  },
  {
   "cell_type": "markdown",
   "metadata": {
    "id": "7_buBzx_4obd"
   },
   "source": [
    "La asociación entre dos variables cualitativas se puede observar gráficamente con los perfiles fila y columna, derivados de la tabla de contingencia. Podemos utilizar el ejemplo del libro para observar la asociación entre las carreras y la edad. La función *plotct{FactoClass}* permite hacerlo: \n"
   ]
  },
  {
   "cell_type": "code",
   "execution_count": 14,
   "metadata": {
    "colab": {
     "base_uri": "https://localhost:8080/",
     "height": 321
    },
    "id": "69QB2vjp5dAm",
    "outputId": "7bbdc7ee-ce5e-4cc2-e548-bcaf9e73e727",
    "vscode": {
     "languageId": "r"
    }
   },
   "outputs": [
    {
     "data": {
      "text/html": [
       "<style>\n",
       ".list-inline {list-style: none; margin:0; padding: 0}\n",
       ".list-inline>li {display: inline-block}\n",
       ".list-inline>li:not(:last-child)::after {content: \"\\00b7\"; padding: 0 .5ex}\n",
       "</style>\n",
       "<ol class=list-inline><li>'carr'</li><li>'mate'</li><li>'cien'</li><li>'soci'</li><li>'text'</li><li>'imag'</li><li>'exam'</li><li>'gene'</li><li>'estr'</li><li>'orig'</li><li>'edad'</li><li>'niLE'</li><li>'niMa'</li><li>'stra'</li><li>'age'</li></ol>\n"
      ],
      "text/latex": [
       "\\begin{enumerate*}\n",
       "\\item 'carr'\n",
       "\\item 'mate'\n",
       "\\item 'cien'\n",
       "\\item 'soci'\n",
       "\\item 'text'\n",
       "\\item 'imag'\n",
       "\\item 'exam'\n",
       "\\item 'gene'\n",
       "\\item 'estr'\n",
       "\\item 'orig'\n",
       "\\item 'edad'\n",
       "\\item 'niLE'\n",
       "\\item 'niMa'\n",
       "\\item 'stra'\n",
       "\\item 'age'\n",
       "\\end{enumerate*}\n"
      ],
      "text/markdown": [
       "1. 'carr'\n",
       "2. 'mate'\n",
       "3. 'cien'\n",
       "4. 'soci'\n",
       "5. 'text'\n",
       "6. 'imag'\n",
       "7. 'exam'\n",
       "8. 'gene'\n",
       "9. 'estr'\n",
       "10. 'orig'\n",
       "11. 'edad'\n",
       "12. 'niLE'\n",
       "13. 'niMa'\n",
       "14. 'stra'\n",
       "15. 'age'\n",
       "\n",
       "\n"
      ],
      "text/plain": [
       " [1] \"carr\" \"mate\" \"cien\" \"soci\" \"text\" \"imag\" \"exam\" \"gene\" \"estr\" \"orig\"\n",
       "[11] \"edad\" \"niLE\" \"niMa\" \"stra\" \"age\" "
      ]
     },
     "metadata": {},
     "output_type": "display_data"
    },
    {
     "data": {
      "text/html": [
       "<table class=\"dataframe\">\n",
       "<caption>A matrix: 8 × 5 of type dbl</caption>\n",
       "<thead>\n",
       "\t<tr><th></th><th scope=col>a16m</th><th scope=col>a17</th><th scope=col>a18</th><th scope=col>a19M</th><th scope=col>Sum</th></tr>\n",
       "</thead>\n",
       "<tbody>\n",
       "\t<tr><th scope=row>Biol</th><td> 15</td><td> 27</td><td> 9</td><td> 12</td><td> 63</td></tr>\n",
       "\t<tr><th scope=row>Esta</th><td> 18</td><td> 28</td><td> 5</td><td> 15</td><td> 66</td></tr>\n",
       "\t<tr><th scope=row>Farm</th><td> 18</td><td> 26</td><td>15</td><td> 14</td><td> 73</td></tr>\n",
       "\t<tr><th scope=row>Fisi</th><td> 21</td><td> 34</td><td>12</td><td> 15</td><td> 82</td></tr>\n",
       "\t<tr><th scope=row>Geol</th><td> 11</td><td> 25</td><td> 2</td><td>  7</td><td> 45</td></tr>\n",
       "\t<tr><th scope=row>Mate</th><td> 11</td><td> 14</td><td> 5</td><td> 23</td><td> 53</td></tr>\n",
       "\t<tr><th scope=row>Quim</th><td> 24</td><td> 17</td><td> 8</td><td> 14</td><td> 63</td></tr>\n",
       "\t<tr><th scope=row>Sum</th><td>118</td><td>171</td><td>56</td><td>100</td><td>445</td></tr>\n",
       "</tbody>\n",
       "</table>\n"
      ],
      "text/latex": [
       "A matrix: 8 × 5 of type dbl\n",
       "\\begin{tabular}{r|lllll}\n",
       "  & a16m & a17 & a18 & a19M & Sum\\\\\n",
       "\\hline\n",
       "\tBiol &  15 &  27 &  9 &  12 &  63\\\\\n",
       "\tEsta &  18 &  28 &  5 &  15 &  66\\\\\n",
       "\tFarm &  18 &  26 & 15 &  14 &  73\\\\\n",
       "\tFisi &  21 &  34 & 12 &  15 &  82\\\\\n",
       "\tGeol &  11 &  25 &  2 &   7 &  45\\\\\n",
       "\tMate &  11 &  14 &  5 &  23 &  53\\\\\n",
       "\tQuim &  24 &  17 &  8 &  14 &  63\\\\\n",
       "\tSum & 118 & 171 & 56 & 100 & 445\\\\\n",
       "\\end{tabular}\n"
      ],
      "text/markdown": [
       "\n",
       "A matrix: 8 × 5 of type dbl\n",
       "\n",
       "| <!--/--> | a16m | a17 | a18 | a19M | Sum |\n",
       "|---|---|---|---|---|---|\n",
       "| Biol |  15 |  27 |  9 |  12 |  63 |\n",
       "| Esta |  18 |  28 |  5 |  15 |  66 |\n",
       "| Farm |  18 |  26 | 15 |  14 |  73 |\n",
       "| Fisi |  21 |  34 | 12 |  15 |  82 |\n",
       "| Geol |  11 |  25 |  2 |   7 |  45 |\n",
       "| Mate |  11 |  14 |  5 |  23 |  53 |\n",
       "| Quim |  24 |  17 |  8 |  14 |  63 |\n",
       "| Sum | 118 | 171 | 56 | 100 | 445 |\n",
       "\n"
      ],
      "text/plain": [
       "      \n",
       "       a16m a17 a18 a19M Sum\n",
       "  Biol  15   27  9   12   63\n",
       "  Esta  18   28  5   15   66\n",
       "  Farm  18   26 15   14   73\n",
       "  Fisi  21   34 12   15   82\n",
       "  Geol  11   25  2    7   45\n",
       "  Mate  11   14  5   23   53\n",
       "  Quim  24   17  8   14   63\n",
       "  Sum  118  171 56  100  445"
      ]
     },
     "metadata": {},
     "output_type": "display_data"
    }
   ],
   "source": [
    "data(admi)\n",
    "names(admi)\n",
    "K<-unclass(table(admi$carr,admi$edad)) # tabla de contingencia como matriz\n",
    "addmargins(K)\n"
   ]
  },
  {
   "cell_type": "code",
   "execution_count": 15,
   "metadata": {
    "colab": {
     "base_uri": "https://localhost:8080/",
     "height": 436
    },
    "id": "E1xt4Ojd7RmF",
    "outputId": "82c655ce-536a-4cfc-c662-e93757043e2f",
    "vscode": {
     "languageId": "r"
    }
   },
   "outputs": [
    {
     "data": {
      "image/png": "[encoded data removed]",
      "text/plain": [
       "plot without title"
      ]
     },
     "metadata": {
      "image/png": {
       "height": 420,
       "width": 420
      }
     },
     "output_type": "display_data"
    }
   ],
   "source": [
    "plotct(K,\"row\",col=c(\"darkgreen\",\"green\",\"yellow\",\"orange\"))"
   ]
  },
  {
   "cell_type": "code",
   "execution_count": 16,
   "metadata": {
    "colab": {
     "base_uri": "https://localhost:8080/",
     "height": 436
    },
    "id": "WNSbnUC7zjpi",
    "outputId": "76def650-07a9-4dea-ec72-10f0b7cb88b2",
    "vscode": {
     "languageId": "r"
    }
   },
   "outputs": [
    {
     "data": {
      "image/png": "[encoded data removed]",
      "text/plain": [
       "plot without title"
      ]
     },
     "metadata": {
      "image/png": {
       "height": 420,
       "width": 420
      }
     },
     "output_type": "display_data"
    }
   ],
   "source": [
    " plotct(K,\"col\",col=1:7)"
   ]
  },
  {
   "cell_type": "markdown",
   "metadata": {
    "id": "ZX_JfNHJ9GOz"
   },
   "source": [
    "Para ordenar por las variables sociodemográficas que más caraterizan a las carreras."
   ]
  },
  {
   "cell_type": "code",
   "execution_count": 17,
   "metadata": {
    "colab": {
     "base_uri": "https://localhost:8080/",
     "height": 154
    },
    "id": "WJ0pTZLp9Tpq",
    "outputId": "9ee73fe4-0409-4956-9a54-6b8312d23018",
    "vscode": {
     "languageId": "r"
    }
   },
   "outputs": [
    {
     "data": {
      "text/html": [
       "<table class=\"dataframe\">\n",
       "<caption>A matrix: 3 × 5 of type dbl</caption>\n",
       "<thead>\n",
       "\t<tr><th></th><th scope=col>chi2</th><th scope=col>dfr</th><th scope=col>pval</th><th scope=col>tval</th><th scope=col>phi2</th></tr>\n",
       "</thead>\n",
       "<tbody>\n",
       "\t<tr><th scope=row>gene</th><td>44.10803</td><td> 6</td><td>7.036257e-08</td><td>5.264299</td><td>0.09911918</td></tr>\n",
       "\t<tr><th scope=row>estr</th><td>29.19000</td><td>12</td><td>3.691872e-03</td><td>2.679022</td><td>0.06559551</td></tr>\n",
       "\t<tr><th scope=row>edad</th><td>33.55344</td><td>18</td><td>1.429273e-02</td><td>2.189157</td><td>0.07540098</td></tr>\n",
       "</tbody>\n",
       "</table>\n"
      ],
      "text/latex": [
       "A matrix: 3 × 5 of type dbl\n",
       "\\begin{tabular}{r|lllll}\n",
       "  & chi2 & dfr & pval & tval & phi2\\\\\n",
       "\\hline\n",
       "\tgene & 44.10803 &  6 & 7.036257e-08 & 5.264299 & 0.09911918\\\\\n",
       "\testr & 29.19000 & 12 & 3.691872e-03 & 2.679022 & 0.06559551\\\\\n",
       "\tedad & 33.55344 & 18 & 1.429273e-02 & 2.189157 & 0.07540098\\\\\n",
       "\\end{tabular}\n"
      ],
      "text/markdown": [
       "\n",
       "A matrix: 3 × 5 of type dbl\n",
       "\n",
       "| <!--/--> | chi2 | dfr | pval | tval | phi2 |\n",
       "|---|---|---|---|---|---|\n",
       "| gene | 44.10803 |  6 | 7.036257e-08 | 5.264299 | 0.09911918 |\n",
       "| estr | 29.19000 | 12 | 3.691872e-03 | 2.679022 | 0.06559551 |\n",
       "| edad | 33.55344 | 18 | 1.429273e-02 | 2.189157 | 0.07540098 |\n",
       "\n"
      ],
      "text/plain": [
       "     chi2     dfr pval         tval     phi2      \n",
       "gene 44.10803  6  7.036257e-08 5.264299 0.09911918\n",
       "estr 29.19000 12  3.691872e-03 2.679022 0.06559551\n",
       "edad 33.55344 18  1.429273e-02 2.189157 0.07540098"
      ]
     },
     "metadata": {},
     "output_type": "display_data"
    }
   ],
   "source": [
    "chisq.carac(admi[,8:11],admi[,1])"
   ]
  },
  {
   "cell_type": "markdown",
   "metadata": {
    "id": "pQfc_UAn-M4P"
   },
   "source": [
    "Finalmente para ordenar por las categorías de las variables sociodemográficas que más caracterizan a las carrera."
   ]
  },
  {
   "cell_type": "code",
   "execution_count": 18,
   "metadata": {
    "colab": {
     "base_uri": "https://localhost:8080/",
     "height": 674
    },
    "id": "RAyXtxcB97Sr",
    "outputId": "bee0aa49-2026-4049-b319-5dd52e3f1c79",
    "vscode": {
     "languageId": "r"
    }
   },
   "outputs": [
    {
     "data": {
      "text/plain": [
       "class: Biol\n",
       "[1] Test.Value p.Value    Class.Cat  Cat.Class  Global     Weight    \n",
       "<0 rows> (or 0-length row.names)\n",
       "------------------------------------------------------------ \n",
       "class: Esta\n",
       "[1] Test.Value p.Value    Class.Cat  Cat.Class  Global     Weight    \n",
       "<0 rows> (or 0-length row.names)\n",
       "------------------------------------------------------------ \n",
       "class: Farm\n",
       "          Test.Value p.Value Class.Cat Cat.Class Global Weight\n",
       "gene.F         5.152   0.000      31.2      54.8   28.8    128\n",
       "edad.a18       2.252   0.024      26.8      20.5   12.6     56\n",
       "estr.alto     -2.281   0.023       8.6       9.6   18.2     81\n",
       "gene.M        -5.152   0.000      10.4      45.2   71.2    317\n",
       "------------------------------------------------------------ \n",
       "class: Fisi\n",
       "       Test.Value p.Value Class.Cat Cat.Class Global Weight\n",
       "gene.M      3.045   0.002      21.8      84.1   71.2    317\n",
       "gene.F     -3.045   0.002      10.2      15.9   28.8    128\n",
       "------------------------------------------------------------ \n",
       "class: Geol\n",
       "           Test.Value p.Value Class.Cat Cat.Class Global Weight\n",
       "estr.alto       3.677   0.000      22.2      40.0   18.2     81\n",
       "edad.a17        2.554   0.011      14.6      55.6   38.4    171\n",
       "estr.medio     -3.242   0.001       4.9      20.0   41.6    185\n",
       "------------------------------------------------------------ \n",
       "class: Mate\n",
       "          Test.Value p.Value Class.Cat Cat.Class Global Weight\n",
       "edad.a19M      3.683   0.000      23.0      43.4   22.5    100\n",
       "gene.M         3.218   0.001      14.8      88.7   71.2    317\n",
       "edad.a17      -2.089   0.037       8.2      26.4   38.4    171\n",
       "gene.F        -3.218   0.001       4.7      11.3   28.8    128\n",
       "------------------------------------------------------------ \n",
       "class: Quim\n",
       "          Test.Value p.Value Class.Cat Cat.Class Global Weight\n",
       "edad.a16m      2.320   0.020      20.3      38.1   26.5    118\n",
       "edad.a17      -2.189   0.029       9.9      27.0   38.4    171"
      ]
     },
     "metadata": {},
     "output_type": "display_data"
    }
   ],
   "source": [
    "cluster.carac(admi[,8:11],admi[,1],tipo.v=\"nomi\")\n"
   ]
  }
 ],
 "metadata": {
  "colab": {
   "collapsed_sections": [],
   "name": "AprendizajeNoSupervisado.ipynb",
   "provenance": []
  },
  "kernelspec": {
   "display_name": "R",
   "language": "R",
   "name": "ir"
  },
  "language_info": {
   "codemirror_mode": "r",
   "file_extension": ".r",
   "mimetype": "text/x-r-source",
   "name": "R",
   "pygments_lexer": "r",
   "version": "3.6.1"
  }
 },
 "nbformat": 4,
 "nbformat_minor": 4
}
