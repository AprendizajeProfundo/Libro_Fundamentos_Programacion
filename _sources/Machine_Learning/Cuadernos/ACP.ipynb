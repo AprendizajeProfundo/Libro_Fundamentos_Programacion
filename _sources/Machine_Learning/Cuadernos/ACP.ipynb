{
 "cells": [
  {
   "cell_type": "markdown",
   "metadata": {},
   "source": [
    "# <span style=\"color:#F72585\">Análisis en componentes principales</span>\n"
   ]
  },
  {
   "cell_type": "markdown",
   "metadata": {},
   "source": [
    "```{admonition} Nota\n",
    ":class: \n",
    "Los trozos de código de esta página son de R. Por favor, ejecútelos en Colab o Binder\n",
    "```"
   ]
  },
  {
   "cell_type": "markdown",
   "metadata": {
    "id": "liXrxkeGMutK"
   },
   "source": [
    "## <span style=\"color:#4361EE\">Introducción</span>\n"
   ]
  },
  {
   "cell_type": "markdown",
   "metadata": {
    "id": "HERsa4ZLudhx"
   },
   "source": [
    "El análisis en componentes principales (ACP) es muy conocido en la Ciencia de Datos como una técnica de reducción de dimensión, pero es mucho más que eso. Si se aborda desde un punto de vista geométrico, es una técnica poderosa para la visualización de datos. Su generalización ha permitido el desarrollo de otros métodos sobre todo para la descripción de variables cualitativas, en cuyo caso también sirve como método de cuantificación de lo cualitativo. Esa visión geométrica de origen francés es la que presentamos aquí. Hacemos uso del R en primera instancia para entender los métodos y luego para llevarlos a la práctica. En este cuaderno introducimos el ACP como se conoce en la mayoría de los ámbitos y que podemos llamar ACP canónico, y al final presentamos el ACP general o generalizado, como un marco común a los métodos derivados, que podemos llamar métodos factoriales o en ejes principales, de los que forman parte los análisis de correspondencias simples y múltiples."
   ]
  },
  {
   "cell_type": "markdown",
   "metadata": {},
   "source": [
    "### <span style=\"color:#4CC9F0\">Objetivos del ACP</span>\n"
   ]
  },
  {
   "cell_type": "markdown",
   "metadata": {
    "id": "tn5sP7WofAu6"
   },
   "source": [
    "1. Comparar los individuos entre si\n",
    "2. Describir las relaciones entre las variables\n",
    "3. Reducir la dimensión de la representación\n",
    "\n"
   ]
  },
  {
   "cell_type": "markdown",
   "metadata": {},
   "source": [
    "### <span style=\"color:#4CC9F0\">Ejemplo Café y notación</span>\n"
   ]
  },
  {
   "cell_type": "markdown",
   "metadata": {
    "id": "ecYgDekbDCOY"
   },
   "source": [
    "Para entender el ACP  utilizamos un ejemplo muy pequeño, disponible en *FactoClass*, y que denominamos Café. Es el resultado de un experimento realizado en el Laboratorio de Investigaciones Químicas del Café.\n",
    "\n",
    "El experimento considera 3 factores:\n",
    "\n",
    "- Agregado (sin maíz, cebada)\n",
    "- Porcentaje del agregado (20\\% y 40\\%)\n",
    "- Grado de tostación (clara y oscura)\n",
    "\n",
    "Se producen  \"libras de café\" tostado y molido para los 10 tratamientos del experimento y con ellas se preparan tazas de café que se someten a mediciones físicas químicas y de degustación. El ejemplo de esta sección utiliza solo las tres variables físicas, para visualizar la geometría del ACP. La tabla de datos de 10 filas y 3 columnas la definimos como **Y**.\n",
    "\n",
    "\n"
   ]
  },
  {
   "cell_type": "code",
   "execution_count": 1,
   "metadata": {
    "id": "Ty9ODCiwt6if",
    "outputId": "60850bd2-c4fb-4249-f52f-2f207b2bad28",
    "vscode": {
     "languageId": "r"
    }
   },
   "outputs": [
    {
     "name": "stderr",
     "output_type": "stream",
     "text": [
      "Installing package into 'C:/Users/User/AppData/Local/R/win-library/4.2'\n",
      "(as 'lib' is unspecified)\n",
      "\n"
     ]
    },
    {
     "name": "stdout",
     "output_type": "stream",
     "text": [
      "package 'FactoClass' successfully unpacked and MD5 sums checked\n"
     ]
    },
    {
     "name": "stderr",
     "output_type": "stream",
     "text": [
      "Warning message:\n",
      "\"cannot remove prior installation of package 'FactoClass'\"\n",
      "Warning message in file.copy(savedcopy, lib, recursive = TRUE):\n",
      "\"problem copying C:\\Users\\User\\AppData\\Local\\R\\win-library\\4.2\\00LOCK\\FactoClass\\libs\\x64\\FactoClass.dll to C:\\Users\\User\\AppData\\Local\\R\\win-library\\4.2\\FactoClass\\libs\\x64\\FactoClass.dll: Permission denied\"\n",
      "Warning message:\n",
      "\"restored 'FactoClass'\"\n"
     ]
    },
    {
     "name": "stdout",
     "output_type": "stream",
     "text": [
      "\n",
      "The downloaded binary packages are in\n",
      "\tC:\\Users\\User\\AppData\\Local\\Temp\\RtmpqGqd7j\\downloaded_packages\n"
     ]
    },
    {
     "name": "stderr",
     "output_type": "stream",
     "text": [
      "Loading required package: ade4\n",
      "\n",
      "Loading required package: ggplot2\n",
      "\n",
      "Loading required package: ggrepel\n",
      "\n",
      "Loading required package: xtable\n",
      "\n",
      "Loading required package: scatterplot3d\n",
      "\n"
     ]
    }
   ],
   "source": [
    "install.packages('FactoClass')\n",
    "library(FactoClass)"
   ]
  },
  {
   "cell_type": "code",
   "execution_count": 2,
   "metadata": {
    "id": "cme9dZc5048P",
    "vscode": {
     "languageId": "r"
    }
   },
   "outputs": [],
   "source": [
    "# carga de FactoClass y definición de Y\n",
    "library(FactoClass)\n"
   ]
  },
  {
   "cell_type": "code",
   "execution_count": 3,
   "metadata": {
    "colab": {
     "base_uri": "https://localhost:8080/",
     "height": 394
    },
    "id": "wexoGG3E2VHT",
    "outputId": "8d825789-5af3-4531-da48-04de3d5c5690",
    "vscode": {
     "languageId": "r"
    }
   },
   "outputs": [
    {
     "data": {
      "text/html": [
       "<table class=\"dataframe\">\n",
       "<caption>A data.frame: 10 × 3</caption>\n",
       "<thead>\n",
       "\t<tr><th></th><th scope=col>Color</th><th scope=col>DA</th><th scope=col>EA</th></tr>\n",
       "\t<tr><th></th><th scope=col>&lt;int&gt;</th><th scope=col>&lt;dbl&gt;</th><th scope=col>&lt;int&gt;</th></tr>\n",
       "</thead>\n",
       "<tbody>\n",
       "\t<tr><th scope=row>ExCl</th><td>298</td><td>385.1</td><td>25</td></tr>\n",
       "\t<tr><th scope=row>C40M</th><td>361</td><td>481.3</td><td>41</td></tr>\n",
       "\t<tr><th scope=row>C40C</th><td>321</td><td>422.6</td><td>40</td></tr>\n",
       "\t<tr><th scope=row>C20M</th><td>335</td><td>444.3</td><td>33</td></tr>\n",
       "\t<tr><th scope=row>C20C</th><td>314</td><td>368.7</td><td>32</td></tr>\n",
       "\t<tr><th scope=row>ExOs</th><td>186</td><td>346.6</td><td>28</td></tr>\n",
       "\t<tr><th scope=row>O40M</th><td>278</td><td>422.6</td><td>43</td></tr>\n",
       "\t<tr><th scope=row>O40C</th><td>238</td><td>403.0</td><td>42</td></tr>\n",
       "\t<tr><th scope=row>O20M</th><td>226</td><td>368.7</td><td>36</td></tr>\n",
       "\t<tr><th scope=row>O20C</th><td>210</td><td>368.7</td><td>35</td></tr>\n",
       "</tbody>\n",
       "</table>\n"
      ],
      "text/latex": [
       "A data.frame: 10 × 3\n",
       "\\begin{tabular}{r|lll}\n",
       "  & Color & DA & EA\\\\\n",
       "  & <int> & <dbl> & <int>\\\\\n",
       "\\hline\n",
       "\tExCl & 298 & 385.1 & 25\\\\\n",
       "\tC40M & 361 & 481.3 & 41\\\\\n",
       "\tC40C & 321 & 422.6 & 40\\\\\n",
       "\tC20M & 335 & 444.3 & 33\\\\\n",
       "\tC20C & 314 & 368.7 & 32\\\\\n",
       "\tExOs & 186 & 346.6 & 28\\\\\n",
       "\tO40M & 278 & 422.6 & 43\\\\\n",
       "\tO40C & 238 & 403.0 & 42\\\\\n",
       "\tO20M & 226 & 368.7 & 36\\\\\n",
       "\tO20C & 210 & 368.7 & 35\\\\\n",
       "\\end{tabular}\n"
      ],
      "text/markdown": [
       "\n",
       "A data.frame: 10 × 3\n",
       "\n",
       "| <!--/--> | Color &lt;int&gt; | DA &lt;dbl&gt; | EA &lt;int&gt; |\n",
       "|---|---|---|---|\n",
       "| ExCl | 298 | 385.1 | 25 |\n",
       "| C40M | 361 | 481.3 | 41 |\n",
       "| C40C | 321 | 422.6 | 40 |\n",
       "| C20M | 335 | 444.3 | 33 |\n",
       "| C20C | 314 | 368.7 | 32 |\n",
       "| ExOs | 186 | 346.6 | 28 |\n",
       "| O40M | 278 | 422.6 | 43 |\n",
       "| O40C | 238 | 403.0 | 42 |\n",
       "| O20M | 226 | 368.7 | 36 |\n",
       "| O20C | 210 | 368.7 | 35 |\n",
       "\n"
      ],
      "text/plain": [
       "     Color DA    EA\n",
       "ExCl 298   385.1 25\n",
       "C40M 361   481.3 41\n",
       "C40C 321   422.6 40\n",
       "C20M 335   444.3 33\n",
       "C20C 314   368.7 32\n",
       "ExOs 186   346.6 28\n",
       "O40M 278   422.6 43\n",
       "O40C 238   403.0 42\n",
       "O20M 226   368.7 36\n",
       "O20C 210   368.7 35"
      ]
     },
     "metadata": {},
     "output_type": "display_data"
    }
   ],
   "source": [
    "# definición de Y\n",
    "data(cafe)\n",
    "Y<-cafe[1:10,1:3]\n",
    "Y"
   ]
  },
  {
   "cell_type": "markdown",
   "metadata": {
    "id": "UIYqCyvb2wnL"
   },
   "source": [
    "La identificación de las filas (cafés, individuos) es nemotécnica y nos informa del respectivo tratamiento. Por ejemplo ExCl, significa café excelso (sin contaminación) y de tostación clara, C40M significa tostación clara contaminado con 40% de maíz."
   ]
  },
  {
   "cell_type": "markdown",
   "metadata": {},
   "source": [
    "### <span style=\"color:#4CC9F0\">Nube de individuos</span>\n"
   ]
  },
  {
   "cell_type": "markdown",
   "metadata": {
    "id": "HxuQGMSxDRSV"
   },
   "source": [
    "Sobre la matriz **Y** se tienen dos representación geométricas, la primera es el espacio de las filas, donde las filas de **Y** se representan en  $\\mathbb{R}^p$: los ejes son las variables y los puntos los individuos. El conjunto de puntos de denomina nube de individuos y se nota $N_n$. El centro de gravedad de la nube de puntos es:\n",
    "$$\n",
    "\\mathbf{g}= \\sum_{i=1}^{n} p_i  \\mathbf{y}_i  = \\frac{1}{n} \\sum_{i=1}^{n} \\mathbf{y}_i\n",
    "$$\n",
    "Aquí la representación de la nube en $3D$, junto con su centro de gravedad."
   ]
  },
  {
   "cell_type": "code",
   "execution_count": 4,
   "metadata": {
    "colab": {
     "base_uri": "https://localhost:8080/",
     "height": 437
    },
    "id": "_lwcDX-A4puS",
    "outputId": "0e54fe69-2c5e-4ec3-adab-aa25bdb0674b",
    "vscode": {
     "languageId": "r"
    }
   },
   "outputs": [
    {
     "data": {
      "image/png": "[encoded data removed]",
      "text/plain": [
       "Plot with title \"Y\""
      ]
     },
     "metadata": {
      "image/png": {
       "height": 420,
       "width": 420
      }
     },
     "output_type": "display_data"
    }
   ],
   "source": [
    "par(las=1); # grafica;\n",
    "Y3D<-scatterplot3d(Y,main=\"Y\",type=\"h\",color=\"black\",box=FALSE,\n",
    "\t\t\t\t   las=1); \n",
    "Y3D$points3d(Y,pch=1);\n",
    "addgrids3d(Y, grid = c(\"xy\",\"xz\",\"yz\"));\n",
    "cord2d<-Y3D$xyz.convert(Y) # convertir cordenadas 3D a 2D;\n",
    "# poner etiquetas;\n",
    "text(cord2d,labels=rownames(Y), cex=0.8,col=\"black\",pos=3); \n",
    "# poner el centro de gravedad en la gráfica\n",
    "g <- colMeans(Y) \n",
    "Y3D$points3d(t(g),pch=19,col=\"darkgreen\",type = \"h\");\n",
    "text(Y3D$xyz.convert(t(g)),labels=\"g\",pos=3,col=\"black\",\n",
    "     cex=1.3);\n",
    "\n"
   ]
  },
  {
   "cell_type": "markdown",
   "metadata": {},
   "source": [
    "#### <span style=\"color:#4CC9F0\">Centrando la nube de puntos</span>\n"
   ]
  },
  {
   "cell_type": "markdown",
   "metadata": {
    "id": "iW7Ow0U-7OBr"
   },
   "source": [
    "Los ejes se trasladan al centro de gravedad, restando a cada vector individuo el centro de gravedad:\n",
    "$$\n",
    "\\mathbf{y_C}_i = \\mathbf{y}_i - \\mathbf{g}\n",
    "$$"
   ]
  },
  {
   "cell_type": "code",
   "execution_count": 5,
   "metadata": {
    "colab": {
     "base_uri": "https://localhost:8080/",
     "height": 810
    },
    "id": "SDVkJC3Y8Tz5",
    "outputId": "993f86f9-ac73-4bb8-c204-a79332a9e7cd",
    "vscode": {
     "languageId": "r"
    }
   },
   "outputs": [
    {
     "data": {
      "text/html": [
       "<table class=\"dataframe\">\n",
       "<caption>A matrix: 10 × 3 of type dbl</caption>\n",
       "<thead>\n",
       "\t<tr><th></th><th scope=col>Color</th><th scope=col>DA</th><th scope=col>EA</th></tr>\n",
       "</thead>\n",
       "<tbody>\n",
       "\t<tr><th scope=row>ExCl</th><td> 21.3</td><td>-16.06</td><td>-10.5</td></tr>\n",
       "\t<tr><th scope=row>C40M</th><td> 84.3</td><td> 80.14</td><td>  5.5</td></tr>\n",
       "\t<tr><th scope=row>C40C</th><td> 44.3</td><td> 21.44</td><td>  4.5</td></tr>\n",
       "\t<tr><th scope=row>C20M</th><td> 58.3</td><td> 43.14</td><td> -2.5</td></tr>\n",
       "\t<tr><th scope=row>C20C</th><td> 37.3</td><td>-32.46</td><td> -3.5</td></tr>\n",
       "\t<tr><th scope=row>ExOs</th><td>-90.7</td><td>-54.56</td><td> -7.5</td></tr>\n",
       "\t<tr><th scope=row>O40M</th><td>  1.3</td><td> 21.44</td><td>  7.5</td></tr>\n",
       "\t<tr><th scope=row>O40C</th><td>-38.7</td><td>  1.84</td><td>  6.5</td></tr>\n",
       "\t<tr><th scope=row>O20M</th><td>-50.7</td><td>-32.46</td><td>  0.5</td></tr>\n",
       "\t<tr><th scope=row>O20C</th><td>-66.7</td><td>-32.46</td><td> -0.5</td></tr>\n",
       "</tbody>\n",
       "</table>\n"
      ],
      "text/latex": [
       "A matrix: 10 × 3 of type dbl\n",
       "\\begin{tabular}{r|lll}\n",
       "  & Color & DA & EA\\\\\n",
       "\\hline\n",
       "\tExCl &  21.3 & -16.06 & -10.5\\\\\n",
       "\tC40M &  84.3 &  80.14 &   5.5\\\\\n",
       "\tC40C &  44.3 &  21.44 &   4.5\\\\\n",
       "\tC20M &  58.3 &  43.14 &  -2.5\\\\\n",
       "\tC20C &  37.3 & -32.46 &  -3.5\\\\\n",
       "\tExOs & -90.7 & -54.56 &  -7.5\\\\\n",
       "\tO40M &   1.3 &  21.44 &   7.5\\\\\n",
       "\tO40C & -38.7 &   1.84 &   6.5\\\\\n",
       "\tO20M & -50.7 & -32.46 &   0.5\\\\\n",
       "\tO20C & -66.7 & -32.46 &  -0.5\\\\\n",
       "\\end{tabular}\n"
      ],
      "text/markdown": [
       "\n",
       "A matrix: 10 × 3 of type dbl\n",
       "\n",
       "| <!--/--> | Color | DA | EA |\n",
       "|---|---|---|---|\n",
       "| ExCl |  21.3 | -16.06 | -10.5 |\n",
       "| C40M |  84.3 |  80.14 |   5.5 |\n",
       "| C40C |  44.3 |  21.44 |   4.5 |\n",
       "| C20M |  58.3 |  43.14 |  -2.5 |\n",
       "| C20C |  37.3 | -32.46 |  -3.5 |\n",
       "| ExOs | -90.7 | -54.56 |  -7.5 |\n",
       "| O40M |   1.3 |  21.44 |   7.5 |\n",
       "| O40C | -38.7 |   1.84 |   6.5 |\n",
       "| O20M | -50.7 | -32.46 |   0.5 |\n",
       "| O20C | -66.7 | -32.46 |  -0.5 |\n",
       "\n"
      ],
      "text/plain": [
       "     Color DA     EA   \n",
       "ExCl  21.3 -16.06 -10.5\n",
       "C40M  84.3  80.14   5.5\n",
       "C40C  44.3  21.44   4.5\n",
       "C20M  58.3  43.14  -2.5\n",
       "C20C  37.3 -32.46  -3.5\n",
       "ExOs -90.7 -54.56  -7.5\n",
       "O40M   1.3  21.44   7.5\n",
       "O40C -38.7   1.84   6.5\n",
       "O20M -50.7 -32.46   0.5\n",
       "O20C -66.7 -32.46  -0.5"
      ]
     },
     "metadata": {},
     "output_type": "display_data"
    },
    {
     "data": {
      "text/html": [
       "<style>\n",
       ".dl-inline {width: auto; margin:0; padding: 0}\n",
       ".dl-inline>dt, .dl-inline>dd {float: none; width: auto; display: inline-block}\n",
       ".dl-inline>dt::after {content: \":\\0020\"; padding-right: .5ex}\n",
       ".dl-inline>dt:not(:first-of-type) {padding-left: .5ex}\n",
       "</style><dl class=dl-inline><dt>Color</dt><dd>276.7</dd><dt>DA</dt><dd>401.16</dd><dt>EA</dt><dd>35.5</dd></dl>\n"
      ],
      "text/latex": [
       "\\begin{description*}\n",
       "\\item[Color] 276.7\n",
       "\\item[DA] 401.16\n",
       "\\item[EA] 35.5\n",
       "\\end{description*}\n"
      ],
      "text/markdown": [
       "Color\n",
       ":   276.7DA\n",
       ":   401.16EA\n",
       ":   35.5\n",
       "\n"
      ],
      "text/plain": [
       " Color     DA     EA \n",
       "276.70 401.16  35.50 "
      ]
     },
     "metadata": {},
     "output_type": "display_data"
    },
    {
     "data": {
      "image/png": "[encoded data removed]",
      "text/plain": [
       "Plot with title \"Yc\""
      ]
     },
     "metadata": {
      "image/png": {
       "height": 420,
       "width": 420
      }
     },
     "output_type": "display_data"
    }
   ],
   "source": [
    "# cálculo de la matriz de datos centrados y representación en 3D\n",
    "Yc<-scale(Y,scale=FALSE)   #calculo\n",
    "Yc\n",
    "attr(Yc,\"scaled:center\")->g  #la función scale muestra el centro de gravedad\n",
    "g\n",
    "# grafica de datos centrados\n",
    "par(las=1);\n",
    "Yc3D<-scatterplot3d(Yc,main=\"Yc\",type=\"h\",color=\"black\",\n",
    "\t               box=FALSE,las=1);\n",
    "Yc3D$points3d(Yc,pch=1);\n",
    "addgrids3d(Yc,grid=c(\"xy\", \"xz\", \"yz\"));\n",
    "text (Yc3D$xyz.convert(Yc),labels=rownames(Yc),cex=0.8,\n",
    "\t  col=\"black\",pos=3);\n",
    "Yc3D$points3d(t(c(0 ,0 ,0)),pch=19 , col =\"darkgreen\",type = \"h\");\n",
    "text(Yc3D$xyz.convert (t(c(0 ,0 ,0))),labels =\"0\",pos =3, \n",
    "     col =\"darkgreen\",cex =1.3);\n"
   ]
  },
  {
   "cell_type": "markdown",
   "metadata": {},
   "source": [
    "#### <span style=\"color:#4CC9F0\">Inercia de la nube de puntos</span>\n"
   ]
  },
  {
   "cell_type": "markdown",
   "metadata": {
    "id": "mb19acrq-1C5"
   },
   "source": [
    "$$\n",
    "Inercia(N_n) = \\sum\\limits_{i=1}^{n}{p_i\n",
    "d^2(i,\\mathbf{g})}\n",
    "$$\n",
    "$$\n",
    "  Inercia(N_n) =\n",
    " \\sum\\limits_{i=1}^{n} p_i\\sum\\limits_{j=1}^{p}y_{{_C}_{ij}}^2 =\n",
    "  \\sum\\limits_{j=1}^{p}\\sum\\limits_{i=1}^{n} p_i y_{{_C}_{ij}}^2\n",
    " = \\sum\\limits_{j=1}^{p}\\sigma_j^2 \n",
    "$$"
   ]
  },
  {
   "cell_type": "markdown",
   "metadata": {},
   "source": [
    "### <span style=\"color:#4CC9F0\">Matriz de varianzas y covarianzas</span>\n"
   ]
  },
  {
   "cell_type": "markdown",
   "metadata": {
    "id": "0G1dp5Z_Ai_h"
   },
   "source": [
    "Si los pesos de los individuos son iguales: $p_i=\\frac{1}{n}$\n",
    "$$\n",
    "  \\mathbf{V}=\\dfrac{1}{n} \\mathbf{Y'_C}\\mathbf{Y_C} $$ \n",
    "La inercia de la nube de puntos es también: $Inercia(N_n) = traza(\\mathbf{V})$\n",
    "\n"
   ]
  },
  {
   "cell_type": "code",
   "execution_count": 6,
   "metadata": {
    "colab": {
     "base_uri": "https://localhost:8080/",
     "height": 170
    },
    "id": "z9QQctf6COGv",
    "outputId": "5f292b6d-f375-4b81-ae50-41804cdfcb74",
    "vscode": {
     "languageId": "r"
    }
   },
   "outputs": [
    {
     "data": {
      "text/html": [
       "<table class=\"dataframe\">\n",
       "<caption>A matrix: 3 × 3 of type dbl</caption>\n",
       "<thead>\n",
       "\t<tr><th></th><th scope=col>Color</th><th scope=col>DA</th><th scope=col>EA</th></tr>\n",
       "</thead>\n",
       "<tbody>\n",
       "\t<tr><th scope=row>Color</th><td>3106</td><td>1738</td><td> 61</td></tr>\n",
       "\t<tr><th scope=row>DA</th><td>1738</td><td>1560</td><td>129</td></tr>\n",
       "\t<tr><th scope=row>EA</th><td>  61</td><td> 129</td><td> 33</td></tr>\n",
       "</tbody>\n",
       "</table>\n"
      ],
      "text/latex": [
       "A matrix: 3 × 3 of type dbl\n",
       "\\begin{tabular}{r|lll}\n",
       "  & Color & DA & EA\\\\\n",
       "\\hline\n",
       "\tColor & 3106 & 1738 &  61\\\\\n",
       "\tDA & 1738 & 1560 & 129\\\\\n",
       "\tEA &   61 &  129 &  33\\\\\n",
       "\\end{tabular}\n"
      ],
      "text/markdown": [
       "\n",
       "A matrix: 3 × 3 of type dbl\n",
       "\n",
       "| <!--/--> | Color | DA | EA |\n",
       "|---|---|---|---|\n",
       "| Color | 3106 | 1738 |  61 |\n",
       "| DA | 1738 | 1560 | 129 |\n",
       "| EA |   61 |  129 |  33 |\n",
       "\n"
      ],
      "text/plain": [
       "      Color DA   EA \n",
       "Color 3106  1738  61\n",
       "DA    1738  1560 129\n",
       "EA      61   129  33"
      ]
     },
     "metadata": {},
     "output_type": "display_data"
    }
   ],
   "source": [
    "V<-covfacwt(Y) # función de ade4, divide por n\n",
    "# la función var(Y) divide por n-1\n",
    "round(V,0)\n"
   ]
  },
  {
   "cell_type": "markdown",
   "metadata": {},
   "source": [
    "#### <span style=\"color:#4CC9F0\">Cálculo y gráfica 3D de la matriz de datos estandarizados X</span>\n"
   ]
  },
  {
   "cell_type": "code",
   "execution_count": 7,
   "metadata": {
    "id": "MlWuaNu6t6ic",
    "outputId": "2791d9e4-e631-45d7-d336-2439e9a35295",
    "vscode": {
     "languageId": "r"
    }
   },
   "outputs": [
    {
     "data": {
      "text/html": [
       "<table class=\"dataframe\">\n",
       "<caption>A matrix: 10 × 3 of type dbl</caption>\n",
       "<thead>\n",
       "\t<tr><th></th><th scope=col>Color</th><th scope=col>DA</th><th scope=col>EA</th></tr>\n",
       "</thead>\n",
       "<tbody>\n",
       "\t<tr><th scope=row>ExCl</th><td> 0.36</td><td>-0.39</td><td>-1.72</td></tr>\n",
       "\t<tr><th scope=row>C40M</th><td> 1.44</td><td> 1.92</td><td> 0.90</td></tr>\n",
       "\t<tr><th scope=row>C40C</th><td> 0.75</td><td> 0.51</td><td> 0.74</td></tr>\n",
       "\t<tr><th scope=row>C20M</th><td> 0.99</td><td> 1.04</td><td>-0.41</td></tr>\n",
       "\t<tr><th scope=row>C20C</th><td> 0.63</td><td>-0.78</td><td>-0.57</td></tr>\n",
       "\t<tr><th scope=row>ExOs</th><td>-1.54</td><td>-1.31</td><td>-1.23</td></tr>\n",
       "\t<tr><th scope=row>O40M</th><td> 0.02</td><td> 0.51</td><td> 1.23</td></tr>\n",
       "\t<tr><th scope=row>O40C</th><td>-0.66</td><td> 0.04</td><td> 1.07</td></tr>\n",
       "\t<tr><th scope=row>O20M</th><td>-0.86</td><td>-0.78</td><td> 0.08</td></tr>\n",
       "\t<tr><th scope=row>O20C</th><td>-1.14</td><td>-0.78</td><td>-0.08</td></tr>\n",
       "</tbody>\n",
       "</table>\n"
      ],
      "text/latex": [
       "A matrix: 10 × 3 of type dbl\n",
       "\\begin{tabular}{r|lll}\n",
       "  & Color & DA & EA\\\\\n",
       "\\hline\n",
       "\tExCl &  0.36 & -0.39 & -1.72\\\\\n",
       "\tC40M &  1.44 &  1.92 &  0.90\\\\\n",
       "\tC40C &  0.75 &  0.51 &  0.74\\\\\n",
       "\tC20M &  0.99 &  1.04 & -0.41\\\\\n",
       "\tC20C &  0.63 & -0.78 & -0.57\\\\\n",
       "\tExOs & -1.54 & -1.31 & -1.23\\\\\n",
       "\tO40M &  0.02 &  0.51 &  1.23\\\\\n",
       "\tO40C & -0.66 &  0.04 &  1.07\\\\\n",
       "\tO20M & -0.86 & -0.78 &  0.08\\\\\n",
       "\tO20C & -1.14 & -0.78 & -0.08\\\\\n",
       "\\end{tabular}\n"
      ],
      "text/markdown": [
       "\n",
       "A matrix: 10 × 3 of type dbl\n",
       "\n",
       "| <!--/--> | Color | DA | EA |\n",
       "|---|---|---|---|\n",
       "| ExCl |  0.36 | -0.39 | -1.72 |\n",
       "| C40M |  1.44 |  1.92 |  0.90 |\n",
       "| C40C |  0.75 |  0.51 |  0.74 |\n",
       "| C20M |  0.99 |  1.04 | -0.41 |\n",
       "| C20C |  0.63 | -0.78 | -0.57 |\n",
       "| ExOs | -1.54 | -1.31 | -1.23 |\n",
       "| O40M |  0.02 |  0.51 |  1.23 |\n",
       "| O40C | -0.66 |  0.04 |  1.07 |\n",
       "| O20M | -0.86 | -0.78 |  0.08 |\n",
       "| O20C | -1.14 | -0.78 | -0.08 |\n",
       "\n"
      ],
      "text/plain": [
       "     Color DA    EA   \n",
       "ExCl  0.36 -0.39 -1.72\n",
       "C40M  1.44  1.92  0.90\n",
       "C40C  0.75  0.51  0.74\n",
       "C20M  0.99  1.04 -0.41\n",
       "C20C  0.63 -0.78 -0.57\n",
       "ExOs -1.54 -1.31 -1.23\n",
       "O40M  0.02  0.51  1.23\n",
       "O40C -0.66  0.04  1.07\n",
       "O20M -0.86 -0.78  0.08\n",
       "O20C -1.14 -0.78 -0.08"
      ]
     },
     "metadata": {},
     "output_type": "display_data"
    },
    {
     "data": {
      "text/html": [
       "<style>\n",
       ".dl-inline {width: auto; margin:0; padding: 0}\n",
       ".dl-inline>dt, .dl-inline>dd {float: none; width: auto; display: inline-block}\n",
       ".dl-inline>dt::after {content: \":\\0020\"; padding-right: .5ex}\n",
       ".dl-inline>dt:not(:first-of-type) {padding-left: .5ex}\n",
       "</style><dl class=dl-inline><dt>Color</dt><dd>276.7</dd><dt>DA</dt><dd>401.16</dd><dt>EA</dt><dd>35.5</dd></dl>\n"
      ],
      "text/latex": [
       "\\begin{description*}\n",
       "\\item[Color] 276.7\n",
       "\\item[DA] 401.16\n",
       "\\item[EA] 35.5\n",
       "\\end{description*}\n"
      ],
      "text/markdown": [
       "Color\n",
       ":   276.7DA\n",
       ":   401.16EA\n",
       ":   35.5\n",
       "\n"
      ],
      "text/plain": [
       " Color     DA     EA \n",
       "276.70 401.16  35.50 "
      ]
     },
     "metadata": {},
     "output_type": "display_data"
    },
    {
     "data": {
      "text/html": [
       "<style>\n",
       ".dl-inline {width: auto; margin:0; padding: 0}\n",
       ".dl-inline>dt, .dl-inline>dd {float: none; width: auto; display: inline-block}\n",
       ".dl-inline>dt::after {content: \":\\0020\"; padding-right: .5ex}\n",
       ".dl-inline>dt:not(:first-of-type) {padding-left: .5ex}\n",
       "</style><dl class=dl-inline><dt>Color</dt><dd>58.7</dd><dt>DA</dt><dd>41.6</dd><dt>EA</dt><dd>6.1</dd></dl>\n"
      ],
      "text/latex": [
       "\\begin{description*}\n",
       "\\item[Color] 58.7\n",
       "\\item[DA] 41.6\n",
       "\\item[EA] 6.1\n",
       "\\end{description*}\n"
      ],
      "text/markdown": [
       "Color\n",
       ":   58.7DA\n",
       ":   41.6EA\n",
       ":   6.1\n",
       "\n"
      ],
      "text/plain": [
       "Color    DA    EA \n",
       " 58.7  41.6   6.1 "
      ]
     },
     "metadata": {},
     "output_type": "display_data"
    },
    {
     "data": {
      "image/png": "[encoded data removed]",
      "text/plain": [
       "Plot with title \"X\""
      ]
     },
     "metadata": {
      "image/png": {
       "height": 420,
       "width": 420
      }
     },
     "output_type": "display_data"
    }
   ],
   "source": [
    "# Cálculo de matriz X estandarizada\n",
    "X<-scale(Y)\n",
    "round(X,2)\n",
    "# aquí la función scale calcula la media y la desviación estándar\n",
    "# las varianzas que calcula R es la muestral: se divide por n-1\n",
    "attr(X,\"scaled:center\")\n",
    "round(attr(X,\"scaled:scale\"),1)\n",
    "# gráfica de la matriz centrada y reducida (estandrizada)\n",
    "par(las=1) # etiquetas de los dos ejes sean horizontales;\n",
    "X3D<-scatterplot3d(X,main=\"X\",type =\"h\",box=FALSE); \n",
    "X3D$points3d(Yc,pch=1);\n",
    "addgrids3d(X,grid=c(\"xy\",\"xz\",\"yz\"),col.grid=\"grey80\");\n",
    "text (X3D$xyz.convert(X),labels=rownames(X),cex=0.8,pos=3);\n",
    "X3D$points3d (t(c(0,0,0)),pch=19,col=\"darkgreen\",type=\"h\");\n",
    "text(X3D$xyz.convert(t(c(0,0,0))),labels=\"0\",pos=3,col=\"darkgreen\"\n",
    "\t ,cex=0.8);\n"
   ]
  },
  {
   "cell_type": "markdown",
   "metadata": {
    "id": "LOOrmAXjt6ic"
   },
   "source": [
    "\n",
    "#### <span style=\"color:#4CC9F0\">Búsqueda del eje de mayor inercia proyectada (varianza)</span>\n"
   ]
  },
  {
   "cell_type": "markdown",
   "metadata": {
    "id": "oLiOtAGFt6id"
   },
   "source": [
    "El valor de la proyección de un individuo *i* sobre el eje generado por un vector $\\mathbf{u}$ unitario es: $<\\mathbf{x}_i,\\mathbf{u}>=\\mathbf{x}_i'\\mathbf{u}$.\n",
    "\n",
    "El individuo $i$ suma a la inercia proyectada (varianza) sobre el eje $\\mathbf{u}$ la cantidad $\\dfrac{1}{n} (\\mathbf{x}_i'\\mathbf{u})^2$.\n",
    "\n",
    "La inercia total de la nube de individuos (varianza), proyectada sobre el eje $\\mathbf{u}$ es entonces:\n",
    "$$\n",
    "\\sum_{i=1}^{n} \\frac{1}{n} (\\mathbf{x}_i'\\mathbf{u})^2 =\n",
    "\\frac{1}{n}(\\mathbf{Xu})'\\mathbf{Xu} = \\mathbf{u'}\\frac{1}{n}\\mathbf{X'Xu}\n",
    "$$\n",
    "\n"
   ]
  },
  {
   "cell_type": "markdown",
   "metadata": {
    "id": "Ya41OD-It6id"
   },
   "source": [
    "<center>\n",
    "<img src=\"https://github.com/cepardot/DiplomadoIAyAP20211/blob/main/uProyeccion.png?raw=TRUE\" alt=\"Proyección sobre u\" width=\"300\" height=\"400\">\n",
    "<center>"
   ]
  },
  {
   "cell_type": "markdown",
   "metadata": {
    "id": "AwZoOSXAt6id"
   },
   "source": [
    "Geométricamente la búsqueda del eje equivale a rotarlo hasta que la suma de cuadrados de las proyecciones de los puntos sobre él  sea máxima. Cuando los puntos tienen pesos iguales el eje coincide con la dirección donde la nube de puntos esté más alargada. Se puede observar que cualquier vector que esté sobre la recta es solución y por lo tanto se introduce la condición de que el vector sea unitario: $\\mathbf{u'u}=1$, con lo cual las soluciones son dos, ya que si $\\mathbf{u}$ es solución $-\\mathbf{u}$ también lo es. Cómo es una optimización se pueden tener diferentes procedimientos para hacerlo. En Álgebra lineal se obtiene una solución analítica utilizando la técnica de multiplicadores de Lagrange."
   ]
  },
  {
   "cell_type": "markdown",
   "metadata": {},
   "source": [
    "<center>\n",
    "<img src=\"https://images3.programmerclick.com/611/1d/1da21c4ce8bb7e0d68f27776d42a0c13.gif\" alt=\"Linea proyeccion\" width=\"400\" height=\"500\">\n",
    "<center>"
   ]
  },
  {
   "cell_type": "markdown",
   "metadata": {},
   "source": [
    "La solución es uno de los dos vectores propios unitarios asociados al valor propio más grande de la matriz:\n",
    "$$\n",
    "\\dfrac{1}{n}\\mathbf{X'X}\n",
    "$$\n",
    "que es la matriz de correlaciones. Una pareja (valor propio más grande, vector propio) se denota \n",
    "$(\\lambda_1 ,\\mathbf{u}_1)$\n",
    "\n",
    "La matriz de correlaciones, cuando $n\\geq p$, generalmente tiene $p$ valores propios, los cuales se ordenan de mayor a menor:\n",
    "$$\n",
    "\\lambda_1 \\geq \\lambda_2 \\geq \\cdots \\lambda_s \\geq \\cdots \\lambda_S \\geq \\cdots \\lambda_p\n",
    "$$\n",
    "\n",
    "Los\n",
    "$p$ vectores propios\n",
    " $\\{\\mathbf{u_1},\\cdots,\\mathbf{u_s},\\cdots,\\mathbf{u_S} \\cdots,\\mathbf{u_p} \\}$\n",
    "generan un sistema de nuevos ejes, denominados componentes principales, que son variables, calculadas como combinaciones lineales (sumas ponderadas de las $p$ variables originales), se notan como $F_s, s=1,2 \\cdots p$, que se pueden entender como nuevas variables y como vectores de dimensión $n \\times 1$, cada uno con los valores de la nueva variable. Los  $p$ vectores $\\mathbf{u}_s$ conforman una nueva base para soportar la nube de puntos."
   ]
  },
  {
   "cell_type": "markdown",
   "metadata": {},
   "source": [
    "<center>\n",
    "<img src=\"https://miro.medium.com/max/972/1*foB2cfjPCgHVnSyon293pQ.gif\" alt=\"eigenvectores\" width=\"250\" height=\"350\">\n",
    "<center>"
   ]
  },
  {
   "cell_type": "markdown",
   "metadata": {},
   "source": [
    "Geométricamente lo que se ha hecho es una rotación rígida de los ejes. Veamos lo que sucede con el ejemplo café."
   ]
  },
  {
   "cell_type": "markdown",
   "metadata": {
    "id": "OSRuZJqqt6id"
   },
   "source": [
    "#### <span style=\"color:#4CC9F0\">Con la función eigen{base}</span>\n"
   ]
  },
  {
   "cell_type": "code",
   "execution_count": 8,
   "metadata": {
    "id": "Gn7EjBRft6id",
    "outputId": "971bae95-7d93-44ca-f0be-c1c894246eca",
    "vscode": {
     "languageId": "r"
    }
   },
   "outputs": [
    {
     "data": {
      "text/plain": [
       "eigen() decomposition\n",
       "$values\n",
       "[1] 2.0670307 0.8216466 0.1113227\n",
       "\n",
       "$vectors\n",
       "           [,1]        [,2]       [,3]\n",
       "[1,] -0.5794934 -0.57140813  0.5811025\n",
       "[2,] -0.6728898 -0.06680772 -0.7367197\n",
       "[3,] -0.4597898  0.81794222  0.3457801\n"
      ]
     },
     "metadata": {},
     "output_type": "display_data"
    }
   ],
   "source": [
    "V<-cor(Y)\n",
    "eigen(V)"
   ]
  },
  {
   "cell_type": "markdown",
   "metadata": {},
   "source": [
    "#### <span style=\"color:#4CC9F0\">Todos los resultados con la función dudi.pca{ade4} en el objeto acpcafe</span>\n"
   ]
  },
  {
   "cell_type": "code",
   "execution_count": 9,
   "metadata": {
    "id": "WAf6L6hKt6ie",
    "outputId": "64a98f3b-d004-4191-b3d0-edaa00b1c3ab",
    "vscode": {
     "languageId": "r"
    }
   },
   "outputs": [
    {
     "data": {
      "text/plain": [
       "Duality diagramm\n",
       "class: pca dudi\n",
       "$call: dudi.pca(df = X, scannf = FALSE, nf = 3)\n",
       "\n",
       "$nf: 3 axis-components saved\n",
       "$rank: 3\n",
       "eigen values: 2.067 0.8216 0.1113\n",
       "  vector length mode    content       \n",
       "1 $cw    3      numeric column weights\n",
       "2 $lw    10     numeric row weights   \n",
       "3 $eig   3      numeric eigen values  \n",
       "\n",
       "  data.frame nrow ncol content             \n",
       "1 $tab       10   3    modified array      \n",
       "2 $li        10   3    row coordinates     \n",
       "3 $l1        10   3    row normed scores   \n",
       "4 $co        3    3    column coordinates  \n",
       "5 $c1        3    3    column normed scores\n",
       "other elements: cent norm "
      ]
     },
     "metadata": {},
     "output_type": "display_data"
    }
   ],
   "source": [
    "acpcafe<-dudi.pca(X,scannf=FALSE,nf=3)\n",
    "acpcafe #contenido del objeto café"
   ]
  },
  {
   "cell_type": "markdown",
   "metadata": {
    "id": "x_-q2J2Yt6ie"
   },
   "source": [
    "### <span style=\"color:#4CC9F0\">Valores propios</span>\n"
   ]
  },
  {
   "cell_type": "code",
   "execution_count": 10,
   "metadata": {
    "id": "yShikOWJt6ie",
    "outputId": "f7059efd-a782-43d3-a516-7abdbffb3aed",
    "vscode": {
     "languageId": "r"
    }
   },
   "outputs": [
    {
     "data": {
      "text/html": [
       "<style>\n",
       ".list-inline {list-style: none; margin:0; padding: 0}\n",
       ".list-inline>li {display: inline-block}\n",
       ".list-inline>li:not(:last-child)::after {content: \"\\00b7\"; padding: 0 .5ex}\n",
       "</style>\n",
       "<ol class=list-inline><li>2.067</li><li>0.822</li><li>0.111</li></ol>\n"
      ],
      "text/latex": [
       "\\begin{enumerate*}\n",
       "\\item 2.067\n",
       "\\item 0.822\n",
       "\\item 0.111\n",
       "\\end{enumerate*}\n"
      ],
      "text/markdown": [
       "1. 2.067\n",
       "2. 0.822\n",
       "3. 0.111\n",
       "\n",
       "\n"
      ],
      "text/plain": [
       "[1] 2.067 0.822 0.111"
      ]
     },
     "metadata": {},
     "output_type": "display_data"
    }
   ],
   "source": [
    "round(acpcafe$eig,3)"
   ]
  },
  {
   "cell_type": "markdown",
   "metadata": {
    "id": "Z7HcJx9dt6if"
   },
   "source": [
    "*Vectores propios*"
   ]
  },
  {
   "cell_type": "code",
   "execution_count": 11,
   "metadata": {
    "id": "Ty9ODCiwt6if",
    "outputId": "60850bd2-c4fb-4249-f52f-2f207b2bad28",
    "vscode": {
     "languageId": "r"
    }
   },
   "outputs": [
    {
     "data": {
      "text/html": [
       "<table class=\"dataframe\">\n",
       "<caption>A data.frame: 3 × 3</caption>\n",
       "<thead>\n",
       "\t<tr><th></th><th scope=col>CS1</th><th scope=col>CS2</th><th scope=col>CS3</th></tr>\n",
       "\t<tr><th></th><th scope=col>&lt;dbl&gt;</th><th scope=col>&lt;dbl&gt;</th><th scope=col>&lt;dbl&gt;</th></tr>\n",
       "</thead>\n",
       "<tbody>\n",
       "\t<tr><th scope=row>Color</th><td>0.579</td><td>-0.571</td><td> 0.581</td></tr>\n",
       "\t<tr><th scope=row>DA</th><td>0.673</td><td>-0.067</td><td>-0.737</td></tr>\n",
       "\t<tr><th scope=row>EA</th><td>0.460</td><td> 0.818</td><td> 0.346</td></tr>\n",
       "</tbody>\n",
       "</table>\n"
      ],
      "text/latex": [
       "A data.frame: 3 × 3\n",
       "\\begin{tabular}{r|lll}\n",
       "  & CS1 & CS2 & CS3\\\\\n",
       "  & <dbl> & <dbl> & <dbl>\\\\\n",
       "\\hline\n",
       "\tColor & 0.579 & -0.571 &  0.581\\\\\n",
       "\tDA & 0.673 & -0.067 & -0.737\\\\\n",
       "\tEA & 0.460 &  0.818 &  0.346\\\\\n",
       "\\end{tabular}\n"
      ],
      "text/markdown": [
       "\n",
       "A data.frame: 3 × 3\n",
       "\n",
       "| <!--/--> | CS1 &lt;dbl&gt; | CS2 &lt;dbl&gt; | CS3 &lt;dbl&gt; |\n",
       "|---|---|---|---|\n",
       "| Color | 0.579 | -0.571 |  0.581 |\n",
       "| DA | 0.673 | -0.067 | -0.737 |\n",
       "| EA | 0.460 |  0.818 |  0.346 |\n",
       "\n"
      ],
      "text/plain": [
       "      CS1   CS2    CS3   \n",
       "Color 0.579 -0.571  0.581\n",
       "DA    0.673 -0.067 -0.737\n",
       "EA    0.460  0.818  0.346"
      ]
     },
     "metadata": {},
     "output_type": "display_data"
    }
   ],
   "source": [
    "round(acpcafe$c1,3)"
   ]
  },
  {
   "cell_type": "markdown",
   "metadata": {
    "id": "6m86rn4Ut6if"
   },
   "source": [
    "Note que el primer vector propio (columna CS1) tiene todas las coordenadas positivas y el primer vector propio obtenido con la función *eigen* de R tiene las tres coordenadas negativas ¿A qué se debe esto?\n",
    "\n",
    "___________________________________________________________________________________________________________________"
   ]
  },
  {
   "cell_type": "markdown",
   "metadata": {
    "id": "dXcIFmIyt6if"
   },
   "source": [
    "*Coordenadas de los individuos sobre los nuevos ejes*"
   ]
  },
  {
   "cell_type": "code",
   "execution_count": 12,
   "metadata": {
    "id": "uNhMG5LLt6if",
    "outputId": "7b95e252-a7ec-451d-8444-a7e40fd94488",
    "vscode": {
     "languageId": "r"
    }
   },
   "outputs": [
    {
     "data": {
      "text/html": [
       "<table class=\"dataframe\">\n",
       "<caption>A data.frame: 10 × 3</caption>\n",
       "<thead>\n",
       "\t<tr><th></th><th scope=col>Axis1</th><th scope=col>Axis2</th><th scope=col>Axis3</th></tr>\n",
       "\t<tr><th></th><th scope=col>&lt;dbl&gt;</th><th scope=col>&lt;dbl&gt;</th><th scope=col>&lt;dbl&gt;</th></tr>\n",
       "</thead>\n",
       "<tbody>\n",
       "\t<tr><th scope=row>ExCl</th><td>-0.89</td><td>-1.68</td><td>-0.11</td></tr>\n",
       "\t<tr><th scope=row>C40M</th><td> 2.68</td><td>-0.22</td><td>-0.29</td></tr>\n",
       "\t<tr><th scope=row>C40C</th><td> 1.18</td><td> 0.15</td><td> 0.33</td></tr>\n",
       "\t<tr><th scope=row>C20M</th><td> 1.14</td><td>-1.02</td><td>-0.35</td></tr>\n",
       "\t<tr><th scope=row>C20C</th><td>-0.44</td><td>-0.82</td><td> 0.79</td></tr>\n",
       "\t<tr><th scope=row>ExOs</th><td>-2.47</td><td>-0.04</td><td>-0.38</td></tr>\n",
       "\t<tr><th scope=row>O40M</th><td> 0.98</td><td> 1.01</td><td> 0.06</td></tr>\n",
       "\t<tr><th scope=row>O40C</th><td> 0.15</td><td> 1.31</td><td>-0.05</td></tr>\n",
       "\t<tr><th scope=row>O20M</th><td>-1.04</td><td> 0.65</td><td> 0.11</td></tr>\n",
       "\t<tr><th scope=row>O20C</th><td>-1.29</td><td> 0.67</td><td>-0.12</td></tr>\n",
       "</tbody>\n",
       "</table>\n"
      ],
      "text/latex": [
       "A data.frame: 10 × 3\n",
       "\\begin{tabular}{r|lll}\n",
       "  & Axis1 & Axis2 & Axis3\\\\\n",
       "  & <dbl> & <dbl> & <dbl>\\\\\n",
       "\\hline\n",
       "\tExCl & -0.89 & -1.68 & -0.11\\\\\n",
       "\tC40M &  2.68 & -0.22 & -0.29\\\\\n",
       "\tC40C &  1.18 &  0.15 &  0.33\\\\\n",
       "\tC20M &  1.14 & -1.02 & -0.35\\\\\n",
       "\tC20C & -0.44 & -0.82 &  0.79\\\\\n",
       "\tExOs & -2.47 & -0.04 & -0.38\\\\\n",
       "\tO40M &  0.98 &  1.01 &  0.06\\\\\n",
       "\tO40C &  0.15 &  1.31 & -0.05\\\\\n",
       "\tO20M & -1.04 &  0.65 &  0.11\\\\\n",
       "\tO20C & -1.29 &  0.67 & -0.12\\\\\n",
       "\\end{tabular}\n"
      ],
      "text/markdown": [
       "\n",
       "A data.frame: 10 × 3\n",
       "\n",
       "| <!--/--> | Axis1 &lt;dbl&gt; | Axis2 &lt;dbl&gt; | Axis3 &lt;dbl&gt; |\n",
       "|---|---|---|---|\n",
       "| ExCl | -0.89 | -1.68 | -0.11 |\n",
       "| C40M |  2.68 | -0.22 | -0.29 |\n",
       "| C40C |  1.18 |  0.15 |  0.33 |\n",
       "| C20M |  1.14 | -1.02 | -0.35 |\n",
       "| C20C | -0.44 | -0.82 |  0.79 |\n",
       "| ExOs | -2.47 | -0.04 | -0.38 |\n",
       "| O40M |  0.98 |  1.01 |  0.06 |\n",
       "| O40C |  0.15 |  1.31 | -0.05 |\n",
       "| O20M | -1.04 |  0.65 |  0.11 |\n",
       "| O20C | -1.29 |  0.67 | -0.12 |\n",
       "\n"
      ],
      "text/plain": [
       "     Axis1 Axis2 Axis3\n",
       "ExCl -0.89 -1.68 -0.11\n",
       "C40M  2.68 -0.22 -0.29\n",
       "C40C  1.18  0.15  0.33\n",
       "C20M  1.14 -1.02 -0.35\n",
       "C20C -0.44 -0.82  0.79\n",
       "ExOs -2.47 -0.04 -0.38\n",
       "O40M  0.98  1.01  0.06\n",
       "O40C  0.15  1.31 -0.05\n",
       "O20M -1.04  0.65  0.11\n",
       "O20C -1.29  0.67 -0.12"
      ]
     },
     "metadata": {},
     "output_type": "display_data"
    }
   ],
   "source": [
    "F<-acpcafe$li\n",
    "round(F,2)"
   ]
  },
  {
   "cell_type": "markdown",
   "metadata": {
    "id": "UFvM82wct6if"
   },
   "source": [
    "*Grafica 3D de los cafés*"
   ]
  },
  {
   "cell_type": "code",
   "execution_count": 13,
   "metadata": {
    "id": "M0xAIuk1t6if",
    "outputId": "43606491-8594-4c35-f6f7-457082065696",
    "vscode": {
     "languageId": "r"
    }
   },
   "outputs": [
    {
     "data": {
      "image/png": "[encoded data removed]",
      "text/plain": [
       "Plot with title \"Cafés sobre los nuevos ejes\""
      ]
     },
     "metadata": {
      "image/png": {
       "height": 420,
       "width": 420
      }
     },
     "output_type": "display_data"
    }
   ],
   "source": [
    "# gráfica de la matriz centrada y reducida (estandrizada)\n",
    "par(las=1) # etiquetas de los dos ejes sean horizontales;\n",
    "X3D<-scatterplot3d(F,main=\"Cafés sobre los nuevos ejes\",type =\"h\",box=FALSE); \n",
    "X3D$points3d(F,pch=1);\n",
    "addgrids3d(F,grid=c(\"xy\",\"xz\",\"yz\"));\n",
    "text(X3D$xyz.convert(F),labels=rownames(F),cex=0.8,pos=3);\n",
    "X3D$points3d (t(c(0,0,0)),pch=19,col=\"darkgreen\",type=\"h\");\n",
    "text(X3D$xyz.convert(t(c(0,0,0))),labels=\"0\",pos=3,col=\"darkgreen\"\n",
    "\t ,cex=0.8);\n"
   ]
  },
  {
   "cell_type": "markdown",
   "metadata": {
    "id": "S0UIzSwtt6ig"
   },
   "source": [
    "#### <span style=\"color:#4CC9F0\">Proyección de los cafés sobre el primer plano factorial</span>"
   ]
  },
  {
   "cell_type": "code",
   "execution_count": 14,
   "metadata": {
    "id": "UDdsH2-5t6ig",
    "outputId": "27565ce6-5c55-4bd1-8cf4-2bd28e9c0bdc",
    "vscode": {
     "languageId": "r"
    }
   },
   "outputs": [
    {
     "data": {
      "image/png": "[encoded data removed]",
      "text/plain": [
       "plot without title"
      ]
     },
     "metadata": {
      "image/png": {
       "height": 420,
       "width": 420
      }
     },
     "output_type": "display_data"
    }
   ],
   "source": [
    "\n",
    "plot(acpcafe,Tcol=FALSE,gg=TRUE)  # plot.dudi{FactoClass}\n",
    "## con gg=TRUE, la función usa ggplot2 y ggrepel \n",
    "## para que las etiquetas no queden superpuestas\n"
   ]
  },
  {
   "cell_type": "code",
   "execution_count": 15,
   "metadata": {
    "id": "HEBzXeuat6ig",
    "outputId": "122f98f1-9bb8-4b50-9b81-d5ee716c7074",
    "vscode": {
     "languageId": "r"
    }
   },
   "outputs": [
    {
     "data": {
      "image/png": "[encoded data removed]",
      "text/plain": [
       "plot without title"
      ]
     },
     "metadata": {
      "image/png": {
       "height": 420,
       "width": 420
      }
     },
     "output_type": "display_data"
    }
   ],
   "source": [
    "# para que los ejes queden con la misma escala\n",
    "plot(acpcafe,Tcol=FALSE,asp=1)"
   ]
  },
  {
   "cell_type": "markdown",
   "metadata": {
    "id": "fuG_4zvht6ig"
   },
   "source": [
    "Histograma de valores propios"
   ]
  },
  {
   "cell_type": "code",
   "execution_count": 16,
   "metadata": {
    "id": "zNWMOLrCt6ig",
    "outputId": "da114895-ddc3-4591-d1cf-e4285c1e9772",
    "vscode": {
     "languageId": "r"
    }
   },
   "outputs": [
    {
     "data": {
      "image/png": "[encoded data removed]",
      "text/plain": [
       "plot without title"
      ]
     },
     "metadata": {
      "image/png": {
       "height": 420,
       "width": 420
      }
     },
     "output_type": "display_data"
    }
   ],
   "source": [
    "barplot(acpcafe$eig)"
   ]
  },
  {
   "cell_type": "markdown",
   "metadata": {},
   "source": [
    "### <span style=\"color:#4CC9F0\">Nube de variables</span>\n"
   ]
  },
  {
   "cell_type": "markdown",
   "metadata": {
    "id": "BQAEwuSFDX6o"
   },
   "source": [
    "La matriz de datos $\\mathbf{Y}$ y sus transformaciones tienen una interpretación dual a la de los individuos: la nube de variables. Ahora los ejes son los individuos y las variables son los puntos. En el ejemplo café, se tienen entonces, tres puntos variable en $\\mathbf{R}^{10}$.\n"
   ]
  },
  {
   "cell_type": "code",
   "execution_count": 17,
   "metadata": {
    "id": "z5Q86U2Qt6ih",
    "outputId": "6b1604d1-1ab5-4998-ffed-794a2a09324b",
    "vscode": {
     "languageId": "r"
    }
   },
   "outputs": [
    {
     "data": {
      "text/html": [
       "<table class=\"dataframe\">\n",
       "<caption>A data.frame: 10 × 3</caption>\n",
       "<thead>\n",
       "\t<tr><th></th><th scope=col>Color</th><th scope=col>DA</th><th scope=col>EA</th></tr>\n",
       "\t<tr><th></th><th scope=col>&lt;int&gt;</th><th scope=col>&lt;dbl&gt;</th><th scope=col>&lt;int&gt;</th></tr>\n",
       "</thead>\n",
       "<tbody>\n",
       "\t<tr><th scope=row>ExCl</th><td>298</td><td>385.1</td><td>25</td></tr>\n",
       "\t<tr><th scope=row>C40M</th><td>361</td><td>481.3</td><td>41</td></tr>\n",
       "\t<tr><th scope=row>C40C</th><td>321</td><td>422.6</td><td>40</td></tr>\n",
       "\t<tr><th scope=row>C20M</th><td>335</td><td>444.3</td><td>33</td></tr>\n",
       "\t<tr><th scope=row>C20C</th><td>314</td><td>368.7</td><td>32</td></tr>\n",
       "\t<tr><th scope=row>ExOs</th><td>186</td><td>346.6</td><td>28</td></tr>\n",
       "\t<tr><th scope=row>O40M</th><td>278</td><td>422.6</td><td>43</td></tr>\n",
       "\t<tr><th scope=row>O40C</th><td>238</td><td>403.0</td><td>42</td></tr>\n",
       "\t<tr><th scope=row>O20M</th><td>226</td><td>368.7</td><td>36</td></tr>\n",
       "\t<tr><th scope=row>O20C</th><td>210</td><td>368.7</td><td>35</td></tr>\n",
       "</tbody>\n",
       "</table>\n"
      ],
      "text/latex": [
       "A data.frame: 10 × 3\n",
       "\\begin{tabular}{r|lll}\n",
       "  & Color & DA & EA\\\\\n",
       "  & <int> & <dbl> & <int>\\\\\n",
       "\\hline\n",
       "\tExCl & 298 & 385.1 & 25\\\\\n",
       "\tC40M & 361 & 481.3 & 41\\\\\n",
       "\tC40C & 321 & 422.6 & 40\\\\\n",
       "\tC20M & 335 & 444.3 & 33\\\\\n",
       "\tC20C & 314 & 368.7 & 32\\\\\n",
       "\tExOs & 186 & 346.6 & 28\\\\\n",
       "\tO40M & 278 & 422.6 & 43\\\\\n",
       "\tO40C & 238 & 403.0 & 42\\\\\n",
       "\tO20M & 226 & 368.7 & 36\\\\\n",
       "\tO20C & 210 & 368.7 & 35\\\\\n",
       "\\end{tabular}\n"
      ],
      "text/markdown": [
       "\n",
       "A data.frame: 10 × 3\n",
       "\n",
       "| <!--/--> | Color &lt;int&gt; | DA &lt;dbl&gt; | EA &lt;int&gt; |\n",
       "|---|---|---|---|\n",
       "| ExCl | 298 | 385.1 | 25 |\n",
       "| C40M | 361 | 481.3 | 41 |\n",
       "| C40C | 321 | 422.6 | 40 |\n",
       "| C20M | 335 | 444.3 | 33 |\n",
       "| C20C | 314 | 368.7 | 32 |\n",
       "| ExOs | 186 | 346.6 | 28 |\n",
       "| O40M | 278 | 422.6 | 43 |\n",
       "| O40C | 238 | 403.0 | 42 |\n",
       "| O20M | 226 | 368.7 | 36 |\n",
       "| O20C | 210 | 368.7 | 35 |\n",
       "\n"
      ],
      "text/plain": [
       "     Color DA    EA\n",
       "ExCl 298   385.1 25\n",
       "C40M 361   481.3 41\n",
       "C40C 321   422.6 40\n",
       "C20M 335   444.3 33\n",
       "C20C 314   368.7 32\n",
       "ExOs 186   346.6 28\n",
       "O40M 278   422.6 43\n",
       "O40C 238   403.0 42\n",
       "O20M 226   368.7 36\n",
       "O20C 210   368.7 35"
      ]
     },
     "metadata": {},
     "output_type": "display_data"
    }
   ],
   "source": [
    "Y"
   ]
  },
  {
   "cell_type": "markdown",
   "metadata": {
    "id": "_bMTQcmWt6ih"
   },
   "source": [
    "En el espacio de las variables los pesos están en la diagonal de $\\mathbf{I}_p$, es decir son uno para todas las variables, y la métrica (matriz que define el producto interno) es la matriz diagonal con los pesos de los individuos, es decir $\\frac{1}{n}\\mathbf{I}_n$, para el caso de pesos iguales. Con esta métrica las estadísticas de resumen y las transformaciones de la matriz desde $\\mathbf{Y}$ hasta la $\\mathbf{X}$ tienen significado geométrico, lo que resumo a continuación (ver el capítulo 3 del [libro Estadística descriptiva multivariada](https://bit.ly/3mD9rEY)). \n",
    "\n",
    "- Media de una variable $j$: \n",
    "$$\n",
    "\\bar{Y}_j = \\frac{1}{n} \\sum_{i=1}^{n} y_{ij} = \n",
    "\\frac{1}{n}\\mathbf{Y'}_j \\mathbf{1_{_n}} =\n",
    "\\left<  \\mathbf{Y}_j,\\mathbf{1_{_n}} \\right>_{\\frac{1}{n}\\mathbf{I}_n} \n",
    "$$\n",
    "\n",
    "- Centrado de una variable\n",
    "$$\n",
    "\\mathbf{Y}_{C_j}=\\mathbf{Y}_j - \\overline{Y} \\mathbf{1}_n \n",
    "$$\n",
    "donde $\\mathbf{1}_n$ es un vector de $n$ unos ($n \\times 1$)."
   ]
  },
  {
   "cell_type": "markdown",
   "metadata": {
    "id": "9J80L8Jqt6ih"
   },
   "source": [
    "<center>\n",
    "<img src=\"https://github.com/cepardot/DiplomadoIAyAP20211/blob/main/EDMvariables.png?raw=TRUE\" alt=\"Significado de la media y el centrado de una variable\" width=\"400\" height=\"500\">\n",
    "<center>"
   ]
  },
  {
   "cell_type": "markdown",
   "metadata": {
    "id": "tC0JQvk5t6ih"
   },
   "source": [
    "- Varianza\n",
    "\n",
    "$$\n",
    "var(Y_j) = \\frac{1}{n} \\sum_{i=1}^n (y_{ij} - \\bar{Y}_j)^2 = \n",
    "\\left<\\mathbf{Y_{C}}_j,\\mathbf{Y_{C}}_j\\right>_{\\frac{1}{n}\\mathbf{I}_n}\n",
    "$$\n",
    "\n",
    "- Covarianza\n",
    "\n",
    "$$\n",
    " cov(Y_j,Y_{k}) = \\frac{1}{n} \\sum_{i=1}^n (y_{ij} - \\bar{Y}_j)(y_{ik} - \\bar{Y}_{k}) = \n",
    "\\left<\\mathbf{Y_{C}}_j,\\mathbf{Y_{C}}_{k}\\right>_{\\frac{1}{n}\\mathbf{I}_n}\n",
    "$$\n",
    "\n",
    "- Significado del reducido\n",
    "\n",
    "$$\n",
    "\\mathbf{X_j}=\n",
    "\\dfrac{1}{\\sigma_j}\\mathbf{Y}_{C_j}\n",
    "$$\n",
    "\n",
    "Varianza de una variable centrada y reducida:\n",
    "    \n",
    "$$\n",
    "<\\mathbf{X_j,X_j}>_{\\frac{1}{n}\\mathbf{I_n}}=\\mathbf{X_j^{'}}\\left(\\frac{1}{n}\\mathbf{I}_n\\right)\\mathbf{X}_j=\n",
    "\\frac{1}{n}\\mathbf{X_j^{'}X_j}=1\n",
    "$$ \n",
    "Las variables estandarizadas se pueden ver como flechas que terminan en el cascarón hiperesféricon de radio 1 y centro origen.\n",
    "    \n",
    " - Correlación\n",
    "\n",
    "$$\n",
    "cor(Y_j,Y_{k}) = \\frac{cov(Y_j,Y_{k})}{\\sigma_j \\sigma_{k}}=\n",
    "\\frac{ <\\mathbf{Y_{C_j},Y_{C_k}}>_{\\frac{1}{n}\\mathbf{I_n}}}{\\| \\mathbf{Y_{C_j}} \\|_{\\frac{1}{n}\\mathbf{I_n}} \\|\\mathbf{Y_{C_k}} \\|_{\\frac{1}{n}\\mathbf{I_n}}}=\n",
    "<\\mathbf{X_j,X_{k}}>_{\\frac{1}{n}\\mathbf{I_n}}\n",
    "$$\n",
    "\n",
    "  El espacio de las variables de un ACP normado es una representación de la matriz de correlaciones.\n",
    "    \n",
    "  Si entre dos vectores variables hay un ángulo pequeño, su correlación es alta; mientras dos vectores variables ortogonales indican que las variables no están correlacionadas.\n",
    "\n"
   ]
  },
  {
   "cell_type": "markdown",
   "metadata": {
    "id": "QBuMUse_t6ih"
   },
   "source": [
    "**Búsqueda de los nuevos ejes**\n",
    "\n",
    "El procedimento para encontrar los nuevos ejes es el mismo que en el de los individuos.\n",
    "\n",
    "<center>\n",
    "<img src=\"https://github.com/cepardot/DiplomadoIAyAP20211/blob/main/EDMvariablesprimerEjeColor.png?raw=TRUE\" alt=\"Búsqueda de los nuevos ejes en el espacio de las variables\" width=\"300\" height=\"400\">\n",
    "<center>\n",
    "\n",
    "Solución con vectores propios $\\frac{1}{n}\\mathbf{I}_n$ unitarios asociados a los $\\mu$ valores propios de la matriz:\n",
    "$$\n",
    "\\frac{1}{n}\\mathbf{XX'}\n",
    "$$\n",
    "\n",
    "- Esta matriz es $n \\times n$, pero solo tiene $p$ valores propios mayores que 0 (se supone que $n \\geq p$)\n",
    "\n",
    "- Los dos espacios están relacionados."
   ]
  },
  {
   "cell_type": "markdown",
   "metadata": {},
   "source": [
    "### <span style=\"color:#4CC9F0\">Relaciones entre los espacios de individuos y de variables</span>\n"
   ]
  },
  {
   "cell_type": "markdown",
   "metadata": {
    "id": "Ld5DLveht6ih"
   },
   "source": [
    "\n",
    "- La matriz  $$\\frac{1}{n}\\mathbf{XX'}$$ tiene $p$ valores propios, que son iguales a los valores propios de $$\\frac{1}{n}\\mathbf{X'X}$$ y los restantes $n - p$ valores propios son 0. \n",
    "\n",
    "- El vector coordenadas de los $n$ individuos sobre el eje $s$  $\\mathbf{F}_s$, es un vector propio de $$\\frac{1}{n}\\mathbf{XX'}$$.\n",
    "\n",
    "- La varianza de $\\mathbf{F}_s$ es $\\lambda_s$, y por lo tanto, el vector propio $\\mathbf{v}_s$ se puede calcular mediante:  $$\\mathbf{v}_s=\\frac{1}{\\sqrt{\\lambda_s}}\\mathbf{F}_s$$.\n",
    "\n",
    "-  $\\mathbf{G}_s$, vector de coordenadas de las $p$ variables sobre el eje $s$, es un vector propio de $$\\frac{1}{n}\\mathbf{X'X}$$.\n",
    "\n",
    "- La varianza de $\\mathbf{G}_s$ es $\\lambda_s$, y por lo tanto, se puede obtener mediante:   $$\\mathbf{G}_s =\\sqrt{\\lambda_s}\\mathbf{u}_s$$.\n",
    "\n",
    "- En el ACP normado, las coordenadas de $\\mathbf{G}_s$ son las correlaciones entre las variables y el eje $s$: $cor(Y_j,F_s)$.\n"
   ]
  },
  {
   "cell_type": "markdown",
   "metadata": {
    "id": "h4zMC2Xat6ih"
   },
   "source": [
    "## <span style=\"color:#4361EE\">Círculo de correlaciones del ejemplo café</span>\n"
   ]
  },
  {
   "cell_type": "code",
   "execution_count": 18,
   "metadata": {
    "id": "W8uQDI0Pt6ii",
    "outputId": "32c63507-cb2b-46cf-c393-82a5992873df",
    "scrolled": true,
    "vscode": {
     "languageId": "r"
    }
   },
   "outputs": [
    {
     "data": {
      "text/html": [
       "<table class=\"dataframe\">\n",
       "<caption>A matrix: 3 × 3 of type dbl</caption>\n",
       "<thead>\n",
       "\t<tr><th></th><th scope=col>Color</th><th scope=col>DA</th><th scope=col>EA</th></tr>\n",
       "</thead>\n",
       "<tbody>\n",
       "\t<tr><th scope=row>Color</th><td>1.00</td><td>0.79</td><td>0.19</td></tr>\n",
       "\t<tr><th scope=row>DA</th><td>0.79</td><td>1.00</td><td>0.57</td></tr>\n",
       "\t<tr><th scope=row>EA</th><td>0.19</td><td>0.57</td><td>1.00</td></tr>\n",
       "</tbody>\n",
       "</table>\n"
      ],
      "text/latex": [
       "A matrix: 3 × 3 of type dbl\n",
       "\\begin{tabular}{r|lll}\n",
       "  & Color & DA & EA\\\\\n",
       "\\hline\n",
       "\tColor & 1.00 & 0.79 & 0.19\\\\\n",
       "\tDA & 0.79 & 1.00 & 0.57\\\\\n",
       "\tEA & 0.19 & 0.57 & 1.00\\\\\n",
       "\\end{tabular}\n"
      ],
      "text/markdown": [
       "\n",
       "A matrix: 3 × 3 of type dbl\n",
       "\n",
       "| <!--/--> | Color | DA | EA |\n",
       "|---|---|---|---|\n",
       "| Color | 1.00 | 0.79 | 0.19 |\n",
       "| DA | 0.79 | 1.00 | 0.57 |\n",
       "| EA | 0.19 | 0.57 | 1.00 |\n",
       "\n"
      ],
      "text/plain": [
       "      Color DA   EA  \n",
       "Color 1.00  0.79 0.19\n",
       "DA    0.79  1.00 0.57\n",
       "EA    0.19  0.57 1.00"
      ]
     },
     "metadata": {},
     "output_type": "display_data"
    },
    {
     "data": {
      "image/png": "[encoded data removed]",
      "text/plain": [
       "plot without title"
      ]
     },
     "metadata": {
      "image/png": {
       "height": 420,
       "width": 420
      }
     },
     "output_type": "display_data"
    }
   ],
   "source": [
    "s.corcircle(acpcafe$co)\n",
    "# matriz de correlaciones\n",
    "round(cor(Y),2)\n"
   ]
  },
  {
   "cell_type": "markdown",
   "metadata": {},
   "source": [
    "## <span style=\"color:#4361EE\">Ayudas para la interpretación</span>\n"
   ]
  },
  {
   "cell_type": "markdown",
   "metadata": {
    "id": "6QDs5ObOt6ii"
   },
   "source": [
    "\n",
    "Es importante evitar malas lecturas de los ejes y planos factoriales. En las ayudas para la interpretación se encuentran índices para evitarlo. Otras ayudas orientan la lectura de las gráficas y la toma de decisiones metodológicas. A continuación se presentan las del ejemplo café y se recomienda leer sobre ellas en el capítulo 3 del libro EDM\n"
   ]
  },
  {
   "cell_type": "code",
   "execution_count": 19,
   "metadata": {
    "id": "PGmYZKRbt6ii",
    "vscode": {
     "languageId": "r"
    }
   },
   "outputs": [],
   "source": [
    "ayuacpcafe<-inertia(acpcafe,T,T) # inertia.dudi es una función de ade4\n"
   ]
  },
  {
   "cell_type": "markdown",
   "metadata": {
    "id": "3LtTIrvqt6ii"
   },
   "source": [
    "#### <span style=\"color:#4CC9F0\">Valores Propios</span>"
   ]
  },
  {
   "cell_type": "code",
   "execution_count": 20,
   "metadata": {
    "id": "3N41DBGpt6ii",
    "outputId": "462ff7f3-9871-497a-b345-4ab8407481d8",
    "vscode": {
     "languageId": "r"
    }
   },
   "outputs": [
    {
     "data": {
      "text/html": [
       "<table class=\"dataframe\">\n",
       "<caption>A data.frame: 3 × 3</caption>\n",
       "<thead>\n",
       "\t<tr><th></th><th scope=col>inertia</th><th scope=col>cum</th><th scope=col>cum(%)</th></tr>\n",
       "\t<tr><th></th><th scope=col>&lt;dbl&gt;</th><th scope=col>&lt;dbl&gt;</th><th scope=col>&lt;dbl&gt;</th></tr>\n",
       "</thead>\n",
       "<tbody>\n",
       "\t<tr><th scope=row>Ax1</th><td>2.0670307</td><td>2.067031</td><td> 68.90102</td></tr>\n",
       "\t<tr><th scope=row>Ax2</th><td>0.8216466</td><td>2.888677</td><td> 96.28924</td></tr>\n",
       "\t<tr><th scope=row>Ax3</th><td>0.1113227</td><td>3.000000</td><td>100.00000</td></tr>\n",
       "</tbody>\n",
       "</table>\n"
      ],
      "text/latex": [
       "A data.frame: 3 × 3\n",
       "\\begin{tabular}{r|lll}\n",
       "  & inertia & cum & cum(\\%)\\\\\n",
       "  & <dbl> & <dbl> & <dbl>\\\\\n",
       "\\hline\n",
       "\tAx1 & 2.0670307 & 2.067031 &  68.90102\\\\\n",
       "\tAx2 & 0.8216466 & 2.888677 &  96.28924\\\\\n",
       "\tAx3 & 0.1113227 & 3.000000 & 100.00000\\\\\n",
       "\\end{tabular}\n"
      ],
      "text/markdown": [
       "\n",
       "A data.frame: 3 × 3\n",
       "\n",
       "| <!--/--> | inertia &lt;dbl&gt; | cum &lt;dbl&gt; | cum(%) &lt;dbl&gt; |\n",
       "|---|---|---|---|\n",
       "| Ax1 | 2.0670307 | 2.067031 |  68.90102 |\n",
       "| Ax2 | 0.8216466 | 2.888677 |  96.28924 |\n",
       "| Ax3 | 0.1113227 | 3.000000 | 100.00000 |\n",
       "\n"
      ],
      "text/plain": [
       "    inertia   cum      cum(%)   \n",
       "Ax1 2.0670307 2.067031  68.90102\n",
       "Ax2 0.8216466 2.888677  96.28924\n",
       "Ax3 0.1113227 3.000000 100.00000"
      ]
     },
     "metadata": {},
     "output_type": "display_data"
    },
    {
     "data": {
      "image/png": "[encoded data removed]",
      "text/plain": [
       "plot without title"
      ]
     },
     "metadata": {
      "image/png": {
       "height": 420,
       "width": 420
      }
     },
     "output_type": "display_data"
    }
   ],
   "source": [
    "ayuacpcafe$tot.inertia\n",
    "barplot(ayuacpcafe$tot.inertia$inertia[3:1],hor=TRUE)\n",
    "abline(h=1,col=\"darkgreen\")"
   ]
  },
  {
   "cell_type": "markdown",
   "metadata": {
    "id": "-0Oqkmjrt6ii"
   },
   "source": [
    "#### <span style=\"color:#4CC9F0\">Coordenadas y ayudas para las variables</span>"
   ]
  },
  {
   "cell_type": "code",
   "execution_count": 21,
   "metadata": {
    "id": "BubH9eeXt6ii",
    "outputId": "de6c546b-0bfb-412e-8908-3e0523d29f90",
    "vscode": {
     "languageId": "r"
    }
   },
   "outputs": [
    {
     "data": {
      "text/html": [
       "<style>\n",
       ".list-inline {list-style: none; margin:0; padding: 0}\n",
       ".list-inline>li {display: inline-block}\n",
       ".list-inline>li:not(:last-child)::after {content: \"\\00b7\"; padding: 0 .5ex}\n",
       "</style>\n",
       "<ol class=list-inline><li>'tot.inertia'</li><li>'row.contrib'</li><li>'row.abs'</li><li>'row.rel'</li><li>'row.cum'</li><li>'col.contrib'</li><li>'col.abs'</li><li>'col.rel'</li><li>'col.cum'</li><li>'nf'</li><li>'call'</li></ol>\n"
      ],
      "text/latex": [
       "\\begin{enumerate*}\n",
       "\\item 'tot.inertia'\n",
       "\\item 'row.contrib'\n",
       "\\item 'row.abs'\n",
       "\\item 'row.rel'\n",
       "\\item 'row.cum'\n",
       "\\item 'col.contrib'\n",
       "\\item 'col.abs'\n",
       "\\item 'col.rel'\n",
       "\\item 'col.cum'\n",
       "\\item 'nf'\n",
       "\\item 'call'\n",
       "\\end{enumerate*}\n"
      ],
      "text/markdown": [
       "1. 'tot.inertia'\n",
       "2. 'row.contrib'\n",
       "3. 'row.abs'\n",
       "4. 'row.rel'\n",
       "5. 'row.cum'\n",
       "6. 'col.contrib'\n",
       "7. 'col.abs'\n",
       "8. 'col.rel'\n",
       "9. 'col.cum'\n",
       "10. 'nf'\n",
       "11. 'call'\n",
       "\n",
       "\n"
      ],
      "text/plain": [
       " [1] \"tot.inertia\" \"row.contrib\" \"row.abs\"     \"row.rel\"     \"row.cum\"    \n",
       " [6] \"col.contrib\" \"col.abs\"     \"col.rel\"     \"col.cum\"     \"nf\"         \n",
       "[11] \"call\"       "
      ]
     },
     "metadata": {},
     "output_type": "display_data"
    }
   ],
   "source": [
    "names(ayuacpcafe)"
   ]
  },
  {
   "cell_type": "code",
   "execution_count": 22,
   "metadata": {
    "id": "SNc-9BDBt6ij",
    "outputId": "d4b92698-339b-476f-e4f1-dc56a6a3f1d4",
    "vscode": {
     "languageId": "r"
    }
   },
   "outputs": [
    {
     "data": {
      "text/html": [
       "<table class=\"dataframe\">\n",
       "<caption>A data.frame: 3 × 10</caption>\n",
       "<thead>\n",
       "\t<tr><th></th><th scope=col>Comp1</th><th scope=col>Comp2</th><th scope=col>Comp3</th><th scope=col>Ca.Axis1</th><th scope=col>Ca.Axis2</th><th scope=col>Ca.Axis3</th><th scope=col>Cos2.Axis1</th><th scope=col>Cos2.Axis2</th><th scope=col>Cos2.Axis3</th><th scope=col>conInercia</th></tr>\n",
       "\t<tr><th></th><th scope=col>&lt;dbl&gt;</th><th scope=col>&lt;dbl&gt;</th><th scope=col>&lt;dbl&gt;</th><th scope=col>&lt;dbl&gt;</th><th scope=col>&lt;dbl&gt;</th><th scope=col>&lt;dbl&gt;</th><th scope=col>&lt;dbl&gt;</th><th scope=col>&lt;dbl&gt;</th><th scope=col>&lt;dbl&gt;</th><th scope=col>&lt;dbl&gt;</th></tr>\n",
       "</thead>\n",
       "<tbody>\n",
       "\t<tr><th scope=row>Color</th><td>0.83</td><td>-0.52</td><td> 0.19</td><td>33.58</td><td>32.65</td><td>33.77</td><td>69.41</td><td>-26.83</td><td> 3.76</td><td>33.33</td></tr>\n",
       "\t<tr><th scope=row>DA</th><td>0.97</td><td>-0.06</td><td>-0.25</td><td>45.28</td><td> 0.45</td><td>54.28</td><td>93.59</td><td> -0.37</td><td>-6.04</td><td>33.33</td></tr>\n",
       "\t<tr><th scope=row>EA</th><td>0.66</td><td> 0.74</td><td> 0.12</td><td>21.14</td><td>66.90</td><td>11.96</td><td>43.70</td><td> 54.97</td><td> 1.33</td><td>33.33</td></tr>\n",
       "</tbody>\n",
       "</table>\n"
      ],
      "text/latex": [
       "A data.frame: 3 × 10\n",
       "\\begin{tabular}{r|llllllllll}\n",
       "  & Comp1 & Comp2 & Comp3 & Ca.Axis1 & Ca.Axis2 & Ca.Axis3 & Cos2.Axis1 & Cos2.Axis2 & Cos2.Axis3 & conInercia\\\\\n",
       "  & <dbl> & <dbl> & <dbl> & <dbl> & <dbl> & <dbl> & <dbl> & <dbl> & <dbl> & <dbl>\\\\\n",
       "\\hline\n",
       "\tColor & 0.83 & -0.52 &  0.19 & 33.58 & 32.65 & 33.77 & 69.41 & -26.83 &  3.76 & 33.33\\\\\n",
       "\tDA & 0.97 & -0.06 & -0.25 & 45.28 &  0.45 & 54.28 & 93.59 &  -0.37 & -6.04 & 33.33\\\\\n",
       "\tEA & 0.66 &  0.74 &  0.12 & 21.14 & 66.90 & 11.96 & 43.70 &  54.97 &  1.33 & 33.33\\\\\n",
       "\\end{tabular}\n"
      ],
      "text/markdown": [
       "\n",
       "A data.frame: 3 × 10\n",
       "\n",
       "| <!--/--> | Comp1 &lt;dbl&gt; | Comp2 &lt;dbl&gt; | Comp3 &lt;dbl&gt; | Ca.Axis1 &lt;dbl&gt; | Ca.Axis2 &lt;dbl&gt; | Ca.Axis3 &lt;dbl&gt; | Cos2.Axis1 &lt;dbl&gt; | Cos2.Axis2 &lt;dbl&gt; | Cos2.Axis3 &lt;dbl&gt; | conInercia &lt;dbl&gt; |\n",
       "|---|---|---|---|---|---|---|---|---|---|---|\n",
       "| Color | 0.83 | -0.52 |  0.19 | 33.58 | 32.65 | 33.77 | 69.41 | -26.83 |  3.76 | 33.33 |\n",
       "| DA | 0.97 | -0.06 | -0.25 | 45.28 |  0.45 | 54.28 | 93.59 |  -0.37 | -6.04 | 33.33 |\n",
       "| EA | 0.66 |  0.74 |  0.12 | 21.14 | 66.90 | 11.96 | 43.70 |  54.97 |  1.33 | 33.33 |\n",
       "\n"
      ],
      "text/plain": [
       "      Comp1 Comp2 Comp3 Ca.Axis1 Ca.Axis2 Ca.Axis3 Cos2.Axis1 Cos2.Axis2\n",
       "Color 0.83  -0.52  0.19 33.58    32.65    33.77    69.41      -26.83    \n",
       "DA    0.97  -0.06 -0.25 45.28     0.45    54.28    93.59       -0.37    \n",
       "EA    0.66   0.74  0.12 21.14    66.90    11.96    43.70       54.97    \n",
       "      Cos2.Axis3 conInercia\n",
       "Color  3.76      33.33     \n",
       "DA    -6.04      33.33     \n",
       "EA     1.33      33.33     "
      ]
     },
     "metadata": {},
     "output_type": "display_data"
    }
   ],
   "source": [
    "attach(ayuacpcafe)\n",
    "round(cbind(acpcafe$co,Ca=col.abs,Cos2=col.rel,conInercia=col.contrib),2)\n",
    "detach(ayuacpcafe)"
   ]
  },
  {
   "cell_type": "markdown",
   "metadata": {
    "id": "71c6MvYHt6ij"
   },
   "source": [
    "#### <span style=\"color:#4CC9F0\">Coordenadas y ayudas para los cafés</span>"
   ]
  },
  {
   "cell_type": "code",
   "execution_count": 23,
   "metadata": {
    "id": "T3tIhKOut6ij",
    "outputId": "c1b52eb7-3203-45df-93f0-8ebe9626cda2",
    "vscode": {
     "languageId": "r"
    }
   },
   "outputs": [
    {
     "data": {
      "text/html": [
       "<table class=\"dataframe\">\n",
       "<caption>A data.frame: 10 × 10</caption>\n",
       "<thead>\n",
       "\t<tr><th></th><th scope=col>Axis1</th><th scope=col>Axis2</th><th scope=col>Axis3</th><th scope=col>Ca.Axis1</th><th scope=col>Ca.Axis2</th><th scope=col>Ca.Axis3</th><th scope=col>Cos2.Axis1</th><th scope=col>Cos2.Axis2</th><th scope=col>Cos2.Axis3</th><th scope=col>conInercia</th></tr>\n",
       "\t<tr><th></th><th scope=col>&lt;dbl&gt;</th><th scope=col>&lt;dbl&gt;</th><th scope=col>&lt;dbl&gt;</th><th scope=col>&lt;dbl&gt;</th><th scope=col>&lt;dbl&gt;</th><th scope=col>&lt;dbl&gt;</th><th scope=col>&lt;dbl&gt;</th><th scope=col>&lt;dbl&gt;</th><th scope=col>&lt;dbl&gt;</th><th scope=col>&lt;dbl&gt;</th></tr>\n",
       "</thead>\n",
       "<tbody>\n",
       "\t<tr><th scope=row>ExCl</th><td>-0.89</td><td>-1.68</td><td>-0.11</td><td> 3.80</td><td>34.19</td><td> 1.01</td><td>-21.80</td><td>-77.89</td><td>-0.31</td><td>12.02</td></tr>\n",
       "\t<tr><th scope=row>C40M</th><td> 2.68</td><td>-0.22</td><td>-0.29</td><td>34.72</td><td> 0.60</td><td> 7.39</td><td> 98.20</td><td> -0.67</td><td>-1.13</td><td>24.36</td></tr>\n",
       "\t<tr><th scope=row>C40C</th><td> 1.18</td><td> 0.15</td><td> 0.33</td><td> 6.78</td><td> 0.26</td><td> 9.85</td><td> 91.45</td><td>  1.39</td><td> 7.16</td><td> 5.11</td></tr>\n",
       "\t<tr><th scope=row>C20M</th><td> 1.14</td><td>-1.02</td><td>-0.35</td><td> 6.31</td><td>12.77</td><td>10.77</td><td> 52.75</td><td>-42.41</td><td>-4.84</td><td> 8.25</td></tr>\n",
       "\t<tr><th scope=row>C20C</th><td>-0.44</td><td>-0.82</td><td> 0.79</td><td> 0.95</td><td> 8.23</td><td>55.37</td><td>-13.20</td><td>-45.42</td><td>41.38</td><td> 4.97</td></tr>\n",
       "\t<tr><th scope=row>ExOs</th><td>-2.47</td><td>-0.04</td><td>-0.38</td><td>29.49</td><td> 0.02</td><td>12.73</td><td>-97.70</td><td> -0.02</td><td>-2.27</td><td>20.79</td></tr>\n",
       "\t<tr><th scope=row>O40M</th><td> 0.98</td><td> 1.01</td><td> 0.06</td><td> 4.60</td><td>12.44</td><td> 0.35</td><td> 48.09</td><td> 51.72</td><td> 0.19</td><td> 6.59</td></tr>\n",
       "\t<tr><th scope=row>O40C</th><td> 0.15</td><td> 1.31</td><td>-0.05</td><td> 0.10</td><td>20.98</td><td> 0.22</td><td>  1.21</td><td> 98.65</td><td>-0.14</td><td> 5.82</td></tr>\n",
       "\t<tr><th scope=row>O20M</th><td>-1.04</td><td> 0.65</td><td> 0.11</td><td> 5.24</td><td> 5.07</td><td> 1.02</td><td>-71.67</td><td> 27.58</td><td> 0.75</td><td> 5.03</td></tr>\n",
       "\t<tr><th scope=row>O20C</th><td>-1.29</td><td> 0.67</td><td>-0.12</td><td> 8.00</td><td> 5.43</td><td> 1.29</td><td>-78.22</td><td> 21.10</td><td>-0.68</td><td> 7.05</td></tr>\n",
       "</tbody>\n",
       "</table>\n"
      ],
      "text/latex": [
       "A data.frame: 10 × 10\n",
       "\\begin{tabular}{r|llllllllll}\n",
       "  & Axis1 & Axis2 & Axis3 & Ca.Axis1 & Ca.Axis2 & Ca.Axis3 & Cos2.Axis1 & Cos2.Axis2 & Cos2.Axis3 & conInercia\\\\\n",
       "  & <dbl> & <dbl> & <dbl> & <dbl> & <dbl> & <dbl> & <dbl> & <dbl> & <dbl> & <dbl>\\\\\n",
       "\\hline\n",
       "\tExCl & -0.89 & -1.68 & -0.11 &  3.80 & 34.19 &  1.01 & -21.80 & -77.89 & -0.31 & 12.02\\\\\n",
       "\tC40M &  2.68 & -0.22 & -0.29 & 34.72 &  0.60 &  7.39 &  98.20 &  -0.67 & -1.13 & 24.36\\\\\n",
       "\tC40C &  1.18 &  0.15 &  0.33 &  6.78 &  0.26 &  9.85 &  91.45 &   1.39 &  7.16 &  5.11\\\\\n",
       "\tC20M &  1.14 & -1.02 & -0.35 &  6.31 & 12.77 & 10.77 &  52.75 & -42.41 & -4.84 &  8.25\\\\\n",
       "\tC20C & -0.44 & -0.82 &  0.79 &  0.95 &  8.23 & 55.37 & -13.20 & -45.42 & 41.38 &  4.97\\\\\n",
       "\tExOs & -2.47 & -0.04 & -0.38 & 29.49 &  0.02 & 12.73 & -97.70 &  -0.02 & -2.27 & 20.79\\\\\n",
       "\tO40M &  0.98 &  1.01 &  0.06 &  4.60 & 12.44 &  0.35 &  48.09 &  51.72 &  0.19 &  6.59\\\\\n",
       "\tO40C &  0.15 &  1.31 & -0.05 &  0.10 & 20.98 &  0.22 &   1.21 &  98.65 & -0.14 &  5.82\\\\\n",
       "\tO20M & -1.04 &  0.65 &  0.11 &  5.24 &  5.07 &  1.02 & -71.67 &  27.58 &  0.75 &  5.03\\\\\n",
       "\tO20C & -1.29 &  0.67 & -0.12 &  8.00 &  5.43 &  1.29 & -78.22 &  21.10 & -0.68 &  7.05\\\\\n",
       "\\end{tabular}\n"
      ],
      "text/markdown": [
       "\n",
       "A data.frame: 10 × 10\n",
       "\n",
       "| <!--/--> | Axis1 &lt;dbl&gt; | Axis2 &lt;dbl&gt; | Axis3 &lt;dbl&gt; | Ca.Axis1 &lt;dbl&gt; | Ca.Axis2 &lt;dbl&gt; | Ca.Axis3 &lt;dbl&gt; | Cos2.Axis1 &lt;dbl&gt; | Cos2.Axis2 &lt;dbl&gt; | Cos2.Axis3 &lt;dbl&gt; | conInercia &lt;dbl&gt; |\n",
       "|---|---|---|---|---|---|---|---|---|---|---|\n",
       "| ExCl | -0.89 | -1.68 | -0.11 |  3.80 | 34.19 |  1.01 | -21.80 | -77.89 | -0.31 | 12.02 |\n",
       "| C40M |  2.68 | -0.22 | -0.29 | 34.72 |  0.60 |  7.39 |  98.20 |  -0.67 | -1.13 | 24.36 |\n",
       "| C40C |  1.18 |  0.15 |  0.33 |  6.78 |  0.26 |  9.85 |  91.45 |   1.39 |  7.16 |  5.11 |\n",
       "| C20M |  1.14 | -1.02 | -0.35 |  6.31 | 12.77 | 10.77 |  52.75 | -42.41 | -4.84 |  8.25 |\n",
       "| C20C | -0.44 | -0.82 |  0.79 |  0.95 |  8.23 | 55.37 | -13.20 | -45.42 | 41.38 |  4.97 |\n",
       "| ExOs | -2.47 | -0.04 | -0.38 | 29.49 |  0.02 | 12.73 | -97.70 |  -0.02 | -2.27 | 20.79 |\n",
       "| O40M |  0.98 |  1.01 |  0.06 |  4.60 | 12.44 |  0.35 |  48.09 |  51.72 |  0.19 |  6.59 |\n",
       "| O40C |  0.15 |  1.31 | -0.05 |  0.10 | 20.98 |  0.22 |   1.21 |  98.65 | -0.14 |  5.82 |\n",
       "| O20M | -1.04 |  0.65 |  0.11 |  5.24 |  5.07 |  1.02 | -71.67 |  27.58 |  0.75 |  5.03 |\n",
       "| O20C | -1.29 |  0.67 | -0.12 |  8.00 |  5.43 |  1.29 | -78.22 |  21.10 | -0.68 |  7.05 |\n",
       "\n"
      ],
      "text/plain": [
       "     Axis1 Axis2 Axis3 Ca.Axis1 Ca.Axis2 Ca.Axis3 Cos2.Axis1 Cos2.Axis2\n",
       "ExCl -0.89 -1.68 -0.11  3.80    34.19     1.01    -21.80     -77.89    \n",
       "C40M  2.68 -0.22 -0.29 34.72     0.60     7.39     98.20      -0.67    \n",
       "C40C  1.18  0.15  0.33  6.78     0.26     9.85     91.45       1.39    \n",
       "C20M  1.14 -1.02 -0.35  6.31    12.77    10.77     52.75     -42.41    \n",
       "C20C -0.44 -0.82  0.79  0.95     8.23    55.37    -13.20     -45.42    \n",
       "ExOs -2.47 -0.04 -0.38 29.49     0.02    12.73    -97.70      -0.02    \n",
       "O40M  0.98  1.01  0.06  4.60    12.44     0.35     48.09      51.72    \n",
       "O40C  0.15  1.31 -0.05  0.10    20.98     0.22      1.21      98.65    \n",
       "O20M -1.04  0.65  0.11  5.24     5.07     1.02    -71.67      27.58    \n",
       "O20C -1.29  0.67 -0.12  8.00     5.43     1.29    -78.22      21.10    \n",
       "     Cos2.Axis3 conInercia\n",
       "ExCl -0.31      12.02     \n",
       "C40M -1.13      24.36     \n",
       "C40C  7.16       5.11     \n",
       "C20M -4.84       8.25     \n",
       "C20C 41.38       4.97     \n",
       "ExOs -2.27      20.79     \n",
       "O40M  0.19       6.59     \n",
       "O40C -0.14       5.82     \n",
       "O20M  0.75       5.03     \n",
       "O20C -0.68       7.05     "
      ]
     },
     "metadata": {},
     "output_type": "display_data"
    }
   ],
   "source": [
    "attach(ayuacpcafe)\n",
    "round(cbind(acpcafe$li,Ca=row.abs,Cos2=row.rel,conInercia=row.contrib),2)\n",
    "detach(ayuacpcafe)"
   ]
  },
  {
   "cell_type": "markdown",
   "metadata": {},
   "source": [
    "## <span style=\"color:#4361EE\">Proyección de elementos suplementarios o ilustrativos</span>\n"
   ]
  },
  {
   "cell_type": "markdown",
   "metadata": {
    "id": "brEMtbpst6io"
   },
   "source": [
    "Sobre los planos factoriales de las variables se pueden proyectar variables continuas que no participaron en el análisis, lo que enriquece los análisis.\n",
    "\n",
    "En los planos factoriales de los individuos se pueden proyectar: individuos suplementarios, variables cualitativas, y los antiguos ejes unitarios para las variables activas que estén bien representadas.\n",
    "\n",
    "Ver capítulos 3 y 4 del libro EDM."
   ]
  },
  {
   "cell_type": "markdown",
   "metadata": {},
   "source": [
    "## <span style=\"color:#4361EE\">ACP generalizado</span>\n"
   ]
  },
  {
   "cell_type": "markdown",
   "metadata": {
    "id": "ZOJ_wK66DkVM"
   },
   "source": [
    "La generalización del ACP es que al permitir otras matrices de producto interno se puede establecer un marco común para los métodos en ejes principales, lo cual se puede consultar en el capítulo 4 del libro EDM. "
   ]
  }
 ],
 "metadata": {
  "colab": {
   "collapsed_sections": [],
   "name": "ACP.ipynb",
   "provenance": []
  },
  "kernelspec": {
   "display_name": "R",
   "language": "R",
   "name": "ir"
  },
  "language_info": {
   "codemirror_mode": "r",
   "file_extension": ".r",
   "mimetype": "text/x-r-source",
   "name": "R",
   "pygments_lexer": "r",
   "version": "4.2.1"
  }
 },
 "nbformat": 4,
 "nbformat_minor": 4
}
