{
 "cells": [
  {
   "cell_type": "markdown",
   "metadata": {},
   "source": [
    "# Pruebas tabs"
   ]
  },
  {
   "cell_type": "markdown",
   "metadata": {},
   "source": [
    "First two tabs showing off defining a function.\n",
    "\n",
    "````{tab} Python\n",
    "```python\n",
    "def main():\n",
    "    return\n",
    "```\n",
    "````\n",
    "````{tab} C++\n",
    "```c++\n",
    "int main(const int argc, const char **argv) {\n",
    "  return 0;\n",
    "}\n",
    "```\n",
    "````\n",
    "\n",
    "Second two tabs showing off printing.\n",
    "\n",
    "````{tab} Python\n",
    "```python\n",
    "print(\"Hello World!\")\n",
    "```\n",
    "````\n",
    "\n",
    "````{tab} C++\n",
    "```c++\n",
    "#include <iostream>\n",
    "\n",
    "int main() {\n",
    "  std::cout << \"Hello World!\" << std::endl;\n",
    "}\n",
    "```\n",
    "````"
   ]
  },
  {
   "cell_type": "code",
   "execution_count": null,
   "metadata": {},
   "outputs": [],
   "source": []
  }
 ],
 "metadata": {
  "interpreter": {
   "hash": "2647ea34e536f865ab67ff9ddee7fd78773d956cec0cab53c79b32cd10da5d83"
  },
  "kernelspec": {
   "display_name": "Python 3.9.3 64-bit",
   "language": "python",
   "name": "python3"
  },
  "language_info": {
   "name": "python",
   "version": "3.9.3"
  },
  "orig_nbformat": 4
 },
 "nbformat": 4,
 "nbformat_minor": 2
}
