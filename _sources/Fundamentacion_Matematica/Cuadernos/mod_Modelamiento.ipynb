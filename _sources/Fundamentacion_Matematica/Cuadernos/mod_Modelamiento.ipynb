{
 "cells": [
  {
   "cell_type": "markdown",
   "metadata": {},
   "source": [
    "# <span style=\"color:#F72585\">Ejemplos de Modelos</span>"
   ]
  },
  {
   "cell_type": "markdown",
   "metadata": {},
   "source": [
    "## <span style=\"color:#4361EE\">Introducción</span>"
   ]
  },
  {
   "cell_type": "markdown",
   "metadata": {
    "colab_type": "text",
    "id": "NhtFTuoxBgbW"
   },
   "source": [
    "Ahora que hemos visto el gran potencial de lo que significa modelar, ejemplifiquemos diferentes modelos que han aparecido a lo largo de la historia."
   ]
  },
  {
   "cell_type": "markdown",
   "metadata": {
    "colab_type": "text",
    "id": "h68KR1LqB8Xw"
   },
   "source": [
    "## <span style=\"color:#4361EE\">1. Modelos Mentales</span>"
   ]
  },
  {
   "cell_type": "markdown",
   "metadata": {},
   "source": [
    "El primer modelo matemático existente podría considerarse como la abstracción de los números para aprender a contar:"
   ]
  },
  {
   "cell_type": "markdown",
   "metadata": {},
   "source": [
    "<figure>\n",
    "<center>\n",
    "<img src=\"https://raw.githubusercontent.com/AprendizajeProfundo/Libro-Fundamentos/main/Fundamentacion_Matematica/Imagenes/mod_numbers.png\" height='200' width='200' />\n",
    "</center>\n",
    "</figure>"
   ]
  },
  {
   "cell_type": "markdown",
   "metadata": {},
   "source": [
    "<figure>\n",
    "<center>\n",
    "<img src=\"https://www.lifewire.com/thmb/WKZwbDsAToM9wjmKCStWg1BEMbE=/768x0/filters:no_upscale():max_bytes(150000):strip_icc():format(webp)/U21C6.svg-5c5c5c52c9e77c0001d92a41.png\" height='70' width='70'/>\n",
    "</center>\n",
    "</figure>\n",
    "\n",
    "Fuente: [lifewire](https://www.lifewire.com/thmb/WKZwbDsAToM9wjmKCStWg1BEMbE=/768x0/filters:no_upscale():max_bytes(150000):strip_icc():format(webp)/U21C6.svg-5c5c5c52c9e77c0001d92a41.png)"
   ]
  },
  {
   "cell_type": "markdown",
   "metadata": {},
   "source": [
    "<figure>\n",
    "<center>\n",
    "<img src=\"https://upload.wikimedia.org/wikipedia/commons/thumb/3/37/Example_of_a_set.svg/800px-Example_of_a_set.svg.png\" height='150' width='200'/>\n",
    "</center>\n",
    "</figure>\n",
    "\n",
    "Fuente: [Wikipedia](https://commons.wikimedia.org/wiki/File:Example_of_a_set.svg#/media/File:Example_of_a_set.svg)"
   ]
  },
  {
   "cell_type": "markdown",
   "metadata": {
    "colab_type": "text",
    "id": "H9T_ItC9AjlJ"
   },
   "source": [
    "En este modelo, la idea era poder representar los objetos de la vida cotidiana como símbolos (en lo posible fáciles de manipular) para poder aumentar nuestra capacidad de cálculo y por lo tanto el **poder de predecir**.\n",
    "\n",
    "Muchos siglos después, se desarrollaría un modelo basado en modelos matemáticos: **Física**.\n",
    "\n",
    "El objetivo de la física sería usar estos modelos matemáticos ya desarrollados para poder predecir cosas útiles sobre el mundo real.\n",
    "\n",
    "Por ejemplo, anteriormente, cuando ocurrían eclipses solares, lunares o pasaba algún cometa cerca de la tierra, muchas culturas lo consideraban como un **castigo de los dioses**, pues no tenían un entendimiento suficiente sobre lo que estaba ocurriendo; en otras palabras era un acontecimiento **sobrenatural**.\n",
    "\n"
   ]
  },
  {
   "cell_type": "markdown",
   "metadata": {
    "colab_type": "text",
    "id": "v2GqFHLvCEVK"
   },
   "source": [
    "## <span style=\"color:#4361EE\">2. Modelos Determinísticos</span>"
   ]
  },
  {
   "cell_type": "markdown",
   "metadata": {
    "colab_type": "text",
    "id": "zi6-Bz_pC29B"
   },
   "source": [
    "### <span style=\"color:#4CC9F0\">Historia</span>"
   ]
  },
  {
   "cell_type": "markdown",
   "metadata": {},
   "source": [
    "La primera persona en tratar de romper estos mitos (uno de ellos, muy aclamado en el momento, era que todo el cosmos giraba alrededor de la tierra) fue el personaje a continuación:"
   ]
  },
  {
   "cell_type": "markdown",
   "metadata": {
    "colab_type": "text",
    "id": "j_1L6ai0Bud3"
   },
   "source": [
    "<figure>\n",
    "<center>\n",
    "<img src=\"https://upload.wikimedia.org/wikipedia/commons/d/d4/Justus_Sustermans_-_Portrait_of_Galileo_Galilei%2C_1636.jpg\" height='300' width='300' />\n",
    "</center>\n",
    "</figure>\n",
    "\n",
    "Fuente: [Wikipedia](https://es.wikipedia.org/wiki/Galileo_Galilei#/media/Archivo:Justus_Sustermans_-_Portrait_of_Galileo_Galilei,_1636.jpg)"
   ]
  },
  {
   "cell_type": "markdown",
   "metadata": {
    "colab_type": "text",
    "id": "sIwuYWU9Cltc"
   },
   "source": [
    "### <span style=\"color:#4CC9F0\">Ecuaciones de Movimiento (Cinemática)</span>"
   ]
  },
  {
   "cell_type": "markdown",
   "metadata": {},
   "source": [
    "Comencemos a pensar sobre el mundo real.\n",
    "\n",
    "¿Qué podemos decir sobre los objetos que caen?\n",
    "\n",
    "¿Existe alguna fuerza invisible que los atrae contra el suelo cómo si de hilos mágicos se tratase?"
   ]
  },
  {
   "cell_type": "markdown",
   "metadata": {},
   "source": [
    "```{admonition} Cuidado\n",
    ":class: question\n",
    "¿Qué cae más rápido al suelo?\n",
    "\n",
    "```\n"
   ]
  },
  {
   "cell_type": "markdown",
   "metadata": {
    "colab_type": "text",
    "id": "Axs3Hdb5AjlS"
   },
   "source": [
    "<figure>\n",
    "<center>\n",
    "<img src=\"https://steemitimages.com/DQmTwoKJXYSzr9wHSRx5sdNwiPbH5YrB2amBR2CPadVzV2i/p051dk5h.jpg\" height='300' width='300' />\n",
    "</center>\n",
    "</figure>\n",
    "\n",
    "Fuente: [Steemitimages](https://steemitimages.com/DQmTwoKJXYSzr9wHSRx5sdNwiPbH5YrB2amBR2CPadVzV2i/p051dk5h.jpg)\n"
   ]
  },
  {
   "cell_type": "markdown",
   "metadata": {},
   "source": [
    "```{admonition} Respuesta\n",
    ":class: tip\n",
    "Puedes dar clic [aquí](http://www.youtube.com/watch?v=KDp1tiUsZw8 \"Feather-Hammer\") para ver la respuesta.\n",
    "```\n"
   ]
  },
  {
   "cell_type": "markdown",
   "metadata": {},
   "source": [
    "Asumamos entonces que aquella fuerza invisible que atrae los objetos al suelo es una constante y llamémosla $g$.\n",
    "\n",
    "Ahora, analicemos lo siguiente de la naturaleza:\n",
    "\n",
    "- Percibimos el movimiento de los objetos.\n",
    "- Sabemos medir distancias (Gracias a los números).\n",
    "- Percibimos el tiempo.\n",
    "- Podemos percibir y medir el cambio de la distancia a través del tiempo (Velocidad).\n",
    "- Podemos percibir y medir el cambio de la velocidad en el tiempo (Aceleración).\n"
   ]
  },
  {
   "cell_type": "markdown",
   "metadata": {
    "colab_type": "text",
    "id": "wuxTA9QEAjlu"
   },
   "source": [
    "De cálculo básico sabemos que:\n",
    "\n",
    "$$a=-g$$\n",
    "\n",
    "Recordemos que $a=\\frac{dv}{dt}$. Entonces, integrando obtenemos:\n",
    "\n",
    "$$v(t)=-gt+C$$\n",
    "\n",
    "**Consejo para la vida:** La cosas siempre tienen una condición inicial. Por ejemplo,\n",
    "\n",
    "$$v(0)=v_o$$\n",
    "\n",
    "Por lo tanto,\n",
    "\n",
    "$$v(t)= v_{o}-gt$$\n",
    "\n",
    "Usando un proceso similar (**Tarea**), llegamos a que:\n",
    "\n",
    "$$x(t) = x_o+v_o t -\\frac{1}{2}gt^2 $$"
   ]
  },
  {
   "cell_type": "markdown",
   "metadata": {},
   "source": [
    "\n",
    "Combinando las anteriores ecuaciones tenemos el siguiente conjunto total (**Tarea**):\n",
    "\n",
    "1. $v(t)=v_o-gt$\n",
    "2. $x(t) = x_o+v_o t -\\frac{1}{2}gt^2 $\n",
    "3. $v^2(t) = v_{o}^2 -2g(x(t)-x_o)$\n",
    "\n",
    "Estas ecuaciones fueron las primeras ecuaciones que pretendían predecir los movimientos de los objetos, y fueron aquellas usadas por Galileo Galilei para pensar sobre la trayectoria de los objetos.\n",
    "\n",
    "Gracias a este pensamiento, fue posible salir de la oscuridad y concluir que sólo somos un pálido punto girando alrededor de otro pequeño punto dentro de un vasto cosmos."
   ]
  },
  {
   "cell_type": "markdown",
   "metadata": {
    "colab_type": "text",
    "id": "oaDasEgzCuRb"
   },
   "source": [
    "### <span style=\"color:#4CC9F0\">Leyes de Newton</span>"
   ]
  },
  {
   "cell_type": "markdown",
   "metadata": {
    "colab_type": "text",
    "id": "x_OY2ghFAjly"
   },
   "source": [
    "Otro caso de éxito, fueron las famosas ecuaciones de Isaac Newton. Tan poderosas que con ellas fuimos capaces de ir a la Luna y volver con vida.\n",
    "\n",
    "Tal vez, la más importante es la segunda:\n",
    "\n",
    "$$F=ma$$\n",
    "\n",
    "Volviendo a escribir dicha ecuación en términos de ecuaciones diferenciales, tenemos:\n",
    "\n",
    "$$F=m\\frac{d^2 x}{dt}$$\n",
    "\n",
    "O sea, despejando, tenemos:\n",
    "\n",
    "$$\\frac{d^2 x}{dt}=\\frac{F}{m}$$\n",
    "\n",
    "En los cursos de física básica, muchas veces las fuerzas son constantes, pero en general, las fuerzas pueden cambiar en el tiempo. \n",
    "\n",
    "En otras palabras, tenemos la siguiente ecuación diferencial:\n",
    "\n",
    "$$\\begin{equation}\n",
    "\\frac{d^2 x}{dt}=\\frac{F(t,x,v)}{m}\n",
    "\\end{equation}$$\n",
    "\n",
    "Que quiere decir que la **Fuerza ejercida en un objeto puede depender tanto del tiempo como de la posición y de la velocidad**.\n",
    "\n",
    "El objetivo general del modelamiento es poder escribir dicha ecuación  (es decir, describir la forma que tiene la fuerza) y resolver la ecuación resultante."
   ]
  },
  {
   "cell_type": "markdown",
   "metadata": {
    "colab_type": "text",
    "id": "P0Nk3KCZDDQe"
   },
   "source": [
    "### <span style=\"color:#4CC9F0\">Modelos Lineales</span>"
   ]
  },
  {
   "cell_type": "markdown",
   "metadata": {},
   "source": [
    "No todos los modelos son ecuaciones diferenciales. A veces, es posible modelar problemas que no cambian en el tiempo cuando las condiciones de un problema no cambian en el tiempo.\n",
    "\n",
    "Todos estos problemas **se pueden modelar** como:\n",
    "\n",
    "$$A\\vec{x}=\\vec{b}$$\n",
    "\n",
    "es decir, como un sistema de ecuaciones lineales.\n",
    "\n",
    "Estamos entonces en el ámbito del **Álgebra Lineal**.\n"
   ]
  },
  {
   "cell_type": "markdown",
   "metadata": {},
   "source": [
    "### <span style=\"color:#4CC9F0\">Ejemplo</span>\n"
   ]
  },
  {
   "cell_type": "markdown",
   "metadata": {
    "colab_type": "text",
    "id": "w17gpcJrAjl3"
   },
   "source": [
    "Supongamos que en una empresa se fabrican 100 productos y trabajan 100 empleados diferentes. \n",
    "\n",
    "Si pudieramos registrar cuantas horas se demora cada uno de los empleados en fabricar cada uno de los productos, fijando ciertas horas de trabajo laboral en un contrato, podríamos resumir la información en la siguiente tabla:"
   ]
  },
  {
   "cell_type": "markdown",
   "metadata": {},
   "source": [
    "```{list-table}\n",
    ":header-rows: 1\n",
    "\n",
    "* - Emp\\Prod\n",
    "  - $ x_1 $\n",
    "  - $ x_2 $\n",
    "  - $\\dots$\n",
    "  - $x_{100}$\n",
    "* - $E_1$\n",
    "  - 3\n",
    "  - 4\n",
    "  - $\\dots$\n",
    "  - 7\n",
    "* - $E_2$\n",
    "  - 2\n",
    "  - 5\n",
    "  - $\\dots$\n",
    "  - 8  \n",
    "* - $\\vdots$\n",
    "  - $\\vdots$\n",
    "  - $\\vdots$\n",
    "  - $\\vdots$\n",
    "  - $\\vdots$\n",
    "* - $E_{100}$\n",
    "  - 1\n",
    "  - 8\n",
    "  - $\\dots$\n",
    "  - 2\n",
    "```"
   ]
  },
  {
   "cell_type": "markdown",
   "metadata": {},
   "source": [
    "O sea, podemos generar la siguiente matriz:\n",
    "\n",
    "$$E = \\begin{bmatrix}\n",
    "3 & 4 & \\dots & 7\\\\\n",
    "2 & 5 & \\dots & 8\\\\\n",
    "\\vdots & \\vdots & \\dots & \\vdots\\\\\n",
    "1 & 8 & \\dots & 2\n",
    "\\end{bmatrix}_{100\\times100}$$\n",
    "\n",
    "Si fijamos las horas totales de trabajo por empleado y llamamos a dichas horas el vector $\\vec{b}$, podemos construir el siguiente **modelo**:\n",
    "\n",
    "$$E\\vec{x}=\\vec{b}$$\n",
    "\n",
    "Entonces, si queremos saber cuántos productos son capaces de producir los empleados de cada producto, debemos solucionar dicho sistema de ecuaciones."
   ]
  },
  {
   "cell_type": "markdown",
   "metadata": {},
   "source": [
    "```{admonition} Recuerde\n",
    ":class: tip\n",
    "Un sistema tiene sólo tres opciones:\n",
    "\n",
    "- Tiene solución:\n",
    "    - Solución Única.\n",
    "    - Infinitas Soluciones.\n",
    "- No tiene solución (inconsistente).\n",
    "\n",
    "Supongamos que tiene solución única. La solución se escribe como:\n",
    "\n",
    "$$\\vec{x}=E^{-1} \\text{ }\\vec{b}$$\n",
    "```"
   ]
  },
  {
   "cell_type": "markdown",
   "metadata": {
    "colab_type": "text",
    "id": "lzVViBxlDV0c"
   },
   "source": [
    "### <span style=\"color:#4CC9F0\">Ejercicio 1</span>"
   ]
  },
  {
   "cell_type": "markdown",
   "metadata": {
    "colab_type": "text",
    "id": "QcJbTbBLAjl7"
   },
   "source": [
    "Realice un código que haga lo siguiente:\n",
    "\n",
    "- Genere una matriz de números aleatorios enteros $100\\times100$ y un vector de números aleatorios para solucionar el problema anterior.\n",
    "- Interprete las soluciones.\n",
    "- Generalice el problema a matrices rectangulares.\n",
    "- ¿Qué ocurre si un sistema no tiene solución?\n",
    "- ¿Y si tiene infinitas soluciones?"
   ]
  },
  {
   "cell_type": "markdown",
   "metadata": {
    "colab_type": "text",
    "id": "pFWHX_XwAjl_"
   },
   "source": [
    "### <span style=\"color:#4CC9F0\">Ecuaciones Diferenciales Parciales</span>"
   ]
  },
  {
   "cell_type": "markdown",
   "metadata": {},
   "source": [
    "<figure>\n",
    "<center>\n",
    "<img src=\"https://upload.wikimedia.org/wikipedia/commons/thumb/2/26/Plasma-lamp_2.jpg/800px-Plasma-lamp_2.jpg\" height='300' width='300' />\n",
    "</center>\n",
    "</figure>\n",
    "\n",
    "Fuente: [Wikipedia](https://es.wikipedia.org/wiki/L%C3%A1mpara_de_plasma#/media/Archivo:Plasma-lamp_2.jpg)"
   ]
  },
  {
   "cell_type": "markdown",
   "metadata": {
    "colab_type": "text",
    "id": "4ea4hIPADd6C"
   },
   "source": [
    "**Ecuaciones de Maxwell (En el vacío):**\n",
    "\n"
   ]
  },
  {
   "cell_type": "markdown",
   "metadata": {},
   "source": [
    "$$\n",
    "\\begin{align*} \n",
    "\\vec{\\nabla} \\cdot \\vec{E} &=  \\frac{\\rho}{\\epsilon_{0}} \\\\ \n",
    "\\vec{\\nabla} \\cdot \\vec{B} &=  0 \\\\\n",
    "\\vec{\\nabla} \\times \\vec{E} &= - \\frac{\\partial\\vec{B}}{\\partial t} \\\\\n",
    "\\vec{\\nabla} \\times \\vec{B} &=  \\mu_{0}\\vec{J}+\\mu_{0}\\epsilon_{0}\\frac{\\partial\\vec{E}}{\\partial t} \\\\\n",
    "\\end{align*}\n",
    "$$"
   ]
  },
  {
   "cell_type": "markdown",
   "metadata": {
    "colab_type": "text",
    "id": "ZkUDj_k2AjmD"
   },
   "source": [
    "## <span style=\"color:#4361EE\">3. Modelos Estocásticos</span>"
   ]
  },
  {
   "cell_type": "markdown",
   "metadata": {},
   "source": [
    "### <span style=\"color:#4CC9F0\">Modelos Estadísticos:</span>"
   ]
  },
  {
   "cell_type": "markdown",
   "metadata": {},
   "source": [
    "<figure>\n",
    "<center>\n",
    "<img src=\"https://raw.githubusercontent.com/AprendizajeProfundo/Libro-Fundamentos/main/Fundamentacion_Matematica/Imagenes/mod_datos.jpg\" height='400' width='600' />\n",
    "</center>\n",
    "</figure>"
   ]
  },
  {
   "cell_type": "markdown",
   "metadata": {},
   "source": [
    "**Regresión Inocente:**\n",
    "\n",
    "<figure>\n",
    "<center>\n",
    "<img src=\"https://raw.githubusercontent.com/AprendizajeProfundo/Libro-Fundamentos/main/Fundamentacion_Matematica/Imagenes/mod_reg1.jpg\" height='400' width='600' />\n",
    "</center>\n",
    "</figure>"
   ]
  },
  {
   "cell_type": "markdown",
   "metadata": {},
   "source": [
    "**Regresión usando una Red Neuronal:**\n",
    "\n",
    "<figure>\n",
    "<center>\n",
    "<img src=\"https://raw.githubusercontent.com/AprendizajeProfundo/Libro-Fundamentos/main/Fundamentacion_Matematica/Imagenes/mod_reg2.jpg\" height='400' width='600' />\n",
    "</center>\n",
    "</figure>"
   ]
  },
  {
   "cell_type": "markdown",
   "metadata": {
    "colab_type": "text",
    "id": "X2YWc4SmAjmG"
   },
   "source": [
    "**Criterio de Evaluación**\n",
    "\n",
    "<figure>\n",
    "<center>\n",
    "<img src=\"https://raw.githubusercontent.com/AprendizajeProfundo/Libro-Fundamentos/main/Fundamentacion_Matematica/Imagenes/mod_loss.jpg\" height='400' width='600' />\n",
    "</center>\n",
    "</figure>"
   ]
  },
  {
   "cell_type": "markdown",
   "metadata": {},
   "source": [
    "## <span style=\"color:#4361EE\">Teorema de Aproximación Universal</span>"
   ]
  },
  {
   "cell_type": "markdown",
   "metadata": {},
   "source": [
    "[Concepto](https://en.wikipedia.org/wiki/Universal_approximation_theorem)\n",
    "\n",
    "[Ejemplo](https://medium.com/hackernoon/illustrative-proof-of-universal-approximation-theorem-5845c02822f6)"
   ]
  },
  {
   "cell_type": "markdown",
   "metadata": {},
   "source": [
    "<figure>\n",
    "<center>\n",
    "<img src=\"https://raw.githubusercontent.com/AprendizajeProfundo/Libro-Fundamentos/main/Fundamentacion_Matematica/Imagenes/mod_machine-learning-map.png\" height='600' width='800' />\n",
    "</center>\n",
    "</figure>\n",
    "\n",
    "Fuente: [Homemade Machine Learning](https://github.com/trekhleb/homemade-machine-learning)"
   ]
  }
 ],
 "metadata": {
  "colab": {
   "collapsed_sections": [
    "h68KR1LqB8Xw",
    "zi6-Bz_pC29B",
    "oaDasEgzCuRb",
    "P0Nk3KCZDDQe",
    "lzVViBxlDV0c",
    "ZkUDj_k2AjmD"
   ],
   "name": "Ejemplos_Model.ipynb",
   "provenance": []
  },
  "kernelspec": {
   "display_name": "Python 3.9.8 64-bit",
   "language": "python",
   "name": "python3"
  },
  "language_info": {
   "codemirror_mode": {
    "name": "ipython",
    "version": 3
   },
   "file_extension": ".py",
   "mimetype": "text/x-python",
   "name": "python",
   "nbconvert_exporter": "python",
   "pygments_lexer": "ipython3",
   "version": "3.9.8"
  },
  "vscode": {
   "interpreter": {
    "hash": "cf92aa13fedf815d5c8dd192b8d835913fde3e8bc926b2a0ad6cc74ef2ba3ca2"
   }
  }
 },
 "nbformat": 4,
 "nbformat_minor": 4
}
