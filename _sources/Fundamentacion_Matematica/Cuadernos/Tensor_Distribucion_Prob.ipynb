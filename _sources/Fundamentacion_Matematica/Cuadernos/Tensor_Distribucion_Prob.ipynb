{
 "cells": [
  {
   "cell_type": "markdown",
   "id": "fossil-ecology",
   "metadata": {},
   "source": [
    "# <span style=\"color:#F72585\">Tensores y distribuciones de probabilidad</span>"
   ]
  },
  {
   "cell_type": "markdown",
   "id": "recorded-virgin",
   "metadata": {},
   "source": [
    "## <span style=\"color:#4361EE\">Introducción</span>"
   ]
  },
  {
   "cell_type": "markdown",
   "id": "confirmed-harvard",
   "metadata": {},
   "source": [
    "En esta lección estudiaremos una red neuronal artifical de clasificación. \n",
    "\n",
    "Al finalizar vamos a concluir que lo que hace la red neuronal es transformar un tensor en una distribución de probabilidad."
   ]
  },
  {
   "cell_type": "markdown",
   "id": "official-pendant",
   "metadata": {},
   "source": [
    "## <span style=\"color:#4361EE\">Red Neuronal de clasificación</span>"
   ]
  },
  {
   "cell_type": "markdown",
   "id": "innocent-groove",
   "metadata": {},
   "source": [
    "La siguiente imagen ilustra una red neural artificial que se entrenará para clasificar objetos en tres clases."
   ]
  },
  {
   "cell_type": "markdown",
   "id": "943fd8b6",
   "metadata": {},
   "source": [
    "<figure>\n",
    "<center>\n",
    "<img src=\"https://raw.githubusercontent.com/AprendizajeProfundo/Libro-Fundamentos/main/Fundamentacion_Matematica/Imagenes/ann_clasification.ppm\" width=\"600\" height=\"400\" /> \n",
    "</center>\n",
    "</figure>\n",
    "\n",
    "Fuente: [Journal of Low Power Electronics and Applications](https://www.researchgate.net/figure/Artificial-Neural-Network-ANN-architecture-used-in-the-study-for-classification_fig4_341129281)"
   ]
  },
  {
   "cell_type": "markdown",
   "id": "aboriginal-schedule",
   "metadata": {},
   "source": [
    "La red tiene tres capas:\n",
    "\n",
    "- Capa de entrada\n",
    "- Una capa oculta\n",
    "- Una capa de salida\n",
    "- Por fuera de la red, la salida es transformada en una probabilidad\n",
    "\n",
    "\n",
    "Una red neuronal de clasificación es una máquina (modelo) que es entrenada para clasificar objetos en distintas clases."
   ]
  },
  {
   "cell_type": "markdown",
   "id": "indoor-credit",
   "metadata": {},
   "source": [
    "### <span style=\"color:#4CC9F0\">Modo Inferencia</span>"
   ]
  },
  {
   "cell_type": "markdown",
   "id": "raised-incident",
   "metadata": {},
   "source": [
    "Recuerde que la red neuronal artifical es una función matemática, no lineal, que toma una entrada y produce una salida."
   ]
  },
  {
   "cell_type": "markdown",
   "id": "approximate-criminal",
   "metadata": {},
   "source": [
    "Una vez la red es entrenada (ver modo entrenamiento abajo), la red hace el siguiente trabajo. \n",
    "\n",
    "1. Recibe un tensor, que por ejemplo representa una imágen, las características de una flor (iris, ...) y lo transforma (o proyecta) de manera no lineal en un espacio, representado por la capa oculta. La siguiente imagen puede darle una idea de lo que ocurre."
   ]
  },
  {
   "cell_type": "markdown",
   "id": "figured-slovak",
   "metadata": {},
   "source": [
    "<figure>\n",
    "<center>\n",
    "<img src=\"https://raw.githubusercontent.com/AprendizajeProfundo/Libro-Fundamentos/main/Fundamentacion_Matematica/Imagenes/svm.png\" width=\"600\" height=\"400\" /> \n",
    "</center>\n",
    "</figure>\n",
    "\n",
    "[Fuente](https://medium.com/@zachary.bedell/support-vector-machines-explained-73f4ec363f13)"
   ]
  },
  {
   "cell_type": "markdown",
   "id": "spare-modeling",
   "metadata": {},
   "source": [
    "2. En este nuevo espacio, el tensor es identificado con unas nuevas coordenadas. Aquí puede imaginarse que se encuentra en la capa oculta (hidden).\n",
    "\n",
    "3. Ahora, dependiendo del número de categorias o clases en el problema, digamos tres, hace una transformación hacia un nuevo espacio que tiene una dimensión igual al número de categorías. Esta transformación ubica al tensor en un espacio que podemos denominar de pre-probabilidad. \n",
    "\n",
    "De acuerdo a los patrones que haya recibido la red en el modo entrenamiento, el espacio de salida es teóricamente construido de tal manera que se tiene una partición como se muestra  en el siguiente gráfico de ejemplo."
   ]
  },
  {
   "cell_type": "markdown",
   "id": "veterinary-anthony",
   "metadata": {},
   "source": [
    "<figure>\n",
    "<center>\n",
    "<img src=\"https://raw.githubusercontent.com/AprendizajeProfundo/Libro-Fundamentos/main/Fundamentacion_Matematica/Imagenes/sepal.webp\" width=\"600\" height=\"400\" /> \n",
    "</center>\n",
    "</figure>\n",
    "\n",
    "Fuente: [Classification with Support Vector Machines](https://pythonmachinelearning.pro/classification-with-support-vector-machines/)"
   ]
  },
  {
   "cell_type": "markdown",
   "id": "typical-amount",
   "metadata": {},
   "source": [
    "Cada componente corresponde a una posición relacionada con cada una de las áreas mostradas en el gráfico. El punto de intersección puede pensarse como un cero $(0,0,0)$. En la medida en que un objeto representado aquí se aleja en dirección de un *color*, la correspondiente coordenada crece. \n",
    "\n",
    "Entonces observe que aquellos objetos que queden cerca a algún margen quedaran con valores similares en las respectivas componentes. Eso explica porque la red no clasifica 100% bien."
   ]
  },
  {
   "cell_type": "markdown",
   "id": "thorough-groove",
   "metadata": {},
   "source": [
    "### <span style=\"color:#4CC9F0\">Modo entrenamiento</span>"
   ]
  },
  {
   "cell_type": "markdown",
   "id": "early-bench",
   "metadata": {},
   "source": [
    "En el modo entrenamiento, entran muchos patrones y el objetivo es determinar los pesos sinápticos que permitiran en el modo inferencia proyectar un tensor de entrada en un punto del espacio de salida."
   ]
  },
  {
   "cell_type": "markdown",
   "id": "corporate-cleaner",
   "metadata": {},
   "source": [
    "## <span style=\"color:#4361EE\">Tensores como distribuciones de probabilidad</span>"
   ]
  },
  {
   "cell_type": "markdown",
   "id": "practical-pioneer",
   "metadata": {},
   "source": [
    "### <span style=\"color:#4CC9F0\">Función softmax</span>"
   ]
  },
  {
   "cell_type": "markdown",
   "id": "valid-white",
   "metadata": {},
   "source": [
    "Dada una posición en el espacio de salida, digamos $z=(z_1,z_2,z_3)$, la función softmax se define se manera sencilla como:\n",
    "\n",
    "$$\n",
    "p=(p_1,p_2, p_3) =\\left( \\frac{e^{z_1}}{e^{z_1}+e^{z_2}+e^{z_3}}, \\frac{e^{z_2}}{e^{z_1}+e^{z_2}+e^{z_3}}, \\frac{e^{z_3}}{e^{z_1}+e^{z_2}+e^{z_3}}\\right)\n",
    "$$\n",
    "\n",
    "Por ejemplo, \n",
    "\n",
    "+ si $z=(0,0,0)$, entonces $p=(0.333,0.333, 0.333)$.\n",
    "+ si $z =(6,1,2)$, entonces $p = (0.976,0.007 ,0.018)$\n",
    "+ si  $z=(-1,6,3)$, entonces $p = (0.001,0.952 ,0.046)$\n",
    "+ si  $z= (2.5,2.2,2.6)$, entonces $p = (0.351, 0.26 , 0.388)$"
   ]
  },
  {
   "cell_type": "markdown",
   "id": "tough-campus",
   "metadata": {},
   "source": [
    "La última parte del trabajo es una trasformación matemática por fuera de la red, que convierte las coordenadas del espacio de salida (espacio de pre-probabilidad) en una distribución de probabilidad. \n",
    "\n",
    "Es decir, **cada posible tensor queda finalmente representado como una distribución de probabilidad**. \n",
    "\n",
    "El siguiente gráfico corresponde a la distribución de un posible tensor de entrada. "
   ]
  },
  {
   "cell_type": "markdown",
   "id": "artistic-selling",
   "metadata": {},
   "source": [
    "<figure>\n",
    "<center>\n",
    "<img src=\"https://raw.githubusercontent.com/AprendizajeProfundo/Libro-Fundamentos/main/Fundamentacion_Matematica/Imagenes/barplot.png\" width=\"600\" height=\"400\" /> \n",
    "</center>\n",
    "</figure>\n",
    "\n",
    "Fuente: [Programming and Scripting - Dermot Kelleher](https://github.com/dermotkel/main_project)"
   ]
  },
  {
   "cell_type": "markdown",
   "id": "infectious-moment",
   "metadata": {},
   "source": [
    "Esta representación de los tensores en forma de distribución de probabilidad asociada a las categorías es el insumo para la clasificación."
   ]
  }
 ],
 "metadata": {
  "kernelspec": {
   "display_name": "Python 3 (ipykernel)",
   "language": "python",
   "name": "python3"
  },
  "language_info": {
   "codemirror_mode": {
    "name": "ipython",
    "version": 3
   },
   "file_extension": ".py",
   "mimetype": "text/x-python",
   "name": "python",
   "nbconvert_exporter": "python",
   "pygments_lexer": "ipython3",
   "version": "3.9.12"
  }
 },
 "nbformat": 4,
 "nbformat_minor": 5
}
