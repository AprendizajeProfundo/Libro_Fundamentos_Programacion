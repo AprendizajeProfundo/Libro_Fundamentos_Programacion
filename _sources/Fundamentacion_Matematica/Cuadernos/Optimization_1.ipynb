{
 "cells": [
  {
   "cell_type": "markdown",
   "metadata": {},
   "source": [
    "# <span style=\"color:#F72585\">Optimización univariada usando JAX</span>"
   ]
  },
  {
   "cell_type": "markdown",
   "metadata": {},
   "source": [
    "## <span style=\"color:#4361EE\">Introducción</span> "
   ]
  },
  {
   "cell_type": "markdown",
   "metadata": {},
   "source": [
    "En este ejercicio generamos un conjunto de datos que sigue un modelo lineal, pasando por el origen. Los datos son contaminados con un error normal $N(0,2^2)$."
   ]
  },
  {
   "cell_type": "markdown",
   "metadata": {},
   "source": [
    "## <span style=\"color:#4361EE\">Carga módulos</span> "
   ]
  },
  {
   "cell_type": "code",
   "execution_count": 2,
   "metadata": {},
   "outputs": [],
   "source": [
    "from __future__ import print_function\n",
    "import jax.numpy as np # autograd para windows\n",
    "import numpy as onp\n",
    "import matplotlib.pyplot as plt\n",
    "from jax import grad,jit\n",
    "import pandas as pd"
   ]
  },
  {
   "cell_type": "markdown",
   "metadata": {},
   "source": [
    "## <span style=\"color:#4361EE\">Genera y grafica datos simulados</span> "
   ]
  },
  {
   "cell_type": "code",
   "execution_count": 3,
   "metadata": {},
   "outputs": [
    {
     "data": {
      "text/html": [
       "<div>\n",
       "<style scoped>\n",
       "    .dataframe tbody tr th:only-of-type {\n",
       "        vertical-align: middle;\n",
       "    }\n",
       "\n",
       "    .dataframe tbody tr th {\n",
       "        vertical-align: top;\n",
       "    }\n",
       "\n",
       "    .dataframe thead th {\n",
       "        text-align: right;\n",
       "    }\n",
       "</style>\n",
       "<table border=\"1\" class=\"dataframe\">\n",
       "  <thead>\n",
       "    <tr style=\"text-align: right;\">\n",
       "      <th></th>\n",
       "      <th>Mediciones</th>\n",
       "      <th>Observaciones</th>\n",
       "    </tr>\n",
       "  </thead>\n",
       "  <tbody>\n",
       "    <tr>\n",
       "      <th>0</th>\n",
       "      <td>-2.000000</td>\n",
       "      <td>-10.183900</td>\n",
       "    </tr>\n",
       "    <tr>\n",
       "      <th>1</th>\n",
       "      <td>-1.959596</td>\n",
       "      <td>-12.724681</td>\n",
       "    </tr>\n",
       "    <tr>\n",
       "      <th>2</th>\n",
       "      <td>-1.919192</td>\n",
       "      <td>-7.432376</td>\n",
       "    </tr>\n",
       "    <tr>\n",
       "      <th>3</th>\n",
       "      <td>-1.878788</td>\n",
       "      <td>-9.872590</td>\n",
       "    </tr>\n",
       "    <tr>\n",
       "      <th>4</th>\n",
       "      <td>-1.838384</td>\n",
       "      <td>-10.174177</td>\n",
       "    </tr>\n",
       "    <tr>\n",
       "      <th>...</th>\n",
       "      <td>...</td>\n",
       "      <td>...</td>\n",
       "    </tr>\n",
       "    <tr>\n",
       "      <th>95</th>\n",
       "      <td>1.838384</td>\n",
       "      <td>10.930610</td>\n",
       "    </tr>\n",
       "    <tr>\n",
       "      <th>96</th>\n",
       "      <td>1.878788</td>\n",
       "      <td>8.960411</td>\n",
       "    </tr>\n",
       "    <tr>\n",
       "      <th>97</th>\n",
       "      <td>1.919192</td>\n",
       "      <td>9.630197</td>\n",
       "    </tr>\n",
       "    <tr>\n",
       "      <th>98</th>\n",
       "      <td>1.959596</td>\n",
       "      <td>11.177407</td>\n",
       "    </tr>\n",
       "    <tr>\n",
       "      <th>99</th>\n",
       "      <td>2.000000</td>\n",
       "      <td>8.233714</td>\n",
       "    </tr>\n",
       "  </tbody>\n",
       "</table>\n",
       "<p>100 rows × 2 columns</p>\n",
       "</div>"
      ],
      "text/plain": [
       "    Mediciones  Observaciones\n",
       "0    -2.000000     -10.183900\n",
       "1    -1.959596     -12.724681\n",
       "2    -1.919192      -7.432376\n",
       "3    -1.878788      -9.872590\n",
       "4    -1.838384     -10.174177\n",
       "..         ...            ...\n",
       "95    1.838384      10.930610\n",
       "96    1.878788       8.960411\n",
       "97    1.919192       9.630197\n",
       "98    1.959596      11.177407\n",
       "99    2.000000       8.233714\n",
       "\n",
       "[100 rows x 2 columns]"
      ]
     },
     "execution_count": 3,
     "metadata": {},
     "output_type": "execute_result"
    }
   ],
   "source": [
    "# Simulación de los Datos\n",
    "\n",
    "# Se escoge una semilla\n",
    "onp.random.seed(22)\n",
    "\n",
    "# Generación de los datos\n",
    "x=onp.linspace(-2,2,100)\n",
    "y=5*x+2*onp.random.normal(0,1,len(x))\n",
    "\n",
    "\n",
    "#Print Results\n",
    "#print(\"x:\\n\",x,\"\\n\")\n",
    "#print(\"y:\\n\",y)\n",
    "\n",
    "data=pd.DataFrame({\"Mediciones\":x,\"Observaciones\":y})\n",
    "data"
   ]
  },
  {
   "cell_type": "code",
   "execution_count": 4,
   "metadata": {},
   "outputs": [
    {
     "data": {
      "image/png": "[encoded data removed]",
      "text/plain": [
       "<Figure size 1080x576 with 1 Axes>"
      ]
     },
     "metadata": {
      "needs_background": "light"
     },
     "output_type": "display_data"
    }
   ],
   "source": [
    "plt.figure(figsize=(15,8))\n",
    "plt.plot(x,y,'o')\n",
    "plt.xlabel(\"Mediciones\",fontsize=15)\n",
    "plt.ylabel(\"Observaciones\",fontsize=15)\n",
    "plt.legend([\"Datos\"],fontsize=15)\n",
    "plt.show()"
   ]
  },
  {
   "cell_type": "markdown",
   "metadata": {},
   "source": [
    "## <span style=\"color:#4361EE\">Genera y grafica datos simulados con Widgets</span> "
   ]
  },
  {
   "cell_type": "code",
   "execution_count": 5,
   "metadata": {},
   "outputs": [],
   "source": [
    "from ipywidgets import interactive\n",
    "import plotly\n",
    "import plotly.graph_objs as go"
   ]
  },
  {
   "cell_type": "code",
   "execution_count": 6,
   "metadata": {},
   "outputs": [
    {
     "data": {
      "application/vnd.jupyter.widget-view+json": {
       "model_id": "62987ffc387a4106839c56115c96cb52",
       "version_major": 2,
       "version_minor": 0
      },
      "text/plain": [
       "interactive(children=(FloatSlider(value=0.0, description='σ', max=10.0, step=0.2), FloatSlider(value=0.0, desc…"
      ]
     },
     "metadata": {},
     "output_type": "display_data"
    }
   ],
   "source": [
    "# Simulación de los Datos\n",
    "\n",
    "def simular_datos(σ=0,w1=0):\n",
    "    # Se escoge una semilla\n",
    "    onp.random.seed(22)\n",
    "\n",
    "    # Generación de los datos\n",
    "    x=onp.linspace(-2,2,100)\n",
    "    y=w1*x+onp.random.normal(loc=0,scale=σ,size=len(x))\n",
    "    data=pd.DataFrame({\"Mediciones\":x,\"Observaciones\":y})\n",
    "\n",
    "    plt.figure(figsize=(10,7))\n",
    "    plt.plot(x,y,'o',markersize=5)\n",
    "    plt.xlabel(\"Mediciones\",fontsize=15)\n",
    "    plt.ylabel(\"Observaciones\",fontsize=15)\n",
    "    plt.legend([\"Datos\"],fontsize=15)\n",
    "    plt.ylim([-30,30])\n",
    "    plt.title(f'Simulación de ${w1}x+\\epsilon$, $\\epsilon$ ~ N(0,σ²)')\n",
    "    plt.show()\n",
    "    return x,y\n",
    "\n",
    "interactive_plot = interactive(simular_datos, σ=(0, 10.,0.2),w1 = (-10.,10.))\n",
    "#output = interactive_plot.children[-1]\n",
    "#output.layout.height = '350px'\n",
    "interactive_plot"
   ]
  },
  {
   "cell_type": "markdown",
   "metadata": {},
   "source": [
    "### <span style=\"color:#4CC9F0\">Ejemplo</span>"
   ]
  },
  {
   "cell_type": "markdown",
   "metadata": {},
   "source": [
    "Juegue con los sliders para entender a profundidad lo que hace cada parámetro."
   ]
  },
  {
   "cell_type": "markdown",
   "metadata": {},
   "source": [
    "## <span style=\"color:#4361EE\">Función de pérdida</span>  "
   ]
  },
  {
   "cell_type": "code",
   "execution_count": 7,
   "metadata": {},
   "outputs": [],
   "source": [
    "def loss(w1,x,y):\n",
    "    return ((y-(w1*x))**2).mean()\n",
    "\n",
    "## Diferenciación Automática\n",
    "grad_loss=jit(grad(loss,argnums=(0)))"
   ]
  },
  {
   "cell_type": "markdown",
   "metadata": {},
   "source": [
    "## <span style=\"color:#4361EE\">Gradiente descendiente </span>  "
   ]
  },
  {
   "cell_type": "markdown",
   "metadata": {},
   "source": [
    "$$\\textbf{futuro = presente + paso}\\times\\textbf{cambio}$$"
   ]
  },
  {
   "cell_type": "markdown",
   "metadata": {},
   "source": [
    "$$w_{1}^{n+1}=w_{1}^{n}-hL'\\big|_{w_{1}^{n}}$$"
   ]
  },
  {
   "cell_type": "code",
   "execution_count": 8,
   "metadata": {},
   "outputs": [],
   "source": [
    "def optimize(w1,x,y,h=1.5):\n",
    "    \n",
    "    # Calcular Derivada\n",
    "    w1_grad=grad_loss(w1,x,y)\n",
    "    \n",
    "    # Gradiente Descendiente\n",
    "    w1-=h*w1_grad\n",
    "    \n",
    "    # Regresar Nuevos parámetros\n",
    "    return w1"
   ]
  },
  {
   "cell_type": "markdown",
   "metadata": {},
   "source": [
    "## <span style=\"color:#4361EE\">Optimización</span>  "
   ]
  },
  {
   "cell_type": "code",
   "execution_count": 9,
   "metadata": {},
   "outputs": [
    {
     "name": "stderr",
     "output_type": "stream",
     "text": [
      "WARNING:absl:No GPU/TPU found, falling back to CPU. (Set TF_CPP_MIN_LOG_LEVEL=0 and rerun for more info.)\n"
     ]
    },
    {
     "name": "stdout",
     "output_type": "stream",
     "text": [
      "Pérdidas:\n",
      "\n",
      "Condición Inicial: Pérdida: 38.407744806265676, Parámetro: 10.0\n",
      "\n",
      "Iteración 0: Pérdida: 36.55500411987305, Parámetro: 9.86294937133789\n",
      "Iteración 100: Pérdida: 4.018570423126221, Parámetro: 5.273087501525879\n",
      "Iteración 200: Pérdida: 3.88777232170105, Parámetro: 4.982072830200195\n",
      "Iteración 300: Pérdida: 3.887246608734131, Parámetro: 4.963622093200684\n",
      "Iteración 400: Pérdida: 3.887244701385498, Parámetro: 4.962451457977295\n"
     ]
    }
   ],
   "source": [
    "## Estimación inicial\n",
    "W1=10.\n",
    "\n",
    "# Acumular resultados\n",
    "w1=[]\n",
    "train_loss=[]\n",
    "# Número de veces que se cambian los parámetros\n",
    "epochs=401\n",
    "\n",
    "# Tasa de Aprendizaje\n",
    "h=0.01\n",
    "#0.8\n",
    "\n",
    "print(\"Pérdidas:\\n\")\n",
    "\n",
    "w1.append(W1)\n",
    "train_loss.append(loss(W1,x,y))\n",
    "print(f\"Condición Inicial: Pérdida: {loss(W1,x,y)}, Parámetro: {W1}\\n\")\n",
    "\n",
    "for epoch in range(epochs):\n",
    "    \n",
    "    W1=optimize(W1,x,y,h)\n",
    "    \n",
    "    w1.append(W1)\n",
    "    \n",
    "    losss=loss(W1,x,y)\n",
    "    \n",
    "    train_loss.append(losss)\n",
    "    \n",
    "    if epoch%100==0:\n",
    "        print(f\"Iteración {epoch}: Pérdida: {losss}, Parámetro: {W1}\")"
   ]
  },
  {
   "cell_type": "code",
   "execution_count": 10,
   "metadata": {},
   "outputs": [
    {
     "name": "stdout",
     "output_type": "stream",
     "text": [
      "4.9624515\n"
     ]
    }
   ],
   "source": [
    "print(w1[-1])"
   ]
  },
  {
   "cell_type": "code",
   "execution_count": 11,
   "metadata": {},
   "outputs": [
    {
     "data": {
      "image/png": "[encoded data removed]",
      "text/plain": [
       "<Figure size 1080x576 with 1 Axes>"
      ]
     },
     "metadata": {
      "needs_background": "light"
     },
     "output_type": "display_data"
    }
   ],
   "source": [
    "# Haciendo el Mmodelo\n",
    "\n",
    "mod=w1[-1]*x\n",
    "\n",
    "# Visualizando el modelo\n",
    "\n",
    "plt.figure(figsize=(15,8))\n",
    "plt.plot(x,y,'o')\n",
    "plt.plot(x,mod,'r--')\n",
    "plt.xlabel(\"Mediciones\",fontsize=15)\n",
    "plt.ylabel(\"Observaciones\",fontsize=15)\n",
    "plt.legend([\"Datos\",\"Modelo\"],fontsize=15)\n",
    "plt.show()"
   ]
  },
  {
   "cell_type": "markdown",
   "metadata": {},
   "source": [
    "## <span style=\"color:#4361EE\">Usando Widgets</span>  "
   ]
  },
  {
   "cell_type": "code",
   "execution_count": 12,
   "metadata": {},
   "outputs": [
    {
     "data": {
      "application/vnd.jupyter.widget-view+json": {
       "model_id": "2cb08f40822849088671ce449bada8fa",
       "version_major": 2,
       "version_minor": 0
      },
      "text/plain": [
       "interactive(children=(FloatSlider(value=0.0, description='μ', max=3.0, min=-3.0, step=0.5), FloatSlider(value=…"
      ]
     },
     "metadata": {},
     "output_type": "display_data"
    }
   ],
   "source": [
    "def regresion(μ=0,σ=0,m=0,epochs=0,W1=0,aprendizaje=0.1):\n",
    "    # Se escoge una semilla\n",
    "    onp.random.seed(22)\n",
    "\n",
    "    # Generación de los datos\n",
    "    x=onp.linspace(-2,2,100)\n",
    "    y=m*x+2*onp.random.normal(loc=μ,scale=σ,size=len(x))\n",
    "\n",
    "    data=pd.DataFrame({\"Mediciones\":x,\"Observaciones\":y})\n",
    "\n",
    "    ## Estimación inicial\n",
    "    W1=W1\n",
    "\n",
    "    # Acumular resultados\n",
    "    w1=[]\n",
    "    train_loss=[]\n",
    "    # Número de veces que se cambian los parámetros\n",
    "    epochs=epochs\n",
    "\n",
    "    # Tasa de Aprendizaje\n",
    "    h=aprendizaje\n",
    "    #0.8\n",
    "\n",
    "    print(\"Pérdidas:\\n\")\n",
    "\n",
    "    w1.append(W1)\n",
    "    train_loss.append(loss(W1,x,y))\n",
    "    print(f\"Condición Inicial: Pérdida: {loss(W1,x,y)}, Parámetro: {W1}\\n\")\n",
    "\n",
    "    for epoch in range(epochs):\n",
    "\n",
    "        W1=optimize(W1,x,y,h)\n",
    "\n",
    "        w1.append(W1)\n",
    "\n",
    "        losss=loss(W1,x,y)\n",
    "\n",
    "        train_loss.append(losss)\n",
    "\n",
    "        if epoch%100==0:\n",
    "            print(f\"Iteración {epoch}: Pérdida: {losss}, Parámetro: {W1}\")\n",
    "        \n",
    "        # Haciendo el modelo\n",
    "\n",
    "    mod=w1[-1]*x\n",
    "\n",
    "    plt.figure(figsize=(15,8))\n",
    "    plt.plot(x,y,'o')\n",
    "    plt.plot(x,mod,'r--')\n",
    "    plt.xlabel(\"Mediciones\",fontsize=15)\n",
    "    plt.ylabel(\"Observaciones\",fontsize=15)\n",
    "    plt.legend([\"Datos\",\"Modelo\"],fontsize=15)\n",
    "    plt.show()\n",
    "    \n",
    "\n",
    "interactive_plot = interactive(regresion, σ=(0, 10.), μ=(-3, 3, 0.5),m = (-10.,10.),epochs=(0,500),W1=(-10.,10.),aprendizaje=(0.0001,1.))\n",
    "#output = interactive_plot.children[-1]\n",
    "#output.layout.height = '350px'\n",
    "interactive_plot"
   ]
  },
  {
   "cell_type": "markdown",
   "metadata": {},
   "source": [
    "## <span style=\"color:#4361EE\">Visualizando la función pérdida </span>  "
   ]
  },
  {
   "cell_type": "code",
   "execution_count": 13,
   "metadata": {},
   "outputs": [],
   "source": [
    "# eje β (par.)\n",
    "β1x=onp.linspace(-2,11,epochs)\n",
    "\n",
    "l=onp.empty(len(β1x))\n",
    "\n",
    "for i in range(len(l)):\n",
    "    l[i]=((β1x[i]*x-y)**2).mean()"
   ]
  },
  {
   "cell_type": "code",
   "execution_count": 14,
   "metadata": {},
   "outputs": [
    {
     "data": {
      "image/png": "[encoded data removed]",
      "text/plain": [
       "<Figure size 1080x576 with 1 Axes>"
      ]
     },
     "metadata": {
      "needs_background": "light"
     },
     "output_type": "display_data"
    }
   ],
   "source": [
    "fig = plt.figure(figsize=(15,8))\n",
    "plt.suptitle(\"Estimación de Parámetros\",fontsize=20)\n",
    "ax = plt.axes()\n",
    "\n",
    "\n",
    "ax.plot(β1x,l,'r--',lw=3) # Función de pérdida\n",
    "\n",
    "ax.plot(w1,train_loss,'b--',lw=3,ms=8) # Ruta tomada por el optimizador\n",
    "ax.plot(w1[0],train_loss[0],'ko',ms=8) # Condición inicial\n",
    "ax.plot(w1[-1],train_loss[-1],'go',ms=8) # Estado Final\n",
    "\n",
    "ax.set_xlabel(r\"$\\beta_1$\",fontsize=15)\n",
    "ax.set_ylabel(r\"Pérdida\",fontsize=15)\n",
    "plt.legend([\"Función de Pérdida\",\"Descenso del Gradiente\",\"Estado Inicial\",\"Estado Final\"],fontsize=13)\n",
    "plt.show()"
   ]
  },
  {
   "cell_type": "code",
   "execution_count": 15,
   "metadata": {},
   "outputs": [
    {
     "data": {
      "image/png": "[encoded data removed]",
      "text/plain": [
       "<Figure size 1080x576 with 1 Axes>"
      ]
     },
     "metadata": {
      "needs_background": "light"
     },
     "output_type": "display_data"
    }
   ],
   "source": [
    "plt.figure(figsize=(15,8))\n",
    "plt.semilogy(range(epochs+1),train_loss,'r-.')\n",
    "plt.xlabel(\"Epochs\",fontsize=15)\n",
    "plt.ylabel(\"Pérdida\",fontsize=15)\n",
    "plt.legend([\"Pérdida\"],fontsize=15)\n",
    "plt.title(\"Pérdidas vs Epochs\",fontsize=15)\n",
    "plt.show()"
   ]
  },
  {
   "cell_type": "markdown",
   "metadata": {},
   "source": [
    "## <span style=\"color:#4361EE\">Aplicando Todo</span>  "
   ]
  },
  {
   "cell_type": "code",
   "execution_count": 16,
   "metadata": {},
   "outputs": [
    {
     "data": {
      "application/vnd.jupyter.widget-view+json": {
       "model_id": "e1c59475c8904d19ae71cc6ffa756e1c",
       "version_major": 2,
       "version_minor": 0
      },
      "text/plain": [
       "interactive(children=(FloatSlider(value=0.0, description='μ', max=3.0, min=-3.0, step=0.5), FloatSlider(value=…"
      ]
     },
     "metadata": {},
     "output_type": "display_data"
    }
   ],
   "source": [
    "def regresion(μ,σ,m,epochs,W1,aprendizaje):\n",
    "    # Se escoge una semilla\n",
    "    onp.random.seed(22)\n",
    "\n",
    "    # Generación de los datos\n",
    "    x=onp.linspace(-2,2,100)\n",
    "    y=m*x+2*onp.random.normal(loc=μ,scale=σ,size=len(x))\n",
    "\n",
    "    data=pd.DataFrame({\"Mediciones\":x,\"Observaciones\":y})\n",
    "\n",
    "    ## Estimación inicial\n",
    "    W1=W1\n",
    "\n",
    "    # Acumular resultados\n",
    "    w1=[]\n",
    "    train_loss=[]\n",
    "    # Número de veces que se cambian los parámetros\n",
    "    epochs=epochs\n",
    "\n",
    "    # Tasa de Aprendizaje\n",
    "    h=aprendizaje\n",
    "    #0.8\n",
    "\n",
    "    #print(\"Pérdidas:\\n\")\n",
    "\n",
    "    w1.append(W1)\n",
    "    train_loss.append(loss(W1,x,y))\n",
    "    #print(f\"Condición Inicial: Pérdida: {loss(W1,x,y)}, Parámetro: {W1}\\n\")\n",
    "\n",
    "    \n",
    "    for epoch in range(epochs):\n",
    "\n",
    "        W1=optimize(W1,x,y,h)\n",
    "\n",
    "        w1.append(W1)\n",
    "\n",
    "        losss=loss(W1,x,y)\n",
    "\n",
    "        train_loss.append(losss)\n",
    "\n",
    "        #if epoch%100==0:\n",
    "            #print(f\"Iteración {epoch}: Pérdida: {losss}, Parámetro: {W1}\")\n",
    "        \n",
    "        # Haciendo el modelo\n",
    "\n",
    "    mod=w1[-1]*x\n",
    "    \n",
    "        # eje β (par.)\n",
    "    β1x=onp.linspace(-11,16,epochs)\n",
    "\n",
    "    l=onp.empty(len(β1x))\n",
    "\n",
    "    for i in range(len(l)):\n",
    "        l[i]=((β1x[i]*x-y)**2).mean()\n",
    "\n",
    "    plt.figure(figsize=(22,7))\n",
    "    \n",
    "    plt.subplot(121)\n",
    "    plt.plot(x,y,'o')\n",
    "    plt.plot(x,mod,'r--')\n",
    "    plt.xlabel(\"Mediciones\",fontsize=15)\n",
    "    plt.ylabel(\"Observaciones\",fontsize=15)\n",
    "    plt.legend([\"Datos\",\"Modelo\"],fontsize=15)\n",
    "    \n",
    "    plt.subplot(122)\n",
    "    plt.suptitle(\"Estimación de Parámetros\",fontsize=20)\n",
    "    #ax = plt.axes()\n",
    "\n",
    "\n",
    "    plt.plot(β1x,l,'r--',lw=3) # Función de pérdida\n",
    "\n",
    "    plt.plot(w1,train_loss,'b--',lw=3,ms=8) # Ruta tomada por el optimizador\n",
    "    plt.plot(w1[0],train_loss[0],'ko',ms=8) # Condición Inicial\n",
    "    plt.plot(w1[-1],train_loss[-1],'go',ms=8) # Estado Final\n",
    "\n",
    "    plt.xlabel(r\"$w_1$\",fontsize=15)\n",
    "    plt.ylabel(r\"Pérdida\",fontsize=15)\n",
    "    plt.legend([\"Función de Pérdida\",\"Descenso del Gradiente\",\"Estado Inicial\",\"Estado Final\"],fontsize=13)\n",
    "    plt.show()\n",
    "    \n",
    "\n",
    "interactive_plot = interactive(regresion, σ=(0, 10.), μ=(-3, 3, 0.5),m = (-10.,10.),epochs=(0,500),W1=(-10.,10.),aprendizaje=(0.0001,1.,0.01))\n",
    "#output = interactive_plot.children[-1]\n",
    "#output.layout.height = '350px'\n",
    "interactive_plot"
   ]
  },
  {
   "cell_type": "markdown",
   "metadata": {},
   "source": [
    "### <span style=\"color:#4CC9F0\">Ejercicios</span>  "
   ]
  },
  {
   "cell_type": "markdown",
   "metadata": {},
   "source": [
    "- Hacer un aplicativo que muestre las animaciones de manera fluida.\n",
    "- Probar otro tipo de simulación de datos que no tengan tendencia lineal.\n",
    "- ¿Cuáles son los hiperparámetros apropiados para obtener el mejor modelo en menos epochs?"
   ]
  }
 ],
 "metadata": {
  "kernelspec": {
   "display_name": "Python 3.9.8 64-bit",
   "language": "python",
   "name": "python3"
  },
  "language_info": {
   "codemirror_mode": {
    "name": "ipython",
    "version": 3
   },
   "file_extension": ".py",
   "mimetype": "text/x-python",
   "name": "python",
   "nbconvert_exporter": "python",
   "pygments_lexer": "ipython3",
   "version": "3.9.8"
  },
  "vscode": {
   "interpreter": {
    "hash": "cf92aa13fedf815d5c8dd192b8d835913fde3e8bc926b2a0ad6cc74ef2ba3ca2"
   }
  }
 },
 "nbformat": 4,
 "nbformat_minor": 4
}
